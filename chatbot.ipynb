{
 "cells": [
  {
   "cell_type": "code",
   "execution_count": 1,
   "metadata": {},
   "outputs": [],
   "source": [
    "from __future__ import absolute_import\n",
    "from __future__ import division\n",
    "from __future__ import print_function\n",
    "from __future__ import unicode_literals\n",
    "\n",
    "import torch\n",
    "from torch.jit import script, trace\n",
    "import torch.nn as nn\n",
    "from torch import optim\n",
    "import torch.nn.functional as F\n",
    "import csv\n",
    "import random\n",
    "import re\n",
    "import os\n",
    "import unicodedata\n",
    "import codecs\n",
    "from io import open\n",
    "import itertools\n",
    "import math\n",
    "import numpy as np\n",
    "\n",
    "\n",
    "USE_CUDA = torch.cuda.is_available()\n",
    "device = torch.device(\"cuda\" if USE_CUDA else \"cpu\")"
   ]
  },
  {
   "cell_type": "code",
   "execution_count": 2,
   "metadata": {
    "tags": []
   },
   "outputs": [],
   "source": [
    "corpus_name = \"cornell movie-dialogs corpus\"\n",
    "corpus = os.path.join(\"data\", corpus_name)\n",
    "\n",
    "# def printLines(file, n=10):\n",
    "#     with open(file, 'rb') as datafile:\n",
    "#         lines = datafile.readlines()\n",
    "#     for line in lines[:n]:\n",
    "#         print(line)\n",
    "\n",
    "# printLines(os.path.join(corpus, \"movie_lines.txt\"))"
   ]
  },
  {
   "cell_type": "code",
   "execution_count": 3,
   "metadata": {},
   "outputs": [],
   "source": [
    "# # Splits each line of the file into a dictionary of fields\n",
    "# def loadLines(fileName, fields):\n",
    "#     lines = {}\n",
    "#     with open(fileName, 'r', encoding='iso-8859-1') as f:\n",
    "#         for line in f:\n",
    "#             values = line.split(\" +++$+++ \")\n",
    "#             # Extract fields\n",
    "#             lineObj = {}\n",
    "#             for i, field in enumerate(fields):\n",
    "#                 lineObj[field] = values[i]\n",
    "#             lines[lineObj['lineID']] = lineObj\n",
    "#     return lines\n",
    "\n",
    "\n",
    "# # Groups fields of lines from `loadLines` into conversations based on *movie_conversations.txt*\n",
    "# def loadConversations(fileName, lines, fields):\n",
    "#     conversations = []\n",
    "#     with open(fileName, 'r', encoding='iso-8859-1') as f:\n",
    "#         for line in f:\n",
    "#             values = line.split(\" +++$+++ \")\n",
    "#             # Extract fields\n",
    "#             convObj = {}\n",
    "#             for i, field in enumerate(fields):\n",
    "#                 convObj[field] = values[i]\n",
    "#             # Convert string to list (convObj[\"utteranceIDs\"] == \"['L598485', 'L598486', ...]\")\n",
    "#             utterance_id_pattern = re.compile('L[0-9]+')\n",
    "#             lineIds = utterance_id_pattern.findall(convObj[\"utteranceIDs\"])\n",
    "#             # Reassemble lines\n",
    "#             convObj[\"lines\"] = []\n",
    "#             for lineId in lineIds:\n",
    "#                 convObj[\"lines\"].append(lines[lineId])\n",
    "#             conversations.append(convObj)\n",
    "#     return conversations\n",
    "\n",
    "\n",
    "# # Extracts pairs of sentences from conversations\n",
    "# def extractSentencePairs(conversations):\n",
    "#     qa_pairs = []\n",
    "#     for conversation in conversations:\n",
    "#         # Iterate over all the lines of the conversation\n",
    "#         for i in range(len(conversation[\"lines\"]) - 1):  # We ignore the last line (no answer for it)\n",
    "#             inputLine = conversation[\"lines\"][i][\"text\"].strip()\n",
    "#             targetLine = conversation[\"lines\"][i+1][\"text\"].strip()\n",
    "#             # Filter wrong samples (if one of the lists is empty)\n",
    "#             if inputLine and targetLine:\n",
    "#                 qa_pairs.append([inputLine, targetLine])\n",
    "#     return qa_pairs"
   ]
  },
  {
   "cell_type": "code",
   "execution_count": 4,
   "metadata": {},
   "outputs": [],
   "source": [
    "# # Splits each line of the file into a dictionary of fields\n",
    "# def loadLines(fileName, fields):\n",
    "#     lines = {}\n",
    "#     with open(fileName, 'r', encoding='iso-8859-1') as f:\n",
    "#         for line in f:\n",
    "#             values = line.split(\" +++$+++ \")\n",
    "#             # Extract fields\n",
    "#             lineObj = {}\n",
    "#             for i, field in enumerate(fields):\n",
    "#                 lineObj[field] = values[i]\n",
    "#             lines[lineObj['lineID']] = lineObj\n",
    "#     return lines\n",
    "\n",
    "\n",
    "# # Groups fields of lines from `loadLines` into conversations based on *movie_conversations.txt*\n",
    "# def loadConversations(fileName, lines, fields):\n",
    "#     conversations = []\n",
    "#     with open(fileName, 'r', encoding='iso-8859-1') as f:\n",
    "#         for line in f:\n",
    "#             values = line.split(\" +++$+++ \")\n",
    "#             # Extract fields\n",
    "#             convObj = {}\n",
    "#             for i, field in enumerate(fields):\n",
    "#                 convObj[field] = values[i]\n",
    "#             # Convert string to list (convObj[\"utteranceIDs\"] == \"['L598485', 'L598486', ...]\")\n",
    "#             utterance_id_pattern = re.compile('L[0-9]+')\n",
    "#             lineIds = utterance_id_pattern.findall(convObj[\"utteranceIDs\"])\n",
    "#             # Reassemble lines\n",
    "#             convObj[\"lines\"] = []\n",
    "#             for lineId in lineIds:\n",
    "#                 convObj[\"lines\"].append(lines[lineId])\n",
    "#             conversations.append(convObj)\n",
    "#     return conversations\n",
    "\n",
    "\n",
    "# # Extracts pairs of sentences from conversations\n",
    "# def extractSentencePairs(conversations):\n",
    "#     qa_pairs = []\n",
    "#     for conversation in conversations:\n",
    "#         # Iterate over all the lines of the conversation\n",
    "#         for i in range(len(conversation[\"lines\"]) - 1):  # We ignore the last line (no answer for it)\n",
    "#             inputLine = conversation[\"lines\"][i][\"text\"].strip()\n",
    "#             targetLine = conversation[\"lines\"][i+1][\"text\"].strip()\n",
    "#             # Filter wrong samples (if one of the lists is empty)\n",
    "#             if inputLine and targetLine:\n",
    "#                 qa_pairs.append([inputLine, targetLine])\n",
    "#     return qa_pairs\n"
   ]
  },
  {
   "cell_type": "code",
   "execution_count": 5,
   "metadata": {
    "tags": []
   },
   "outputs": [],
   "source": [
    "# # Define path to new file\n",
    "# datafile = os.path.join(corpus, \"formatted_movie_lines.txt\")\n",
    "\n",
    "# delimiter = '\\t'\n",
    "# # Unescape the delimiter\n",
    "# delimiter = str(codecs.decode(delimiter, \"unicode_escape\"))\n",
    "\n",
    "# # Initialize lines dict, conversations list, and field ids\n",
    "# lines = {}\n",
    "# conversations = []\n",
    "# MOVIE_LINES_FIELDS = [\"lineID\", \"characterID\", \"movieID\", \"character\", \"text\"]\n",
    "# MOVIE_CONVERSATIONS_FIELDS = [\"character1ID\", \"character2ID\", \"movieID\", \"utteranceIDs\"]\n",
    "\n",
    "# # Load lines and process conversations\n",
    "# print(\"\\nProcessing corpus...\")\n",
    "# lines = loadLines(os.path.join(corpus, \"movie_lines.txt\"), MOVIE_LINES_FIELDS)\n",
    "# print(\"\\nLoading conversations...\")\n",
    "# conversations = loadConversations(os.path.join(corpus, \"movie_conversations.txt\"),\n",
    "#                                   lines, MOVIE_CONVERSATIONS_FIELDS)\n",
    "\n",
    "# # Write new csv file\n",
    "# print(\"\\nWriting newly formatted file...\")\n",
    "# with open(datafile, 'w', encoding='utf-8') as outputfile:\n",
    "#     writer = csv.writer(outputfile, delimiter=delimiter, lineterminator='\\n')\n",
    "#     for pair in extractSentencePairs(conversations):\n",
    "#         writer.writerow(pair)\n",
    "\n",
    "# # Print a sample of lines\n",
    "# print(\"\\nSample lines from file:\")\n",
    "# printLines(datafile)"
   ]
  },
  {
   "cell_type": "code",
   "execution_count": 6,
   "metadata": {},
   "outputs": [],
   "source": [
    "datafile = \"splite_data/train_unclean_data\"\n",
    "test_datafile = \"splite_data/test_data\"\n",
    "import json\n",
    "\n",
    "MIN_LENGHT = 20\n",
    "def load_data(path):\n",
    "    lines = open(path).readlines()\n",
    "    data = [json.loads(x) for x in lines]\n",
    "    data2 = [item for item in data if len(item) > MIN_LENGHT]\n",
    "    return data2\n",
    "\n",
    "def split2line(l):\n",
    "    split_token = [\";\", \"{\", \"}\"]\n",
    "    result = []\n",
    "    line = []\n",
    "    for item in l:\n",
    "        line.append(item)\n",
    "        if item in split_token:\n",
    "            result.append(line)\n",
    "            line = []\n",
    "    result.append(line)\n",
    "    return result\n",
    "\n",
    "def split2pair(l):\n",
    "    result = []\n",
    "    for i in range(1, len(l)):\n",
    "        input = []\n",
    "        for j in range(i):\n",
    "            input += l[j]\n",
    "        output = l[i]\n",
    "        result.append((input.copy(),output.copy()))\n",
    "    return result\n",
    "\n",
    "def split2pair2(l):\n",
    "    result = []\n",
    "    inputstr = []\n",
    "    for i in range(1, len(l)-1):\n",
    "        inputstr += l[i - 1]\n",
    "        outputstr = l[i]\n",
    "        result.append((inputstr.copy(),outputstr.copy()))\n",
    "    # for i in range(1, len(l)):\n",
    "    #     input = []\n",
    "    #     for j in range(i):\n",
    "    #         input += l[j]\n",
    "    #         for k in range(len(l[i])):\n",
    "    #             input += l[i][:k]\n",
    "    #             output = l[i][k:]\n",
    "    #             result.append((input.copy(),output.copy()))\n",
    "    return result\n",
    "    \n",
    "def wrap_s2p(raw_data):\n",
    "    data5 = []\n",
    "    for i, item in enumerate(raw_data):\n",
    "        data5 += split2pair(item)\n",
    "    return [(\" \".join(line[0]), \" \".join(line[1])) for line in data5]\n",
    "\n",
    "def wrap_s2p2(raw_data):\n",
    "    data5 = []\n",
    "    for i, item in enumerate(raw_data):\n",
    "        data5 += split2pair2(item)\n",
    "        # print(len(data5))\n",
    "        if len(data5) > 100000:\n",
    "            break\n",
    "    return [(\" \".join(line[0]), \" \".join(line[1])) for line in data5]"
   ]
  },
  {
   "cell_type": "code",
   "execution_count": 7,
   "metadata": {},
   "outputs": [],
   "source": [
    "# Default word tokens\n",
    "PAD_token = 0  # Used for padding short sentences\n",
    "SOS_token = 1  # Start-of-sentence token\n",
    "EOS_token = 2  # End-of-sentence token\n",
    "\n",
    "class Voc:\n",
    "    def __init__(self, name):\n",
    "        self.name = name\n",
    "        self.trimmed = False\n",
    "        self.word2index = {}\n",
    "        self.word2count = {}\n",
    "        self.index2word = {PAD_token: \"PAD\", SOS_token: \"SOS\", EOS_token: \"EOS\"}\n",
    "        self.num_words = 3  # Count SOS, EOS, PAD\n",
    "\n",
    "    def addSentence(self, sentence):\n",
    "        for word in sentence.split(' '):\n",
    "            self.addWord(word)\n",
    "\n",
    "    def addWord(self, word):\n",
    "        if word not in self.word2index:\n",
    "            self.word2index[word] = self.num_words\n",
    "            self.word2count[word] = 1\n",
    "            self.index2word[self.num_words] = word\n",
    "            self.num_words += 1\n",
    "        else:\n",
    "            self.word2count[word] += 1\n",
    "\n",
    "    # Remove words below a certain count threshold\n",
    "    def trim(self, min_count):\n",
    "        if self.trimmed:\n",
    "            return\n",
    "        self.trimmed = True\n",
    "\n",
    "        keep_words = []\n",
    "\n",
    "        for k, v in self.word2count.items():\n",
    "            if v >= min_count:\n",
    "                keep_words.append(k)\n",
    "\n",
    "        print('keep_words {} / {} = {:.4f}'.format(\n",
    "            len(keep_words), len(self.word2index), len(keep_words) / len(self.word2index)\n",
    "        ))\n",
    "\n",
    "        # Reinitialize dictionaries\n",
    "        self.word2index = {}\n",
    "        self.word2count = {}\n",
    "        self.index2word = {PAD_token: \"PAD\", SOS_token: \"SOS\", EOS_token: \"EOS\"}\n",
    "        self.num_words = 3 # Count default tokens\n",
    "\n",
    "        for word in keep_words:\n",
    "            self.addWord(word)"
   ]
  },
  {
   "cell_type": "code",
   "execution_count": 8,
   "metadata": {
    "tags": []
   },
   "outputs": [
    {
     "name": "stdout",
     "output_type": "stream",
     "text": [
      "Start preparing training data ...\n",
      "Reading lines...\n",
      "Read 100025 sentence pairs\n",
      "Trimmed to 40277 sentence pairs\n",
      "Counting words...\n",
      "Counted words: 38363\n",
      "\n",
      "pairs:\n",
      "('public String mapMethodDesc ( String desc ) {', 'if ( \" \" . equals ( desc ) ) {')\n",
      "('public String mapMethodDesc ( String desc ) { if ( \" \" . equals ( desc ) ) {', 'return desc ;')\n",
      "('public String mapMethodDesc ( String desc ) { if ( \" \" . equals ( desc ) ) { return desc ;', '}')\n",
      "('public String mapMethodDesc ( String desc ) { if ( \" \" . equals ( desc ) ) { return desc ; }', 'Type [ ] args = Type . getArgumentTypes ( desc ) ;')\n",
      "('public String mapMethodDesc ( String desc ) { if ( \" \" . equals ( desc ) ) { return desc ; } Type [ ] args = Type . getArgumentTypes ( desc ) ;', 'StringBuilder sb = new StringBuilder ( \" \" ) ;')\n",
      "('public String mapMethodDesc ( String desc ) { if ( \" \" . equals ( desc ) ) { return desc ; } Type [ ] args = Type . getArgumentTypes ( desc ) ; StringBuilder sb = new StringBuilder ( \" \" ) ;', 'for ( int i = 0 ;')\n",
      "('public int getSerializedSize ( ) {', 'int size = memoizedSize ;')\n",
      "('public int getSerializedSize ( ) { int size = memoizedSize ;', 'if ( size != - 1 ) return size ;')\n",
      "('public int getSerializedSize ( ) { int size = memoizedSize ; if ( size != - 1 ) return size ;', 'size = 0 ;')\n",
      "('public int getSerializedSize ( ) { int size = memoizedSize ; if ( size != - 1 ) return size ; size = 0 ;', 'if ( ( ( bitField0_ & 0x00000001 ) == 0x00000001 ) ) {')\n"
     ]
    }
   ],
   "source": [
    "MAX_LENGTH = 50  # Maximum sentence length to consider\n",
    "\n",
    "# Turn a Unicode string to plain ASCII, thanks to\n",
    "# https://stackoverflow.com/a/518232/2809427\n",
    "def unicodeToAscii(s):\n",
    "    return ''.join(\n",
    "        c for c in unicodedata.normalize('NFD', s)\n",
    "        if unicodedata.category(c) != 'Mn'\n",
    "    )\n",
    "\n",
    "# Lowercase, trim, and remove non-letter characters\n",
    "def normalizeString(s):\n",
    "    # s = unicodeToAscii(s.lower().strip())\n",
    "    # s = re.sub(r\"([.!?])\", r\" \\1\", s)\n",
    "    # s = re.sub(r\"[^a-zA-Z.!?]+\", r\" \", s)\n",
    "    # s = re.sub(r\"\\s+\", r\" \", s).strip()\n",
    "    return s\n",
    "\n",
    "# Read query/response pairs and return a voc object\n",
    "def readVocs(datafile,test_datafile, corpus_name):\n",
    "    print(\"Reading lines...\")\n",
    "    # Read the file and split into lines\n",
    "    train_data = load_data(datafile)\n",
    "    train_data = [split2line(item) for item in train_data]\n",
    "    train_data = wrap_s2p2(train_data)\n",
    "    # lines = open(datafile, encoding='utf-8').\\\n",
    "    #     read().strip().split('\\n')\n",
    "    # Split every line into pairs and normalize\n",
    "    # pairs = [[normalizeString(s) for s in l.split('\\t')] for l in lines]\n",
    "    pairs = train_data\n",
    "    test_data = load_data(test_datafile)\n",
    "    test_data = [split2line(item) for item in test_data]\n",
    "    test_data = wrap_s2p2(test_data)\n",
    "    test_pairs = test_data\n",
    "    voc = Voc(corpus_name)\n",
    "    return voc, pairs, test_pairs\n",
    "\n",
    "# Returns True iff both sentences in a pair 'p' are under the MAX_LENGTH threshold\n",
    "def filterPair(p):\n",
    "    # Input sequences need to preserve the last word for EOS token\n",
    "    return len(p[0].split(' ')) < MAX_LENGTH and len(p[1].split(' ')) < MAX_LENGTH\n",
    "\n",
    "# Filter pairs using filterPair condition\n",
    "def filterPairs(pairs):\n",
    "    return [pair for pair in pairs if filterPair(pair)]\n",
    "\n",
    "# Using the functions defined above, return a populated voc object and pairs list\n",
    "def loadPrepareData(corpus, corpus_name, datafile,test_datafile, save_dir):\n",
    "    print(\"Start preparing training data ...\")\n",
    "    voc, pairs, test_pairs = readVocs(datafile,test_datafile, corpus_name)\n",
    "    print(\"Read {!s} sentence pairs\".format(len(pairs)))\n",
    "    pairs = filterPairs(pairs)\n",
    "    test_pairs = filterPairs(test_pairs)\n",
    "    print(\"Trimmed to {!s} sentence pairs\".format(len(pairs)))\n",
    "    print(\"Counting words...\")\n",
    "    for pair in pairs + test_pairs:\n",
    "        voc.addSentence(pair[0])\n",
    "        voc.addSentence(pair[1])\n",
    "    print(\"Counted words:\", voc.num_words)\n",
    "    return voc, pairs, test_pairs\n",
    "\n",
    "\n",
    "# Load/Assemble voc and pairs\n",
    "save_dir = os.path.join(\"data\", \"save\")\n",
    "voc, pairs, test_pairs = loadPrepareData(corpus, corpus_name, datafile,test_datafile, save_dir)\n",
    "# Print some pairs to validate\n",
    "print(\"\\npairs:\")\n",
    "for pair in pairs[:10]:\n",
    "    print(pair)"
   ]
  },
  {
   "cell_type": "code",
   "execution_count": 9,
   "metadata": {},
   "outputs": [
    {
     "data": {
      "text/plain": [
       "True"
      ]
     },
     "execution_count": 9,
     "metadata": {},
     "output_type": "execute_result"
    }
   ],
   "source": [
    "\"getQualifiers\" in voc.word2index.keys()"
   ]
  },
  {
   "cell_type": "code",
   "execution_count": 10,
   "metadata": {
    "tags": []
   },
   "outputs": [
    {
     "name": "stdout",
     "output_type": "stream",
     "text": [
      "keep_words 3908 / 38360 = 0.1019\n",
      "Trimmed from 40277 pairs to 6552, 0.1627 of total\n",
      "Trimmed from 40957 pairs to 6512, 0.1590 of total\n"
     ]
    }
   ],
   "source": [
    "MIN_COUNT = 30    # Minimum word count threshold for trimming\n",
    "\n",
    "def trimRareWords(voc, pairs, MIN_COUNT):\n",
    "    # Trim words used under the MIN_COUNT from the voc\n",
    "    voc.trim(MIN_COUNT)\n",
    "    # Filter out pairs with trimmed words\n",
    "    keep_pairs = []\n",
    "    for pair in pairs:\n",
    "        input_sentence = pair[0]\n",
    "        output_sentence = pair[1]\n",
    "        keep_input = True\n",
    "        keep_output = True\n",
    "        # Check input sentence\n",
    "        for word in input_sentence.split(' '):\n",
    "            if word not in voc.word2index:\n",
    "                keep_input = False\n",
    "                break\n",
    "        # Check output sentence\n",
    "        for word in output_sentence.split(' '):\n",
    "            if word not in voc.word2index:\n",
    "                keep_output = False\n",
    "                break\n",
    "\n",
    "        # Only keep pairs that do not contain trimmed word(s) in their input or output sentence\n",
    "        if keep_input and keep_output:\n",
    "            keep_pairs.append(pair)\n",
    "\n",
    "    print(\"Trimmed from {} pairs to {}, {:.4f} of total\".format(len(pairs), len(keep_pairs), len(keep_pairs) / len(pairs)))\n",
    "    return keep_pairs\n",
    "\n",
    "\n",
    "# Trim voc and pairs\n",
    "pairs = trimRareWords(voc, pairs, MIN_COUNT)\n",
    "test_pairs = trimRareWords(voc, test_pairs, MIN_COUNT)"
   ]
  },
  {
   "cell_type": "code",
   "execution_count": 11,
   "metadata": {
    "tags": []
   },
   "outputs": [
    {
     "name": "stdout",
     "output_type": "stream",
     "text": [
      "input_variable: tensor([[   3,    3,    3,    3,    3],\n",
      "        [  98,   98,   67,  442,  113],\n",
      "        [  11,   11, 1409,  749,   12],\n",
      "        [  99,   99,    5,    5,    5],\n",
      "        [  11,   11,    4,  105,   87],\n",
      "        [ 100,  100,  114,   11,  105],\n",
      "        [  11,   11,   43,  190,   11],\n",
      "        [ 101,  101,    4,   11,  190],\n",
      "        [  11,   11,  368,    4,   11],\n",
      "        [ 444,  476,   43,  278,   76],\n",
      "        [  11,   11,  652,    7,  563],\n",
      "        [1284, 2969,  370,    8,    7],\n",
      "        [  60, 2970,   43,    9,    8],\n",
      "        [   5,    5, 2791,    5,    9],\n",
      "        [   7,    7, 2792,  278,    5],\n",
      "        [   8,    8,    7,   37,  563],\n",
      "        [  98,   13,    8,   73,   37],\n",
      "        [  11,  489, 1916,    7,  115],\n",
      "        [  99,   37,    5,    8,    7],\n",
      "        [  11,   73, 1917,   51,    8],\n",
      "        [ 100,  156,   11,   23,   13],\n",
      "        [  11,   98, 1409,  355,  152],\n",
      "        [ 101,   11,   43,    5,   14],\n",
      "        [  11,   99, 2793,    7,    2],\n",
      "        [ 444,   11,   11,   14,    0],\n",
      "        [  11,  100,  117,    2,    0],\n",
      "        [1284,   11,    5,    0,    0],\n",
      "        [ 762,  101,  114,    0,    0],\n",
      "        [  20,   11,   43,    0,    0],\n",
      "        [1617,  476,  368,    0,    0],\n",
      "        [   5,   11,   43,    0,    0],\n",
      "        [   7, 1679,  370,    0,    0],\n",
      "        [  14,   11,   43,    0,    0],\n",
      "        [   9,  265, 2792,    0,    0],\n",
      "        [   5,    5,    7,    0,    0],\n",
      "        [  77,    7,    7,    0,    0],\n",
      "        [ 762,  193,   14,    0,    0],\n",
      "        [  11,  489,    2,    0,    0],\n",
      "        [ 497,   14,    0,    0,    0],\n",
      "        [   5,    2,    0,    0,    0],\n",
      "        [   7,    0,    0,    0,    0],\n",
      "        [   7,    0,    0,    0,    0],\n",
      "        [   8,    0,    0,    0,    0],\n",
      "        [  51,    0,    0,    0,    0],\n",
      "        [1618,    0,    0,    0,    0],\n",
      "        [   5,    0,    0,    0,    0],\n",
      "        [ 762,    0,    0,    0,    0],\n",
      "        [   7,    0,    0,    0,    0],\n",
      "        [  14,    0,    0,    0,    0],\n",
      "        [   2,    0,    0,    0,    0]])\n",
      "lengths: tensor([50, 40, 38, 26, 24])\n",
      "target_variable: tensor([[15, 15, 15, 15, 15],\n",
      "        [ 2,  2,  2,  2,  2]])\n",
      "mask: tensor([[True, True, True, True, True],\n",
      "        [True, True, True, True, True]])\n",
      "max_target_len: 2\n"
     ]
    }
   ],
   "source": [
    "def indexesFromSentence(voc, sentence):\n",
    "    return [voc.word2index[word] for word in sentence.split(' ')] + [EOS_token]\n",
    "\n",
    "\n",
    "def zeroPadding(l, fillvalue=PAD_token):\n",
    "    return list(itertools.zip_longest(*l, fillvalue=fillvalue))\n",
    "\n",
    "def binaryMatrix(l, value=PAD_token):\n",
    "    m = []\n",
    "    for i, seq in enumerate(l):\n",
    "        m.append([])\n",
    "        for token in seq:\n",
    "            if token == PAD_token:\n",
    "                m[i].append(0)\n",
    "            else:\n",
    "                m[i].append(1)\n",
    "    return m\n",
    "\n",
    "# Returns padded input sequence tensor and lengths\n",
    "def inputVar(l, voc):\n",
    "    indexes_batch = [indexesFromSentence(voc, sentence) for sentence in l]\n",
    "    lengths = torch.tensor([len(indexes) for indexes in indexes_batch])\n",
    "    padList = zeroPadding(indexes_batch)\n",
    "    padVar = torch.LongTensor(padList)\n",
    "    return padVar, lengths\n",
    "\n",
    "# Returns padded target sequence tensor, padding mask, and max target length\n",
    "def outputVar(l, voc):\n",
    "    indexes_batch = [indexesFromSentence(voc, sentence) for sentence in l]\n",
    "    max_target_len = max([len(indexes) for indexes in indexes_batch])\n",
    "    padList = zeroPadding(indexes_batch)\n",
    "    mask = binaryMatrix(padList)\n",
    "    mask = torch.BoolTensor(mask)\n",
    "    padVar = torch.LongTensor(padList)\n",
    "    return padVar, mask, max_target_len\n",
    "\n",
    "# Returns all items for a given batch of pairs\n",
    "def batch2TrainData(voc, pair_batch):\n",
    "    pair_batch.sort(key=lambda x: len(x[0].split(\" \")), reverse=True)\n",
    "    input_batch, output_batch = [], []\n",
    "    for pair in pair_batch:\n",
    "        input_batch.append(pair[0])\n",
    "        output_batch.append(pair[1])\n",
    "    inp, lengths = inputVar(input_batch, voc)\n",
    "    output, mask, max_target_len = outputVar(output_batch, voc)\n",
    "    return inp, lengths, output, mask, max_target_len\n",
    "\n",
    "\n",
    "# Example for validation\n",
    "small_batch_size = 5\n",
    "batches = batch2TrainData(voc, [random.choice(pairs) for _ in range(small_batch_size)])\n",
    "input_variable, lengths, target_variable, mask, max_target_len = batches\n",
    "\n",
    "print(\"input_variable:\", input_variable)\n",
    "print(\"lengths:\", lengths)\n",
    "print(\"target_variable:\", target_variable)\n",
    "print(\"mask:\", mask)\n",
    "print(\"max_target_len:\", max_target_len)"
   ]
  },
  {
   "cell_type": "code",
   "execution_count": 12,
   "metadata": {},
   "outputs": [],
   "source": [
    "class EncoderRNN(nn.Module):\n",
    "    def __init__(self, hidden_size, embedding, n_layers=1, dropout=0):\n",
    "        super(EncoderRNN, self).__init__()\n",
    "        self.n_layers = n_layers\n",
    "        self.hidden_size = hidden_size\n",
    "        self.embedding = embedding\n",
    "\n",
    "        # Initialize GRU; the input_size and hidden_size params are both set to 'hidden_size'\n",
    "        #   because our input size is a word embedding with number of features == hidden_size\n",
    "        self.gru = nn.GRU(hidden_size, hidden_size, n_layers,\n",
    "                          dropout=(0 if n_layers == 1 else dropout), bidirectional=True)\n",
    "\n",
    "    def forward(self, input_seq, input_lengths, hidden=None):\n",
    "        # Convert word indexes to embeddings\n",
    "        embedded = self.embedding(input_seq)\n",
    "        # Pack padded batch of sequences for RNN module\n",
    "        packed = nn.utils.rnn.pack_padded_sequence(embedded, input_lengths)\n",
    "        # Forward pass through GRU\n",
    "        outputs, hidden = self.gru(packed, hidden)\n",
    "        # Unpack padding\n",
    "        outputs, _ = nn.utils.rnn.pad_packed_sequence(outputs)\n",
    "        # Sum bidirectional GRU outputs\n",
    "        outputs = outputs[:, :, :self.hidden_size] + outputs[:, : ,self.hidden_size:]\n",
    "        # Return output and final hidden state\n",
    "        return outputs, hidden"
   ]
  },
  {
   "cell_type": "code",
   "execution_count": 13,
   "metadata": {},
   "outputs": [],
   "source": [
    "class Attn(nn.Module):\n",
    "    def __init__(self, method, hidden_size):\n",
    "        super(Attn, self).__init__()\n",
    "        self.method = method\n",
    "        if self.method not in ['dot', 'general', 'concat']:\n",
    "            raise ValueError(self.method, \"is not an appropriate attention method.\")\n",
    "        self.hidden_size = hidden_size\n",
    "        if self.method == 'general':\n",
    "            self.attn = nn.Linear(self.hidden_size, hidden_size)\n",
    "        elif self.method == 'concat':\n",
    "            self.attn = nn.Linear(self.hidden_size * 2, hidden_size)\n",
    "            self.v = nn.Parameter(torch.FloatTensor(hidden_size))\n",
    "\n",
    "    def dot_score(self, hidden, encoder_output):\n",
    "        return torch.sum(hidden * encoder_output, dim=2)\n",
    "\n",
    "    def general_score(self, hidden, encoder_output):\n",
    "        energy = self.attn(encoder_output)\n",
    "        return torch.sum(hidden * energy, dim=2)\n",
    "\n",
    "    def concat_score(self, hidden, encoder_output):\n",
    "        energy = self.attn(torch.cat((hidden.expand(encoder_output.size(0), -1, -1), encoder_output), 2)).tanh()\n",
    "        return torch.sum(self.v * energy, dim=2)\n",
    "\n",
    "    def forward(self, hidden, encoder_outputs):\n",
    "        # Calculate the attention weights (energies) based on the given method\n",
    "        if self.method == 'general':\n",
    "            attn_energies = self.general_score(hidden, encoder_outputs)\n",
    "        elif self.method == 'concat':\n",
    "            attn_energies = self.concat_score(hidden, encoder_outputs)\n",
    "        elif self.method == 'dot':\n",
    "            attn_energies = self.dot_score(hidden, encoder_outputs)\n",
    "\n",
    "        # Transpose max_length and batch_size dimensions\n",
    "        attn_energies = attn_energies.t()\n",
    "\n",
    "        # Return the softmax normalized probability scores (with added dimension)\n",
    "        return F.softmax(attn_energies, dim=1).unsqueeze(1)"
   ]
  },
  {
   "cell_type": "code",
   "execution_count": 14,
   "metadata": {},
   "outputs": [],
   "source": [
    "class LuongAttnDecoderRNN(nn.Module):\n",
    "    def __init__(self, attn_model, embedding, hidden_size, output_size, n_layers=1, dropout=0.1):\n",
    "        super(LuongAttnDecoderRNN, self).__init__()\n",
    "\n",
    "        # Keep for reference\n",
    "        self.attn_model = attn_model\n",
    "        self.hidden_size = hidden_size\n",
    "        self.output_size = output_size\n",
    "        self.n_layers = n_layers\n",
    "        self.dropout = dropout\n",
    "\n",
    "        # Define layers\n",
    "        self.embedding = embedding\n",
    "        self.embedding_dropout = nn.Dropout(dropout)\n",
    "        self.gru = nn.GRU(hidden_size, hidden_size, n_layers, dropout=(0 if n_layers == 1 else dropout))\n",
    "        self.concat = nn.Linear(hidden_size * 2, hidden_size)\n",
    "        self.out = nn.Linear(hidden_size, output_size)\n",
    "\n",
    "        self.attn = Attn(attn_model, hidden_size)\n",
    "\n",
    "    def forward(self, input_step, last_hidden, encoder_outputs):\n",
    "        # Note: we run this one step (word) at a time\n",
    "        # Get embedding of current input word\n",
    "        embedded = self.embedding(input_step)\n",
    "        embedded = self.embedding_dropout(embedded)\n",
    "        # Forward through unidirectional GRU\n",
    "        rnn_output, hidden = self.gru(embedded, last_hidden)\n",
    "        # Calculate attention weights from the current GRU output\n",
    "        attn_weights = self.attn(rnn_output, encoder_outputs)\n",
    "        # Multiply attention weights to encoder outputs to get new \"weighted sum\" context vector\n",
    "        context = attn_weights.bmm(encoder_outputs.transpose(0, 1))\n",
    "        # Concatenate weighted context vector and GRU output using Luong eq. 5\n",
    "        rnn_output = rnn_output.squeeze(0)\n",
    "        context = context.squeeze(1)\n",
    "        concat_input = torch.cat((rnn_output, context), 1)\n",
    "        concat_output = torch.tanh(self.concat(concat_input))\n",
    "        # Predict next word using Luong eq. 6\n",
    "        output = self.out(concat_output)\n",
    "        output = F.softmax(output, dim=1)\n",
    "        # Return output and final hidden state\n",
    "        return output, hidden"
   ]
  },
  {
   "cell_type": "code",
   "execution_count": 15,
   "metadata": {},
   "outputs": [],
   "source": [
    "def maskNLLLoss(inp, target, mask):\n",
    "    nTotal = mask.sum()\n",
    "    crossEntropy = -torch.log(torch.gather(inp, 1, target.view(-1, 1)).squeeze(1))\n",
    "    loss = crossEntropy.masked_select(mask).mean()\n",
    "    loss = loss.to(device)\n",
    "    return loss, nTotal.item()\n",
    "    "
   ]
  },
  {
   "cell_type": "code",
   "execution_count": 16,
   "metadata": {},
   "outputs": [],
   "source": [
    "def train(input_variable, lengths, target_variable, mask, max_target_len, encoder, decoder, embedding,\n",
    "          encoder_optimizer, decoder_optimizer, batch_size, clip, max_length=MAX_LENGTH):\n",
    "\n",
    "    # Zero gradients\n",
    "    encoder_optimizer.zero_grad()\n",
    "    decoder_optimizer.zero_grad()\n",
    "\n",
    "    # Set device options\n",
    "    input_variable = input_variable.to(device)\n",
    "    lengths = lengths.to(device)\n",
    "    target_variable = target_variable.to(device)\n",
    "    mask = mask.to(device)\n",
    "\n",
    "    # Initialize variables\n",
    "    loss = 0\n",
    "    print_losses = []\n",
    "    n_totals = 0\n",
    "\n",
    "    # Forward pass through encoder\n",
    "    encoder_outputs, encoder_hidden = encoder(input_variable, lengths)\n",
    "\n",
    "    # Create initial decoder input (start with SOS tokens for each sentence)\n",
    "    decoder_input = torch.LongTensor([[SOS_token for _ in range(batch_size)]])\n",
    "    decoder_input = decoder_input.to(device)\n",
    "\n",
    "    # Set initial decoder hidden state to the encoder's final hidden state\n",
    "    decoder_hidden = encoder_hidden[:decoder.n_layers]\n",
    "\n",
    "    # Determine if we are using teacher forcing this iteration\n",
    "    use_teacher_forcing = True if random.random() < teacher_forcing_ratio else False\n",
    "\n",
    "    # Forward batch of sequences through decoder one time step at a time\n",
    "    if use_teacher_forcing:\n",
    "        for t in range(max_target_len):\n",
    "            decoder_output, decoder_hidden = decoder(\n",
    "                decoder_input, decoder_hidden, encoder_outputs\n",
    "            )\n",
    "            # Teacher forcing: next input is current target\n",
    "            decoder_input = target_variable[t].view(1, -1)\n",
    "            # Calculate and accumulate loss\n",
    "            mask_loss, nTotal = maskNLLLoss(decoder_output, target_variable[t], mask[t])\n",
    "            loss += mask_loss\n",
    "            print_losses.append(mask_loss.item() * nTotal)\n",
    "            n_totals += nTotal\n",
    "    else:\n",
    "        for t in range(max_target_len):\n",
    "            decoder_output, decoder_hidden = decoder(\n",
    "                decoder_input, decoder_hidden, encoder_outputs\n",
    "            )\n",
    "            # No teacher forcing: next input is decoder's own current output\n",
    "            _, topi = decoder_output.topk(1)\n",
    "            decoder_input = torch.LongTensor([[topi[i][0] for i in range(batch_size)]])\n",
    "            decoder_input = decoder_input.to(device)\n",
    "            # Calculate and accumulate loss\n",
    "            mask_loss, nTotal = maskNLLLoss(decoder_output, target_variable[t], mask[t])\n",
    "            loss += mask_loss\n",
    "            print_losses.append(mask_loss.item() * nTotal)\n",
    "            n_totals += nTotal\n",
    "\n",
    "    # Perform backpropatation\n",
    "    loss.backward()\n",
    "\n",
    "    # Clip gradients: gradients are modified in place\n",
    "    _ = nn.utils.clip_grad_norm_(encoder.parameters(), clip)\n",
    "    _ = nn.utils.clip_grad_norm_(decoder.parameters(), clip)\n",
    "\n",
    "    # Adjust model weights\n",
    "    encoder_optimizer.step()\n",
    "    decoder_optimizer.step()\n",
    "\n",
    "    return sum(print_losses) / n_totals"
   ]
  },
  {
   "cell_type": "code",
   "execution_count": 17,
   "metadata": {},
   "outputs": [],
   "source": [
    "def trainIters(model_name, voc, pairs, encoder, decoder, encoder_optimizer, decoder_optimizer, embedding, encoder_n_layers, decoder_n_layers, save_dir, n_iteration, batch_size, print_every, save_every, clip, corpus_name, loadFilename):\n",
    "\n",
    "    log = []\n",
    "    # Load batches for each iteration\n",
    "    training_batches = [batch2TrainData(voc, [random.choice(pairs) for _ in range(batch_size)])\n",
    "                      for _ in range(n_iteration)]\n",
    "\n",
    "    # Initializations\n",
    "    print('Initializing ...')\n",
    "    start_iteration = 1\n",
    "    print_loss = 0\n",
    "    if loadFilename:\n",
    "        start_iteration = checkpoint['iteration'] + 1\n",
    "\n",
    "    # Training loop\n",
    "    print(\"Training...\")\n",
    "    for iteration in range(start_iteration, n_iteration + 1):\n",
    "        training_batch = training_batches[iteration - 1]\n",
    "        # Extract fields from batch\n",
    "        input_variable, lengths, target_variable, mask, max_target_len = training_batch\n",
    "\n",
    "        # Run a training iteration with batch\n",
    "        loss = train(input_variable, lengths, target_variable, mask, max_target_len, encoder, decoder, embedding, encoder_optimizer, decoder_optimizer, batch_size, clip)\n",
    "        print_loss += loss\n",
    "\n",
    "        # Print progress\n",
    "        \n",
    "        if iteration % print_every == 0:\n",
    "            print_loss_avg = print_loss / print_every\n",
    "            print(\"\\nIteration: {}; Percent complete: {:.1f}%; Average loss: {:.4f}\".format(iteration, iteration / n_iteration * 100, print_loss_avg))\n",
    "            print_loss = 0\n",
    "            # print(\"start test\")\n",
    "            encoder.eval()\n",
    "            decoder.eval()\n",
    "            # print(\"Testing...\")\n",
    "            searcher = GreedySearchDecoder(encoder, decoder)\n",
    "            train_bleu_score, train_beam_score = evaluateTest(pairs, encoder, decoder, searcher, voc)\n",
    "            \n",
    "            test_bleu_score, test_beam_score = evaluateTest(test_pairs, encoder, decoder, searcher, voc)\n",
    "            print(\"train bleu score:{}\".format(train_bleu_score))\n",
    "            print(\"train beam score:{}\".format(train_beam_score))\n",
    "            print(\"test bleu score:{}\".format(test_bleu_score))\n",
    "            print(\"test beam score:{}\".format(test_beam_score))\n",
    "            print(\" \")\n",
    "            encoder.train()\n",
    "            decoder.train()\n",
    "\n",
    "            log.append((iteration,train_bleu_score,train_beam_score,test_bleu_score,test_beam_score))\n",
    "        # Save checkpoint\n",
    "        if (iteration % save_every == 0):\n",
    "            directory = os.path.join(save_dir, model_name, corpus_name, '{}-{}_{}'.format(encoder_n_layers, decoder_n_layers, hidden_size))\n",
    "            if not os.path.exists(directory):\n",
    "                os.makedirs(directory)\n",
    "            torch.save({\n",
    "                'iteration': iteration,\n",
    "                'en': encoder.state_dict(),\n",
    "                'de': decoder.state_dict(),\n",
    "                'en_opt': encoder_optimizer.state_dict(),\n",
    "                'de_opt': decoder_optimizer.state_dict(),\n",
    "                'loss': loss,\n",
    "                'voc_dict': voc.__dict__,\n",
    "                'embedding': embedding.state_dict()\n",
    "            }, os.path.join(directory, '{}_{}.tar'.format(iteration, 'checkpoint')))\n",
    "    return log"
   ]
  },
  {
   "cell_type": "code",
   "execution_count": 18,
   "metadata": {},
   "outputs": [],
   "source": [
    "class GreedySearchDecoder(nn.Module):\n",
    "    def __init__(self, encoder, decoder):\n",
    "        super(GreedySearchDecoder, self).__init__()\n",
    "        self.encoder = encoder\n",
    "        self.decoder = decoder\n",
    "\n",
    "    def forward(self, input_seq, input_length, max_length):\n",
    "        # Forward input through encoder model\n",
    "        encoder_outputs, encoder_hidden = self.encoder(input_seq, input_length)\n",
    "        # Prepare encoder's final hidden layer to be first hidden input to the decoder\n",
    "        decoder_hidden = encoder_hidden[:decoder.n_layers]\n",
    "        # Initialize decoder input with SOS_token\n",
    "        decoder_input = torch.ones(1, 1, device=device, dtype=torch.long) * SOS_token\n",
    "        # Initialize tensors to append decoded words to\n",
    "        all_tokens = torch.zeros([0], device=device, dtype=torch.long)\n",
    "        all_scores = torch.zeros([0], device=device)\n",
    "        # Iteratively decode one word token at a time\n",
    "        for _ in range(max_length):\n",
    "            # Forward pass through decoder\n",
    "            decoder_output, decoder_hidden = self.decoder(decoder_input, decoder_hidden, encoder_outputs)\n",
    "            # Obtain most likely word token and its softmax score\n",
    "            decoder_scores, decoder_input = torch.max(decoder_output, dim=1)\n",
    "            # Record token and score\n",
    "            all_tokens = torch.cat((all_tokens, decoder_input), dim=0)\n",
    "            all_scores = torch.cat((all_scores, decoder_scores), dim=0)\n",
    "            # Prepare current token to be next decoder input (add a dimension)\n",
    "            decoder_input = torch.unsqueeze(decoder_input, 0)\n",
    "        # Return collections of word tokens and scores\n",
    "        return all_tokens, all_scores"
   ]
  },
  {
   "cell_type": "code",
   "execution_count": 19,
   "metadata": {},
   "outputs": [
    {
     "ename": "RuntimeError",
     "evalue": "module compiled against API version 0xc but this version of numpy is 0xa",
     "output_type": "error",
     "traceback": [
      "\u001b[1;31m---------------------------------------------------------------------------\u001b[0m",
      "\u001b[1;31mRuntimeError\u001b[0m                              Traceback (most recent call last)",
      "\u001b[1;31mRuntimeError\u001b[0m: module compiled against API version 0xc but this version of numpy is 0xa"
     ]
    },
    {
     "ename": "RuntimeError",
     "evalue": "module compiled against API version 0xc but this version of numpy is 0xa",
     "output_type": "error",
     "traceback": [
      "\u001b[1;31m---------------------------------------------------------------------------\u001b[0m",
      "\u001b[1;31mRuntimeError\u001b[0m                              Traceback (most recent call last)",
      "\u001b[1;31mRuntimeError\u001b[0m: module compiled against API version 0xc but this version of numpy is 0xa"
     ]
    }
   ],
   "source": [
    "from nltk.translate.bleu_score import sentence_bleu\n",
    "from tqdm import tqdm\n",
    "\n",
    "def evaluate(encoder, decoder, searcher, voc, sentence, max_length=MAX_LENGTH):\n",
    "    ### Format input sentence as a batch\n",
    "    # words -> indexes\n",
    "    indexes_batch = [indexesFromSentence(voc, sentence)]\n",
    "    # Create lengths tensor\n",
    "    lengths = torch.tensor([len(indexes) for indexes in indexes_batch])\n",
    "    # Transpose dimensions of batch to match models' expectations\n",
    "    input_batch = torch.LongTensor(indexes_batch).transpose(0, 1)\n",
    "    # Use appropriate device\n",
    "    input_batch = input_batch.to(device)\n",
    "    lengths = lengths.to(device)\n",
    "    # Decode sentence with searcher\n",
    "    tokens, scores = searcher(input_batch, lengths, max_length)\n",
    "    # indexes -> words\n",
    "    decoded_words = [voc.index2word[token.item()] for token in tokens]\n",
    "    return decoded_words\n",
    "\n",
    "\n",
    "def evaluateInput(encoder, decoder, searcher, voc):\n",
    "    input_sentence = ''\n",
    "    while(1):\n",
    "        try:\n",
    "            # Get input sentence\n",
    "            input_sentence = input('> ')\n",
    "            # Check if it is quit case\n",
    "            if input_sentence == 'q' or input_sentence == 'quit': break\n",
    "            # Normalize sentence\n",
    "            input_sentence = normalizeString(input_sentence)\n",
    "            # Evaluate sentence\n",
    "            output_words = evaluate(encoder, decoder, searcher, voc, input_sentence)\n",
    "            # Format and print response sentence\n",
    "            output_words[:] = [x for x in output_words if not (x == 'EOS' or x == 'PAD')]\n",
    "            print('Bot:', ' '.join(output_words))\n",
    "\n",
    "        except KeyError:\n",
    "            print(\"Error: Encountered unknown word.\")\n",
    "\n",
    "def evaluateSentence(input_sentence, encoder, decoder, searcher, voc):\n",
    "    input_sentence = normalizeString(input_sentence)\n",
    "    output_words = evaluate(encoder, decoder, searcher, voc, input_sentence)\n",
    "    # Format and print response sentence\n",
    "    new_output_words = []\n",
    "    for x in output_words:\n",
    "        if x == \"EOS\" or x == \"PAD\":\n",
    "            break\n",
    "        new_output_words.append(x)\n",
    "    return \" \".join(new_output_words)\n",
    "\n",
    "\n",
    "def get_bleu_result(candidate, references):\n",
    "    candidate = \" \".join([candidate, candidate, candidate, candidate])\n",
    "\n",
    "    references = [\" \".join([reference, reference, reference, reference]) for reference in references]\n",
    "    references = [reference .split(\" \") for reference in references]\n",
    "    candidate = [item for item in candidate.split(\" \")]\n",
    "    score = sentence_bleu(references, candidate)\n",
    "    # print(reference, candidate)\n",
    "    return score\n",
    "\n",
    "def evaluateTest(pairs, encoder, decoder, searcher, voc, times = 200, show = False):\n",
    "    scores = []\n",
    "    beam_scores = []\n",
    "    new_pair = [random.choice(pairs) for _ in range(times)]\n",
    "    \n",
    " \n",
    "    for i in tqdm(range(len(new_pair))):\n",
    "        input_sentence, output_sentence = new_pair[i]\n",
    "        beam_output_words = beam_evaluate(encoder, decoder, searcher, voc, input_sentence)\n",
    "        bss = [get_bleu_result(beam2tokens(end_word, voc), [output_sentence]) for end_word in beam_output_words]\n",
    "        # print(bss)\n",
    "#         print([beam2tokens(end_word, voc)  for end_word in beam_output_words])\n",
    "        beam_score = np.max(bss)\n",
    "  \n",
    "        try:\n",
    "            output_words = evaluateSentence(input_sentence, encoder, decoder, searcher, voc)\n",
    "            if show:\n",
    "                print(\"IN:\\t{}\".format(input_sentence))\n",
    "                print(\"PRED:\\t{}\".format(output_words))\n",
    "                print(\"REAL:\\t{}\".format(output_sentence))\n",
    "            bleu_score = get_bleu_result(output_words, [output_sentence])\n",
    "            scores.append(bleu_score)\n",
    "            beam_scores.append(beam_score)\n",
    "        except:\n",
    "            scores.append(0)\n",
    "            beam_scores.append(0)\n",
    "            pass\n",
    "    return np.mean(scores), np.mean(beam_scores)\n",
    "    # return scores\n",
    "\n",
    "\n"
   ]
  },
  {
   "cell_type": "code",
   "execution_count": 20,
   "metadata": {},
   "outputs": [],
   "source": [
    "import queue\n",
    "\n",
    "class Node(object):\n",
    "    def __init__(self, hidden, previous_node, decoder_input, attn, log_prob, length):\n",
    "        self.hidden = hidden\n",
    "        self.previous_node = previous_node\n",
    "        self.decoder_input = decoder_input\n",
    "        self.attn = attn\n",
    "        self.log_prob = log_prob\n",
    "        self.length = length  \n",
    "\n",
    "def beam_evaluate(encoder, decoder, searcher, voc, sentence, beam_width = 5, max_length = MAX_LENGTH):\n",
    "    ### Format input sentence as a batch\n",
    "    # words -> indexes\n",
    "    indexes_batch = [indexesFromSentence(voc, sentence)]\n",
    "    # Create lengths tensor\n",
    "    lengths = torch.tensor([len(indexes) for indexes in indexes_batch])\n",
    "    # Transpose dimensions of batch to match models' expectations\n",
    "    input_batch = torch.LongTensor(indexes_batch).transpose(0, 1)\n",
    "    # Use appropriate device\n",
    "    input_batch = input_batch.to(device)\n",
    "    input_length = lengths.to(device)### Format input sentence as a batch\n",
    "    \n",
    "\n",
    "    encoder_outputs, encoder_hidden = encoder(input_batch, input_length)\n",
    "    # Prepare encoder's final hidden layer to be first hidden input to the decoder\n",
    "    decoder_hidden = encoder_hidden[:decoder.n_layers]\n",
    "    # Initialize decoder input with SOS_token\n",
    "    decoder_attentions = None\n",
    "    decoder_input = torch.ones(1, 1, device=device, dtype=torch.long) * SOS_token\n",
    "    root = Node(decoder_hidden, None, decoder_input, decoder_attentions, 0, 1)\n",
    "    q = queue.Queue()\n",
    "    q.put(root)\n",
    "    \n",
    "    end_nodes = [] #最终节点的位置，用于回溯\n",
    "\n",
    "    while not q.empty():\n",
    "            candidates = []  #每一层的可能被拓展的节点，只需选取每个父节点的儿子节点中概率最大的k个即可\n",
    "            for _ in range(q.qsize()):\n",
    "                node = q.get()\n",
    "                decoder_input = node.decoder_input\n",
    "                decoder_hidden = node.hidden\n",
    "                decoder_attentions = node.attn\n",
    "                length = node.length\n",
    "                # 搜索终止条件\n",
    "                if decoder_input.item() == EOS_token or decoder_input.item() == PAD_token or node.length >= max_length:\n",
    "                    end_nodes.append(node)\n",
    "                    continue\n",
    "                decoder_output, decoder_hidden = decoder(decoder_input, decoder_hidden, encoder_outputs)\n",
    "#                 decoder_scores, decoder_input = torch.max(decoder_output, dim=1)\n",
    "#                 decoder_input = torch.unsqueeze(decoder_input, 0) \n",
    "                log_prob, indices = decoder_output.data.topk(beam_width) #选取某个父节点的儿子节点概率最大的k个\n",
    "#                 print(log_prob, indices)\n",
    "                # print(log_prob[0], indices[0])\n",
    "                for k in range(beam_width):\n",
    "                      index = indices[0][k].unsqueeze(0).unsqueeze(0)\n",
    "                    #   print(indices)\n",
    "                      log_p = log_prob[0][k]\n",
    "                      child = Node(decoder_hidden, node, index, decoder_attentions, node.log_prob + torch.log(log_p), length + 1)\n",
    "                      candidates.append((child.log_prob, child))  #建立候选儿子节点，注意这里概率需要累计\n",
    "                      # print((node.log_prob + log_p, child)\n",
    "            candidates = sorted(candidates, key=lambda x:x[0], reverse=True) #候选节点排序\n",
    "            length = min(len(candidates), beam_width)  #取前k个，如果不足k个，则全部入选\n",
    "            # print(candidates)\n",
    "            # print(\"\\\\\")\n",
    "            for i in range(length):              \n",
    "                q.put(candidates[i][1])\n",
    "    end_nodes = sorted(end_nodes, key=lambda x:x.log_prob, reverse=True) #候选节点排序\n",
    "#     for node in end_nodes[:beam_width]:\n",
    "#         print(node.log_prob)\n",
    "    return end_nodes[:beam_width]\n",
    "\n",
    "def beam2tokens(end_node, voc):\n",
    "    words = []\n",
    "    node = end_node\n",
    "    while node.previous_node != None:\n",
    "        index = node.decoder_input\n",
    "        word = voc.index2word[index.item()]\n",
    "        words.insert(0, word)\n",
    "        node = node.previous_node\n",
    "    return \" \".join(words[:-1])\n",
    "\n",
    "\n",
    "\n",
    "def beam_predict(encoder, decoder, beam, pair, lang, show = True):\n",
    "    bs = beam_search(encoder, decoder, pair[0], lang, beam)\n",
    "    ss = [beam2tokens(node, lang) for node in bs]\n",
    "    vs = [node.log_prob for node in bs]\n",
    "    scores = [get_bleu_result(\" \".join(s), pair[1]) for s in ss]\n",
    "    max_score = max(scores)\n",
    "    if show:\n",
    "        max_index = scores.index(max(scores))\n",
    "        print('>', pair[0])\n",
    "        print('=', pair[1])\n",
    "        print('<', \" \".join(ss[max_index][:-1]), vs[max_index])\n",
    "        # for (index, s) in enumerate(ss):\n",
    "        #     print('<', \" \".join(s[:-1]), vs[index])\n",
    "        print(\"validation beam bleu score\",max_score)\n",
    "    return max_score, vs\n",
    "\n"
   ]
  },
  {
   "cell_type": "code",
   "execution_count": 21,
   "metadata": {
    "tags": []
   },
   "outputs": [
    {
     "name": "stdout",
     "output_type": "stream",
     "text": [
      "Building encoder and decoder ...\n",
      "Models built and ready to go!\n"
     ]
    }
   ],
   "source": [
    "model_name = 'cb_model'\n",
    "attn_model = 'dot'\n",
    "#attn_model = 'general'\n",
    "#attn_model = 'concat'\n",
    "hidden_size = 500\n",
    "encoder_n_layers = 2\n",
    "decoder_n_layers = 2\n",
    "dropout = 0.1\n",
    "batch_size = 32\n",
    "\n",
    "# Set checkpoint to load from; set to None if starting from scratch\n",
    "loadFilename = None\n",
    "checkpoint_iter = 4000\n",
    "# loadFilename = os.path.join(save_dir, model_name, corpus_name,\n",
    "#                            '{}-{}_{}'.format(encoder_n_layers, decoder_n_layers, hidden_size),\n",
    "#                            '{}_checkpoint.tar'.format(checkpoint_iter))\n",
    "\n",
    "\n",
    "# Load model if a loadFilename is provided\n",
    "if loadFilename:\n",
    "    # If loading on same machine the model was trained on\n",
    "    checkpoint = torch.load(loadFilename)\n",
    "    # If loading a model trained on GPU to CPU\n",
    "#     checkpoint = torch.load(loadFilename, map_location=torch.device('cuda'))\n",
    "    encoder_sd = checkpoint['en']\n",
    "    decoder_sd = checkpoint['de']\n",
    "    encoder_optimizer_sd = checkpoint['en_opt']\n",
    "    decoder_optimizer_sd = checkpoint['de_opt']\n",
    "    embedding_sd = checkpoint['embedding']\n",
    "    voc.__dict__ = checkpoint['voc_dict']\n",
    "\n",
    "\n",
    "print('Building encoder and decoder ...')\n",
    "# Initialize word embeddings\n",
    "embedding = nn.Embedding(voc.num_words, hidden_size)\n",
    "if loadFilename:\n",
    "    embedding.load_state_dict(embedding_sd)\n",
    "# Initialize encoder & decoder models\n",
    "encoder = EncoderRNN(hidden_size, embedding, encoder_n_layers, dropout)\n",
    "decoder = LuongAttnDecoderRNN(attn_model, embedding, hidden_size, voc.num_words, decoder_n_layers, dropout)\n",
    "if loadFilename:\n",
    "    encoder.load_state_dict(encoder_sd)\n",
    "    decoder.load_state_dict(decoder_sd)\n",
    "# Use appropriate device\n",
    "encoder = encoder.to(device)\n",
    "decoder = decoder.to(device)\n",
    "print('Models built and ready to go!')"
   ]
  },
  {
   "cell_type": "code",
   "execution_count": 22,
   "metadata": {
    "tags": []
   },
   "outputs": [
    {
     "name": "stdout",
     "output_type": "stream",
     "text": [
      "Building optimizers ...\n",
      "Starting Training!\n"
     ]
    }
   ],
   "source": [
    "# Configure training/optimization\n",
    "clip = 50.0\n",
    "teacher_forcing_ratio = 1.0\n",
    "learning_rate = 0.0001\n",
    "decoder_learning_ratio = 5.0\n",
    "n_iteration = 4000\n",
    "print_every = 500\n",
    "save_every = 500\n",
    "\n",
    "# Ensure dropout layers are in train mode\n",
    "encoder.train()\n",
    "decoder.train()\n",
    "\n",
    "# Initialize optimizers\n",
    "print('Building optimizers ...')\n",
    "encoder_optimizer = optim.Adam(encoder.parameters(), lr=learning_rate)\n",
    "decoder_optimizer = optim.Adam(decoder.parameters(), lr=learning_rate * decoder_learning_ratio)\n",
    "if loadFilename:\n",
    "    encoder_optimizer.load_state_dict(encoder_optimizer_sd)\n",
    "    decoder_optimizer.load_state_dict(decoder_optimizer_sd)\n",
    "\n",
    "# If you have cuda, configure cuda to call\n",
    "for state in encoder_optimizer.state.values():\n",
    "    for k, v in state.items():\n",
    "        if isinstance(v, torch.Tensor):\n",
    "            state[k] = v.cuda()\n",
    "\n",
    "for state in decoder_optimizer.state.values():\n",
    "    for k, v in state.items():\n",
    "        if isinstance(v, torch.Tensor):\n",
    "            state[k] = v.cuda()\n",
    "\n",
    "# Run training iterations\n",
    "print(\"Starting Training!\")\n",
    "# trainIters(model_name, voc, pairs, encoder, decoder, encoder_optimizer, decoder_optimizer,\n",
    "#            embedding, encoder_n_layers, decoder_n_layers, save_dir, n_iteration, batch_size,\n",
    "#            print_every, save_every, clip, corpus_name, loadFilename)"
   ]
  },
  {
   "cell_type": "code",
   "execution_count": 23,
   "metadata": {},
   "outputs": [],
   "source": [
    "# Set dropout layers to eval mode\n",
    "encoder.eval()\n",
    "decoder.eval()\n",
    "\n",
    "# Initialize search module\n",
    "searcher = GreedySearchDecoder(encoder, decoder)\n",
    "\n",
    "# Begin chatting (uncomment and run the following line to begin)\n",
    "# evaluateInput(encoder, decoder, searcher, voc)"
   ]
  },
  {
   "cell_type": "code",
   "execution_count": 24,
   "metadata": {
    "tags": []
   },
   "outputs": [],
   "source": [
    "# evaluateInput(encoder, decoder, searcher, voc)"
   ]
  },
  {
   "cell_type": "code",
   "execution_count": 25,
   "metadata": {
    "tags": [
     "outputPrepend"
    ]
   },
   "outputs": [],
   "source": [
    "# evaluateTest(test_pairs, encoder, decoder, searcher, voc)"
   ]
  },
  {
   "cell_type": "code",
   "execution_count": 26,
   "metadata": {},
   "outputs": [
    {
     "data": {
      "text/plain": [
       "96"
      ]
     },
     "execution_count": 26,
     "metadata": {},
     "output_type": "execute_result"
    }
   ],
   "source": [
    "def make_parameter():\n",
    "    hidden_size = np.linspace(50, 500, 4).astype(int)\n",
    "    encoder_n_layers = [2]\n",
    "    decoder_n_layers = [2]\n",
    "    dropout = [0.1]\n",
    "    batch_size = np.logspace(2, 3, num=2, base=4).astype(int)\n",
    "    teacher_forcing_ratio = [1.0]\n",
    "    learning_rate = np.logspace(2,4,num=3,base=0.1)\n",
    "    decoder_learning_ratio = np.linspace(1, 7, 4)\n",
    "    result = []\n",
    "    for x1 in hidden_size:\n",
    "        for x2 in encoder_n_layers:\n",
    "            for x3 in decoder_n_layers:\n",
    "                for x4 in dropout:\n",
    "                    for x5 in batch_size:\n",
    "                        for x6 in teacher_forcing_ratio:\n",
    "                            for x7 in learning_rate:\n",
    "                                for x8 in decoder_learning_ratio:\n",
    "                                    result.append((x1,x2,x3,x4,x5,x6,x7,x8))\n",
    "    return result\n",
    "len(make_parameter())"
   ]
  },
  {
   "cell_type": "code",
   "execution_count": null,
   "metadata": {
    "tags": []
   },
   "outputs": [
    {
     "name": "stdout",
     "output_type": "stream",
     "text": [
      "50 2 2 0.1 16 5 0.01 1.0\n",
      "Initializing ...\n",
      "Training...\n",
      "\n",
      "Iteration: 1000; Percent complete: 20.0%; Average loss: 3.7386\n"
     ]
    },
    {
     "name": "stderr",
     "output_type": "stream",
     "text": [
      "  0%|          | 0/200 [00:00<?, ?it/s]C:\\Users\\sy\\Anaconda3\\lib\\site-packages\\nltk\\translate\\bleu_score.py:503: UserWarning: \n",
      "The hypothesis contains 0 counts of 2-gram overlaps.\n",
      "Therefore the BLEU score evaluates to 0, independently of\n",
      "how many N-gram overlaps of lower order it contains.\n",
      "Consider using lower n-gram order or use SmoothingFunction()\n",
      "  warnings.warn(_msg)\n",
      "C:\\Users\\sy\\Anaconda3\\lib\\site-packages\\nltk\\translate\\bleu_score.py:503: UserWarning: \n",
      "The hypothesis contains 0 counts of 3-gram overlaps.\n",
      "Therefore the BLEU score evaluates to 0, independently of\n",
      "how many N-gram overlaps of lower order it contains.\n",
      "Consider using lower n-gram order or use SmoothingFunction()\n",
      "  warnings.warn(_msg)\n",
      "C:\\Users\\sy\\Anaconda3\\lib\\site-packages\\nltk\\translate\\bleu_score.py:503: UserWarning: \n",
      "The hypothesis contains 0 counts of 4-gram overlaps.\n",
      "Therefore the BLEU score evaluates to 0, independently of\n",
      "how many N-gram overlaps of lower order it contains.\n",
      "Consider using lower n-gram order or use SmoothingFunction()\n",
      "  warnings.warn(_msg)\n",
      "100%|██████████| 200/200 [01:02<00:00,  3.30it/s]\n",
      "100%|██████████| 200/200 [01:02<00:00,  3.52it/s]\n"
     ]
    },
    {
     "name": "stdout",
     "output_type": "stream",
     "text": [
      "train bleu score:0.21679339441401857\n",
      "train beam score:0.2770819957183623\n",
      "test bleu score:0.24123071803941054\n",
      "test beam score:0.2911771785378797\n",
      " \n",
      "\n",
      "Iteration: 2000; Percent complete: 40.0%; Average loss: 2.2942\n"
     ]
    },
    {
     "name": "stderr",
     "output_type": "stream",
     "text": [
      "100%|██████████| 200/200 [01:04<00:00,  3.05it/s]\n",
      "100%|██████████| 200/200 [01:03<00:00,  3.23it/s]\n"
     ]
    },
    {
     "name": "stdout",
     "output_type": "stream",
     "text": [
      "train bleu score:0.23415522166081812\n",
      "train beam score:0.362543537426564\n",
      "test bleu score:0.24574558768430252\n",
      "test beam score:0.36983721486520255\n",
      " \n",
      "\n",
      "Iteration: 3000; Percent complete: 60.0%; Average loss: 1.8341\n"
     ]
    },
    {
     "name": "stderr",
     "output_type": "stream",
     "text": [
      "100%|██████████| 200/200 [01:08<00:00,  2.95it/s]\n",
      "100%|██████████| 200/200 [01:08<00:00,  2.86it/s]\n"
     ]
    },
    {
     "name": "stdout",
     "output_type": "stream",
     "text": [
      "train bleu score:0.24855587959858735\n",
      "train beam score:0.3479421725837058\n",
      "test bleu score:0.24965951323140018\n",
      "test beam score:0.3632365082858615\n",
      " \n",
      "\n",
      "Iteration: 4000; Percent complete: 80.0%; Average loss: 1.6534\n"
     ]
    },
    {
     "name": "stderr",
     "output_type": "stream",
     "text": [
      "100%|██████████| 200/200 [01:07<00:00,  2.87it/s]\n",
      "100%|██████████| 200/200 [01:06<00:00,  3.01it/s]\n"
     ]
    },
    {
     "name": "stdout",
     "output_type": "stream",
     "text": [
      "train bleu score:0.2817161309615956\n",
      "train beam score:0.3830709367223433\n",
      "test bleu score:0.22698030038857175\n",
      "test beam score:0.3625166262643691\n",
      " \n",
      "\n",
      "Iteration: 5000; Percent complete: 100.0%; Average loss: 1.5811\n"
     ]
    },
    {
     "name": "stderr",
     "output_type": "stream",
     "text": [
      "100%|██████████| 200/200 [01:07<00:00,  3.01it/s]\n",
      "100%|██████████| 200/200 [01:09<00:00,  2.97it/s]\n"
     ]
    },
    {
     "name": "stdout",
     "output_type": "stream",
     "text": [
      "train bleu score:0.2685769740699982\n",
      "train beam score:0.38344095865765965\n",
      "test bleu score:0.2781955622491158\n",
      "test beam score:0.4455049189399181\n",
      " \n",
      "[(1000, 0.21679339441401857, 0.27708199571836228, 0.24123071803941054, 0.29117717853787972), (2000, 0.23415522166081812, 0.36254353742656398, 0.24574558768430252, 0.36983721486520255), (3000, 0.24855587959858735, 0.3479421725837058, 0.24965951323140018, 0.36323650828586151), (4000, 0.28171613096159559, 0.38307093672234332, 0.22698030038857175, 0.36251662626436909), (5000, 0.2685769740699982, 0.38344095865765965, 0.27819556224911579, 0.44550491893991812)]\n",
      "50 2 2 0.1 16 5 0.01 3.0\n",
      "Initializing ...\n",
      "Training...\n",
      "\n",
      "Iteration: 1000; Percent complete: 20.0%; Average loss: 3.9355\n"
     ]
    },
    {
     "name": "stderr",
     "output_type": "stream",
     "text": [
      "100%|██████████| 200/200 [01:13<00:00,  2.80it/s]\n",
      "100%|██████████| 200/200 [01:10<00:00,  2.69it/s]\n"
     ]
    },
    {
     "name": "stdout",
     "output_type": "stream",
     "text": [
      "train bleu score:0.055\n",
      "train beam score:0.21354321940109786\n",
      "test bleu score:0.035\n",
      "test beam score:0.24312925351520323\n",
      " \n",
      "\n",
      "Iteration: 2000; Percent complete: 40.0%; Average loss: 3.5516\n"
     ]
    },
    {
     "name": "stderr",
     "output_type": "stream",
     "text": [
      "100%|██████████| 200/200 [01:02<00:00,  3.18it/s]\n",
      "100%|██████████| 200/200 [01:02<00:00,  3.18it/s]\n"
     ]
    },
    {
     "name": "stdout",
     "output_type": "stream",
     "text": [
      "train bleu score:0.06272679004096021\n",
      "train beam score:0.17745676686100403\n",
      "test bleu score:0.15258494386306573\n",
      "test beam score:0.25563072528204506\n",
      " \n",
      "\n",
      "Iteration: 3000; Percent complete: 60.0%; Average loss: 3.5560\n"
     ]
    },
    {
     "name": "stderr",
     "output_type": "stream",
     "text": [
      "100%|██████████| 200/200 [01:04<00:00,  2.96it/s]\n",
      "100%|██████████| 200/200 [01:05<00:00,  2.98it/s]\n"
     ]
    },
    {
     "name": "stdout",
     "output_type": "stream",
     "text": [
      "train bleu score:0.165\n",
      "train beam score:0.2\n",
      "test bleu score:0.205\n",
      "test beam score:0.24\n",
      " \n",
      "\n",
      "Iteration: 4000; Percent complete: 80.0%; Average loss: 3.6249\n"
     ]
    },
    {
     "name": "stderr",
     "output_type": "stream",
     "text": [
      "100%|██████████| 200/200 [01:10<00:00,  2.82it/s]\n",
      "100%|██████████| 200/200 [01:09<00:00,  3.09it/s]\n"
     ]
    },
    {
     "name": "stdout",
     "output_type": "stream",
     "text": [
      "train bleu score:0.08659581056483384\n",
      "train beam score:0.21836792714693387\n",
      "test bleu score:0.056129260510130674\n",
      "test beam score:0.2203908119209695\n",
      " \n",
      "\n",
      "Iteration: 5000; Percent complete: 100.0%; Average loss: 3.6587\n"
     ]
    },
    {
     "name": "stderr",
     "output_type": "stream",
     "text": [
      "100%|██████████| 200/200 [01:16<00:00,  2.59it/s]\n",
      "100%|██████████| 200/200 [01:14<00:00,  2.73it/s]\n"
     ]
    },
    {
     "name": "stdout",
     "output_type": "stream",
     "text": [
      "train bleu score:0.02033348145297985\n",
      "train beam score:0.1873020717854295\n",
      "test bleu score:0.005949507578762334\n",
      "test beam score:0.16578016374617185\n",
      " \n",
      "[(1000, 0.055, 0.21354321940109786, 0.035000000000000003, 0.24312925351520323), (2000, 0.062726790040960212, 0.17745676686100403, 0.15258494386306573, 0.25563072528204506), (3000, 0.16500000000000001, 0.20000000000000001, 0.20499999999999999, 0.23999999999999999), (4000, 0.086595810564833842, 0.21836792714693387, 0.056129260510130674, 0.22039081192096949), (5000, 0.020333481452979849, 0.18730207178542951, 0.0059495075787623338, 0.16578016374617185)]\n",
      "50 2 2 0.1 16 5 0.01 5.0\n",
      "Initializing ...\n",
      "Training...\n",
      "\n",
      "Iteration: 1000; Percent complete: 20.0%; Average loss: 4.5178\n"
     ]
    },
    {
     "name": "stderr",
     "output_type": "stream",
     "text": [
      "100%|██████████| 200/200 [01:08<00:00,  2.91it/s]\n",
      "100%|██████████| 200/200 [01:07<00:00,  2.81it/s]\n"
     ]
    },
    {
     "name": "stdout",
     "output_type": "stream",
     "text": [
      "train bleu score:0.13071548067574298\n",
      "train beam score:0.19890959324284793\n",
      "test bleu score:0.16\n",
      "test beam score:0.23269519129607885\n",
      " \n",
      "\n",
      "Iteration: 2000; Percent complete: 40.0%; Average loss: 4.8370\n"
     ]
    },
    {
     "name": "stderr",
     "output_type": "stream",
     "text": [
      "100%|██████████| 200/200 [01:04<00:00,  3.10it/s]\n",
      "100%|██████████| 200/200 [01:04<00:00,  3.17it/s]\n"
     ]
    },
    {
     "name": "stdout",
     "output_type": "stream",
     "text": [
      "train bleu score:0.11127383000989008\n",
      "train beam score:0.18627383000989006\n",
      "test bleu score:0.09\n",
      "test beam score:0.17570168268766623\n",
      " \n",
      "\n",
      "Iteration: 3000; Percent complete: 60.0%; Average loss: 5.0224\n"
     ]
    },
    {
     "name": "stderr",
     "output_type": "stream",
     "text": [
      "100%|██████████| 200/200 [01:18<00:00,  2.12it/s]\n",
      "100%|██████████| 200/200 [01:34<00:00,  2.24it/s]\n"
     ]
    },
    {
     "name": "stdout",
     "output_type": "stream",
     "text": [
      "train bleu score:0.021110805535751963\n",
      "train beam score:0.0963156181647988\n",
      "test bleu score:0.035\n",
      "test beam score:0.1422146705214421\n",
      " \n",
      "\n",
      "Iteration: 4000; Percent complete: 80.0%; Average loss: 5.3896\n"
     ]
    },
    {
     "name": "stderr",
     "output_type": "stream",
     "text": [
      "100%|██████████| 200/200 [01:23<00:00,  2.50it/s]\n",
      "100%|██████████| 200/200 [01:13<00:00,  2.73it/s]\n"
     ]
    },
    {
     "name": "stdout",
     "output_type": "stream",
     "text": [
      "train bleu score:0.026613871428491375\n",
      "train beam score:0.13710755867882296\n",
      "test bleu score:0.046728603923209704\n",
      "test beam score:0.16927905280153024\n",
      " \n",
      "\n",
      "Iteration: 5000; Percent complete: 100.0%; Average loss: 5.5618\n"
     ]
    },
    {
     "name": "stderr",
     "output_type": "stream",
     "text": [
      "100%|██████████| 200/200 [01:19<00:00,  2.39it/s]\n",
      "100%|██████████| 200/200 [01:22<00:00,  2.66it/s]\n"
     ]
    },
    {
     "name": "stdout",
     "output_type": "stream",
     "text": [
      "train bleu score:0.085\n",
      "train beam score:0.2\n",
      "test bleu score:0.095\n",
      "test beam score:0.19\n",
      " \n",
      "[(1000, 0.13071548067574298, 0.19890959324284793, 0.16, 0.23269519129607885), (2000, 0.11127383000989008, 0.18627383000989006, 0.089999999999999997, 0.17570168268766623), (3000, 0.021110805535751963, 0.096315618164798805, 0.035000000000000003, 0.1422146705214421), (4000, 0.026613871428491375, 0.13710755867882296, 0.046728603923209704, 0.16927905280153024), (5000, 0.085000000000000006, 0.20000000000000001, 0.095000000000000001, 0.19)]\n",
      "50 2 2 0.1 16 5 0.01 7.0\n",
      "Initializing ...\n",
      "Training...\n",
      "\n",
      "Iteration: 1000; Percent complete: 20.0%; Average loss: 5.5819\n"
     ]
    },
    {
     "name": "stderr",
     "output_type": "stream",
     "text": [
      "100%|██████████| 200/200 [01:00<00:00,  3.26it/s]\n",
      "100%|██████████| 200/200 [01:04<00:00,  3.19it/s]\n"
     ]
    },
    {
     "name": "stdout",
     "output_type": "stream",
     "text": [
      "train bleu score:0.185\n",
      "train beam score:0.26\n",
      "test bleu score:0.23\n",
      "test beam score:0.256768673187189\n",
      " \n",
      "\n",
      "Iteration: 2000; Percent complete: 40.0%; Average loss: 6.0568\n"
     ]
    },
    {
     "name": "stderr",
     "output_type": "stream",
     "text": [
      "100%|██████████| 200/200 [01:15<00:00,  2.56it/s]\n",
      "100%|██████████| 200/200 [01:14<00:00,  2.55it/s]\n"
     ]
    },
    {
     "name": "stdout",
     "output_type": "stream",
     "text": [
      "train bleu score:0.01\n",
      "train beam score:0.22\n",
      "test bleu score:0.01\n",
      "test beam score:0.1765899028959802\n",
      " \n",
      "\n",
      "Iteration: 3000; Percent complete: 60.0%; Average loss: nan\n"
     ]
    },
    {
     "name": "stderr",
     "output_type": "stream",
     "text": [
      "100%|██████████| 200/200 [00:53<00:00,  3.43it/s]\n",
      "100%|██████████| 200/200 [00:53<00:00,  3.74it/s]\n"
     ]
    },
    {
     "name": "stdout",
     "output_type": "stream",
     "text": [
      "train bleu score:0.0\n",
      "train beam score:3.81362163138679e-235\n",
      "test bleu score:0.0\n",
      "test beam score:0.0\n",
      " \n",
      "\n",
      "Iteration: 4000; Percent complete: 80.0%; Average loss: nan\n"
     ]
    },
    {
     "name": "stderr",
     "output_type": "stream",
     "text": [
      "100%|██████████| 200/200 [00:53<00:00,  3.77it/s]\n",
      "100%|██████████| 200/200 [00:53<00:00,  3.59it/s]\n"
     ]
    },
    {
     "name": "stdout",
     "output_type": "stream",
     "text": [
      "train bleu score:0.0\n",
      "train beam score:1.9233901856509192e-241\n",
      "test bleu score:0.0\n",
      "test beam score:1.9233901856509192e-241\n",
      " \n",
      "\n",
      "Iteration: 5000; Percent complete: 100.0%; Average loss: nan\n"
     ]
    },
    {
     "name": "stderr",
     "output_type": "stream",
     "text": [
      "100%|██████████| 200/200 [00:55<00:00,  3.63it/s]\n",
      "100%|██████████| 200/200 [00:53<00:00,  3.82it/s]\n"
     ]
    },
    {
     "name": "stdout",
     "output_type": "stream",
     "text": [
      "train bleu score:0.0\n",
      "train beam score:3.813619707996604e-235\n",
      "test bleu score:0.0\n",
      "test beam score:0.0\n",
      " \n",
      "[(1000, 0.185, 0.26000000000000001, 0.23000000000000001, 0.25676867318718899), (2000, 0.01, 0.22, 0.01, 0.1765899028959802), (3000, 0.0, 3.8136216313867902e-235, 0.0, 0.0), (4000, 0.0, 1.9233901856509192e-241, 0.0, 1.9233901856509192e-241), (5000, 0.0, 3.813619707996604e-235, 0.0, 0.0)]\n",
      "50 2 2 0.1 16 5 0.001 1.0\n",
      "Initializing ...\n",
      "Training...\n",
      "\n",
      "Iteration: 1000; Percent complete: 20.0%; Average loss: 3.6873\n"
     ]
    },
    {
     "name": "stderr",
     "output_type": "stream",
     "text": [
      "100%|██████████| 200/200 [01:04<00:00,  3.24it/s]\n",
      "100%|██████████| 200/200 [01:01<00:00,  3.37it/s]\n"
     ]
    },
    {
     "name": "stdout",
     "output_type": "stream",
     "text": [
      "train bleu score:0.2246011108133351\n",
      "train beam score:0.26568238239063063\n",
      "test bleu score:0.212971221535346\n",
      "test beam score:0.23247074825456054\n",
      " \n",
      "\n",
      "Iteration: 2000; Percent complete: 40.0%; Average loss: 2.2496\n"
     ]
    },
    {
     "name": "stderr",
     "output_type": "stream",
     "text": [
      "100%|██████████| 200/200 [01:05<00:00,  3.29it/s]\n",
      "100%|██████████| 200/200 [01:03<00:00,  3.15it/s]\n"
     ]
    },
    {
     "name": "stdout",
     "output_type": "stream",
     "text": [
      "train bleu score:0.260873244420517\n",
      "train beam score:0.34908197269803265\n",
      "test bleu score:0.2321597320457082\n",
      "test beam score:0.3791972785281186\n",
      " \n",
      "\n",
      "Iteration: 3000; Percent complete: 60.0%; Average loss: 1.8080\n"
     ]
    },
    {
     "name": "stderr",
     "output_type": "stream",
     "text": [
      "100%|██████████| 200/200 [01:11<00:00,  2.76it/s]\n",
      "100%|██████████| 200/200 [01:09<00:00,  2.62it/s]\n"
     ]
    },
    {
     "name": "stdout",
     "output_type": "stream",
     "text": [
      "train bleu score:0.32492711027141996\n",
      "train beam score:0.414583073374919\n",
      "test bleu score:0.24612157994051365\n",
      "test beam score:0.3530005758781442\n",
      " \n",
      "\n",
      "Iteration: 4000; Percent complete: 80.0%; Average loss: 1.5611\n"
     ]
    },
    {
     "name": "stderr",
     "output_type": "stream",
     "text": [
      "100%|██████████| 200/200 [01:05<00:00,  3.19it/s]\n",
      "100%|██████████| 200/200 [01:04<00:00,  3.31it/s]\n"
     ]
    },
    {
     "name": "stdout",
     "output_type": "stream",
     "text": [
      "train bleu score:0.3345738460118773\n",
      "train beam score:0.507325219228884\n",
      "test bleu score:0.3332241059352697\n",
      "test beam score:0.4757262326252863\n",
      " \n",
      "\n",
      "Iteration: 5000; Percent complete: 100.0%; Average loss: 1.3141\n"
     ]
    },
    {
     "name": "stderr",
     "output_type": "stream",
     "text": [
      "100%|██████████| 200/200 [01:09<00:00,  2.91it/s]\n",
      "100%|██████████| 200/200 [01:07<00:00,  2.98it/s]\n"
     ]
    },
    {
     "name": "stdout",
     "output_type": "stream",
     "text": [
      "train bleu score:0.44188906941078765\n",
      "train beam score:0.5475627182492492\n",
      "test bleu score:0.37423932508173363\n",
      "test beam score:0.5352302672355748\n",
      " \n",
      "[(1000, 0.22460111081333509, 0.26568238239063063, 0.21297122153534601, 0.23247074825456054), (2000, 0.26087324442051701, 0.34908197269803265, 0.23215973204570819, 0.37919727852811858), (3000, 0.32492711027141996, 0.41458307337491901, 0.24612157994051365, 0.35300057587814421), (4000, 0.33457384601187729, 0.50732521922888396, 0.33322410593526969, 0.47572623262528629), (5000, 0.44188906941078765, 0.54756271824924918, 0.37423932508173363, 0.53523026723557476)]\n",
      "50 2 2 0.1 16 5 0.001 3.0\n",
      "Initializing ...\n",
      "Training...\n",
      "\n",
      "Iteration: 1000; Percent complete: 20.0%; Average loss: 4.2259\n"
     ]
    },
    {
     "name": "stderr",
     "output_type": "stream",
     "text": [
      "100%|██████████| 200/200 [00:56<00:00,  3.67it/s]\n",
      "100%|██████████| 200/200 [00:55<00:00,  3.27it/s]\n"
     ]
    },
    {
     "name": "stdout",
     "output_type": "stream",
     "text": [
      "train bleu score:0.26272334238123013\n",
      "train beam score:0.2820248837816021\n",
      "test bleu score:0.2307254069576128\n",
      "test beam score:0.23989919989495515\n",
      " \n",
      "\n",
      "Iteration: 2000; Percent complete: 40.0%; Average loss: 2.0774\n"
     ]
    },
    {
     "name": "stderr",
     "output_type": "stream",
     "text": [
      "100%|██████████| 200/200 [01:08<00:00,  2.98it/s]\n",
      "100%|██████████| 200/200 [01:10<00:00,  2.75it/s]\n"
     ]
    },
    {
     "name": "stdout",
     "output_type": "stream",
     "text": [
      "train bleu score:0.29410959106511936\n",
      "train beam score:0.43946701165640417\n",
      "test bleu score:0.3543243113274078\n",
      "test beam score:0.488232772725481\n",
      " \n",
      "\n",
      "Iteration: 3000; Percent complete: 60.0%; Average loss: 1.4110\n"
     ]
    },
    {
     "name": "stderr",
     "output_type": "stream",
     "text": [
      "100%|██████████| 200/200 [01:09<00:00,  2.93it/s]\n",
      "100%|██████████| 200/200 [01:09<00:00,  2.60it/s]\n"
     ]
    },
    {
     "name": "stdout",
     "output_type": "stream",
     "text": [
      "train bleu score:0.48005076981256656\n",
      "train beam score:0.6402761171308663\n",
      "test bleu score:0.3825363934151739\n",
      "test beam score:0.5507055635057649\n",
      " \n",
      "\n",
      "Iteration: 4000; Percent complete: 80.0%; Average loss: 1.0980\n"
     ]
    },
    {
     "name": "stderr",
     "output_type": "stream",
     "text": [
      "100%|██████████| 200/200 [01:08<00:00,  2.63it/s]\n",
      "100%|██████████| 200/200 [01:08<00:00,  2.88it/s]\n"
     ]
    },
    {
     "name": "stdout",
     "output_type": "stream",
     "text": [
      "train bleu score:0.49193014982663996\n",
      "train beam score:0.6747919312034025\n",
      "test bleu score:0.4555694776479814\n",
      "test beam score:0.5670307927793363\n",
      " \n",
      "\n",
      "Iteration: 5000; Percent complete: 100.0%; Average loss: 0.8908\n"
     ]
    },
    {
     "name": "stderr",
     "output_type": "stream",
     "text": [
      "100%|██████████| 200/200 [01:08<00:00,  2.77it/s]\n",
      "100%|██████████| 200/200 [01:06<00:00,  3.12it/s]\n"
     ]
    },
    {
     "name": "stdout",
     "output_type": "stream",
     "text": [
      "train bleu score:0.5709383793871835\n",
      "train beam score:0.7269783901832931\n",
      "test bleu score:0.44645462576347456\n",
      "test beam score:0.5787176818423907\n",
      " \n",
      "[(1000, 0.26272334238123013, 0.28202488378160212, 0.23072540695761279, 0.23989919989495515), (2000, 0.29410959106511936, 0.43946701165640417, 0.35432431132740783, 0.48823277272548099), (3000, 0.48005076981256656, 0.6402761171308663, 0.38253639341517393, 0.55070556350576494), (4000, 0.49193014982663996, 0.67479193120340253, 0.45556947764798139, 0.56703079277933632), (5000, 0.5709383793871835, 0.72697839018329313, 0.44645462576347456, 0.5787176818423907)]\n",
      "50 2 2 0.1 16 5 0.001 5.0\n",
      "Initializing ...\n",
      "Training...\n",
      "\n",
      "Iteration: 1000; Percent complete: 20.0%; Average loss: 3.5780\n"
     ]
    },
    {
     "name": "stderr",
     "output_type": "stream",
     "text": [
      "100%|██████████| 200/200 [01:02<00:00,  2.81it/s]\n",
      "100%|██████████| 200/200 [01:03<00:00,  2.97it/s]\n"
     ]
    },
    {
     "name": "stdout",
     "output_type": "stream",
     "text": [
      "train bleu score:0.2779486797627013\n",
      "train beam score:0.34677185601682825\n",
      "test bleu score:0.17387259820689493\n",
      "test beam score:0.25104296895489403\n",
      " \n",
      "\n",
      "Iteration: 2000; Percent complete: 40.0%; Average loss: 1.7530\n"
     ]
    },
    {
     "name": "stderr",
     "output_type": "stream",
     "text": [
      "100%|██████████| 200/200 [01:08<00:00,  2.90it/s]\n",
      "100%|██████████| 200/200 [01:09<00:00,  2.52it/s]\n"
     ]
    },
    {
     "name": "stdout",
     "output_type": "stream",
     "text": [
      "train bleu score:0.3402412691483914\n",
      "train beam score:0.4733203837571594\n",
      "test bleu score:0.35252309996410197\n",
      "test beam score:0.4996759277034167\n",
      " \n",
      "\n",
      "Iteration: 3000; Percent complete: 60.0%; Average loss: 1.2734\n"
     ]
    },
    {
     "name": "stderr",
     "output_type": "stream",
     "text": [
      "100%|██████████| 200/200 [01:08<00:00,  4.29it/s]\n",
      "100%|██████████| 200/200 [01:10<00:00,  2.83it/s]\n"
     ]
    },
    {
     "name": "stdout",
     "output_type": "stream",
     "text": [
      "train bleu score:0.44627391154098467\n",
      "train beam score:0.577553711191397\n",
      "test bleu score:0.36585441064856977\n",
      "test beam score:0.4969142184463811\n",
      " \n",
      "\n",
      "Iteration: 4000; Percent complete: 80.0%; Average loss: 1.0016\n"
     ]
    },
    {
     "name": "stderr",
     "output_type": "stream",
     "text": [
      "100%|██████████| 200/200 [01:10<00:00,  2.74it/s]\n",
      "100%|██████████| 200/200 [01:10<00:00,  3.50it/s]\n"
     ]
    },
    {
     "name": "stdout",
     "output_type": "stream",
     "text": [
      "train bleu score:0.4957730166349276\n",
      "train beam score:0.6641931209499811\n",
      "test bleu score:0.46001904839480184\n",
      "test beam score:0.589365990823951\n",
      " \n",
      "\n",
      "Iteration: 5000; Percent complete: 100.0%; Average loss: 0.8157\n"
     ]
    },
    {
     "name": "stderr",
     "output_type": "stream",
     "text": [
      "100%|██████████| 200/200 [01:07<00:00,  2.93it/s]\n",
      "100%|██████████| 200/200 [01:09<00:00,  2.78it/s]\n"
     ]
    },
    {
     "name": "stdout",
     "output_type": "stream",
     "text": [
      "train bleu score:0.6038043966118899\n",
      "train beam score:0.7270685770087026\n",
      "test bleu score:0.5087473197450938\n",
      "test beam score:0.6359729566158628\n",
      " \n",
      "[(1000, 0.27794867976270132, 0.34677185601682825, 0.17387259820689493, 0.25104296895489403), (2000, 0.34024126914839142, 0.4733203837571594, 0.35252309996410197, 0.49967592770341668), (3000, 0.44627391154098467, 0.57755371119139698, 0.36585441064856977, 0.49691421844638112), (4000, 0.49577301663492762, 0.66419312094998106, 0.46001904839480184, 0.58936599082395102), (5000, 0.60380439661188989, 0.72706857700870264, 0.5087473197450938, 0.63597295661586284)]\n",
      "50 2 2 0.1 16 5 0.001 7.0\n",
      "Initializing ...\n",
      "Training...\n",
      "\n",
      "Iteration: 1000; Percent complete: 20.0%; Average loss: 3.2337\n"
     ]
    },
    {
     "name": "stderr",
     "output_type": "stream",
     "text": [
      "100%|██████████| 200/200 [01:09<00:00,  2.73it/s]\n",
      "100%|██████████| 200/200 [01:10<00:00,  2.77it/s]\n"
     ]
    },
    {
     "name": "stdout",
     "output_type": "stream",
     "text": [
      "train bleu score:0.25932077102996304\n",
      "train beam score:0.3797128344947419\n",
      "test bleu score:0.30152006194587083\n",
      "test beam score:0.37380410871230974\n",
      " \n",
      "\n",
      "Iteration: 2000; Percent complete: 40.0%; Average loss: 1.5535\n"
     ]
    },
    {
     "name": "stderr",
     "output_type": "stream",
     "text": [
      "100%|██████████| 200/200 [01:07<00:00,  2.79it/s]\n",
      "100%|██████████| 200/200 [01:07<00:00,  3.33it/s]\n"
     ]
    },
    {
     "name": "stdout",
     "output_type": "stream",
     "text": [
      "train bleu score:0.4288785071274755\n",
      "train beam score:0.5961131326510004\n",
      "test bleu score:0.4232157976809388\n",
      "test beam score:0.5408867340287703\n",
      " \n",
      "\n",
      "Iteration: 3000; Percent complete: 60.0%; Average loss: 1.1093\n"
     ]
    },
    {
     "name": "stderr",
     "output_type": "stream",
     "text": [
      "100%|██████████| 200/200 [01:10<00:00,  2.98it/s]\n",
      "100%|██████████| 200/200 [01:09<00:00,  3.20it/s]\n"
     ]
    },
    {
     "name": "stdout",
     "output_type": "stream",
     "text": [
      "train bleu score:0.5449174337042817\n",
      "train beam score:0.658788635434851\n",
      "test bleu score:0.41495411115731073\n",
      "test beam score:0.5360277997254373\n",
      " \n",
      "\n",
      "Iteration: 4000; Percent complete: 80.0%; Average loss: 0.9028\n"
     ]
    },
    {
     "name": "stderr",
     "output_type": "stream",
     "text": [
      "100%|██████████| 200/200 [01:34<00:00,  1.80it/s]\n",
      "100%|██████████| 200/200 [01:17<00:00,  2.83it/s]\n"
     ]
    },
    {
     "name": "stdout",
     "output_type": "stream",
     "text": [
      "train bleu score:0.5193429832096421\n",
      "train beam score:0.6742948751625463\n",
      "test bleu score:0.46368520996212526\n",
      "test beam score:0.585997065484054\n",
      " \n",
      "\n",
      "Iteration: 5000; Percent complete: 100.0%; Average loss: 0.8013\n"
     ]
    },
    {
     "name": "stderr",
     "output_type": "stream",
     "text": [
      "100%|██████████| 200/200 [01:08<00:00,  2.85it/s]\n",
      "100%|██████████| 200/200 [01:07<00:00,  3.38it/s]\n"
     ]
    },
    {
     "name": "stdout",
     "output_type": "stream",
     "text": [
      "train bleu score:0.5476043002244388\n",
      "train beam score:0.6842646644382637\n",
      "test bleu score:0.3949414159615818\n",
      "test beam score:0.5180208809894286\n",
      " \n",
      "[(1000, 0.25932077102996304, 0.37971283449474191, 0.30152006194587083, 0.37380410871230974), (2000, 0.42887850712747549, 0.59611313265100041, 0.42321579768093881, 0.5408867340287703), (3000, 0.5449174337042817, 0.658788635434851, 0.41495411115731073, 0.53602779972543735), (4000, 0.51934298320964212, 0.67429487516254627, 0.46368520996212526, 0.58599706548405395), (5000, 0.54760430022443884, 0.68426466443826373, 0.39494141596158178, 0.51802088098942856)]\n",
      "50 2 2 0.1 16 5 0.0001 1.0\n",
      "Initializing ...\n",
      "Training...\n",
      "\n",
      "Iteration: 1000; Percent complete: 20.0%; Average loss: 5.3830\n"
     ]
    },
    {
     "name": "stderr",
     "output_type": "stream",
     "text": [
      "100%|██████████| 200/200 [00:50<00:00,  4.05it/s]\n",
      "100%|██████████| 200/200 [00:49<00:00,  4.08it/s]\n"
     ]
    },
    {
     "name": "stdout",
     "output_type": "stream",
     "text": [
      "train bleu score:0.0\n",
      "train beam score:1.367780494201513e-82\n",
      "test bleu score:0.0\n",
      "test beam score:2.0115778816898245e-156\n",
      " \n",
      "\n",
      "Iteration: 2000; Percent complete: 40.0%; Average loss: 4.3689\n"
     ]
    },
    {
     "name": "stderr",
     "output_type": "stream",
     "text": [
      "100%|██████████| 200/200 [00:50<00:00,  4.11it/s]\n",
      "100%|██████████| 200/200 [00:50<00:00,  3.73it/s]\n"
     ]
    },
    {
     "name": "stdout",
     "output_type": "stream",
     "text": [
      "train bleu score:1.5372786015494562e-165\n",
      "train beam score:1.7480523176592568e-99\n",
      "test bleu score:1.5470985584822368e-168\n",
      "test beam score:3.021850856795898e-82\n",
      " \n",
      "\n",
      "Iteration: 3000; Percent complete: 60.0%; Average loss: 4.0481\n"
     ]
    },
    {
     "name": "stderr",
     "output_type": "stream",
     "text": [
      "100%|██████████| 200/200 [00:50<00:00,  4.05it/s]\n",
      "100%|██████████| 200/200 [00:50<00:00,  3.91it/s]\n"
     ]
    },
    {
     "name": "stdout",
     "output_type": "stream",
     "text": [
      "train bleu score:0.005\n",
      "train beam score:0.27\n",
      "test bleu score:0.005\n",
      "test beam score:0.235\n",
      " \n",
      "\n",
      "Iteration: 4000; Percent complete: 80.0%; Average loss: 3.6500\n"
     ]
    },
    {
     "name": "stderr",
     "output_type": "stream",
     "text": [
      "100%|██████████| 200/200 [00:51<00:00,  3.80it/s]\n",
      "100%|██████████| 200/200 [01:02<00:00,  3.38it/s]\n"
     ]
    },
    {
     "name": "stdout",
     "output_type": "stream",
     "text": [
      "train bleu score:0.175\n",
      "train beam score:0.175\n",
      "test bleu score:0.265\n",
      "test beam score:0.265\n",
      " \n",
      "\n",
      "Iteration: 5000; Percent complete: 100.0%; Average loss: 3.3107\n"
     ]
    },
    {
     "name": "stderr",
     "output_type": "stream",
     "text": [
      "100%|██████████| 200/200 [00:53<00:00,  3.84it/s]\n",
      "100%|██████████| 200/200 [00:53<00:00,  3.71it/s]\n"
     ]
    },
    {
     "name": "stdout",
     "output_type": "stream",
     "text": [
      "train bleu score:0.29\n",
      "train beam score:0.2937104260416625\n",
      "test bleu score:0.26\n",
      "test beam score:0.2652693586055747\n",
      " \n",
      "[(1000, 0.0, 1.3677804942015131e-82, 0.0, 2.0115778816898245e-156), (2000, 1.5372786015494562e-165, 1.7480523176592568e-99, 1.5470985584822368e-168, 3.0218508567958979e-82), (3000, 0.0050000000000000001, 0.27000000000000002, 0.0050000000000000001, 0.23499999999999999), (4000, 0.17499999999999999, 0.17499999999999999, 0.26500000000000001, 0.26500000000000001), (5000, 0.28999999999999998, 0.29371042604166248, 0.26000000000000001, 0.26526935860557471)]\n",
      "50 2 2 0.1 16 5 0.0001 3.0\n",
      "Initializing ...\n",
      "Training...\n",
      "\n",
      "Iteration: 1000; Percent complete: 20.0%; Average loss: 4.6046\n"
     ]
    },
    {
     "name": "stderr",
     "output_type": "stream",
     "text": [
      "100%|██████████| 200/200 [00:50<00:00,  3.89it/s]\n",
      "100%|██████████| 200/200 [00:51<00:00,  4.13it/s]\n"
     ]
    },
    {
     "name": "stdout",
     "output_type": "stream",
     "text": [
      "train bleu score:8.470738970490502e-81\n",
      "train beam score:0.24\n",
      "test bleu score:4.012753559157471e-156\n",
      "test beam score:0.2601239698077327\n",
      " \n",
      "\n",
      "Iteration: 2000; Percent complete: 40.0%; Average loss: 3.3830\n"
     ]
    },
    {
     "name": "stderr",
     "output_type": "stream",
     "text": [
      "100%|██████████| 200/200 [00:55<00:00,  3.51it/s]\n",
      "100%|██████████| 200/200 [01:03<00:00,  2.83it/s]\n"
     ]
    },
    {
     "name": "stdout",
     "output_type": "stream",
     "text": [
      "train bleu score:0.22\n",
      "train beam score:0.2436231589008327\n",
      "test bleu score:0.25\n",
      "test beam score:0.2646024435304542\n",
      " \n",
      "\n",
      "Iteration: 3000; Percent complete: 60.0%; Average loss: 2.8183\n"
     ]
    },
    {
     "name": "stderr",
     "output_type": "stream",
     "text": [
      "100%|██████████| 200/200 [01:09<00:00,  2.85it/s]\n",
      "100%|██████████| 200/200 [01:08<00:00,  3.71it/s]\n"
     ]
    },
    {
     "name": "stdout",
     "output_type": "stream",
     "text": [
      "train bleu score:0.2560050788584986\n",
      "train beam score:0.28606042173408475\n",
      "test bleu score:0.18145971470193942\n",
      "test beam score:0.21550639818844772\n",
      " \n",
      "\n",
      "Iteration: 4000; Percent complete: 80.0%; Average loss: 2.5112\n"
     ]
    },
    {
     "name": "stderr",
     "output_type": "stream",
     "text": [
      "100%|██████████| 200/200 [01:11<00:00,  2.76it/s]\n",
      "100%|██████████| 200/200 [01:10<00:00,  2.83it/s]\n"
     ]
    },
    {
     "name": "stdout",
     "output_type": "stream",
     "text": [
      "train bleu score:0.2595409608215895\n",
      "train beam score:0.33861597747649247\n",
      "test bleu score:0.24773104534520954\n",
      "test beam score:0.3032059984316459\n",
      " \n",
      "\n",
      "Iteration: 5000; Percent complete: 100.0%; Average loss: 2.2975\n"
     ]
    },
    {
     "name": "stderr",
     "output_type": "stream",
     "text": [
      "100%|██████████| 200/200 [01:13<00:00,  2.94it/s]\n",
      "100%|██████████| 200/200 [01:10<00:00,  2.74it/s]\n"
     ]
    },
    {
     "name": "stdout",
     "output_type": "stream",
     "text": [
      "train bleu score:0.22994772556448712\n",
      "train beam score:0.3176405311129223\n",
      "test bleu score:0.21735792079778635\n",
      "test beam score:0.2973823446140026\n",
      " \n",
      "[(1000, 8.4707389704905016e-81, 0.23999999999999999, 4.0127535591574709e-156, 0.26012396980773272), (2000, 0.22, 0.24362315890083269, 0.25, 0.2646024435304542), (3000, 0.2560050788584986, 0.28606042173408475, 0.18145971470193942, 0.21550639818844772), (4000, 0.25954096082158951, 0.33861597747649247, 0.24773104534520954, 0.30320599843164592), (5000, 0.22994772556448712, 0.31764053111292229, 0.21735792079778635, 0.29738234461400259)]\n",
      "50 2 2 0.1 16 5 0.0001 5.0\n",
      "Initializing ...\n",
      "Training...\n",
      "\n",
      "Iteration: 1000; Percent complete: 20.0%; Average loss: 4.3018\n"
     ]
    },
    {
     "name": "stderr",
     "output_type": "stream",
     "text": [
      "100%|██████████| 200/200 [00:58<00:00,  3.52it/s]\n",
      "100%|██████████| 200/200 [00:57<00:00,  3.44it/s]\n"
     ]
    },
    {
     "name": "stdout",
     "output_type": "stream",
     "text": [
      "train bleu score:0.225\n",
      "train beam score:0.22699585656738833\n",
      "test bleu score:0.195\n",
      "test beam score:0.19520227800327228\n",
      " \n",
      "\n",
      "Iteration: 2000; Percent complete: 40.0%; Average loss: 2.9440\n"
     ]
    },
    {
     "name": "stderr",
     "output_type": "stream",
     "text": [
      "100%|██████████| 200/200 [01:01<00:00,  3.41it/s]\n",
      "100%|██████████| 200/200 [01:09<00:00,  2.84it/s]\n"
     ]
    },
    {
     "name": "stdout",
     "output_type": "stream",
     "text": [
      "train bleu score:0.23635153633191627\n",
      "train beam score:0.30115510933500245\n",
      "test bleu score:0.2194471514434001\n",
      "test beam score:0.30972461023366693\n",
      " \n",
      "\n",
      "Iteration: 3000; Percent complete: 60.0%; Average loss: 2.4307\n"
     ]
    },
    {
     "name": "stderr",
     "output_type": "stream",
     "text": [
      "100%|██████████| 200/200 [01:06<00:00,  3.09it/s]\n",
      "100%|██████████| 200/200 [01:06<00:00,  2.78it/s]\n"
     ]
    },
    {
     "name": "stdout",
     "output_type": "stream",
     "text": [
      "train bleu score:0.2803611991169583\n",
      "train beam score:0.36941804435146464\n",
      "test bleu score:0.22116865916941417\n",
      "test beam score:0.3186457601576679\n",
      " \n",
      "\n",
      "Iteration: 4000; Percent complete: 80.0%; Average loss: 2.1301\n"
     ]
    },
    {
     "name": "stderr",
     "output_type": "stream",
     "text": [
      "100%|██████████| 200/200 [01:10<00:00,  3.06it/s]\n",
      "100%|██████████| 200/200 [01:09<00:00,  2.94it/s]\n"
     ]
    },
    {
     "name": "stdout",
     "output_type": "stream",
     "text": [
      "train bleu score:0.23302451718930758\n",
      "train beam score:0.3781352839631937\n",
      "test bleu score:0.2224801981598537\n",
      "test beam score:0.35580859479818405\n",
      " \n",
      "\n",
      "Iteration: 5000; Percent complete: 100.0%; Average loss: 1.9198\n"
     ]
    },
    {
     "name": "stderr",
     "output_type": "stream",
     "text": [
      "100%|██████████| 200/200 [01:08<00:00,  3.05it/s]\n",
      "100%|██████████| 200/200 [01:08<00:00,  2.80it/s]\n"
     ]
    },
    {
     "name": "stdout",
     "output_type": "stream",
     "text": [
      "train bleu score:0.2217736533207451\n",
      "train beam score:0.359823430829721\n",
      "test bleu score:0.28079705284517187\n",
      "test beam score:0.4217662121886221\n",
      " \n",
      "[(1000, 0.22500000000000001, 0.22699585656738833, 0.19500000000000001, 0.19520227800327228), (2000, 0.23635153633191627, 0.30115510933500245, 0.2194471514434001, 0.30972461023366693), (3000, 0.28036119911695828, 0.36941804435146464, 0.22116865916941417, 0.31864576015766788), (4000, 0.23302451718930758, 0.37813528396319368, 0.2224801981598537, 0.35580859479818405), (5000, 0.22177365332074511, 0.35982343082972101, 0.28079705284517187, 0.42176621218862209)]\n",
      "50 2 2 0.1 16 5 0.0001 7.0\n",
      "Initializing ...\n",
      "Training...\n",
      "\n",
      "Iteration: 1000; Percent complete: 20.0%; Average loss: 4.0222\n"
     ]
    },
    {
     "name": "stderr",
     "output_type": "stream",
     "text": [
      "100%|██████████| 200/200 [00:58<00:00,  3.47it/s]\n",
      "100%|██████████| 200/200 [00:57<00:00,  3.08it/s]\n"
     ]
    },
    {
     "name": "stdout",
     "output_type": "stream",
     "text": [
      "train bleu score:0.21\n",
      "train beam score:0.2297524937572601\n",
      "test bleu score:0.29\n",
      "test beam score:0.30671182223077764\n",
      " \n",
      "\n",
      "Iteration: 2000; Percent complete: 40.0%; Average loss: 2.6792\n"
     ]
    },
    {
     "name": "stderr",
     "output_type": "stream",
     "text": [
      "100%|██████████| 200/200 [01:11<00:00,  2.50it/s]\n",
      "100%|██████████| 200/200 [01:27<00:00,  2.66it/s]\n"
     ]
    },
    {
     "name": "stdout",
     "output_type": "stream",
     "text": [
      "train bleu score:0.24720482705900604\n",
      "train beam score:0.3363328069178884\n",
      "test bleu score:0.2778711870102803\n",
      "test beam score:0.35213225011292587\n",
      " \n",
      "\n",
      "Iteration: 3000; Percent complete: 60.0%; Average loss: 2.2625\n"
     ]
    },
    {
     "name": "stderr",
     "output_type": "stream",
     "text": [
      "100%|██████████| 200/200 [01:14<00:00,  2.73it/s]\n",
      "100%|██████████| 200/200 [01:16<00:00,  2.59it/s]\n"
     ]
    },
    {
     "name": "stdout",
     "output_type": "stream",
     "text": [
      "train bleu score:0.23211548708240357\n",
      "train beam score:0.3198886698740095\n",
      "test bleu score:0.2930301050801558\n",
      "test beam score:0.3741420883326295\n",
      " \n",
      "\n",
      "Iteration: 4000; Percent complete: 80.0%; Average loss: 1.9706\n"
     ]
    },
    {
     "name": "stderr",
     "output_type": "stream",
     "text": [
      "100%|██████████| 200/200 [01:09<00:00,  2.79it/s]\n",
      "100%|██████████| 200/200 [01:10<00:00,  2.78it/s]\n"
     ]
    },
    {
     "name": "stdout",
     "output_type": "stream",
     "text": [
      "train bleu score:0.26504964048753155\n",
      "train beam score:0.3394400650792032\n",
      "test bleu score:0.2898362038580011\n",
      "test beam score:0.3883140753663137\n",
      " \n",
      "\n",
      "Iteration: 5000; Percent complete: 100.0%; Average loss: 1.7701\n"
     ]
    },
    {
     "name": "stderr",
     "output_type": "stream",
     "text": [
      "100%|██████████| 200/200 [01:13<00:00,  2.73it/s]\n",
      "100%|██████████| 200/200 [01:09<00:00,  2.86it/s]\n"
     ]
    },
    {
     "name": "stdout",
     "output_type": "stream",
     "text": [
      "train bleu score:0.2545423866025831\n",
      "train beam score:0.4088357802041709\n",
      "test bleu score:0.26592147023554874\n",
      "test beam score:0.4328343716258544\n",
      " \n",
      "[(1000, 0.20999999999999999, 0.22975249375726009, 0.28999999999999998, 0.30671182223077764), (2000, 0.24720482705900604, 0.33633280691788842, 0.2778711870102803, 0.35213225011292587), (3000, 0.23211548708240357, 0.31988866987400949, 0.29303010508015581, 0.37414208833262952), (4000, 0.26504964048753155, 0.33944006507920321, 0.28983620385800107, 0.38831407536631368), (5000, 0.2545423866025831, 0.40883578020417088, 0.26592147023554874, 0.43283437162585442)]\n",
      "50 2 2 0.1 64 5 0.01 1.0\n",
      "Initializing ...\n",
      "Training...\n",
      "\n",
      "Iteration: 1000; Percent complete: 20.0%; Average loss: 2.7162\n"
     ]
    },
    {
     "name": "stderr",
     "output_type": "stream",
     "text": [
      "100%|██████████| 200/200 [01:11<00:00,  2.97it/s]\n",
      "100%|██████████| 200/200 [01:11<00:00,  2.77it/s]\n"
     ]
    },
    {
     "name": "stdout",
     "output_type": "stream",
     "text": [
      "train bleu score:0.2698311435457063\n",
      "train beam score:0.3667574240357518\n",
      "test bleu score:0.21287888515810685\n",
      "test beam score:0.3397474744066342\n",
      " \n",
      "\n",
      "Iteration: 2000; Percent complete: 40.0%; Average loss: 1.5350\n"
     ]
    },
    {
     "name": "stderr",
     "output_type": "stream",
     "text": [
      "100%|██████████| 200/200 [01:11<00:00,  2.73it/s]\n",
      "100%|██████████| 200/200 [01:10<00:00,  2.89it/s]\n"
     ]
    },
    {
     "name": "stdout",
     "output_type": "stream",
     "text": [
      "train bleu score:0.32200581169797454\n",
      "train beam score:0.5370544902647684\n",
      "test bleu score:0.29404560454287887\n",
      "test beam score:0.4790745541496576\n",
      " \n",
      "\n",
      "Iteration: 3000; Percent complete: 60.0%; Average loss: 1.2385\n"
     ]
    },
    {
     "name": "stderr",
     "output_type": "stream",
     "text": [
      "100%|██████████| 200/200 [01:08<00:00,  2.88it/s]\n",
      "100%|██████████| 200/200 [01:09<00:00,  3.65it/s]\n"
     ]
    },
    {
     "name": "stdout",
     "output_type": "stream",
     "text": [
      "train bleu score:0.4041608854645349\n",
      "train beam score:0.595659886543732\n",
      "test bleu score:0.33846416512575417\n",
      "test beam score:0.4916897964212744\n",
      " \n",
      "\n",
      "Iteration: 4000; Percent complete: 80.0%; Average loss: 1.1374\n"
     ]
    },
    {
     "name": "stderr",
     "output_type": "stream",
     "text": [
      "100%|██████████| 200/200 [01:09<00:00,  2.75it/s]\n",
      "100%|██████████| 200/200 [01:09<00:00,  2.82it/s]\n"
     ]
    },
    {
     "name": "stdout",
     "output_type": "stream",
     "text": [
      "train bleu score:0.41232663309261847\n",
      "train beam score:0.6023169336331313\n",
      "test bleu score:0.3724123793501374\n",
      "test beam score:0.5387846536940296\n",
      " \n",
      "\n",
      "Iteration: 5000; Percent complete: 100.0%; Average loss: 1.0531\n"
     ]
    },
    {
     "name": "stderr",
     "output_type": "stream",
     "text": [
      "100%|██████████| 200/200 [01:07<00:00,  3.05it/s]\n",
      "100%|██████████| 200/200 [01:08<00:00,  2.89it/s]\n"
     ]
    },
    {
     "name": "stdout",
     "output_type": "stream",
     "text": [
      "train bleu score:0.43145275727720245\n",
      "train beam score:0.6032603746336217\n",
      "test bleu score:0.3997059596144822\n",
      "test beam score:0.5264053800567216\n",
      " \n",
      "[(1000, 0.26983114354570631, 0.36675742403575179, 0.21287888515810685, 0.33974747440663422), (2000, 0.32200581169797454, 0.53705449026476837, 0.29404560454287887, 0.47907455414965761), (3000, 0.40416088546453488, 0.59565988654373203, 0.33846416512575417, 0.49168979642127442), (4000, 0.41232663309261847, 0.60231693363313132, 0.37241237935013738, 0.53878465369402961), (5000, 0.43145275727720245, 0.6032603746336217, 0.39970595961448219, 0.52640538005672155)]\n",
      "50 2 2 0.1 64 5 0.01 3.0\n",
      "Initializing ...\n",
      "Training...\n",
      "\n",
      "Iteration: 1000; Percent complete: 20.0%; Average loss: 2.8644\n"
     ]
    },
    {
     "name": "stderr",
     "output_type": "stream",
     "text": [
      "100%|██████████| 200/200 [01:19<00:00,  2.54it/s]\n",
      "100%|██████████| 200/200 [01:17<00:00,  2.51it/s]\n"
     ]
    },
    {
     "name": "stdout",
     "output_type": "stream",
     "text": [
      "train bleu score:0.2173339025529841\n",
      "train beam score:0.26345125456375834\n",
      "test bleu score:0.24098180888249654\n",
      "test beam score:0.28461774280135743\n",
      " \n",
      "\n",
      "Iteration: 2000; Percent complete: 40.0%; Average loss: 2.2593\n"
     ]
    },
    {
     "name": "stderr",
     "output_type": "stream",
     "text": [
      "100%|██████████| 200/200 [01:08<00:00,  2.85it/s]\n",
      "100%|██████████| 200/200 [01:07<00:00,  2.76it/s]\n"
     ]
    },
    {
     "name": "stdout",
     "output_type": "stream",
     "text": [
      "train bleu score:0.24924402462175266\n",
      "train beam score:0.3174206527066216\n",
      "test bleu score:0.19943471712657035\n",
      "test beam score:0.2739068178762926\n",
      " \n",
      "\n",
      "Iteration: 3000; Percent complete: 60.0%; Average loss: 2.2030\n"
     ]
    },
    {
     "name": "stderr",
     "output_type": "stream",
     "text": [
      "100%|██████████| 200/200 [01:09<00:00,  2.82it/s]\n",
      "100%|██████████| 200/200 [01:09<00:00,  2.78it/s]\n"
     ]
    },
    {
     "name": "stdout",
     "output_type": "stream",
     "text": [
      "train bleu score:0.25489699958545253\n",
      "train beam score:0.3379881595819917\n",
      "test bleu score:0.22563284981675305\n",
      "test beam score:0.2960734055029701\n",
      " \n",
      "\n",
      "Iteration: 4000; Percent complete: 80.0%; Average loss: 2.2636\n"
     ]
    },
    {
     "name": "stderr",
     "output_type": "stream",
     "text": [
      "100%|██████████| 200/200 [01:09<00:00,  2.71it/s]\n",
      "100%|██████████| 200/200 [01:10<00:00,  2.85it/s]\n"
     ]
    },
    {
     "name": "stdout",
     "output_type": "stream",
     "text": [
      "train bleu score:0.2797583620409326\n",
      "train beam score:0.3440248428409988\n",
      "test bleu score:0.24073771488907766\n",
      "test beam score:0.3140253937481388\n",
      " \n",
      "\n",
      "Iteration: 5000; Percent complete: 100.0%; Average loss: 2.2302\n"
     ]
    },
    {
     "name": "stderr",
     "output_type": "stream",
     "text": [
      "100%|██████████| 200/200 [01:08<00:00,  3.26it/s]\n",
      "100%|██████████| 200/200 [01:08<00:00,  3.03it/s]\n"
     ]
    },
    {
     "name": "stdout",
     "output_type": "stream",
     "text": [
      "train bleu score:0.1992755133586424\n",
      "train beam score:0.25445637596429566\n",
      "test bleu score:0.2191068696232608\n",
      "test beam score:0.33163797786640303\n",
      " \n",
      "[(1000, 0.2173339025529841, 0.26345125456375834, 0.24098180888249654, 0.28461774280135743), (2000, 0.24924402462175266, 0.31742065270662162, 0.19943471712657035, 0.27390681787629262), (3000, 0.25489699958545253, 0.33798815958199169, 0.22563284981675305, 0.29607340550297012), (4000, 0.27975836204093257, 0.34402484284099882, 0.24073771488907766, 0.31402539374813881), (5000, 0.19927551335864241, 0.25445637596429566, 0.21910686962326081, 0.33163797786640303)]\n",
      "50 2 2 0.1 64 5 0.01 5.0\n",
      "Initializing ...\n",
      "Training...\n",
      "\n",
      "Iteration: 1000; Percent complete: 20.0%; Average loss: 3.4773\n"
     ]
    },
    {
     "name": "stderr",
     "output_type": "stream",
     "text": [
      "100%|██████████| 200/200 [01:18<00:00,  2.70it/s]\n",
      "100%|██████████| 200/200 [01:21<00:00,  2.42it/s]\n"
     ]
    },
    {
     "name": "stdout",
     "output_type": "stream",
     "text": [
      "train bleu score:0.14\n",
      "train beam score:0.15557967839948422\n",
      "test bleu score:0.215\n",
      "test beam score:0.2751595334995678\n",
      " \n",
      "\n",
      "Iteration: 2000; Percent complete: 40.0%; Average loss: 3.4037\n"
     ]
    },
    {
     "name": "stderr",
     "output_type": "stream",
     "text": [
      "100%|██████████| 200/200 [01:13<00:00,  2.81it/s]\n",
      "100%|██████████| 200/200 [01:07<00:00,  3.21it/s]\n"
     ]
    },
    {
     "name": "stdout",
     "output_type": "stream",
     "text": [
      "train bleu score:0.18\n",
      "train beam score:0.18588108557052263\n",
      "test bleu score:0.205\n",
      "test beam score:0.22071187779582238\n",
      " \n",
      "\n",
      "Iteration: 3000; Percent complete: 60.0%; Average loss: 3.6171\n"
     ]
    },
    {
     "name": "stderr",
     "output_type": "stream",
     "text": [
      "100%|██████████| 200/200 [01:16<00:00,  2.59it/s]\n",
      "100%|██████████| 200/200 [01:16<00:00,  2.59it/s]\n"
     ]
    },
    {
     "name": "stdout",
     "output_type": "stream",
     "text": [
      "train bleu score:0.2\n",
      "train beam score:0.2172204834173536\n",
      "test bleu score:0.21\n",
      "test beam score:0.2577482086425699\n",
      " \n",
      "\n",
      "Iteration: 4000; Percent complete: 80.0%; Average loss: 3.7885\n"
     ]
    },
    {
     "name": "stderr",
     "output_type": "stream",
     "text": [
      "100%|██████████| 200/200 [01:19<00:00,  2.73it/s]\n",
      "100%|██████████| 200/200 [01:05<00:00,  2.95it/s]\n"
     ]
    },
    {
     "name": "stdout",
     "output_type": "stream",
     "text": [
      "train bleu score:0.065\n",
      "train beam score:0.14551839586622678\n",
      "test bleu score:0.08603066213512968\n",
      "test beam score:0.22026254675814969\n",
      " \n",
      "\n",
      "Iteration: 5000; Percent complete: 100.0%; Average loss: 3.7005\n"
     ]
    },
    {
     "name": "stderr",
     "output_type": "stream",
     "text": [
      "100%|██████████| 200/200 [01:10<00:00,  2.83it/s]\n",
      "100%|██████████| 200/200 [01:11<00:00,  2.59it/s]\n"
     ]
    },
    {
     "name": "stdout",
     "output_type": "stream",
     "text": [
      "train bleu score:0.12\n",
      "train beam score:0.22024570998707282\n",
      "test bleu score:0.095\n",
      "test beam score:0.1915515722374179\n",
      " \n",
      "[(1000, 0.14000000000000001, 0.15557967839948422, 0.215, 0.27515953349956779), (2000, 0.17999999999999999, 0.18588108557052263, 0.20499999999999999, 0.22071187779582238), (3000, 0.20000000000000001, 0.21722048341735359, 0.20999999999999999, 0.25774820864256992), (4000, 0.065000000000000002, 0.14551839586622678, 0.086030662135129679, 0.22026254675814969), (5000, 0.12, 0.22024570998707282, 0.095000000000000001, 0.19155157223741789)]\n",
      "50 2 2 0.1 64 5 0.01 7.0\n",
      "Initializing ...\n",
      "Training...\n",
      "\n",
      "Iteration: 1000; Percent complete: 20.0%; Average loss: 4.2532\n"
     ]
    },
    {
     "name": "stderr",
     "output_type": "stream",
     "text": [
      "100%|██████████| 200/200 [01:15<00:00,  2.61it/s]\n",
      "100%|██████████| 200/200 [01:16<00:00,  2.56it/s]\n"
     ]
    },
    {
     "name": "stdout",
     "output_type": "stream",
     "text": [
      "train bleu score:0.16\n",
      "train beam score:0.20220350962913347\n",
      "test bleu score:0.17\n",
      "test beam score:0.21219994868355244\n",
      " \n",
      "\n",
      "Iteration: 2000; Percent complete: 40.0%; Average loss: 4.5398\n"
     ]
    },
    {
     "name": "stderr",
     "output_type": "stream",
     "text": [
      "100%|██████████| 200/200 [01:10<00:00,  2.80it/s]\n",
      "100%|██████████| 200/200 [01:11<00:00,  2.72it/s]\n"
     ]
    },
    {
     "name": "stdout",
     "output_type": "stream",
     "text": [
      "train bleu score:0.027482111670438715\n",
      "train beam score:0.07850763348662727\n",
      "test bleu score:0.026728603923209703\n",
      "test beam score:0.1343213244288371\n",
      " \n",
      "\n",
      "Iteration: 3000; Percent complete: 60.0%; Average loss: 4.5427\n"
     ]
    },
    {
     "name": "stderr",
     "output_type": "stream",
     "text": [
      "100%|██████████| 200/200 [01:14<00:00,  2.73it/s]\n",
      "100%|██████████| 200/200 [01:13<00:00,  2.67it/s]\n"
     ]
    },
    {
     "name": "stdout",
     "output_type": "stream",
     "text": [
      "train bleu score:7.75400792311769e-80\n",
      "train beam score:0.011134927848172813\n",
      "test bleu score:0.0002358069968019936\n",
      "test beam score:0.0009287407838618042\n",
      " \n",
      "\n",
      "Iteration: 4000; Percent complete: 80.0%; Average loss: 5.1257\n"
     ]
    },
    {
     "name": "stderr",
     "output_type": "stream",
     "text": [
      "100%|██████████| 200/200 [01:07<00:00,  3.02it/s]\n",
      "100%|██████████| 200/200 [01:09<00:00,  3.02it/s]\n"
     ]
    },
    {
     "name": "stdout",
     "output_type": "stream",
     "text": [
      "train bleu score:0.010492467473444435\n",
      "train beam score:0.02\n",
      "test bleu score:0.015\n",
      "test beam score:0.06\n",
      " \n",
      "\n",
      "Iteration: 5000; Percent complete: 100.0%; Average loss: nan\n"
     ]
    },
    {
     "name": "stderr",
     "output_type": "stream",
     "text": [
      "100%|██████████| 200/200 [00:54<00:00,  3.90it/s]\n",
      "100%|██████████| 200/200 [00:53<00:00,  3.74it/s]\n"
     ]
    },
    {
     "name": "stdout",
     "output_type": "stream",
     "text": [
      "train bleu score:0.0\n",
      "train beam score:4.055571477723923e-240\n",
      "test bleu score:0.0\n",
      "test beam score:3.81362163138679e-235\n",
      " \n",
      "[(1000, 0.16, 0.20220350962913347, 0.17000000000000001, 0.21219994868355244), (2000, 0.027482111670438715, 0.078507633486627273, 0.026728603923209703, 0.1343213244288371), (3000, 7.7540079231176906e-80, 0.011134927848172813, 0.00023580699680199359, 0.00092874078386180419), (4000, 0.010492467473444435, 0.02, 0.014999999999999999, 0.059999999999999998), (5000, 0.0, 4.0555714777239232e-240, 0.0, 3.8136216313867902e-235)]\n",
      "50 2 2 0.1 64 5 0.001 1.0\n",
      "Initializing ...\n",
      "Training...\n",
      "\n",
      "Iteration: 1000; Percent complete: 20.0%; Average loss: 3.6239\n"
     ]
    },
    {
     "name": "stderr",
     "output_type": "stream",
     "text": [
      "100%|██████████| 200/200 [00:56<00:00,  2.98it/s]\n",
      "100%|██████████| 200/200 [00:59<00:00,  3.76it/s]\n"
     ]
    },
    {
     "name": "stdout",
     "output_type": "stream",
     "text": [
      "train bleu score:0.17093259119255372\n",
      "train beam score:0.24238424814240603\n",
      "test bleu score:0.22508755384090962\n",
      "test beam score:0.2872178944674541\n",
      " \n",
      "\n",
      "Iteration: 2000; Percent complete: 40.0%; Average loss: 2.0435\n"
     ]
    },
    {
     "name": "stderr",
     "output_type": "stream",
     "text": [
      "100%|██████████| 200/200 [01:14<00:00,  2.39it/s]\n",
      "100%|██████████| 200/200 [01:24<00:00,  2.79it/s]\n"
     ]
    },
    {
     "name": "stdout",
     "output_type": "stream",
     "text": [
      "train bleu score:0.2915372924204645\n",
      "train beam score:0.4005884122657507\n",
      "test bleu score:0.29271167669689113\n",
      "test beam score:0.423862230513312\n",
      " \n",
      "\n",
      "Iteration: 3000; Percent complete: 60.0%; Average loss: 1.5198\n"
     ]
    },
    {
     "name": "stderr",
     "output_type": "stream",
     "text": [
      "100%|██████████| 200/200 [01:17<00:00,  2.35it/s]\n",
      "100%|██████████| 200/200 [01:16<00:00,  2.43it/s]\n"
     ]
    },
    {
     "name": "stdout",
     "output_type": "stream",
     "text": [
      "train bleu score:0.41145568951332884\n",
      "train beam score:0.5774071428140894\n",
      "test bleu score:0.41555435768776333\n",
      "test beam score:0.5253661504551553\n",
      " \n",
      "\n",
      "Iteration: 4000; Percent complete: 80.0%; Average loss: 1.2158\n"
     ]
    },
    {
     "name": "stderr",
     "output_type": "stream",
     "text": [
      "100%|██████████| 200/200 [01:18<00:00,  2.37it/s]\n",
      "100%|██████████| 200/200 [01:17<00:00,  2.56it/s]\n"
     ]
    },
    {
     "name": "stdout",
     "output_type": "stream",
     "text": [
      "train bleu score:0.5015740577848267\n",
      "train beam score:0.6378348446181181\n",
      "test bleu score:0.40092772064240473\n",
      "test beam score:0.5668407256701878\n",
      " \n",
      "\n",
      "Iteration: 5000; Percent complete: 100.0%; Average loss: 1.0082\n"
     ]
    },
    {
     "name": "stderr",
     "output_type": "stream",
     "text": [
      "100%|██████████| 200/200 [01:07<00:00,  2.70it/s]\n",
      "100%|██████████| 200/200 [01:07<00:00,  2.80it/s]\n"
     ]
    },
    {
     "name": "stdout",
     "output_type": "stream",
     "text": [
      "train bleu score:0.5003228938878602\n",
      "train beam score:0.6436365626213723\n",
      "test bleu score:0.43788345786281413\n",
      "test beam score:0.5524204159327231\n",
      " \n",
      "[(1000, 0.17093259119255372, 0.24238424814240603, 0.22508755384090962, 0.2872178944674541), (2000, 0.2915372924204645, 0.4005884122657507, 0.29271167669689113, 0.42386223051331201), (3000, 0.41145568951332884, 0.57740714281408945, 0.41555435768776333, 0.52536615045515533), (4000, 0.50157405778482667, 0.63783484461811812, 0.40092772064240473, 0.56684072567018784), (5000, 0.50032289388786022, 0.64363656262137225, 0.43788345786281413, 0.55242041593272306)]\n",
      "50 2 2 0.1 64 5 0.001 3.0\n",
      "Initializing ...\n",
      "Training...\n",
      "\n",
      "Iteration: 1000; Percent complete: 20.0%; Average loss: 3.4102\n"
     ]
    },
    {
     "name": "stderr",
     "output_type": "stream",
     "text": [
      "100%|██████████| 200/200 [01:09<00:00,  2.98it/s]\n",
      "100%|██████████| 200/200 [01:10<00:00,  2.92it/s]\n"
     ]
    },
    {
     "name": "stdout",
     "output_type": "stream",
     "text": [
      "train bleu score:0.2881724483561292\n",
      "train beam score:0.4522567607267808\n",
      "test bleu score:0.27761791511001455\n",
      "test beam score:0.3941120454347011\n",
      " \n",
      "\n",
      "Iteration: 2000; Percent complete: 40.0%; Average loss: 1.3977\n"
     ]
    },
    {
     "name": "stderr",
     "output_type": "stream",
     "text": [
      "100%|██████████| 200/200 [01:11<00:00,  2.80it/s]\n",
      "100%|██████████| 200/200 [01:01<00:00,  3.39it/s]\n"
     ]
    },
    {
     "name": "stdout",
     "output_type": "stream",
     "text": [
      "train bleu score:0.4886788863476639\n",
      "train beam score:0.6489148215381448\n",
      "test bleu score:0.4017958150902953\n",
      "test beam score:0.5242704946654745\n",
      " \n",
      "\n",
      "Iteration: 3000; Percent complete: 60.0%; Average loss: 0.8892\n"
     ]
    },
    {
     "name": "stderr",
     "output_type": "stream",
     "text": [
      "100%|██████████| 200/200 [00:59<00:00,  3.64it/s]\n",
      "100%|██████████| 200/200 [01:00<00:00,  3.27it/s]\n"
     ]
    },
    {
     "name": "stdout",
     "output_type": "stream",
     "text": [
      "train bleu score:0.5498104495579754\n",
      "train beam score:0.7195977071022733\n",
      "test bleu score:0.5108196987349313\n",
      "test beam score:0.6159826872501717\n",
      " \n",
      "\n",
      "Iteration: 4000; Percent complete: 80.0%; Average loss: 0.6429\n"
     ]
    },
    {
     "name": "stderr",
     "output_type": "stream",
     "text": [
      "100%|██████████| 200/200 [01:01<00:00,  3.13it/s]\n",
      "100%|██████████| 200/200 [01:01<00:00,  3.26it/s]\n"
     ]
    },
    {
     "name": "stdout",
     "output_type": "stream",
     "text": [
      "train bleu score:0.6622438697962503\n",
      "train beam score:0.7481397354784537\n",
      "test bleu score:0.5422956597090195\n",
      "test beam score:0.6422788003620817\n",
      " \n",
      "\n",
      "Iteration: 5000; Percent complete: 100.0%; Average loss: 0.4961\n"
     ]
    },
    {
     "name": "stderr",
     "output_type": "stream",
     "text": [
      "100%|██████████| 200/200 [01:00<00:00,  3.19it/s]\n",
      "100%|██████████| 200/200 [01:02<00:00,  3.14it/s]\n"
     ]
    },
    {
     "name": "stdout",
     "output_type": "stream",
     "text": [
      "train bleu score:0.7056698420060741\n",
      "train beam score:0.8245596342001832\n",
      "test bleu score:0.4946297864972847\n",
      "test beam score:0.5672907982542487\n",
      " \n",
      "[(1000, 0.28817244835612921, 0.45225676072678078, 0.27761791511001455, 0.39411204543470107), (2000, 0.48867888634766388, 0.64891482153814484, 0.40179581509029533, 0.52427049466547448), (3000, 0.54981044955797542, 0.71959770710227333, 0.51081969873493127, 0.61598268725017169), (4000, 0.66224386979625027, 0.74813973547845369, 0.5422956597090195, 0.64227880036208174), (5000, 0.70566984200607408, 0.82455963420018319, 0.49462978649728467, 0.56729079825424866)]\n",
      "50 2 2 0.1 64 5 0.001 5.0\n",
      "Initializing ...\n",
      "Training...\n",
      "\n",
      "Iteration: 1000; Percent complete: 20.0%; Average loss: 2.6596\n"
     ]
    },
    {
     "name": "stderr",
     "output_type": "stream",
     "text": [
      "100%|██████████| 200/200 [01:01<00:00,  3.33it/s]\n",
      "100%|██████████| 200/200 [01:02<00:00,  3.14it/s]\n"
     ]
    },
    {
     "name": "stdout",
     "output_type": "stream",
     "text": [
      "train bleu score:0.3342297056977378\n",
      "train beam score:0.48265130140635476\n",
      "test bleu score:0.33412926880687743\n",
      "test beam score:0.44946309251462624\n",
      " \n",
      "\n",
      "Iteration: 2000; Percent complete: 40.0%; Average loss: 1.0850\n"
     ]
    },
    {
     "name": "stderr",
     "output_type": "stream",
     "text": [
      "100%|██████████| 200/200 [01:00<00:00,  3.21it/s]\n",
      "100%|██████████| 200/200 [01:02<00:00,  3.35it/s]\n"
     ]
    },
    {
     "name": "stdout",
     "output_type": "stream",
     "text": [
      "train bleu score:0.5986646168497602\n",
      "train beam score:0.7306673455656985\n",
      "test bleu score:0.5030155218066874\n",
      "test beam score:0.6218213642935059\n",
      " \n",
      "\n",
      "Iteration: 3000; Percent complete: 60.0%; Average loss: 0.7019\n"
     ]
    },
    {
     "name": "stderr",
     "output_type": "stream",
     "text": [
      "100%|██████████| 200/200 [01:01<00:00,  3.14it/s]\n",
      "100%|██████████| 200/200 [01:01<00:00,  3.48it/s]\n"
     ]
    },
    {
     "name": "stdout",
     "output_type": "stream",
     "text": [
      "train bleu score:0.6154543009571897\n",
      "train beam score:0.753226450581982\n",
      "test bleu score:0.49400343766392935\n",
      "test beam score:0.6174166354986422\n",
      " \n",
      "\n",
      "Iteration: 4000; Percent complete: 80.0%; Average loss: 0.5181\n"
     ]
    },
    {
     "name": "stderr",
     "output_type": "stream",
     "text": [
      "100%|██████████| 200/200 [01:13<00:00,  2.67it/s]\n",
      "100%|██████████| 200/200 [01:14<00:00,  2.70it/s]\n"
     ]
    },
    {
     "name": "stdout",
     "output_type": "stream",
     "text": [
      "train bleu score:0.7300793798917661\n",
      "train beam score:0.829985371501669\n",
      "test bleu score:0.5614651220258542\n",
      "test beam score:0.6433210894876509\n",
      " \n",
      "\n",
      "Iteration: 5000; Percent complete: 100.0%; Average loss: 0.4114\n"
     ]
    },
    {
     "name": "stderr",
     "output_type": "stream",
     "text": [
      "100%|██████████| 200/200 [01:13<00:00,  2.69it/s]\n",
      "100%|██████████| 200/200 [01:13<00:00,  2.61it/s]\n"
     ]
    },
    {
     "name": "stdout",
     "output_type": "stream",
     "text": [
      "train bleu score:0.741543844893854\n",
      "train beam score:0.8884731392052675\n",
      "test bleu score:0.5723026072689515\n",
      "test beam score:0.7036050636465486\n",
      " \n",
      "[(1000, 0.3342297056977378, 0.48265130140635476, 0.33412926880687743, 0.44946309251462624), (2000, 0.59866461684976024, 0.73066734556569846, 0.5030155218066874, 0.62182136429350587), (3000, 0.61545430095718967, 0.75322645058198201, 0.49400343766392935, 0.61741663549864223), (4000, 0.73007937989176608, 0.82998537150166896, 0.56146512202585419, 0.64332108948765088), (5000, 0.74154384489385405, 0.88847313920526749, 0.57230260726895155, 0.70360506364654862)]\n",
      "50 2 2 0.1 64 5 0.001 7.0\n",
      "Initializing ...\n",
      "Training...\n",
      "\n",
      "Iteration: 1000; Percent complete: 20.0%; Average loss: 2.4010\n"
     ]
    },
    {
     "name": "stderr",
     "output_type": "stream",
     "text": [
      "100%|██████████| 200/200 [01:15<00:00,  2.64it/s]\n",
      "100%|██████████| 200/200 [01:28<00:00,  2.29it/s]\n"
     ]
    },
    {
     "name": "stdout",
     "output_type": "stream",
     "text": [
      "train bleu score:0.4398254529050009\n",
      "train beam score:0.55274575042353\n",
      "test bleu score:0.38914428625857367\n",
      "test beam score:0.5270766640202144\n",
      " \n",
      "\n",
      "Iteration: 2000; Percent complete: 40.0%; Average loss: 0.9499\n"
     ]
    },
    {
     "name": "stderr",
     "output_type": "stream",
     "text": [
      "100%|██████████| 200/200 [01:11<00:00,  2.93it/s]\n",
      "100%|██████████| 200/200 [01:05<00:00,  3.24it/s]\n"
     ]
    },
    {
     "name": "stdout",
     "output_type": "stream",
     "text": [
      "train bleu score:0.5736099644990135\n",
      "train beam score:0.6973702902480093\n",
      "test bleu score:0.47906826691370996\n",
      "test beam score:0.610816891362704\n",
      " \n",
      "\n",
      "Iteration: 3000; Percent complete: 60.0%; Average loss: 0.6458\n"
     ]
    },
    {
     "name": "stderr",
     "output_type": "stream",
     "text": [
      "100%|██████████| 200/200 [01:21<00:00,  2.50it/s]\n",
      "100%|██████████| 200/200 [01:19<00:00,  2.72it/s]\n"
     ]
    },
    {
     "name": "stdout",
     "output_type": "stream",
     "text": [
      "train bleu score:0.6666615101896448\n",
      "train beam score:0.8100830455066234\n",
      "test bleu score:0.5457706814011939\n",
      "test beam score:0.6750876048065682\n",
      " \n",
      "\n",
      "Iteration: 4000; Percent complete: 80.0%; Average loss: 0.4929\n"
     ]
    },
    {
     "name": "stderr",
     "output_type": "stream",
     "text": [
      "100%|██████████| 200/200 [01:16<00:00,  2.84it/s]\n",
      "100%|██████████| 200/200 [01:15<00:00,  2.70it/s]\n"
     ]
    },
    {
     "name": "stdout",
     "output_type": "stream",
     "text": [
      "train bleu score:0.7276115614871557\n",
      "train beam score:0.846039963649402\n",
      "test bleu score:0.47836235919218645\n",
      "test beam score:0.5671851567729993\n",
      " \n",
      "\n",
      "Iteration: 5000; Percent complete: 100.0%; Average loss: 0.4582\n"
     ]
    },
    {
     "name": "stderr",
     "output_type": "stream",
     "text": [
      "100%|██████████| 200/200 [01:15<00:00,  2.54it/s]\n",
      "100%|██████████| 200/200 [01:14<00:00,  2.63it/s]\n"
     ]
    },
    {
     "name": "stdout",
     "output_type": "stream",
     "text": [
      "train bleu score:0.7606637848222065\n",
      "train beam score:0.8914925356548793\n",
      "test bleu score:0.5567933785628019\n",
      "test beam score:0.6415013152356454\n",
      " \n",
      "[(1000, 0.43982545290500091, 0.55274575042353002, 0.38914428625857367, 0.52707666402021436), (2000, 0.57360996449901347, 0.69737029024800934, 0.47906826691370996, 0.61081689136270401), (3000, 0.66666151018964481, 0.81008304550662336, 0.54577068140119389, 0.67508760480656815), (4000, 0.72761156148715567, 0.84603996364940204, 0.47836235919218645, 0.5671851567729993), (5000, 0.76066378482220653, 0.89149253565487929, 0.55679337856280187, 0.64150131523564535)]\n",
      "50 2 2 0.1 64 5 0.0001 1.0\n",
      "Initializing ...\n",
      "Training...\n",
      "\n",
      "Iteration: 1000; Percent complete: 20.0%; Average loss: 5.3415\n"
     ]
    },
    {
     "name": "stderr",
     "output_type": "stream",
     "text": [
      "100%|██████████| 200/200 [00:52<00:00,  3.90it/s]\n",
      "100%|██████████| 200/200 [00:52<00:00,  3.86it/s]\n"
     ]
    },
    {
     "name": "stdout",
     "output_type": "stream",
     "text": [
      "train bleu score:0.0\n",
      "train beam score:0.01\n",
      "test bleu score:0.0\n",
      "test beam score:1.5194668775159959e-84\n",
      " \n",
      "\n",
      "Iteration: 2000; Percent complete: 40.0%; Average loss: 4.4474\n"
     ]
    },
    {
     "name": "stderr",
     "output_type": "stream",
     "text": [
      "100%|██████████| 200/200 [00:56<00:00,  3.78it/s]\n",
      "100%|██████████| 200/200 [00:52<00:00,  3.80it/s]\n"
     ]
    },
    {
     "name": "stdout",
     "output_type": "stream",
     "text": [
      "train bleu score:0.0\n",
      "train beam score:7.564980131359364e-86\n",
      "test bleu score:0.0\n",
      "test beam score:2.7420989472502337e-158\n",
      " \n",
      "\n",
      "Iteration: 3000; Percent complete: 60.0%; Average loss: 4.1200\n"
     ]
    },
    {
     "name": "stderr",
     "output_type": "stream",
     "text": [
      "100%|██████████| 200/200 [00:54<00:00,  3.73it/s]\n",
      "100%|██████████| 200/200 [00:54<00:00,  3.56it/s]\n"
     ]
    },
    {
     "name": "stdout",
     "output_type": "stream",
     "text": [
      "train bleu score:8.050564061566962e-81\n",
      "train beam score:0.2\n",
      "test bleu score:5.920165708741243e-156\n",
      "test beam score:0.24\n",
      " \n",
      "\n",
      "Iteration: 4000; Percent complete: 80.0%; Average loss: 3.5677\n"
     ]
    },
    {
     "name": "stderr",
     "output_type": "stream",
     "text": [
      "100%|██████████| 200/200 [00:55<00:00,  3.59it/s]\n",
      "100%|██████████| 200/200 [00:56<00:00,  3.52it/s]\n"
     ]
    },
    {
     "name": "stdout",
     "output_type": "stream",
     "text": [
      "train bleu score:0.07617863148204009\n",
      "train beam score:0.21078728678525238\n",
      "test bleu score:0.13637792014674333\n",
      "test beam score:0.24598359223482888\n",
      " \n",
      "\n",
      "Iteration: 5000; Percent complete: 100.0%; Average loss: 3.1536\n"
     ]
    },
    {
     "name": "stderr",
     "output_type": "stream",
     "text": [
      "100%|██████████| 200/200 [01:02<00:00,  2.90it/s]\n",
      "100%|██████████| 200/200 [01:02<00:00,  3.14it/s]\n"
     ]
    },
    {
     "name": "stdout",
     "output_type": "stream",
     "text": [
      "train bleu score:0.17\n",
      "train beam score:0.22268173811058445\n",
      "test bleu score:0.17\n",
      "test beam score:0.236747418261936\n",
      " \n",
      "[(1000, 0.0, 0.01, 0.0, 1.5194668775159959e-84), (2000, 0.0, 7.5649801313593638e-86, 0.0, 2.7420989472502337e-158), (3000, 8.0505640615669619e-81, 0.20000000000000001, 5.9201657087412433e-156, 0.23999999999999999), (4000, 0.076178631482040085, 0.21078728678525238, 0.13637792014674333, 0.24598359223482888), (5000, 0.17000000000000001, 0.22268173811058445, 0.17000000000000001, 0.23674741826193599)]\n",
      "50 2 2 0.1 64 5 0.0001 3.0\n",
      "Initializing ...\n",
      "Training...\n",
      "\n",
      "Iteration: 1000; Percent complete: 20.0%; Average loss: 4.6493\n"
     ]
    },
    {
     "name": "stderr",
     "output_type": "stream",
     "text": [
      "100%|██████████| 200/200 [01:02<00:00,  3.22it/s]\n",
      "100%|██████████| 200/200 [01:01<00:00,  3.22it/s]\n"
     ]
    },
    {
     "name": "stdout",
     "output_type": "stream",
     "text": [
      "train bleu score:9.185056107894633e-157\n",
      "train beam score:0.2403474863961289\n",
      "test bleu score:1.2865413050175301e-156\n",
      "test beam score:0.20391240675371403\n",
      " \n",
      "\n",
      "Iteration: 2000; Percent complete: 40.0%; Average loss: 3.2976\n"
     ]
    },
    {
     "name": "stderr",
     "output_type": "stream",
     "text": [
      "100%|██████████| 200/200 [01:04<00:00,  3.15it/s]\n",
      "100%|██████████| 200/200 [01:09<00:00,  3.50it/s]\n"
     ]
    },
    {
     "name": "stdout",
     "output_type": "stream",
     "text": [
      "train bleu score:0.23079180574282332\n",
      "train beam score:0.24417081828082687\n",
      "test bleu score:0.23604753143833054\n",
      "test beam score:0.27688137248438827\n",
      " \n",
      "\n",
      "Iteration: 3000; Percent complete: 60.0%; Average loss: 2.6337\n"
     ]
    },
    {
     "name": "stderr",
     "output_type": "stream",
     "text": [
      "100%|██████████| 200/200 [01:10<00:00,  3.06it/s]\n",
      "100%|██████████| 200/200 [01:10<00:00,  2.96it/s]\n"
     ]
    },
    {
     "name": "stdout",
     "output_type": "stream",
     "text": [
      "train bleu score:0.22793179071114913\n",
      "train beam score:0.25979923376453795\n",
      "test bleu score:0.21815411177987643\n",
      "test beam score:0.24977320374454529\n",
      " \n",
      "\n",
      "Iteration: 4000; Percent complete: 80.0%; Average loss: 2.3079\n"
     ]
    },
    {
     "name": "stderr",
     "output_type": "stream",
     "text": [
      "100%|██████████| 200/200 [01:12<00:00,  2.82it/s]\n",
      "100%|██████████| 200/200 [01:13<00:00,  2.95it/s]\n"
     ]
    },
    {
     "name": "stdout",
     "output_type": "stream",
     "text": [
      "train bleu score:0.2205940016361959\n",
      "train beam score:0.2643499292004484\n",
      "test bleu score:0.30869156255880337\n",
      "test beam score:0.33228369288639487\n",
      " \n",
      "\n",
      "Iteration: 5000; Percent complete: 100.0%; Average loss: 2.0729\n"
     ]
    },
    {
     "name": "stderr",
     "output_type": "stream",
     "text": [
      "100%|██████████| 200/200 [01:25<00:00,  2.28it/s]\n",
      "100%|██████████| 200/200 [01:28<00:00,  2.10it/s]\n"
     ]
    },
    {
     "name": "stdout",
     "output_type": "stream",
     "text": [
      "train bleu score:0.2409560068839263\n",
      "train beam score:0.3240163687327773\n",
      "test bleu score:0.20819800220992907\n",
      "test beam score:0.2632423777330689\n",
      " \n",
      "[(1000, 9.1850561078946331e-157, 0.24034748639612891, 1.2865413050175301e-156, 0.20391240675371403), (2000, 0.23079180574282332, 0.24417081828082687, 0.23604753143833054, 0.27688137248438827), (3000, 0.22793179071114913, 0.25979923376453795, 0.21815411177987643, 0.24977320374454529), (4000, 0.22059400163619591, 0.26434992920044842, 0.30869156255880337, 0.33228369288639487), (5000, 0.24095600688392629, 0.32401636873277728, 0.20819800220992907, 0.26324237773306891)]\n",
      "50 2 2 0.1 64 5 0.0001 5.0\n",
      "Initializing ...\n",
      "Training...\n",
      "\n",
      "Iteration: 1000; Percent complete: 20.0%; Average loss: 4.2318\n"
     ]
    },
    {
     "name": "stderr",
     "output_type": "stream",
     "text": [
      "100%|██████████| 200/200 [01:12<00:00,  2.76it/s]\n",
      "100%|██████████| 200/200 [01:04<00:00,  3.33it/s]\n"
     ]
    },
    {
     "name": "stdout",
     "output_type": "stream",
     "text": [
      "train bleu score:0.22707875590573626\n",
      "train beam score:0.24849024325861485\n",
      "test bleu score:0.2613007296350631\n",
      "test beam score:0.2790237211903074\n",
      " \n",
      "\n",
      "Iteration: 2000; Percent complete: 40.0%; Average loss: 2.7406\n"
     ]
    },
    {
     "name": "stderr",
     "output_type": "stream",
     "text": [
      "100%|██████████| 200/200 [01:14<00:00,  2.65it/s]\n",
      "100%|██████████| 200/200 [01:06<00:00,  2.65it/s]\n"
     ]
    },
    {
     "name": "stdout",
     "output_type": "stream",
     "text": [
      "train bleu score:0.25131111385317567\n",
      "train beam score:0.2831796245747517\n",
      "test bleu score:0.245\n",
      "test beam score:0.2850871105034038\n",
      " \n",
      "\n",
      "Iteration: 3000; Percent complete: 60.0%; Average loss: 2.2065\n"
     ]
    },
    {
     "name": "stderr",
     "output_type": "stream",
     "text": [
      "100%|██████████| 200/200 [00:57<00:00,  3.29it/s]\n",
      "100%|██████████| 200/200 [01:00<00:00,  3.00it/s]\n"
     ]
    },
    {
     "name": "stdout",
     "output_type": "stream",
     "text": [
      "train bleu score:0.2190690740461764\n",
      "train beam score:0.2920006380962485\n",
      "test bleu score:0.2464174497991361\n",
      "test beam score:0.33882762087452195\n",
      " \n",
      "\n",
      "Iteration: 4000; Percent complete: 80.0%; Average loss: 1.8638\n"
     ]
    },
    {
     "name": "stderr",
     "output_type": "stream",
     "text": [
      "100%|██████████| 200/200 [01:04<00:00,  3.03it/s]\n",
      "100%|██████████| 200/200 [01:03<00:00,  3.52it/s]\n"
     ]
    },
    {
     "name": "stdout",
     "output_type": "stream",
     "text": [
      "train bleu score:0.2752656729021677\n",
      "train beam score:0.38534469506268954\n",
      "test bleu score:0.28117000289265603\n",
      "test beam score:0.38395428899690565\n",
      " \n",
      "\n",
      "Iteration: 5000; Percent complete: 100.0%; Average loss: 1.6488\n"
     ]
    },
    {
     "name": "stderr",
     "output_type": "stream",
     "text": [
      "100%|██████████| 200/200 [01:05<00:00,  2.90it/s]\n",
      "100%|██████████| 200/200 [01:04<00:00,  2.97it/s]\n"
     ]
    },
    {
     "name": "stdout",
     "output_type": "stream",
     "text": [
      "train bleu score:0.22602635655370956\n",
      "train beam score:0.3758704868918361\n",
      "test bleu score:0.2743692150015168\n",
      "test beam score:0.39267158811374275\n",
      " \n",
      "[(1000, 0.22707875590573626, 0.24849024325861485, 0.26130072963506312, 0.27902372119030738), (2000, 0.25131111385317567, 0.28317962457475171, 0.245, 0.2850871105034038), (3000, 0.2190690740461764, 0.29200063809624849, 0.2464174497991361, 0.33882762087452195), (4000, 0.27526567290216769, 0.38534469506268954, 0.28117000289265603, 0.38395428899690565), (5000, 0.22602635655370956, 0.37587048689183611, 0.27436921500151679, 0.39267158811374275)]\n",
      "50 2 2 0.1 64 5 0.0001 7.0\n",
      "Initializing ...\n",
      "Training...\n",
      "\n",
      "Iteration: 1000; Percent complete: 20.0%; Average loss: 3.8524\n"
     ]
    },
    {
     "name": "stderr",
     "output_type": "stream",
     "text": [
      "100%|██████████| 200/200 [00:54<00:00,  3.52it/s]\n",
      "100%|██████████| 200/200 [00:52<00:00,  3.58it/s]\n"
     ]
    },
    {
     "name": "stdout",
     "output_type": "stream",
     "text": [
      "train bleu score:0.21964527991393182\n",
      "train beam score:0.2816007583292538\n",
      "test bleu score:0.24133392581191943\n",
      "test beam score:0.3001941316351513\n",
      " \n",
      "\n",
      "Iteration: 2000; Percent complete: 40.0%; Average loss: 2.3496\n"
     ]
    },
    {
     "name": "stderr",
     "output_type": "stream",
     "text": [
      "100%|██████████| 200/200 [00:57<00:00,  3.10it/s]\n",
      "100%|██████████| 200/200 [00:55<00:00,  3.21it/s]\n"
     ]
    },
    {
     "name": "stdout",
     "output_type": "stream",
     "text": [
      "train bleu score:0.2179611222330578\n",
      "train beam score:0.29355318966715216\n",
      "test bleu score:0.3008824301068493\n",
      "test beam score:0.3491710968067987\n",
      " \n",
      "\n",
      "Iteration: 3000; Percent complete: 60.0%; Average loss: 1.8863\n"
     ]
    },
    {
     "name": "stderr",
     "output_type": "stream",
     "text": [
      "100%|██████████| 200/200 [01:01<00:00,  3.05it/s]\n",
      "100%|██████████| 200/200 [01:00<00:00,  3.57it/s]\n"
     ]
    },
    {
     "name": "stdout",
     "output_type": "stream",
     "text": [
      "train bleu score:0.3203809214156264\n",
      "train beam score:0.43206293218008296\n",
      "test bleu score:0.3104763917299597\n",
      "test beam score:0.41923297422933303\n",
      " \n",
      "\n",
      "Iteration: 4000; Percent complete: 80.0%; Average loss: 1.6099\n"
     ]
    },
    {
     "name": "stderr",
     "output_type": "stream",
     "text": [
      "100%|██████████| 200/200 [01:03<00:00,  3.14it/s]\n",
      "100%|██████████| 200/200 [01:04<00:00,  2.76it/s]\n"
     ]
    },
    {
     "name": "stdout",
     "output_type": "stream",
     "text": [
      "train bleu score:0.29780817374985424\n",
      "train beam score:0.459754289585055\n",
      "test bleu score:0.3131488271668892\n",
      "test beam score:0.4406215743626946\n",
      " \n",
      "\n",
      "Iteration: 5000; Percent complete: 100.0%; Average loss: 1.4150\n"
     ]
    },
    {
     "name": "stderr",
     "output_type": "stream",
     "text": [
      "100%|██████████| 200/200 [01:02<00:00,  3.19it/s]\n",
      "100%|██████████| 200/200 [01:02<00:00,  3.19it/s]\n"
     ]
    },
    {
     "name": "stdout",
     "output_type": "stream",
     "text": [
      "train bleu score:0.28889368517751657\n",
      "train beam score:0.48242403840541387\n",
      "test bleu score:0.29863885234419\n",
      "test beam score:0.48426065639343024\n",
      " \n",
      "[(1000, 0.21964527991393182, 0.2816007583292538, 0.24133392581191943, 0.3001941316351513), (2000, 0.2179611222330578, 0.29355318966715216, 0.30088243010684929, 0.3491710968067987), (3000, 0.32038092141562641, 0.43206293218008296, 0.31047639172995972, 0.41923297422933303), (4000, 0.29780817374985424, 0.45975428958505499, 0.31314882716688919, 0.44062157436269461), (5000, 0.28889368517751657, 0.48242403840541387, 0.29863885234419002, 0.48426065639343024)]\n",
      "200 2 2 0.1 16 5 0.01 1.0\n",
      "Initializing ...\n",
      "Training...\n",
      "\n",
      "Iteration: 1000; Percent complete: 20.0%; Average loss: 4.7019\n"
     ]
    },
    {
     "name": "stderr",
     "output_type": "stream",
     "text": [
      "100%|██████████| 200/200 [01:07<00:00,  2.90it/s]\n",
      "100%|██████████| 200/200 [01:10<00:00,  3.04it/s]\n"
     ]
    },
    {
     "name": "stdout",
     "output_type": "stream",
     "text": [
      "train bleu score:0.19\n",
      "train beam score:0.19004939174954574\n",
      "test bleu score:0.21\n",
      "test beam score:0.21\n",
      " \n",
      "\n",
      "Iteration: 2000; Percent complete: 40.0%; Average loss: 4.1442\n"
     ]
    },
    {
     "name": "stderr",
     "output_type": "stream",
     "text": [
      "100%|██████████| 200/200 [01:23<00:00,  2.21it/s]\n",
      "100%|██████████| 200/200 [01:24<00:00,  2.30it/s]\n"
     ]
    },
    {
     "name": "stdout",
     "output_type": "stream",
     "text": [
      "train bleu score:0.12\n",
      "train beam score:0.22559520186571\n",
      "test bleu score:0.07\n",
      "test beam score:0.18367383370154994\n",
      " \n",
      "\n",
      "Iteration: 3000; Percent complete: 60.0%; Average loss: 3.5341\n"
     ]
    },
    {
     "name": "stderr",
     "output_type": "stream",
     "text": [
      "100%|██████████| 200/200 [01:23<00:00,  2.32it/s]\n",
      "100%|██████████| 200/200 [01:25<00:00,  2.19it/s]\n"
     ]
    },
    {
     "name": "stdout",
     "output_type": "stream",
     "text": [
      "train bleu score:0.12\n",
      "train beam score:0.24968240801622105\n",
      "test bleu score:0.115\n",
      "test beam score:0.31391633913458006\n",
      " \n",
      "\n",
      "Iteration: 4000; Percent complete: 80.0%; Average loss: 3.3491\n"
     ]
    },
    {
     "name": "stderr",
     "output_type": "stream",
     "text": [
      "100%|██████████| 200/200 [01:24<00:00,  2.52it/s]\n",
      "100%|██████████| 200/200 [01:25<00:00,  2.21it/s]\n"
     ]
    },
    {
     "name": "stdout",
     "output_type": "stream",
     "text": [
      "train bleu score:0.030998194229774977\n",
      "train beam score:0.25485866138577656\n",
      "test bleu score:0.011448685938599419\n",
      "test beam score:0.28292701007313625\n",
      " \n",
      "\n",
      "Iteration: 5000; Percent complete: 100.0%; Average loss: 3.0978\n"
     ]
    },
    {
     "name": "stderr",
     "output_type": "stream",
     "text": [
      "100%|██████████| 200/200 [01:27<00:00,  2.42it/s]\n",
      "100%|██████████| 200/200 [01:26<00:00,  2.19it/s]\n"
     ]
    },
    {
     "name": "stdout",
     "output_type": "stream",
     "text": [
      "train bleu score:0.22518345749864146\n",
      "train beam score:0.2580611316583751\n",
      "test bleu score:0.25341634565510857\n",
      "test beam score:0.284957915186047\n",
      " \n",
      "[(1000, 0.19, 0.19004939174954574, 0.20999999999999999, 0.20999999999999999), (2000, 0.12, 0.22559520186571, 0.070000000000000007, 0.18367383370154994), (3000, 0.12, 0.24968240801622105, 0.115, 0.31391633913458006), (4000, 0.030998194229774977, 0.25485866138577656, 0.011448685938599419, 0.28292701007313625), (5000, 0.22518345749864146, 0.25806113165837508, 0.25341634565510857, 0.28495791518604702)]\n",
      "200 2 2 0.1 16 5 0.01 3.0\n",
      "Initializing ...\n",
      "Training...\n",
      "\n",
      "Iteration: 1000; Percent complete: 20.0%; Average loss: nan\n"
     ]
    },
    {
     "name": "stderr",
     "output_type": "stream",
     "text": [
      "100%|██████████| 200/200 [01:10<00:00,  2.73it/s]\n",
      "100%|██████████| 200/200 [01:04<00:00,  3.71it/s]\n"
     ]
    },
    {
     "name": "stdout",
     "output_type": "stream",
     "text": [
      "train bleu score:0.0\n",
      "train beam score:1.9233901856509192e-241\n",
      "test bleu score:0.0\n",
      "test beam score:0.0\n",
      " \n",
      "\n",
      "Iteration: 2000; Percent complete: 40.0%; Average loss: nan\n"
     ]
    },
    {
     "name": "stderr",
     "output_type": "stream",
     "text": [
      "100%|██████████| 200/200 [01:09<00:00,  2.81it/s]\n",
      "100%|██████████| 200/200 [01:09<00:00,  2.89it/s]\n"
     ]
    },
    {
     "name": "stdout",
     "output_type": "stream",
     "text": [
      "train bleu score:0.0\n",
      "train beam score:0.0\n",
      "test bleu score:0.0\n",
      "test beam score:8.50935499580676e-236\n",
      " \n",
      "\n",
      "Iteration: 3000; Percent complete: 60.0%; Average loss: nan\n"
     ]
    },
    {
     "name": "stderr",
     "output_type": "stream",
     "text": [
      "100%|██████████| 200/200 [01:09<00:00,  2.87it/s]\n",
      "100%|██████████| 200/200 [01:09<00:00,  2.89it/s]\n"
     ]
    },
    {
     "name": "stdout",
     "output_type": "stream",
     "text": [
      "train bleu score:0.0\n",
      "train beam score:3.813619707996604e-235\n",
      "test bleu score:0.0\n",
      "test beam score:0.0\n",
      " \n",
      "\n",
      "Iteration: 4000; Percent complete: 80.0%; Average loss: nan\n"
     ]
    },
    {
     "name": "stderr",
     "output_type": "stream",
     "text": [
      "100%|██████████| 200/200 [01:09<00:00,  2.90it/s]\n",
      "100%|██████████| 200/200 [01:09<00:00,  2.89it/s]\n"
     ]
    },
    {
     "name": "stdout",
     "output_type": "stream",
     "text": [
      "train bleu score:0.0\n",
      "train beam score:0.0\n",
      "test bleu score:0.0\n",
      "test beam score:1.9233901856509192e-241\n",
      " \n",
      "\n",
      "Iteration: 5000; Percent complete: 100.0%; Average loss: nan\n"
     ]
    },
    {
     "name": "stderr",
     "output_type": "stream",
     "text": [
      "100%|██████████| 200/200 [01:09<00:00,  2.99it/s]\n",
      "100%|██████████| 200/200 [01:09<00:00,  2.84it/s]\n"
     ]
    },
    {
     "name": "stdout",
     "output_type": "stream",
     "text": [
      "train bleu score:0.0\n",
      "train beam score:0.0\n",
      "test bleu score:0.0\n",
      "test beam score:1.0366495076290644e-234\n",
      " \n",
      "[(1000, 0.0, 1.9233901856509192e-241, 0.0, 0.0), (2000, 0.0, 0.0, 0.0, 8.5093549958067598e-236), (3000, 0.0, 3.813619707996604e-235, 0.0, 0.0), (4000, 0.0, 0.0, 0.0, 1.9233901856509192e-241), (5000, 0.0, 0.0, 0.0, 1.0366495076290644e-234)]\n",
      "200 2 2 0.1 16 5 0.01 5.0\n",
      "Initializing ...\n",
      "Training...\n",
      "\n",
      "Iteration: 1000; Percent complete: 20.0%; Average loss: nan\n"
     ]
    },
    {
     "name": "stderr",
     "output_type": "stream",
     "text": [
      "100%|██████████| 200/200 [01:09<00:00,  2.91it/s]\n",
      "100%|██████████| 200/200 [01:09<00:00,  2.74it/s]\n"
     ]
    },
    {
     "name": "stdout",
     "output_type": "stream",
     "text": [
      "train bleu score:0.0\n",
      "train beam score:0.0\n",
      "test bleu score:0.0\n",
      "test beam score:1.0366493152900459e-234\n",
      " \n",
      "\n",
      "Iteration: 2000; Percent complete: 40.0%; Average loss: nan\n"
     ]
    },
    {
     "name": "stderr",
     "output_type": "stream",
     "text": [
      "100%|██████████| 200/200 [01:12<00:00,  2.82it/s]\n",
      "100%|██████████| 200/200 [01:01<00:00,  3.85it/s]\n"
     ]
    },
    {
     "name": "stdout",
     "output_type": "stream",
     "text": [
      "train bleu score:0.0\n",
      "train beam score:0.0\n",
      "test bleu score:0.0\n",
      "test beam score:3.81362163138679e-235\n",
      " \n",
      "\n",
      "Iteration: 3000; Percent complete: 60.0%; Average loss: nan\n"
     ]
    },
    {
     "name": "stderr",
     "output_type": "stream",
     "text": [
      "100%|██████████| 200/200 [01:09<00:00,  2.80it/s]\n",
      "100%|██████████| 200/200 [01:09<00:00,  2.79it/s]\n"
     ]
    },
    {
     "name": "stdout",
     "output_type": "stream",
     "text": [
      "train bleu score:0.0\n",
      "train beam score:1.9233901856509192e-241\n",
      "test bleu score:0.0\n",
      "test beam score:1.9233901856509192e-241\n",
      " \n",
      "\n",
      "Iteration: 4000; Percent complete: 80.0%; Average loss: nan\n"
     ]
    },
    {
     "name": "stderr",
     "output_type": "stream",
     "text": [
      "100%|██████████| 200/200 [01:10<00:00,  2.79it/s]\n",
      "100%|██████████| 200/200 [01:08<00:00,  2.91it/s]\n"
     ]
    },
    {
     "name": "stdout",
     "output_type": "stream",
     "text": [
      "train bleu score:0.0\n",
      "train beam score:0.0\n",
      "test bleu score:0.0\n",
      "test beam score:1.9233901856509192e-241\n",
      " \n",
      "\n",
      "Iteration: 5000; Percent complete: 100.0%; Average loss: nan\n"
     ]
    },
    {
     "name": "stderr",
     "output_type": "stream",
     "text": [
      "100%|██████████| 200/200 [01:08<00:00,  2.91it/s]\n",
      "100%|██████████| 200/200 [01:14<00:00,  2.78it/s]\n"
     ]
    },
    {
     "name": "stdout",
     "output_type": "stream",
     "text": [
      "train bleu score:0.0\n",
      "train beam score:0.0\n",
      "test bleu score:0.0\n",
      "test beam score:0.0\n",
      " \n",
      "[(1000, 0.0, 0.0, 0.0, 1.0366493152900459e-234), (2000, 0.0, 0.0, 0.0, 3.8136216313867902e-235), (3000, 0.0, 1.9233901856509192e-241, 0.0, 1.9233901856509192e-241), (4000, 0.0, 0.0, 0.0, 1.9233901856509192e-241), (5000, 0.0, 0.0, 0.0, 0.0)]\n",
      "200 2 2 0.1 16 5 0.01 7.0\n",
      "Initializing ...\n",
      "Training...\n",
      "\n",
      "Iteration: 1000; Percent complete: 20.0%; Average loss: nan\n"
     ]
    },
    {
     "name": "stderr",
     "output_type": "stream",
     "text": [
      "100%|██████████| 200/200 [01:09<00:00,  2.91it/s]\n",
      "100%|██████████| 200/200 [01:09<00:00,  2.98it/s]\n"
     ]
    },
    {
     "name": "stdout",
     "output_type": "stream",
     "text": [
      "train bleu score:0.0\n",
      "train beam score:1.9233901856509192e-241\n",
      "test bleu score:0.0\n",
      "test beam score:0.0\n",
      " \n",
      "\n",
      "Iteration: 2000; Percent complete: 40.0%; Average loss: nan\n"
     ]
    },
    {
     "name": "stderr",
     "output_type": "stream",
     "text": [
      "100%|██████████| 200/200 [01:09<00:00,  2.78it/s]\n",
      "100%|██████████| 200/200 [01:09<00:00,  2.83it/s]\n"
     ]
    },
    {
     "name": "stdout",
     "output_type": "stream",
     "text": [
      "train bleu score:0.0\n",
      "train beam score:0.0\n",
      "test bleu score:0.0\n",
      "test beam score:1.9233901856509192e-241\n",
      " \n",
      "\n",
      "Iteration: 3000; Percent complete: 60.0%; Average loss: nan\n"
     ]
    },
    {
     "name": "stderr",
     "output_type": "stream",
     "text": [
      "100%|██████████| 200/200 [01:09<00:00,  2.84it/s]\n",
      "100%|██████████| 200/200 [01:07<00:00,  3.66it/s]\n"
     ]
    },
    {
     "name": "stdout",
     "output_type": "stream",
     "text": [
      "train bleu score:0.0\n",
      "train beam score:1.9233901856509192e-241\n",
      "test bleu score:0.0\n",
      "test beam score:0.0\n",
      " \n",
      "\n",
      "Iteration: 4000; Percent complete: 80.0%; Average loss: nan\n"
     ]
    },
    {
     "name": "stderr",
     "output_type": "stream",
     "text": [
      "100%|██████████| 200/200 [01:09<00:00,  2.91it/s]\n",
      "100%|██████████| 200/200 [01:09<00:00,  2.91it/s]\n"
     ]
    },
    {
     "name": "stdout",
     "output_type": "stream",
     "text": [
      "train bleu score:0.0\n",
      "train beam score:0.0\n",
      "test bleu score:0.0\n",
      "test beam score:1.9233901856509192e-241\n",
      " \n",
      "\n",
      "Iteration: 5000; Percent complete: 100.0%; Average loss: nan\n"
     ]
    },
    {
     "name": "stderr",
     "output_type": "stream",
     "text": [
      "100%|██████████| 200/200 [01:23<00:00,  2.33it/s]\n",
      "100%|██████████| 200/200 [01:16<00:00,  3.02it/s]\n"
     ]
    },
    {
     "name": "stdout",
     "output_type": "stream",
     "text": [
      "train bleu score:0.0\n",
      "train beam score:0.0\n",
      "test bleu score:0.0\n",
      "test beam score:0.0\n",
      " \n",
      "[(1000, 0.0, 1.9233901856509192e-241, 0.0, 0.0), (2000, 0.0, 0.0, 0.0, 1.9233901856509192e-241), (3000, 0.0, 1.9233901856509192e-241, 0.0, 0.0), (4000, 0.0, 0.0, 0.0, 1.9233901856509192e-241), (5000, 0.0, 0.0, 0.0, 0.0)]\n",
      "200 2 2 0.1 16 5 0.001 1.0\n",
      "Initializing ...\n",
      "Training...\n",
      "\n",
      "Iteration: 1000; Percent complete: 20.0%; Average loss: 2.4751\n"
     ]
    },
    {
     "name": "stderr",
     "output_type": "stream",
     "text": [
      "100%|██████████| 200/200 [01:28<00:00,  2.41it/s]\n",
      "100%|██████████| 200/200 [01:29<00:00,  2.78it/s]\n"
     ]
    },
    {
     "name": "stdout",
     "output_type": "stream",
     "text": [
      "train bleu score:0.3991291763630697\n",
      "train beam score:0.533707322226279\n",
      "test bleu score:0.33842896589605304\n",
      "test beam score:0.4924198484559507\n",
      " \n",
      "\n",
      "Iteration: 2000; Percent complete: 40.0%; Average loss: 1.2540\n"
     ]
    },
    {
     "name": "stderr",
     "output_type": "stream",
     "text": [
      "100%|██████████| 200/200 [01:29<00:00,  2.17it/s]\n",
      "100%|██████████| 200/200 [01:27<00:00,  2.36it/s]\n"
     ]
    },
    {
     "name": "stdout",
     "output_type": "stream",
     "text": [
      "train bleu score:0.45827041315624656\n",
      "train beam score:0.5994406423755074\n",
      "test bleu score:0.49806665792945687\n",
      "test beam score:0.5868780396347822\n",
      " \n",
      "\n",
      "Iteration: 3000; Percent complete: 60.0%; Average loss: 0.8101\n"
     ]
    },
    {
     "name": "stderr",
     "output_type": "stream",
     "text": [
      "100%|██████████| 200/200 [01:26<00:00,  2.12it/s]\n",
      "100%|██████████| 200/200 [01:22<00:00,  2.42it/s]\n"
     ]
    },
    {
     "name": "stdout",
     "output_type": "stream",
     "text": [
      "train bleu score:0.6666710903714491\n",
      "train beam score:0.742379606924412\n",
      "test bleu score:0.5155827921854204\n",
      "test beam score:0.5971414836486915\n",
      " \n",
      "\n",
      "Iteration: 4000; Percent complete: 80.0%; Average loss: 0.5565\n"
     ]
    },
    {
     "name": "stderr",
     "output_type": "stream",
     "text": [
      "100%|██████████| 200/200 [01:28<00:00,  2.23it/s]\n",
      "100%|██████████| 200/200 [01:27<00:00,  2.17it/s]\n"
     ]
    },
    {
     "name": "stdout",
     "output_type": "stream",
     "text": [
      "train bleu score:0.6300128583855656\n",
      "train beam score:0.7701965660085593\n",
      "test bleu score:0.6201042431909464\n",
      "test beam score:0.7289597417213202\n",
      " \n",
      "\n",
      "Iteration: 5000; Percent complete: 100.0%; Average loss: 0.3943\n"
     ]
    },
    {
     "name": "stderr",
     "output_type": "stream",
     "text": [
      "100%|██████████| 200/200 [01:28<00:00,  2.15it/s]\n",
      "100%|██████████| 200/200 [01:27<00:00,  2.29it/s]\n"
     ]
    },
    {
     "name": "stdout",
     "output_type": "stream",
     "text": [
      "train bleu score:0.7581795594191505\n",
      "train beam score:0.8554341007139317\n",
      "test bleu score:0.6178795398627136\n",
      "test beam score:0.7064104844322275\n",
      " \n",
      "[(1000, 0.39912917636306972, 0.53370732222627904, 0.33842896589605304, 0.49241984845595071), (2000, 0.45827041315624656, 0.59944064237550743, 0.49806665792945687, 0.58687803963478224), (3000, 0.66667109037144912, 0.74237960692441196, 0.51558279218542036, 0.59714148364869146), (4000, 0.63001285838556564, 0.77019656600855935, 0.62010424319094637, 0.72895974172132016), (5000, 0.7581795594191505, 0.85543410071393167, 0.6178795398627136, 0.70641048443222754)]\n",
      "200 2 2 0.1 16 5 0.001 3.0\n",
      "Initializing ...\n",
      "Training...\n",
      "\n",
      "Iteration: 1000; Percent complete: 20.0%; Average loss: 2.1543\n"
     ]
    },
    {
     "name": "stderr",
     "output_type": "stream",
     "text": [
      "100%|██████████| 200/200 [01:26<00:00,  2.31it/s]\n",
      "100%|██████████| 200/200 [01:25<00:00,  2.31it/s]\n"
     ]
    },
    {
     "name": "stdout",
     "output_type": "stream",
     "text": [
      "train bleu score:0.2784172817821999\n",
      "train beam score:0.42387489089131347\n",
      "test bleu score:0.3195397524450272\n",
      "test beam score:0.49785130168296476\n",
      " \n",
      "\n",
      "Iteration: 2000; Percent complete: 40.0%; Average loss: 0.9569\n"
     ]
    },
    {
     "name": "stderr",
     "output_type": "stream",
     "text": [
      "100%|██████████| 200/200 [01:27<00:00,  2.27it/s]\n",
      "100%|██████████| 200/200 [01:27<00:00,  2.26it/s]\n"
     ]
    },
    {
     "name": "stdout",
     "output_type": "stream",
     "text": [
      "train bleu score:0.47474123028905224\n",
      "train beam score:0.645627773785337\n",
      "test bleu score:0.41949871766281005\n",
      "test beam score:0.590164766269977\n",
      " \n",
      "\n",
      "Iteration: 3000; Percent complete: 60.0%; Average loss: 0.6369\n"
     ]
    },
    {
     "name": "stderr",
     "output_type": "stream",
     "text": [
      "100%|██████████| 200/200 [01:27<00:00,  2.23it/s]\n",
      "100%|██████████| 200/200 [01:26<00:00,  3.37it/s]\n"
     ]
    },
    {
     "name": "stdout",
     "output_type": "stream",
     "text": [
      "train bleu score:0.5194367031773508\n",
      "train beam score:0.7200483888555682\n",
      "test bleu score:0.46340417623456515\n",
      "test beam score:0.6081616687551464\n",
      " \n",
      "\n",
      "Iteration: 4000; Percent complete: 80.0%; Average loss: 0.4894\n"
     ]
    },
    {
     "name": "stderr",
     "output_type": "stream",
     "text": [
      "100%|██████████| 200/200 [01:25<00:00,  2.36it/s]\n",
      "100%|██████████| 200/200 [01:24<00:00,  2.11it/s]\n"
     ]
    },
    {
     "name": "stdout",
     "output_type": "stream",
     "text": [
      "train bleu score:0.42145679978726763\n",
      "train beam score:0.5970320330368292\n",
      "test bleu score:0.4581109056967487\n",
      "test beam score:0.5722241345606985\n",
      " \n",
      "\n",
      "Iteration: 5000; Percent complete: 100.0%; Average loss: 0.4227\n"
     ]
    },
    {
     "name": "stderr",
     "output_type": "stream",
     "text": [
      "100%|██████████| 200/200 [01:25<00:00,  2.57it/s]\n",
      "100%|██████████| 200/200 [01:27<00:00,  2.32it/s]\n"
     ]
    },
    {
     "name": "stdout",
     "output_type": "stream",
     "text": [
      "train bleu score:0.592047159693936\n",
      "train beam score:0.7721603974534239\n",
      "test bleu score:0.5136969196869796\n",
      "test beam score:0.6419338789611699\n",
      " \n",
      "[(1000, 0.27841728178219988, 0.42387489089131347, 0.31953975244502719, 0.49785130168296476), (2000, 0.47474123028905224, 0.64562777378533698, 0.41949871766281005, 0.59016476626997705), (3000, 0.5194367031773508, 0.72004838885556821, 0.46340417623456515, 0.60816166875514643), (4000, 0.42145679978726763, 0.59703203303682917, 0.45811090569674873, 0.57222413456069854), (5000, 0.59204715969393595, 0.77216039745342391, 0.51369691968697961, 0.64193387896116993)]\n",
      "200 2 2 0.1 16 5 0.001 5.0\n",
      "Initializing ...\n",
      "Training...\n",
      "\n",
      "Iteration: 1000; Percent complete: 20.0%; Average loss: 2.3186\n"
     ]
    },
    {
     "name": "stderr",
     "output_type": "stream",
     "text": [
      "100%|██████████| 200/200 [01:32<00:00,  2.16it/s]\n",
      "100%|██████████| 200/200 [01:33<00:00,  2.09it/s]\n"
     ]
    },
    {
     "name": "stdout",
     "output_type": "stream",
     "text": [
      "train bleu score:0.34579800805979943\n",
      "train beam score:0.5234236117525769\n",
      "test bleu score:0.28117193868764573\n",
      "test beam score:0.4536122590201579\n",
      " \n",
      "\n",
      "Iteration: 2000; Percent complete: 40.0%; Average loss: 1.3421\n"
     ]
    },
    {
     "name": "stderr",
     "output_type": "stream",
     "text": [
      "100%|██████████| 200/200 [01:30<00:00,  2.26it/s]\n",
      "100%|██████████| 200/200 [01:34<00:00,  2.33it/s]\n"
     ]
    },
    {
     "name": "stdout",
     "output_type": "stream",
     "text": [
      "train bleu score:0.2745506114654499\n",
      "train beam score:0.4976527544221521\n",
      "test bleu score:0.3051593806305557\n",
      "test beam score:0.5355347312922738\n",
      " \n",
      "\n",
      "Iteration: 3000; Percent complete: 60.0%; Average loss: 1.0880\n"
     ]
    },
    {
     "name": "stderr",
     "output_type": "stream",
     "text": [
      "100%|██████████| 200/200 [01:35<00:00,  1.87it/s]\n",
      "100%|██████████| 200/200 [01:38<00:00,  2.18it/s]\n"
     ]
    },
    {
     "name": "stdout",
     "output_type": "stream",
     "text": [
      "train bleu score:0.44206544783523727\n",
      "train beam score:0.5819890519988192\n",
      "test bleu score:0.37456383680679184\n",
      "test beam score:0.5722088886627715\n",
      " \n",
      "\n",
      "Iteration: 4000; Percent complete: 80.0%; Average loss: 0.9627\n"
     ]
    },
    {
     "name": "stderr",
     "output_type": "stream",
     "text": [
      "100%|██████████| 200/200 [01:32<00:00,  2.14it/s]\n",
      "100%|██████████| 200/200 [01:33<00:00,  2.20it/s]\n"
     ]
    },
    {
     "name": "stdout",
     "output_type": "stream",
     "text": [
      "train bleu score:0.4413956695693099\n",
      "train beam score:0.6029047398171974\n",
      "test bleu score:0.40883087616400027\n",
      "test beam score:0.5719158696741035\n",
      " \n",
      "\n",
      "Iteration: 5000; Percent complete: 100.0%; Average loss: 0.9305\n"
     ]
    },
    {
     "name": "stderr",
     "output_type": "stream",
     "text": [
      "100%|██████████| 200/200 [01:35<00:00,  1.91it/s]\n",
      "100%|██████████| 200/200 [01:35<00:00,  2.17it/s]\n"
     ]
    },
    {
     "name": "stdout",
     "output_type": "stream",
     "text": [
      "train bleu score:0.5173909606567776\n",
      "train beam score:0.6341862189549061\n",
      "test bleu score:0.36985128084516433\n",
      "test beam score:0.5443136830883541\n",
      " \n",
      "[(1000, 0.34579800805979943, 0.5234236117525769, 0.28117193868764573, 0.45361225902015789), (2000, 0.2745506114654499, 0.49765275442215212, 0.3051593806305557, 0.5355347312922738), (3000, 0.44206544783523727, 0.58198905199881923, 0.37456383680679184, 0.57220888866277153), (4000, 0.44139566956930992, 0.60290473981719739, 0.40883087616400027, 0.57191586967410346), (5000, 0.51739096065677759, 0.63418621895490612, 0.36985128084516433, 0.54431368308835415)]\n",
      "200 2 2 0.1 16 5 0.001 7.0\n",
      "Initializing ...\n",
      "Training...\n",
      "\n",
      "Iteration: 1000; Percent complete: 20.0%; Average loss: 2.5782\n"
     ]
    },
    {
     "name": "stderr",
     "output_type": "stream",
     "text": [
      "100%|██████████| 200/200 [01:29<00:00,  2.36it/s]\n",
      "100%|██████████| 200/200 [01:28<00:00,  2.28it/s]\n"
     ]
    },
    {
     "name": "stdout",
     "output_type": "stream",
     "text": [
      "train bleu score:0.2849270580164179\n",
      "train beam score:0.3495426090840963\n",
      "test bleu score:0.26090330721259236\n",
      "test beam score:0.41566415957540814\n",
      " \n",
      "\n",
      "Iteration: 2000; Percent complete: 40.0%; Average loss: 1.7726\n"
     ]
    },
    {
     "name": "stderr",
     "output_type": "stream",
     "text": [
      "100%|██████████| 200/200 [01:27<00:00,  2.15it/s]\n",
      "100%|██████████| 200/200 [01:27<00:00,  2.23it/s]\n"
     ]
    },
    {
     "name": "stdout",
     "output_type": "stream",
     "text": [
      "train bleu score:0.25391543158549623\n",
      "train beam score:0.411747206676785\n",
      "test bleu score:0.2862064183840733\n",
      "test beam score:0.37940017925706004\n",
      " \n",
      "\n",
      "Iteration: 3000; Percent complete: 60.0%; Average loss: 1.5740\n"
     ]
    },
    {
     "name": "stderr",
     "output_type": "stream",
     "text": [
      "100%|██████████| 200/200 [01:31<00:00,  2.30it/s]\n",
      "100%|██████████| 200/200 [01:29<00:00,  2.24it/s]\n"
     ]
    },
    {
     "name": "stdout",
     "output_type": "stream",
     "text": [
      "train bleu score:0.3010821408319331\n",
      "train beam score:0.4402654142192079\n",
      "test bleu score:0.26629046258973244\n",
      "test beam score:0.42125857879876144\n",
      " \n",
      "\n",
      "Iteration: 4000; Percent complete: 80.0%; Average loss: 1.5238\n"
     ]
    },
    {
     "name": "stderr",
     "output_type": "stream",
     "text": [
      "100%|██████████| 200/200 [01:33<00:00,  2.06it/s]\n",
      "100%|██████████| 200/200 [01:32<00:00,  2.21it/s]\n"
     ]
    },
    {
     "name": "stdout",
     "output_type": "stream",
     "text": [
      "train bleu score:0.31115421950880406\n",
      "train beam score:0.4727748348131482\n",
      "test bleu score:0.2923834298768256\n",
      "test beam score:0.49446015245519637\n",
      " \n",
      "\n",
      "Iteration: 5000; Percent complete: 100.0%; Average loss: 1.4817\n"
     ]
    },
    {
     "name": "stderr",
     "output_type": "stream",
     "text": [
      "100%|██████████| 200/200 [01:32<00:00,  2.09it/s]\n",
      "100%|██████████| 200/200 [01:35<00:00,  2.32it/s]\n"
     ]
    },
    {
     "name": "stdout",
     "output_type": "stream",
     "text": [
      "train bleu score:0.30435621034154653\n",
      "train beam score:0.4711152099280699\n",
      "test bleu score:0.2781686789589476\n",
      "test beam score:0.42427010206871885\n",
      " \n",
      "[(1000, 0.28492705801641788, 0.34954260908409629, 0.26090330721259236, 0.41566415957540814), (2000, 0.25391543158549623, 0.41174720667678499, 0.28620641838407329, 0.37940017925706004), (3000, 0.30108214083193308, 0.4402654142192079, 0.26629046258973244, 0.42125857879876144), (4000, 0.31115421950880406, 0.47277483481314819, 0.29238342987682558, 0.49446015245519637), (5000, 0.30435621034154653, 0.47111520992806988, 0.27816867895894759, 0.42427010206871885)]\n",
      "200 2 2 0.1 16 5 0.0001 1.0\n",
      "Initializing ...\n",
      "Training...\n",
      "\n",
      "Iteration: 1000; Percent complete: 20.0%; Average loss: 3.9160\n"
     ]
    },
    {
     "name": "stderr",
     "output_type": "stream",
     "text": [
      "100%|██████████| 200/200 [01:33<00:00,  2.14it/s]\n",
      "100%|██████████| 200/200 [01:30<00:00,  2.25it/s]\n"
     ]
    },
    {
     "name": "stdout",
     "output_type": "stream",
     "text": [
      "train bleu score:0.227756784688998\n",
      "train beam score:0.25639200951575447\n",
      "test bleu score:0.265\n",
      "test beam score:0.27834876297028116\n",
      " \n",
      "\n",
      "Iteration: 2000; Percent complete: 40.0%; Average loss: 2.6640\n"
     ]
    },
    {
     "name": "stderr",
     "output_type": "stream",
     "text": [
      "100%|██████████| 200/200 [01:29<00:00,  2.28it/s]\n",
      "100%|██████████| 200/200 [01:29<00:00,  2.12it/s]\n"
     ]
    },
    {
     "name": "stdout",
     "output_type": "stream",
     "text": [
      "train bleu score:0.23847554104551222\n",
      "train beam score:0.28368415666240165\n",
      "test bleu score:0.23707725321513812\n",
      "test beam score:0.2628209405013317\n",
      " \n",
      "\n",
      "Iteration: 3000; Percent complete: 60.0%; Average loss: 2.2666\n"
     ]
    },
    {
     "name": "stderr",
     "output_type": "stream",
     "text": [
      "100%|██████████| 200/200 [01:26<00:00,  2.49it/s]\n",
      "100%|██████████| 200/200 [01:27<00:00,  2.32it/s]\n"
     ]
    },
    {
     "name": "stdout",
     "output_type": "stream",
     "text": [
      "train bleu score:0.29699963112006716\n",
      "train beam score:0.385293817278622\n",
      "test bleu score:0.2621136062584028\n",
      "test beam score:0.3973177885501687\n",
      " \n",
      "\n",
      "Iteration: 4000; Percent complete: 80.0%; Average loss: 1.9782\n"
     ]
    },
    {
     "name": "stderr",
     "output_type": "stream",
     "text": [
      "100%|██████████| 200/200 [01:35<00:00,  2.08it/s]\n",
      "100%|██████████| 200/200 [01:31<00:00,  2.21it/s]\n"
     ]
    },
    {
     "name": "stdout",
     "output_type": "stream",
     "text": [
      "train bleu score:0.28836429541868486\n",
      "train beam score:0.4013475912203214\n",
      "test bleu score:0.2676750865986708\n",
      "test beam score:0.4004527745966827\n",
      " \n",
      "\n",
      "Iteration: 5000; Percent complete: 100.0%; Average loss: 1.7629\n"
     ]
    },
    {
     "name": "stderr",
     "output_type": "stream",
     "text": [
      "100%|██████████| 200/200 [01:34<00:00,  2.08it/s]\n",
      "100%|██████████| 200/200 [01:29<00:00,  2.20it/s]\n"
     ]
    },
    {
     "name": "stdout",
     "output_type": "stream",
     "text": [
      "train bleu score:0.28275417617285\n",
      "train beam score:0.43708914599127446\n",
      "test bleu score:0.24890847024888685\n",
      "test beam score:0.41047412338906036\n",
      " \n",
      "[(1000, 0.22775678468899799, 0.25639200951575447, 0.26500000000000001, 0.27834876297028116), (2000, 0.23847554104551222, 0.28368415666240165, 0.23707725321513812, 0.2628209405013317), (3000, 0.29699963112006716, 0.385293817278622, 0.2621136062584028, 0.39731778855016869), (4000, 0.28836429541868486, 0.40134759122032138, 0.26767508659867079, 0.40045277459668271), (5000, 0.28275417617284998, 0.43708914599127446, 0.24890847024888685, 0.41047412338906036)]\n",
      "200 2 2 0.1 16 5 0.0001 3.0\n",
      "Initializing ...\n",
      "Training...\n",
      "\n",
      "Iteration: 1000; Percent complete: 20.0%; Average loss: 3.0798\n"
     ]
    },
    {
     "name": "stderr",
     "output_type": "stream",
     "text": [
      "100%|██████████| 200/200 [01:17<00:00,  2.69it/s]\n",
      "100%|██████████| 200/200 [01:17<00:00,  2.76it/s]\n"
     ]
    },
    {
     "name": "stdout",
     "output_type": "stream",
     "text": [
      "train bleu score:0.23163687800956814\n",
      "train beam score:0.3383345678872369\n",
      "test bleu score:0.21482251582531744\n",
      "test beam score:0.31795064296976205\n",
      " \n",
      "\n",
      "Iteration: 2000; Percent complete: 40.0%; Average loss: 1.8877\n"
     ]
    },
    {
     "name": "stderr",
     "output_type": "stream",
     "text": [
      "100%|██████████| 200/200 [01:23<00:00,  1.78it/s]\n",
      "100%|██████████| 200/200 [01:21<00:00,  2.67it/s]\n"
     ]
    },
    {
     "name": "stdout",
     "output_type": "stream",
     "text": [
      "train bleu score:0.31734351474745814\n",
      "train beam score:0.4792421598805042\n",
      "test bleu score:0.34607281887802116\n",
      "test beam score:0.4720266249802354\n",
      " \n",
      "\n",
      "Iteration: 3000; Percent complete: 60.0%; Average loss: 1.4252\n"
     ]
    },
    {
     "name": "stderr",
     "output_type": "stream",
     "text": [
      "100%|██████████| 200/200 [01:31<00:00,  2.12it/s]\n",
      "100%|██████████| 200/200 [01:28<00:00,  2.43it/s]\n"
     ]
    },
    {
     "name": "stdout",
     "output_type": "stream",
     "text": [
      "train bleu score:0.4151231086470966\n",
      "train beam score:0.5781967701921138\n",
      "test bleu score:0.34852037626695265\n",
      "test beam score:0.5303617951618984\n",
      " \n",
      "\n",
      "Iteration: 4000; Percent complete: 80.0%; Average loss: 1.1472\n"
     ]
    },
    {
     "name": "stderr",
     "output_type": "stream",
     "text": [
      "100%|██████████| 200/200 [01:25<00:00,  2.22it/s]\n",
      "100%|██████████| 200/200 [01:22<00:00,  2.19it/s]\n"
     ]
    },
    {
     "name": "stdout",
     "output_type": "stream",
     "text": [
      "train bleu score:0.43248712380207677\n",
      "train beam score:0.5854061459724966\n",
      "test bleu score:0.40084557674002924\n",
      "test beam score:0.5198326661331658\n",
      " \n",
      "\n",
      "Iteration: 5000; Percent complete: 100.0%; Average loss: 0.9668\n"
     ]
    },
    {
     "name": "stderr",
     "output_type": "stream",
     "text": [
      "100%|██████████| 200/200 [01:30<00:00,  2.26it/s]\n",
      "100%|██████████| 200/200 [01:28<00:00,  2.08it/s]\n"
     ]
    },
    {
     "name": "stdout",
     "output_type": "stream",
     "text": [
      "train bleu score:0.4866980612333077\n",
      "train beam score:0.6570774034930119\n",
      "test bleu score:0.45794327189951334\n",
      "test beam score:0.6224755530066785\n",
      " \n",
      "[(1000, 0.23163687800956814, 0.33833456788723693, 0.21482251582531744, 0.31795064296976205), (2000, 0.31734351474745814, 0.47924215988050423, 0.34607281887802116, 0.4720266249802354), (3000, 0.41512310864709662, 0.5781967701921138, 0.34852037626695265, 0.53036179516189841), (4000, 0.43248712380207677, 0.58540614597249663, 0.40084557674002924, 0.51983266613316581), (5000, 0.48669806123330772, 0.65707740349301191, 0.45794327189951334, 0.62247555300667845)]\n",
      "200 2 2 0.1 16 5 0.0001 5.0\n",
      "Initializing ...\n",
      "Training...\n",
      "\n",
      "Iteration: 1000; Percent complete: 20.0%; Average loss: 2.7719\n"
     ]
    },
    {
     "name": "stderr",
     "output_type": "stream",
     "text": [
      "100%|██████████| 200/200 [01:29<00:00,  2.16it/s]\n",
      "100%|██████████| 200/200 [01:31<00:00,  2.14it/s]\n"
     ]
    },
    {
     "name": "stdout",
     "output_type": "stream",
     "text": [
      "train bleu score:0.2431995558853499\n",
      "train beam score:0.40196997213977004\n",
      "test bleu score:0.25582210981876924\n",
      "test beam score:0.432566640980284\n",
      " \n",
      "\n",
      "Iteration: 2000; Percent complete: 40.0%; Average loss: 1.5827\n"
     ]
    },
    {
     "name": "stderr",
     "output_type": "stream",
     "text": [
      "100%|██████████| 200/200 [01:28<00:00,  2.12it/s]\n",
      "100%|██████████| 200/200 [01:29<00:00,  2.19it/s]\n"
     ]
    },
    {
     "name": "stdout",
     "output_type": "stream",
     "text": [
      "train bleu score:0.3377224262571468\n",
      "train beam score:0.49615511410930213\n",
      "test bleu score:0.29305769020637357\n",
      "test beam score:0.439777115495529\n",
      " \n",
      "\n",
      "Iteration: 3000; Percent complete: 60.0%; Average loss: 1.1840\n"
     ]
    },
    {
     "name": "stderr",
     "output_type": "stream",
     "text": [
      "100%|██████████| 200/200 [01:26<00:00,  2.42it/s]\n",
      "100%|██████████| 200/200 [01:26<00:00,  2.23it/s]\n"
     ]
    },
    {
     "name": "stdout",
     "output_type": "stream",
     "text": [
      "train bleu score:0.4061294591496916\n",
      "train beam score:0.569005336190725\n",
      "test bleu score:0.43406707713061166\n",
      "test beam score:0.5748818061539126\n",
      " \n",
      "\n",
      "Iteration: 4000; Percent complete: 80.0%; Average loss: 0.9140\n"
     ]
    },
    {
     "name": "stderr",
     "output_type": "stream",
     "text": [
      "100%|██████████| 200/200 [01:23<00:00,  2.32it/s]\n",
      "100%|██████████| 200/200 [01:18<00:00,  2.34it/s]\n"
     ]
    },
    {
     "name": "stdout",
     "output_type": "stream",
     "text": [
      "train bleu score:0.490674216941237\n",
      "train beam score:0.6490739702447686\n",
      "test bleu score:0.48360974040007165\n",
      "test beam score:0.601799517861401\n",
      " \n",
      "\n",
      "Iteration: 5000; Percent complete: 100.0%; Average loss: 0.7389\n"
     ]
    },
    {
     "name": "stderr",
     "output_type": "stream",
     "text": [
      "100%|██████████| 200/200 [01:30<00:00,  2.33it/s]\n",
      "100%|██████████| 200/200 [01:26<00:00,  2.76it/s]\n"
     ]
    },
    {
     "name": "stdout",
     "output_type": "stream",
     "text": [
      "train bleu score:0.5652017069205163\n",
      "train beam score:0.7206357622530828\n",
      "test bleu score:0.5085841321128316\n",
      "test beam score:0.6296793199008056\n",
      " \n",
      "[(1000, 0.24319955588534989, 0.40196997213977004, 0.25582210981876924, 0.43256664098028402), (2000, 0.33772242625714682, 0.49615511410930213, 0.29305769020637357, 0.439777115495529), (3000, 0.40612945914969162, 0.56900533619072502, 0.43406707713061166, 0.5748818061539126), (4000, 0.49067421694123697, 0.64907397024476865, 0.48360974040007165, 0.60179951786140096), (5000, 0.5652017069205163, 0.72063576225308279, 0.5085841321128316, 0.62967931990080561)]\n",
      "200 2 2 0.1 16 5 0.0001 7.0\n",
      "Initializing ...\n",
      "Training...\n",
      "\n",
      "Iteration: 1000; Percent complete: 20.0%; Average loss: 2.5195\n"
     ]
    },
    {
     "name": "stderr",
     "output_type": "stream",
     "text": [
      "100%|██████████| 200/200 [01:27<00:00,  2.19it/s]\n",
      "100%|██████████| 200/200 [01:27<00:00,  2.22it/s]\n"
     ]
    },
    {
     "name": "stdout",
     "output_type": "stream",
     "text": [
      "train bleu score:0.28617274113271085\n",
      "train beam score:0.4476901477667289\n",
      "test bleu score:0.2900008582082679\n",
      "test beam score:0.4447610731461007\n",
      " \n",
      "\n",
      "Iteration: 2000; Percent complete: 40.0%; Average loss: 1.3522\n"
     ]
    },
    {
     "name": "stderr",
     "output_type": "stream",
     "text": [
      "100%|██████████| 200/200 [01:32<00:00,  2.13it/s]\n",
      "100%|██████████| 200/200 [01:32<00:00,  2.09it/s]\n"
     ]
    },
    {
     "name": "stdout",
     "output_type": "stream",
     "text": [
      "train bleu score:0.392998894609202\n",
      "train beam score:0.5866296175455077\n",
      "test bleu score:0.34798623044808863\n",
      "test beam score:0.5347682551856766\n",
      " \n",
      "\n",
      "Iteration: 3000; Percent complete: 60.0%; Average loss: 0.9805\n"
     ]
    },
    {
     "name": "stderr",
     "output_type": "stream",
     "text": [
      "100%|██████████| 200/200 [01:31<00:00,  1.52it/s]\n",
      "100%|██████████| 200/200 [01:27<00:00,  2.21it/s]\n"
     ]
    },
    {
     "name": "stdout",
     "output_type": "stream",
     "text": [
      "train bleu score:0.5271433614048981\n",
      "train beam score:0.6880806340167379\n",
      "test bleu score:0.49923258680212124\n",
      "test beam score:0.6620530417104983\n",
      " \n",
      "\n",
      "Iteration: 4000; Percent complete: 80.0%; Average loss: 0.7457\n"
     ]
    },
    {
     "name": "stderr",
     "output_type": "stream",
     "text": [
      "100%|██████████| 200/200 [01:28<00:00,  2.14it/s]\n",
      "100%|██████████| 200/200 [01:30<00:00,  2.55it/s]\n"
     ]
    },
    {
     "name": "stdout",
     "output_type": "stream",
     "text": [
      "train bleu score:0.49577893890613794\n",
      "train beam score:0.6930317786071126\n",
      "test bleu score:0.4927178857025945\n",
      "test beam score:0.6207808545211302\n",
      " \n",
      "\n",
      "Iteration: 5000; Percent complete: 100.0%; Average loss: 0.5733\n"
     ]
    },
    {
     "name": "stderr",
     "output_type": "stream",
     "text": [
      "100%|██████████| 200/200 [01:26<00:00,  2.34it/s]\n",
      "100%|██████████| 200/200 [01:28<00:00,  2.25it/s]\n"
     ]
    },
    {
     "name": "stdout",
     "output_type": "stream",
     "text": [
      "train bleu score:0.6091389882887634\n",
      "train beam score:0.7372716112288767\n",
      "test bleu score:0.5116791702844781\n",
      "test beam score:0.6398949460847958\n",
      " \n",
      "[(1000, 0.28617274113271085, 0.44769014776672889, 0.29000085820826788, 0.44476107314610069), (2000, 0.39299889460920201, 0.58662961754550769, 0.34798623044808863, 0.53476825518567661), (3000, 0.52714336140489815, 0.68808063401673791, 0.49923258680212124, 0.66205304171049828), (4000, 0.49577893890613794, 0.69303177860711263, 0.4927178857025945, 0.62078085452113019), (5000, 0.60913898828876345, 0.73727161122887674, 0.51167917028447807, 0.6398949460847958)]\n",
      "200 2 2 0.1 64 5 0.01 1.0\n",
      "Initializing ...\n",
      "Training...\n",
      "\n",
      "Iteration: 1000; Percent complete: 20.0%; Average loss: 2.6765\n"
     ]
    },
    {
     "name": "stderr",
     "output_type": "stream",
     "text": [
      "100%|██████████| 200/200 [01:42<00:00,  2.02it/s]\n",
      "100%|██████████| 200/200 [01:38<00:00,  1.94it/s]\n"
     ]
    },
    {
     "name": "stdout",
     "output_type": "stream",
     "text": [
      "train bleu score:0.12\n",
      "train beam score:0.20209234836224257\n",
      "test bleu score:0.155\n",
      "test beam score:0.2\n",
      " \n",
      "\n",
      "Iteration: 2000; Percent complete: 40.0%; Average loss: 1.8938\n"
     ]
    },
    {
     "name": "stderr",
     "output_type": "stream",
     "text": [
      "100%|██████████| 200/200 [01:20<00:00,  2.65it/s]\n",
      "100%|██████████| 200/200 [01:20<00:00,  2.60it/s]\n"
     ]
    },
    {
     "name": "stdout",
     "output_type": "stream",
     "text": [
      "train bleu score:0.155\n",
      "train beam score:0.24\n",
      "test bleu score:0.155\n",
      "test beam score:0.265\n",
      " \n",
      "\n",
      "Iteration: 3000; Percent complete: 60.0%; Average loss: 1.7945\n"
     ]
    },
    {
     "name": "stderr",
     "output_type": "stream",
     "text": [
      "100%|██████████| 200/200 [01:32<00:00,  2.16it/s]\n",
      "100%|██████████| 200/200 [01:33<00:00,  2.25it/s]\n"
     ]
    },
    {
     "name": "stdout",
     "output_type": "stream",
     "text": [
      "train bleu score:0.07506342084931211\n",
      "train beam score:0.23865249319612267\n",
      "test bleu score:0.075\n",
      "test beam score:0.26258912984829386\n",
      " \n",
      "\n",
      "Iteration: 4000; Percent complete: 80.0%; Average loss: 1.7699\n"
     ]
    },
    {
     "name": "stderr",
     "output_type": "stream",
     "text": [
      "100%|██████████| 200/200 [01:19<00:00,  2.53it/s]\n",
      "100%|██████████| 200/200 [01:19<00:00,  2.61it/s]\n"
     ]
    },
    {
     "name": "stdout",
     "output_type": "stream",
     "text": [
      "train bleu score:0.17199258643277446\n",
      "train beam score:0.2654975875444221\n",
      "test bleu score:0.16606313779011675\n",
      "test beam score:0.28443514199969694\n",
      " \n",
      "\n",
      "Iteration: 5000; Percent complete: 100.0%; Average loss: 1.7885\n"
     ]
    },
    {
     "name": "stderr",
     "output_type": "stream",
     "text": [
      "100%|██████████| 200/200 [02:08<00:00,  1.63it/s]\n",
      "100%|██████████| 200/200 [02:07<00:00,  1.56it/s]\n"
     ]
    },
    {
     "name": "stdout",
     "output_type": "stream",
     "text": [
      "train bleu score:0.165\n",
      "train beam score:0.1807991407704371\n",
      "test bleu score:0.225\n",
      "test beam score:0.24\n",
      " \n",
      "[(1000, 0.12, 0.20209234836224257, 0.155, 0.20000000000000001), (2000, 0.155, 0.23999999999999999, 0.155, 0.26500000000000001), (3000, 0.075063420849312112, 0.23865249319612267, 0.074999999999999997, 0.26258912984829386), (4000, 0.17199258643277446, 0.2654975875444221, 0.16606313779011675, 0.28443514199969694), (5000, 0.16500000000000001, 0.1807991407704371, 0.22500000000000001, 0.23999999999999999)]\n",
      "200 2 2 0.1 64 5 0.01 3.0\n",
      "Initializing ...\n",
      "Training...\n",
      "\n",
      "Iteration: 1000; Percent complete: 20.0%; Average loss: nan\n"
     ]
    },
    {
     "name": "stderr",
     "output_type": "stream",
     "text": [
      "100%|██████████| 200/200 [01:25<00:00,  2.38it/s]\n",
      "100%|██████████| 200/200 [01:25<00:00,  2.42it/s]\n"
     ]
    },
    {
     "name": "stdout",
     "output_type": "stream",
     "text": [
      "train bleu score:0.0\n",
      "train beam score:0.0\n",
      "test bleu score:0.0\n",
      "test beam score:0.0\n",
      " \n",
      "\n",
      "Iteration: 2000; Percent complete: 40.0%; Average loss: nan\n"
     ]
    },
    {
     "name": "stderr",
     "output_type": "stream",
     "text": [
      "100%|██████████| 200/200 [01:09<00:00,  2.67it/s]\n",
      "100%|██████████| 200/200 [01:09<00:00,  2.85it/s]\n"
     ]
    },
    {
     "name": "stdout",
     "output_type": "stream",
     "text": [
      "train bleu score:0.0\n",
      "train beam score:0.0\n",
      "test bleu score:0.0\n",
      "test beam score:3.81362163138679e-235\n",
      " \n",
      "\n",
      "Iteration: 3000; Percent complete: 60.0%; Average loss: nan\n"
     ]
    },
    {
     "name": "stderr",
     "output_type": "stream",
     "text": [
      "100%|██████████| 200/200 [01:11<00:00,  3.03it/s]\n",
      "100%|██████████| 200/200 [01:09<00:00,  2.87it/s]\n"
     ]
    },
    {
     "name": "stdout",
     "output_type": "stream",
     "text": [
      "train bleu score:0.0\n",
      "train beam score:0.0\n",
      "test bleu score:0.0\n",
      "test beam score:0.0\n",
      " \n",
      "\n",
      "Iteration: 4000; Percent complete: 80.0%; Average loss: nan\n"
     ]
    },
    {
     "name": "stderr",
     "output_type": "stream",
     "text": [
      "100%|██████████| 200/200 [01:12<00:00,  2.82it/s]\n",
      "100%|██████████| 200/200 [01:09<00:00,  2.57it/s]\n"
     ]
    },
    {
     "name": "stdout",
     "output_type": "stream",
     "text": [
      "train bleu score:0.0\n",
      "train beam score:3.8467803713018384e-241\n",
      "test bleu score:0.0\n",
      "test beam score:1.9233901856509192e-241\n",
      " \n",
      "\n",
      "Iteration: 5000; Percent complete: 100.0%; Average loss: nan\n"
     ]
    },
    {
     "name": "stderr",
     "output_type": "stream",
     "text": [
      "100%|██████████| 200/200 [01:08<00:00,  2.96it/s]\n",
      "100%|██████████| 200/200 [01:08<00:00,  2.92it/s]\n"
     ]
    },
    {
     "name": "stdout",
     "output_type": "stream",
     "text": [
      "train bleu score:0.0\n",
      "train beam score:0.0\n",
      "test bleu score:0.0\n",
      "test beam score:1.9233901856509192e-241\n",
      " \n",
      "[(1000, 0.0, 0.0, 0.0, 0.0), (2000, 0.0, 0.0, 0.0, 3.8136216313867902e-235), (3000, 0.0, 0.0, 0.0, 0.0), (4000, 0.0, 3.8467803713018384e-241, 0.0, 1.9233901856509192e-241), (5000, 0.0, 0.0, 0.0, 1.9233901856509192e-241)]\n",
      "200 2 2 0.1 64 5 0.01 5.0\n",
      "Initializing ...\n",
      "Training...\n",
      "\n",
      "Iteration: 1000; Percent complete: 20.0%; Average loss: nan\n"
     ]
    },
    {
     "name": "stderr",
     "output_type": "stream",
     "text": [
      "100%|██████████| 200/200 [01:07<00:00,  2.76it/s]\n",
      "100%|██████████| 200/200 [01:08<00:00,  3.03it/s]\n"
     ]
    },
    {
     "name": "stdout",
     "output_type": "stream",
     "text": [
      "train bleu score:0.0\n",
      "train beam score:0.0\n",
      "test bleu score:0.0\n",
      "test beam score:1.9233901856509192e-241\n",
      " \n",
      "\n",
      "Iteration: 2000; Percent complete: 40.0%; Average loss: nan\n"
     ]
    },
    {
     "name": "stderr",
     "output_type": "stream",
     "text": [
      "100%|██████████| 200/200 [01:09<00:00,  2.90it/s]\n",
      "100%|██████████| 200/200 [01:08<00:00,  2.94it/s]\n"
     ]
    },
    {
     "name": "stdout",
     "output_type": "stream",
     "text": [
      "train bleu score:0.0\n",
      "train beam score:3.8467803713018384e-241\n",
      "test bleu score:0.0\n",
      "test beam score:0.0\n",
      " \n",
      "\n",
      "Iteration: 3000; Percent complete: 60.0%; Average loss: nan\n"
     ]
    },
    {
     "name": "stderr",
     "output_type": "stream",
     "text": [
      "100%|██████████| 200/200 [01:08<00:00,  2.84it/s]\n",
      "100%|██████████| 200/200 [01:10<00:00,  2.97it/s]\n"
     ]
    },
    {
     "name": "stdout",
     "output_type": "stream",
     "text": [
      "train bleu score:0.0\n",
      "train beam score:3.813619707996604e-235\n",
      "test bleu score:0.0\n",
      "test beam score:0.0\n",
      " \n",
      "\n",
      "Iteration: 4000; Percent complete: 80.0%; Average loss: nan\n"
     ]
    },
    {
     "name": "stderr",
     "output_type": "stream",
     "text": [
      "100%|██████████| 200/200 [01:10<00:00,  2.82it/s]\n",
      "100%|██████████| 200/200 [01:09<00:00,  2.96it/s]\n"
     ]
    },
    {
     "name": "stdout",
     "output_type": "stream",
     "text": [
      "train bleu score:0.0\n",
      "train beam score:1.9233901856509192e-241\n",
      "test bleu score:0.0\n",
      "test beam score:3.81362163138679e-235\n",
      " \n",
      "\n",
      "Iteration: 5000; Percent complete: 100.0%; Average loss: nan\n"
     ]
    },
    {
     "name": "stderr",
     "output_type": "stream",
     "text": [
      "100%|██████████| 200/200 [01:09<00:00,  2.83it/s]\n",
      "100%|██████████| 200/200 [01:10<00:00,  2.93it/s]\n"
     ]
    },
    {
     "name": "stdout",
     "output_type": "stream",
     "text": [
      "train bleu score:0.0\n",
      "train beam score:0.0\n",
      "test bleu score:0.0\n",
      "test beam score:0.0\n",
      " \n",
      "[(1000, 0.0, 0.0, 0.0, 1.9233901856509192e-241), (2000, 0.0, 3.8467803713018384e-241, 0.0, 0.0), (3000, 0.0, 3.813619707996604e-235, 0.0, 0.0), (4000, 0.0, 1.9233901856509192e-241, 0.0, 3.8136216313867902e-235), (5000, 0.0, 0.0, 0.0, 0.0)]\n",
      "200 2 2 0.1 64 5 0.01 7.0\n",
      "Initializing ...\n",
      "Training...\n",
      "\n",
      "Iteration: 1000; Percent complete: 20.0%; Average loss: nan\n"
     ]
    },
    {
     "name": "stderr",
     "output_type": "stream",
     "text": [
      "100%|██████████| 200/200 [01:10<00:00,  2.89it/s]\n",
      "100%|██████████| 200/200 [01:08<00:00,  2.97it/s]\n"
     ]
    },
    {
     "name": "stdout",
     "output_type": "stream",
     "text": [
      "train bleu score:0.0\n",
      "train beam score:0.0\n",
      "test bleu score:0.0\n",
      "test beam score:3.81362163138679e-235\n",
      " \n",
      "\n",
      "Iteration: 2000; Percent complete: 40.0%; Average loss: nan\n"
     ]
    },
    {
     "name": "stderr",
     "output_type": "stream",
     "text": [
      "100%|██████████| 200/200 [01:04<00:00,  3.80it/s]\n",
      "100%|██████████| 200/200 [00:52<00:00,  3.75it/s]\n"
     ]
    },
    {
     "name": "stdout",
     "output_type": "stream",
     "text": [
      "train bleu score:0.0\n",
      "train beam score:3.81362163138679e-235\n",
      "test bleu score:0.0\n",
      "test beam score:0.0\n",
      " \n",
      "\n",
      "Iteration: 3000; Percent complete: 60.0%; Average loss: nan\n"
     ]
    },
    {
     "name": "stderr",
     "output_type": "stream",
     "text": [
      "100%|██████████| 200/200 [01:10<00:00,  2.92it/s]\n",
      "100%|██████████| 200/200 [01:08<00:00,  2.95it/s]\n"
     ]
    },
    {
     "name": "stdout",
     "output_type": "stream",
     "text": [
      "train bleu score:0.0\n",
      "train beam score:3.8467803713018384e-241\n",
      "test bleu score:0.0\n",
      "test beam score:1.9233901856509192e-241\n",
      " \n",
      "\n",
      "Iteration: 4000; Percent complete: 80.0%; Average loss: nan\n"
     ]
    },
    {
     "name": "stderr",
     "output_type": "stream",
     "text": [
      "100%|██████████| 200/200 [01:11<00:00,  2.82it/s]\n",
      "100%|██████████| 200/200 [01:09<00:00,  2.93it/s]\n"
     ]
    },
    {
     "name": "stdout",
     "output_type": "stream",
     "text": [
      "train bleu score:0.0\n",
      "train beam score:0.0\n",
      "test bleu score:0.0\n",
      "test beam score:1.121742672909095e-234\n",
      " \n",
      "\n",
      "Iteration: 5000; Percent complete: 100.0%; Average loss: nan\n"
     ]
    },
    {
     "name": "stderr",
     "output_type": "stream",
     "text": [
      "100%|██████████| 200/200 [01:09<00:00,  2.94it/s]\n",
      "100%|██████████| 200/200 [01:10<00:00,  2.84it/s]\n"
     ]
    },
    {
     "name": "stdout",
     "output_type": "stream",
     "text": [
      "train bleu score:0.0\n",
      "train beam score:1.9233901856509192e-241\n",
      "test bleu score:0.0\n",
      "test beam score:1.9233901856509192e-241\n",
      " \n",
      "[(1000, 0.0, 0.0, 0.0, 3.8136216313867902e-235), (2000, 0.0, 3.8136216313867902e-235, 0.0, 0.0), (3000, 0.0, 3.8467803713018384e-241, 0.0, 1.9233901856509192e-241), (4000, 0.0, 0.0, 0.0, 1.1217426729090949e-234), (5000, 0.0, 1.9233901856509192e-241, 0.0, 1.9233901856509192e-241)]\n",
      "200 2 2 0.1 64 5 0.001 1.0\n",
      "Initializing ...\n",
      "Training...\n",
      "\n",
      "Iteration: 1000; Percent complete: 20.0%; Average loss: 2.0762\n"
     ]
    },
    {
     "name": "stderr",
     "output_type": "stream",
     "text": [
      "100%|██████████| 200/200 [01:28<00:00,  2.96it/s]\n",
      "100%|██████████| 200/200 [01:43<00:00,  2.06it/s]\n"
     ]
    },
    {
     "name": "stdout",
     "output_type": "stream",
     "text": [
      "train bleu score:0.44778385376197677\n",
      "train beam score:0.6276351865695764\n",
      "test bleu score:0.46287118619356726\n",
      "test beam score:0.5820896039146142\n",
      " \n",
      "\n",
      "Iteration: 2000; Percent complete: 40.0%; Average loss: 0.7241\n"
     ]
    },
    {
     "name": "stderr",
     "output_type": "stream",
     "text": [
      "100%|██████████| 200/200 [01:25<00:00,  2.50it/s]\n",
      "100%|██████████| 200/200 [01:29<00:00,  2.97it/s]\n"
     ]
    },
    {
     "name": "stdout",
     "output_type": "stream",
     "text": [
      "train bleu score:0.6788247616545671\n",
      "train beam score:0.8033707565925221\n",
      "test bleu score:0.6018593961004296\n",
      "test beam score:0.6613317811547073\n",
      " \n",
      "\n",
      "Iteration: 3000; Percent complete: 60.0%; Average loss: 0.3304\n"
     ]
    },
    {
     "name": "stderr",
     "output_type": "stream",
     "text": [
      "100%|██████████| 200/200 [01:27<00:00,  2.24it/s]\n",
      "100%|██████████| 200/200 [01:25<00:00,  2.43it/s]\n"
     ]
    },
    {
     "name": "stdout",
     "output_type": "stream",
     "text": [
      "train bleu score:0.7829304577207098\n",
      "train beam score:0.8953015096873407\n",
      "test bleu score:0.6414180860693912\n",
      "test beam score:0.7414610374529491\n",
      " \n",
      "\n",
      "Iteration: 4000; Percent complete: 80.0%; Average loss: 0.1630\n"
     ]
    },
    {
     "name": "stderr",
     "output_type": "stream",
     "text": [
      "100%|██████████| 200/200 [01:26<00:00,  2.18it/s]\n",
      "100%|██████████| 200/200 [01:26<00:00,  2.28it/s]\n"
     ]
    },
    {
     "name": "stdout",
     "output_type": "stream",
     "text": [
      "train bleu score:0.8674123257889054\n",
      "train beam score:0.973345441552428\n",
      "test bleu score:0.6127834652266625\n",
      "test beam score:0.6980198081262039\n",
      " \n",
      "\n",
      "Iteration: 5000; Percent complete: 100.0%; Average loss: 0.1122\n"
     ]
    },
    {
     "name": "stderr",
     "output_type": "stream",
     "text": [
      "100%|██████████| 200/200 [01:25<00:00,  2.23it/s]\n",
      "100%|██████████| 200/200 [01:30<00:00,  2.22it/s]\n"
     ]
    },
    {
     "name": "stdout",
     "output_type": "stream",
     "text": [
      "train bleu score:0.8606954005676264\n",
      "train beam score:0.9764916932460885\n",
      "test bleu score:0.6245330593052748\n",
      "test beam score:0.6795337650876371\n",
      " \n",
      "[(1000, 0.44778385376197677, 0.6276351865695764, 0.46287118619356726, 0.58208960391461417), (2000, 0.67882476165456707, 0.80337075659252211, 0.6018593961004296, 0.66133178115470725), (3000, 0.78293045772070979, 0.89530150968734068, 0.64141808606939121, 0.74146103745294911), (4000, 0.86741232578890537, 0.97334544155242797, 0.61278346522666249, 0.6980198081262039), (5000, 0.86069540056762639, 0.97649169324608853, 0.62453305930527481, 0.67953376508763708)]\n",
      "200 2 2 0.1 64 5 0.001 3.0\n",
      "Initializing ...\n",
      "Training...\n",
      "\n",
      "Iteration: 1000; Percent complete: 20.0%; Average loss: 1.6861\n"
     ]
    },
    {
     "name": "stderr",
     "output_type": "stream",
     "text": [
      "100%|██████████| 200/200 [01:30<00:00,  2.08it/s]\n",
      "100%|██████████| 200/200 [01:30<00:00,  2.26it/s]\n"
     ]
    },
    {
     "name": "stdout",
     "output_type": "stream",
     "text": [
      "train bleu score:0.5572064975166495\n",
      "train beam score:0.6908927647886728\n",
      "test bleu score:0.5053450696777461\n",
      "test beam score:0.6414683606789682\n",
      " \n",
      "\n",
      "Iteration: 2000; Percent complete: 40.0%; Average loss: 0.4336\n"
     ]
    },
    {
     "name": "stderr",
     "output_type": "stream",
     "text": [
      "100%|██████████| 200/200 [01:23<00:00,  2.37it/s]\n",
      "100%|██████████| 200/200 [01:24<00:00,  2.33it/s]\n"
     ]
    },
    {
     "name": "stdout",
     "output_type": "stream",
     "text": [
      "train bleu score:0.7972249012618404\n",
      "train beam score:0.8958470368086341\n",
      "test bleu score:0.6237761264868954\n",
      "test beam score:0.7034543548050185\n",
      " \n",
      "\n",
      "Iteration: 3000; Percent complete: 60.0%; Average loss: 0.2272\n"
     ]
    },
    {
     "name": "stderr",
     "output_type": "stream",
     "text": [
      "100%|██████████| 200/200 [01:27<00:00,  2.41it/s]\n",
      "100%|██████████| 200/200 [01:27<00:00,  2.13it/s]\n"
     ]
    },
    {
     "name": "stdout",
     "output_type": "stream",
     "text": [
      "train bleu score:0.8732246918561573\n",
      "train beam score:0.9641611020308095\n",
      "test bleu score:0.578264859473804\n",
      "test beam score:0.6874259609753257\n",
      " \n",
      "\n",
      "Iteration: 4000; Percent complete: 80.0%; Average loss: 0.1937\n"
     ]
    },
    {
     "name": "stderr",
     "output_type": "stream",
     "text": [
      "100%|██████████| 200/200 [01:24<00:00,  2.33it/s]\n",
      "100%|██████████| 200/200 [01:25<00:00,  2.28it/s]\n"
     ]
    },
    {
     "name": "stdout",
     "output_type": "stream",
     "text": [
      "train bleu score:0.8043416457576893\n",
      "train beam score:0.9413166940578737\n",
      "test bleu score:0.5927465450579443\n",
      "test beam score:0.6855266982516648\n",
      " \n",
      "\n",
      "Iteration: 5000; Percent complete: 100.0%; Average loss: 0.1621\n"
     ]
    },
    {
     "name": "stderr",
     "output_type": "stream",
     "text": [
      "100%|██████████| 200/200 [01:40<00:00,  1.91it/s]\n",
      "100%|██████████| 200/200 [01:41<00:00,  2.11it/s]\n"
     ]
    },
    {
     "name": "stdout",
     "output_type": "stream",
     "text": [
      "train bleu score:0.8654040652962245\n",
      "train beam score:0.9447338803470291\n",
      "test bleu score:0.6180382826903464\n",
      "test beam score:0.7193896225694342\n",
      " \n",
      "[(1000, 0.55720649751664952, 0.69089276478867279, 0.50534506967774606, 0.64146836067896817), (2000, 0.79722490126184042, 0.89584703680863409, 0.6237761264868954, 0.7034543548050185), (3000, 0.87322469185615725, 0.96416110203080951, 0.57826485947380402, 0.68742596097532571), (4000, 0.80434164575768929, 0.94131669405787366, 0.59274654505794433, 0.68552669825166479), (5000, 0.86540406529622449, 0.9447338803470291, 0.61803828269034644, 0.71938962256943417)]\n",
      "200 2 2 0.1 64 5 0.001 5.0\n",
      "Initializing ...\n",
      "Training...\n",
      "\n",
      "Iteration: 1000; Percent complete: 20.0%; Average loss: 1.6092\n"
     ]
    },
    {
     "name": "stderr",
     "output_type": "stream",
     "text": [
      "100%|██████████| 200/200 [01:27<00:00,  2.08it/s]\n",
      "100%|██████████| 200/200 [01:29<00:00,  2.27it/s]\n"
     ]
    },
    {
     "name": "stdout",
     "output_type": "stream",
     "text": [
      "train bleu score:0.5455725919584004\n",
      "train beam score:0.7283758119426065\n",
      "test bleu score:0.4205858647448117\n",
      "test beam score:0.5988371974308991\n",
      " \n",
      "\n",
      "Iteration: 2000; Percent complete: 40.0%; Average loss: 0.5301\n"
     ]
    },
    {
     "name": "stderr",
     "output_type": "stream",
     "text": [
      "100%|██████████| 200/200 [01:30<00:00,  2.24it/s]\n",
      "100%|██████████| 200/200 [01:27<00:00,  2.21it/s]\n"
     ]
    },
    {
     "name": "stdout",
     "output_type": "stream",
     "text": [
      "train bleu score:0.7387366635650139\n",
      "train beam score:0.863164418762574\n",
      "test bleu score:0.5272668450694878\n",
      "test beam score:0.6170645111478779\n",
      " \n",
      "\n",
      "Iteration: 3000; Percent complete: 60.0%; Average loss: 0.4081\n"
     ]
    },
    {
     "name": "stderr",
     "output_type": "stream",
     "text": [
      "100%|██████████| 200/200 [01:43<00:00,  1.92it/s]\n",
      "100%|██████████| 200/200 [01:40<00:00,  1.95it/s]\n"
     ]
    },
    {
     "name": "stdout",
     "output_type": "stream",
     "text": [
      "train bleu score:0.7648568615699999\n",
      "train beam score:0.8898251614927082\n",
      "test bleu score:0.565780967682396\n",
      "test beam score:0.6642119521687436\n",
      " \n",
      "\n",
      "Iteration: 4000; Percent complete: 80.0%; Average loss: 0.3904\n"
     ]
    },
    {
     "name": "stderr",
     "output_type": "stream",
     "text": [
      "100%|██████████| 200/200 [01:54<00:00,  1.85it/s]\n",
      "100%|██████████| 200/200 [01:49<00:00,  1.77it/s]\n"
     ]
    },
    {
     "name": "stdout",
     "output_type": "stream",
     "text": [
      "train bleu score:0.7494033608572463\n",
      "train beam score:0.8604634160653097\n",
      "test bleu score:0.5488544319121784\n",
      "test beam score:0.6369141080924424\n",
      " \n",
      "\n",
      "Iteration: 5000; Percent complete: 100.0%; Average loss: 0.3292\n"
     ]
    },
    {
     "name": "stderr",
     "output_type": "stream",
     "text": [
      "100%|██████████| 200/200 [01:39<00:00,  2.06it/s]\n",
      "100%|██████████| 200/200 [01:38<00:00,  2.06it/s]\n"
     ]
    },
    {
     "name": "stdout",
     "output_type": "stream",
     "text": [
      "train bleu score:0.7489930962123782\n",
      "train beam score:0.8419436584311402\n",
      "test bleu score:0.5416647640356169\n",
      "test beam score:0.6126264633795933\n",
      " \n",
      "[(1000, 0.54557259195840035, 0.72837581194260648, 0.42058586474481169, 0.59883719743089914), (2000, 0.73873666356501388, 0.86316441876257399, 0.52726684506948784, 0.61706451114787786), (3000, 0.76485686156999988, 0.88982516149270818, 0.56578096768239605, 0.66421195216874362), (4000, 0.74940336085724635, 0.86046341606530974, 0.54885443191217842, 0.63691410809244242), (5000, 0.7489930962123782, 0.84194365843114016, 0.54166476403561692, 0.61262646337959326)]\n",
      "200 2 2 0.1 64 5 0.001 7.0\n",
      "Initializing ...\n",
      "Training...\n",
      "\n",
      "Iteration: 1000; Percent complete: 20.0%; Average loss: 1.4787\n"
     ]
    },
    {
     "name": "stderr",
     "output_type": "stream",
     "text": [
      "100%|██████████| 200/200 [01:58<00:00,  1.72it/s]\n",
      "100%|██████████| 200/200 [01:58<00:00,  1.69it/s]\n"
     ]
    },
    {
     "name": "stdout",
     "output_type": "stream",
     "text": [
      "train bleu score:0.47229675253335984\n",
      "train beam score:0.6383228319168766\n",
      "test bleu score:0.398522320715085\n",
      "test beam score:0.5385221329566423\n",
      " \n",
      "\n",
      "Iteration: 2000; Percent complete: 40.0%; Average loss: 0.8034\n"
     ]
    },
    {
     "name": "stderr",
     "output_type": "stream",
     "text": [
      "100%|██████████| 200/200 [01:57<00:00,  1.68it/s]\n",
      "100%|██████████| 200/200 [02:02<00:00,  1.65it/s]\n"
     ]
    },
    {
     "name": "stdout",
     "output_type": "stream",
     "text": [
      "train bleu score:0.5702564342019986\n",
      "train beam score:0.7212528046945619\n",
      "test bleu score:0.474485267594771\n",
      "test beam score:0.6165881538084588\n",
      " \n",
      "\n",
      "Iteration: 3000; Percent complete: 60.0%; Average loss: 0.6900\n"
     ]
    },
    {
     "name": "stderr",
     "output_type": "stream",
     "text": [
      "100%|██████████| 200/200 [02:01<00:00,  1.74it/s]\n",
      "100%|██████████| 200/200 [02:03<00:00,  1.66it/s]\n"
     ]
    },
    {
     "name": "stdout",
     "output_type": "stream",
     "text": [
      "train bleu score:0.5814029986334418\n",
      "train beam score:0.7641020579461749\n",
      "test bleu score:0.4608668495867539\n",
      "test beam score:0.5785529391493582\n",
      " \n",
      "\n",
      "Iteration: 4000; Percent complete: 80.0%; Average loss: 0.6763\n"
     ]
    },
    {
     "name": "stderr",
     "output_type": "stream",
     "text": [
      "100%|██████████| 200/200 [01:58<00:00,  1.60it/s]\n",
      "100%|██████████| 200/200 [02:00<00:00,  1.63it/s]\n"
     ]
    },
    {
     "name": "stdout",
     "output_type": "stream",
     "text": [
      "train bleu score:0.6022727715544183\n",
      "train beam score:0.7539394691738694\n",
      "test bleu score:0.47109379233870413\n",
      "test beam score:0.5891142471778398\n",
      " \n",
      "\n",
      "Iteration: 5000; Percent complete: 100.0%; Average loss: 0.6506\n"
     ]
    },
    {
     "name": "stderr",
     "output_type": "stream",
     "text": [
      "100%|██████████| 200/200 [01:21<00:00,  2.49it/s]\n",
      "100%|██████████| 200/200 [01:21<00:00,  2.32it/s]\n"
     ]
    },
    {
     "name": "stdout",
     "output_type": "stream",
     "text": [
      "train bleu score:0.6417275562284721\n",
      "train beam score:0.8021317516084042\n",
      "test bleu score:0.4900521388367525\n",
      "test beam score:0.5840867074364813\n",
      " \n",
      "[(1000, 0.47229675253335984, 0.63832283191687655, 0.39852232071508498, 0.53852213295664231), (2000, 0.57025643420199856, 0.72125280469456188, 0.474485267594771, 0.61658815380845877), (3000, 0.5814029986334418, 0.76410205794617492, 0.46086684958675389, 0.57855293914935824), (4000, 0.60227277155441827, 0.75393946917386945, 0.47109379233870413, 0.58911424717783978), (5000, 0.64172755622847211, 0.80213175160840422, 0.49005213883675253, 0.58408670743648128)]\n",
      "200 2 2 0.1 64 5 0.0001 1.0\n",
      "Initializing ...\n",
      "Training...\n",
      "\n",
      "Iteration: 1000; Percent complete: 20.0%; Average loss: 3.8148\n"
     ]
    },
    {
     "name": "stderr",
     "output_type": "stream",
     "text": [
      "100%|██████████| 200/200 [01:27<00:00,  2.65it/s]\n",
      "100%|██████████| 200/200 [01:15<00:00,  2.62it/s]\n"
     ]
    },
    {
     "name": "stdout",
     "output_type": "stream",
     "text": [
      "train bleu score:0.22702508780382488\n",
      "train beam score:0.2671055981504255\n",
      "test bleu score:0.24572886705976887\n",
      "test beam score:0.27892255733394095\n",
      " \n",
      "\n",
      "Iteration: 2000; Percent complete: 40.0%; Average loss: 2.3761\n"
     ]
    },
    {
     "name": "stderr",
     "output_type": "stream",
     "text": [
      "100%|██████████| 200/200 [01:22<00:00,  2.45it/s]\n",
      "100%|██████████| 200/200 [01:21<00:00,  2.54it/s]\n"
     ]
    },
    {
     "name": "stdout",
     "output_type": "stream",
     "text": [
      "train bleu score:0.2530974628081065\n",
      "train beam score:0.4038544337653693\n",
      "test bleu score:0.2700563523531489\n",
      "test beam score:0.3699988223276365\n",
      " \n",
      "\n",
      "Iteration: 3000; Percent complete: 60.0%; Average loss: 1.9097\n"
     ]
    },
    {
     "name": "stderr",
     "output_type": "stream",
     "text": [
      "100%|██████████| 200/200 [01:15<00:00,  2.39it/s]\n",
      "100%|██████████| 200/200 [01:14<00:00,  2.46it/s]\n"
     ]
    },
    {
     "name": "stdout",
     "output_type": "stream",
     "text": [
      "train bleu score:0.3185796921277634\n",
      "train beam score:0.42218285401048644\n",
      "test bleu score:0.3095102492048404\n",
      "test beam score:0.42031107328527517\n",
      " \n",
      "\n",
      "Iteration: 4000; Percent complete: 80.0%; Average loss: 1.6186\n"
     ]
    },
    {
     "name": "stderr",
     "output_type": "stream",
     "text": [
      "100%|██████████| 200/200 [01:20<00:00,  2.25it/s]\n",
      "100%|██████████| 200/200 [01:20<00:00,  2.39it/s]\n"
     ]
    },
    {
     "name": "stdout",
     "output_type": "stream",
     "text": [
      "train bleu score:0.3423176582886002\n",
      "train beam score:0.4608447202663119\n",
      "test bleu score:0.3818043092662968\n",
      "test beam score:0.47485261305446314\n",
      " \n",
      "\n",
      "Iteration: 5000; Percent complete: 100.0%; Average loss: 1.4220\n"
     ]
    },
    {
     "name": "stderr",
     "output_type": "stream",
     "text": [
      "100%|██████████| 200/200 [01:19<00:00,  2.42it/s]\n",
      "100%|██████████| 200/200 [01:20<00:00,  2.46it/s]\n"
     ]
    },
    {
     "name": "stdout",
     "output_type": "stream",
     "text": [
      "train bleu score:0.33899604507478104\n",
      "train beam score:0.49295228716085704\n",
      "test bleu score:0.3545015118608728\n",
      "test beam score:0.47735805018725214\n",
      " \n",
      "[(1000, 0.22702508780382488, 0.26710559815042551, 0.24572886705976887, 0.27892255733394095), (2000, 0.25309746280810652, 0.40385443376536928, 0.2700563523531489, 0.36999882232763648), (3000, 0.31857969212776338, 0.42218285401048644, 0.30951024920484038, 0.42031107328527517), (4000, 0.34231765828860022, 0.4608447202663119, 0.38180430926629683, 0.47485261305446314), (5000, 0.33899604507478104, 0.49295228716085704, 0.35450151186087281, 0.47735805018725214)]\n",
      "200 2 2 0.1 64 5 0.0001 3.0\n",
      "Initializing ...\n",
      "Training...\n",
      "\n",
      "Iteration: 1000; Percent complete: 20.0%; Average loss: 2.9350\n"
     ]
    },
    {
     "name": "stderr",
     "output_type": "stream",
     "text": [
      "100%|██████████| 200/200 [01:21<00:00,  2.32it/s]\n",
      "100%|██████████| 200/200 [01:24<00:00,  2.31it/s]\n"
     ]
    },
    {
     "name": "stdout",
     "output_type": "stream",
     "text": [
      "train bleu score:0.2946975162417882\n",
      "train beam score:0.4237010009867999\n",
      "test bleu score:0.2507729344968277\n",
      "test beam score:0.360120206194855\n",
      " \n",
      "\n",
      "Iteration: 2000; Percent complete: 40.0%; Average loss: 1.5132\n"
     ]
    },
    {
     "name": "stderr",
     "output_type": "stream",
     "text": [
      "100%|██████████| 200/200 [01:20<00:00,  3.03it/s]\n",
      "100%|██████████| 200/200 [01:15<00:00,  2.47it/s]\n"
     ]
    },
    {
     "name": "stdout",
     "output_type": "stream",
     "text": [
      "train bleu score:0.3327088045342093\n",
      "train beam score:0.49935759709520655\n",
      "test bleu score:0.350747040724453\n",
      "test beam score:0.5149144417675017\n",
      " \n",
      "\n",
      "Iteration: 3000; Percent complete: 60.0%; Average loss: 1.0815\n"
     ]
    },
    {
     "name": "stderr",
     "output_type": "stream",
     "text": [
      "100%|██████████| 200/200 [01:20<00:00,  2.46it/s]\n",
      "100%|██████████| 200/200 [01:21<00:00,  2.36it/s]\n"
     ]
    },
    {
     "name": "stdout",
     "output_type": "stream",
     "text": [
      "train bleu score:0.501852036368227\n",
      "train beam score:0.639517447155272\n",
      "test bleu score:0.3773921311132051\n",
      "test beam score:0.5677472685208131\n",
      " \n",
      "\n",
      "Iteration: 4000; Percent complete: 80.0%; Average loss: 0.8025\n"
     ]
    },
    {
     "name": "stderr",
     "output_type": "stream",
     "text": [
      "100%|██████████| 200/200 [01:28<00:00,  2.29it/s]\n",
      "100%|██████████| 200/200 [01:23<00:00,  2.45it/s]\n"
     ]
    },
    {
     "name": "stdout",
     "output_type": "stream",
     "text": [
      "train bleu score:0.5337764435330798\n",
      "train beam score:0.7217048770476048\n",
      "test bleu score:0.4900860708274875\n",
      "test beam score:0.5908788208702049\n",
      " \n",
      "\n",
      "Iteration: 5000; Percent complete: 100.0%; Average loss: 0.6110\n"
     ]
    },
    {
     "name": "stderr",
     "output_type": "stream",
     "text": [
      "100%|██████████| 200/200 [01:19<00:00,  2.31it/s]\n",
      "100%|██████████| 200/200 [01:20<00:00,  2.43it/s]\n"
     ]
    },
    {
     "name": "stdout",
     "output_type": "stream",
     "text": [
      "train bleu score:0.6369642980837612\n",
      "train beam score:0.7412261265220832\n",
      "test bleu score:0.5510016568522346\n",
      "test beam score:0.6329326408304253\n",
      " \n",
      "[(1000, 0.29469751624178819, 0.42370100098679991, 0.25077293449682769, 0.36012020619485502), (2000, 0.33270880453420931, 0.49935759709520655, 0.35074704072445301, 0.51491444176750167), (3000, 0.50185203636822695, 0.63951744715527203, 0.37739213111320508, 0.56774726852081314), (4000, 0.53377644353307985, 0.72170487704760478, 0.49008607082748751, 0.59087882087020493), (5000, 0.6369642980837612, 0.7412261265220832, 0.55100165685223457, 0.63293264083042533)]\n",
      "200 2 2 0.1 64 5 0.0001 5.0\n",
      "Initializing ...\n",
      "Training...\n",
      "\n",
      "Iteration: 1000; Percent complete: 20.0%; Average loss: 2.4963\n"
     ]
    },
    {
     "name": "stderr",
     "output_type": "stream",
     "text": [
      "100%|██████████| 200/200 [01:25<00:00,  2.45it/s]\n",
      "100%|██████████| 200/200 [01:23<00:00,  2.35it/s]\n"
     ]
    },
    {
     "name": "stdout",
     "output_type": "stream",
     "text": [
      "train bleu score:0.265910888780811\n",
      "train beam score:0.391195571946066\n",
      "test bleu score:0.35437249235078155\n",
      "test beam score:0.48590857344510924\n",
      " \n",
      "\n",
      "Iteration: 2000; Percent complete: 40.0%; Average loss: 1.2124\n"
     ]
    },
    {
     "name": "stderr",
     "output_type": "stream",
     "text": [
      "100%|██████████| 200/200 [01:22<00:00,  2.37it/s]\n",
      "100%|██████████| 200/200 [01:22<00:00,  2.40it/s]\n"
     ]
    },
    {
     "name": "stdout",
     "output_type": "stream",
     "text": [
      "train bleu score:0.4312709485349866\n",
      "train beam score:0.6132821321648946\n",
      "test bleu score:0.3651436380563905\n",
      "test beam score:0.5123889860077974\n",
      " \n",
      "\n",
      "Iteration: 3000; Percent complete: 60.0%; Average loss: 0.8092\n"
     ]
    },
    {
     "name": "stderr",
     "output_type": "stream",
     "text": [
      "100%|██████████| 200/200 [01:27<00:00,  2.39it/s]\n",
      "100%|██████████| 200/200 [01:23<00:00,  2.67it/s]\n"
     ]
    },
    {
     "name": "stdout",
     "output_type": "stream",
     "text": [
      "train bleu score:0.47783751976788025\n",
      "train beam score:0.6774480438012948\n",
      "test bleu score:0.533959061413214\n",
      "test beam score:0.650151512075558\n",
      " \n",
      "\n",
      "Iteration: 4000; Percent complete: 80.0%; Average loss: 0.5620\n"
     ]
    },
    {
     "name": "stderr",
     "output_type": "stream",
     "text": [
      "100%|██████████| 200/200 [01:26<00:00,  2.22it/s]\n",
      "100%|██████████| 200/200 [01:27<00:00,  2.13it/s]\n"
     ]
    },
    {
     "name": "stdout",
     "output_type": "stream",
     "text": [
      "train bleu score:0.5777650314272569\n",
      "train beam score:0.6964184217732395\n",
      "test bleu score:0.5728988212974653\n",
      "test beam score:0.6651045577665787\n",
      " \n",
      "\n",
      "Iteration: 5000; Percent complete: 100.0%; Average loss: 0.3945\n"
     ]
    },
    {
     "name": "stderr",
     "output_type": "stream",
     "text": [
      "100%|██████████| 200/200 [01:28<00:00,  2.35it/s]\n",
      "100%|██████████| 200/200 [01:25<00:00,  2.30it/s]\n"
     ]
    },
    {
     "name": "stdout",
     "output_type": "stream",
     "text": [
      "train bleu score:0.6903198327184912\n",
      "train beam score:0.8082137979858206\n",
      "test bleu score:0.5114750044958233\n",
      "test beam score:0.6187890991901903\n",
      " \n",
      "[(1000, 0.26591088878081098, 0.39119557194606602, 0.35437249235078155, 0.48590857344510924), (2000, 0.4312709485349866, 0.61328213216489458, 0.3651436380563905, 0.51238898600779736), (3000, 0.47783751976788025, 0.67744804380129475, 0.53395906141321403, 0.65015151207555799), (4000, 0.57776503142725688, 0.69641842177323954, 0.57289882129746528, 0.66510455776657873), (5000, 0.69031983271849118, 0.8082137979858206, 0.51147500449582328, 0.61878909919019032)]\n",
      "200 2 2 0.1 64 5 0.0001 7.0\n",
      "Initializing ...\n",
      "Training...\n",
      "\n",
      "Iteration: 1000; Percent complete: 20.0%; Average loss: 2.3086\n"
     ]
    },
    {
     "name": "stderr",
     "output_type": "stream",
     "text": [
      "100%|██████████| 200/200 [01:27<00:00,  2.17it/s]\n",
      "100%|██████████| 200/200 [01:28<00:00,  2.19it/s]\n"
     ]
    },
    {
     "name": "stdout",
     "output_type": "stream",
     "text": [
      "train bleu score:0.31799658469543035\n",
      "train beam score:0.44409804866312763\n",
      "test bleu score:0.31148196280910495\n",
      "test beam score:0.49294726400225186\n",
      " \n",
      "\n",
      "Iteration: 2000; Percent complete: 40.0%; Average loss: 0.9897\n"
     ]
    },
    {
     "name": "stderr",
     "output_type": "stream",
     "text": [
      "100%|██████████| 200/200 [01:27<00:00,  2.29it/s]\n",
      "100%|██████████| 200/200 [01:24<00:00,  2.11it/s]\n"
     ]
    },
    {
     "name": "stdout",
     "output_type": "stream",
     "text": [
      "train bleu score:0.44605624944460287\n",
      "train beam score:0.6461822146597779\n",
      "test bleu score:0.43702808271336385\n",
      "test beam score:0.5899033769019835\n",
      " \n",
      "\n",
      "Iteration: 3000; Percent complete: 60.0%; Average loss: 0.5993\n"
     ]
    },
    {
     "name": "stderr",
     "output_type": "stream",
     "text": [
      "100%|██████████| 200/200 [01:25<00:00,  2.30it/s]\n",
      "100%|██████████| 200/200 [01:25<00:00,  2.34it/s]\n"
     ]
    },
    {
     "name": "stdout",
     "output_type": "stream",
     "text": [
      "train bleu score:0.6059865371760621\n",
      "train beam score:0.7746102459695866\n",
      "test bleu score:0.49561093381387833\n",
      "test beam score:0.6058278206854733\n",
      " \n",
      "\n",
      "Iteration: 4000; Percent complete: 80.0%; Average loss: 0.3796\n"
     ]
    },
    {
     "name": "stderr",
     "output_type": "stream",
     "text": [
      "100%|██████████| 200/200 [01:24<00:00,  2.02it/s]\n",
      "100%|██████████| 200/200 [01:21<00:00,  2.52it/s]\n"
     ]
    },
    {
     "name": "stdout",
     "output_type": "stream",
     "text": [
      "train bleu score:0.6673897824771088\n",
      "train beam score:0.8194858056677409\n",
      "test bleu score:0.6119706716918073\n",
      "test beam score:0.6958101421335812\n",
      " \n"
     ]
    }
   ],
   "source": [
    "import json\n",
    "\n",
    "def grid_search_train(n_iteration = 5000):\n",
    "    paras = make_parameter()\n",
    "    logs = []\n",
    "    for hidden_size, encoder_n_layers, decoder_n_layers, dropout, batch_size, teacher_forcing_ratio,learning_rate, decoder_learning_ratio in paras:\n",
    "        model_name = 'cb_model'\n",
    "        attn_model = 'dot'\n",
    "        log_file = open(\"log.json\", \"a\")\n",
    "        #attn_model = 'general'\n",
    "        #attn_model = 'concat'\n",
    "\n",
    "\n",
    "        checkpoint_iter = 500\n",
    "\n",
    "        # Initialize word embeddings\n",
    "        embedding = nn.Embedding(voc.num_words, hidden_size)\n",
    "        encoder = EncoderRNN(hidden_size, embedding, encoder_n_layers, dropout)\n",
    "        decoder = LuongAttnDecoderRNN(attn_model, embedding, hidden_size, voc.num_words, decoder_n_layers, dropout)\n",
    "        \n",
    "        encoder = encoder.to(device)\n",
    "        decoder = decoder.to(device)\n",
    "        # print('Models built and ready to go!')\n",
    "        # Configure training/optimization\n",
    "        clip = 50.0\n",
    "        teacher_forcing_ratio = 5\n",
    "        print_every = 1000\n",
    "        save_every = 500\n",
    "\n",
    "        # Ensure dropout layers are in train mode\n",
    "        encoder.train()\n",
    "        decoder.train()\n",
    "\n",
    "        # Initialize optimizers\n",
    "        # print('Building optimizers ...')\n",
    "        encoder_optimizer = optim.Adam(encoder.parameters(), lr=learning_rate)\n",
    "        decoder_optimizer = optim.Adam(decoder.parameters(), lr=learning_rate * decoder_learning_ratio)\n",
    "\n",
    "        # If you have cuda, configure cuda to call\n",
    "        for state in encoder_optimizer.state.values():\n",
    "            for k, v in state.items():\n",
    "                if isinstance(v, torch.Tensor):\n",
    "                    state[k] = v.cuda()\n",
    "\n",
    "        for state in decoder_optimizer.state.values():\n",
    "            for k, v in state.items():\n",
    "                if isinstance(v, torch.Tensor):\n",
    "                    state[k] = v.cuda()\n",
    "\n",
    "        # Run training iterations\n",
    "        # print(\"Starting Training!\")\n",
    "        print(hidden_size, encoder_n_layers, decoder_n_layers, dropout, batch_size, teacher_forcing_ratio,learning_rate, decoder_learning_ratio)\n",
    "        log = trainIters(model_name, voc, pairs, encoder, decoder, encoder_optimizer, decoder_optimizer,\n",
    "                embedding, encoder_n_layers, decoder_n_layers, save_dir, n_iteration, batch_size,\n",
    "                print_every, save_every, clip, corpus_name, loadFilename)\n",
    "        logs.append(((hidden_size, encoder_n_layers, decoder_n_layers, dropout, batch_size, teacher_forcing_ratio,learning_rate, decoder_learning_ratio), log))\n",
    "        print(log)\n",
    "        log_file.write(str((hidden_size, encoder_n_layers, decoder_n_layers, dropout, batch_size, teacher_forcing_ratio,learning_rate, decoder_learning_ratio)) + \"\\n\")\n",
    "        for l in log:\n",
    "            log_file.write(json.dumps(l) + \"\\n\")\n",
    "        log_file.close()\n",
    "        \n",
    "    return logs\n",
    "grid_search_train()"
   ]
  },
  {
   "cell_type": "code",
   "execution_count": null,
   "metadata": {},
   "outputs": [],
   "source": []
  },
  {
   "cell_type": "code",
   "execution_count": null,
   "metadata": {},
   "outputs": [],
   "source": []
  }
 ],
 "metadata": {
  "kernelspec": {
   "display_name": "Python 3",
   "language": "python",
   "name": "python3"
  },
  "language_info": {
   "codemirror_mode": {
    "name": "ipython",
    "version": 3
   },
   "file_extension": ".py",
   "mimetype": "text/x-python",
   "name": "python",
   "nbconvert_exporter": "python",
   "pygments_lexer": "ipython3",
   "version": "3.7.0"
  }
 },
 "nbformat": 4,
 "nbformat_minor": 2
}
