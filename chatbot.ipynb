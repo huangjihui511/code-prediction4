{
 "cells": [
  {
   "cell_type": "code",
   "execution_count": 1,
   "metadata": {},
   "outputs": [],
   "source": [
    "from __future__ import absolute_import\n",
    "from __future__ import division\n",
    "from __future__ import print_function\n",
    "from __future__ import unicode_literals\n",
    "\n",
    "import torch\n",
    "from torch.jit import script, trace\n",
    "import torch.nn as nn\n",
    "from torch import optim\n",
    "import torch.nn.functional as F\n",
    "import csv\n",
    "import random\n",
    "import re\n",
    "import os\n",
    "import unicodedata\n",
    "import codecs\n",
    "from io import open\n",
    "import itertools\n",
    "import math\n",
    "import numpy as np\n",
    "\n",
    "\n",
    "USE_CUDA = torch.cuda.is_available()\n",
    "device = torch.device(\"cuda\" if USE_CUDA else \"cpu\")"
   ]
  },
  {
   "cell_type": "code",
   "execution_count": 2,
   "metadata": {
    "tags": []
   },
   "outputs": [],
   "source": [
    "corpus_name = \"cornell movie-dialogs corpus\"\n",
    "corpus = os.path.join(\"data\", corpus_name)\n",
    "\n",
    "# def printLines(file, n=10):\n",
    "#     with open(file, 'rb') as datafile:\n",
    "#         lines = datafile.readlines()\n",
    "#     for line in lines[:n]:\n",
    "#         print(line)\n",
    "\n",
    "# printLines(os.path.join(corpus, \"movie_lines.txt\"))"
   ]
  },
  {
   "cell_type": "code",
   "execution_count": 3,
   "metadata": {},
   "outputs": [],
   "source": [
    "# # Splits each line of the file into a dictionary of fields\n",
    "# def loadLines(fileName, fields):\n",
    "#     lines = {}\n",
    "#     with open(fileName, 'r', encoding='iso-8859-1') as f:\n",
    "#         for line in f:\n",
    "#             values = line.split(\" +++$+++ \")\n",
    "#             # Extract fields\n",
    "#             lineObj = {}\n",
    "#             for i, field in enumerate(fields):\n",
    "#                 lineObj[field] = values[i]\n",
    "#             lines[lineObj['lineID']] = lineObj\n",
    "#     return lines\n",
    "\n",
    "\n",
    "# # Groups fields of lines from `loadLines` into conversations based on *movie_conversations.txt*\n",
    "# def loadConversations(fileName, lines, fields):\n",
    "#     conversations = []\n",
    "#     with open(fileName, 'r', encoding='iso-8859-1') as f:\n",
    "#         for line in f:\n",
    "#             values = line.split(\" +++$+++ \")\n",
    "#             # Extract fields\n",
    "#             convObj = {}\n",
    "#             for i, field in enumerate(fields):\n",
    "#                 convObj[field] = values[i]\n",
    "#             # Convert string to list (convObj[\"utteranceIDs\"] == \"['L598485', 'L598486', ...]\")\n",
    "#             utterance_id_pattern = re.compile('L[0-9]+')\n",
    "#             lineIds = utterance_id_pattern.findall(convObj[\"utteranceIDs\"])\n",
    "#             # Reassemble lines\n",
    "#             convObj[\"lines\"] = []\n",
    "#             for lineId in lineIds:\n",
    "#                 convObj[\"lines\"].append(lines[lineId])\n",
    "#             conversations.append(convObj)\n",
    "#     return conversations\n",
    "\n",
    "\n",
    "# # Extracts pairs of sentences from conversations\n",
    "# def extractSentencePairs(conversations):\n",
    "#     qa_pairs = []\n",
    "#     for conversation in conversations:\n",
    "#         # Iterate over all the lines of the conversation\n",
    "#         for i in range(len(conversation[\"lines\"]) - 1):  # We ignore the last line (no answer for it)\n",
    "#             inputLine = conversation[\"lines\"][i][\"text\"].strip()\n",
    "#             targetLine = conversation[\"lines\"][i+1][\"text\"].strip()\n",
    "#             # Filter wrong samples (if one of the lists is empty)\n",
    "#             if inputLine and targetLine:\n",
    "#                 qa_pairs.append([inputLine, targetLine])\n",
    "#     return qa_pairs"
   ]
  },
  {
   "cell_type": "code",
   "execution_count": 4,
   "metadata": {},
   "outputs": [],
   "source": [
    "# # Splits each line of the file into a dictionary of fields\n",
    "# def loadLines(fileName, fields):\n",
    "#     lines = {}\n",
    "#     with open(fileName, 'r', encoding='iso-8859-1') as f:\n",
    "#         for line in f:\n",
    "#             values = line.split(\" +++$+++ \")\n",
    "#             # Extract fields\n",
    "#             lineObj = {}\n",
    "#             for i, field in enumerate(fields):\n",
    "#                 lineObj[field] = values[i]\n",
    "#             lines[lineObj['lineID']] = lineObj\n",
    "#     return lines\n",
    "\n",
    "\n",
    "# # Groups fields of lines from `loadLines` into conversations based on *movie_conversations.txt*\n",
    "# def loadConversations(fileName, lines, fields):\n",
    "#     conversations = []\n",
    "#     with open(fileName, 'r', encoding='iso-8859-1') as f:\n",
    "#         for line in f:\n",
    "#             values = line.split(\" +++$+++ \")\n",
    "#             # Extract fields\n",
    "#             convObj = {}\n",
    "#             for i, field in enumerate(fields):\n",
    "#                 convObj[field] = values[i]\n",
    "#             # Convert string to list (convObj[\"utteranceIDs\"] == \"['L598485', 'L598486', ...]\")\n",
    "#             utterance_id_pattern = re.compile('L[0-9]+')\n",
    "#             lineIds = utterance_id_pattern.findall(convObj[\"utteranceIDs\"])\n",
    "#             # Reassemble lines\n",
    "#             convObj[\"lines\"] = []\n",
    "#             for lineId in lineIds:\n",
    "#                 convObj[\"lines\"].append(lines[lineId])\n",
    "#             conversations.append(convObj)\n",
    "#     return conversations\n",
    "\n",
    "\n",
    "# # Extracts pairs of sentences from conversations\n",
    "# def extractSentencePairs(conversations):\n",
    "#     qa_pairs = []\n",
    "#     for conversation in conversations:\n",
    "#         # Iterate over all the lines of the conversation\n",
    "#         for i in range(len(conversation[\"lines\"]) - 1):  # We ignore the last line (no answer for it)\n",
    "#             inputLine = conversation[\"lines\"][i][\"text\"].strip()\n",
    "#             targetLine = conversation[\"lines\"][i+1][\"text\"].strip()\n",
    "#             # Filter wrong samples (if one of the lists is empty)\n",
    "#             if inputLine and targetLine:\n",
    "#                 qa_pairs.append([inputLine, targetLine])\n",
    "#     return qa_pairs\n"
   ]
  },
  {
   "cell_type": "code",
   "execution_count": 5,
   "metadata": {
    "tags": []
   },
   "outputs": [],
   "source": [
    "# # Define path to new file\n",
    "# datafile = os.path.join(corpus, \"formatted_movie_lines.txt\")\n",
    "\n",
    "# delimiter = '\\t'\n",
    "# # Unescape the delimiter\n",
    "# delimiter = str(codecs.decode(delimiter, \"unicode_escape\"))\n",
    "\n",
    "# # Initialize lines dict, conversations list, and field ids\n",
    "# lines = {}\n",
    "# conversations = []\n",
    "# MOVIE_LINES_FIELDS = [\"lineID\", \"characterID\", \"movieID\", \"character\", \"text\"]\n",
    "# MOVIE_CONVERSATIONS_FIELDS = [\"character1ID\", \"character2ID\", \"movieID\", \"utteranceIDs\"]\n",
    "\n",
    "# # Load lines and process conversations\n",
    "# print(\"\\nProcessing corpus...\")\n",
    "# lines = loadLines(os.path.join(corpus, \"movie_lines.txt\"), MOVIE_LINES_FIELDS)\n",
    "# print(\"\\nLoading conversations...\")\n",
    "# conversations = loadConversations(os.path.join(corpus, \"movie_conversations.txt\"),\n",
    "#                                   lines, MOVIE_CONVERSATIONS_FIELDS)\n",
    "\n",
    "# # Write new csv file\n",
    "# print(\"\\nWriting newly formatted file...\")\n",
    "# with open(datafile, 'w', encoding='utf-8') as outputfile:\n",
    "#     writer = csv.writer(outputfile, delimiter=delimiter, lineterminator='\\n')\n",
    "#     for pair in extractSentencePairs(conversations):\n",
    "#         writer.writerow(pair)\n",
    "\n",
    "# # Print a sample of lines\n",
    "# print(\"\\nSample lines from file:\")\n",
    "# printLines(datafile)"
   ]
  },
  {
   "cell_type": "code",
   "execution_count": 6,
   "metadata": {},
   "outputs": [],
   "source": [
    "datafile = \"splite_data/train_unclean_data\"\n",
    "test_datafile = \"splite_data/test_data\"\n",
    "import json\n",
    "\n",
    "MIN_LENGHT = 20\n",
    "def load_data(path):\n",
    "    lines = open(path).readlines()\n",
    "    data = [json.loads(x) for x in lines]\n",
    "    data2 = [item for item in data if len(item) > MIN_LENGHT]\n",
    "    return data2\n",
    "\n",
    "def split2line(l):\n",
    "    split_token = [\";\", \"{\", \"}\"]\n",
    "    result = []\n",
    "    line = []\n",
    "    for item in l:\n",
    "        line.append(item)\n",
    "        if item in split_token:\n",
    "            result.append(line)\n",
    "            line = []\n",
    "    result.append(line)\n",
    "    return result\n",
    "\n",
    "def split2pair(l):\n",
    "    result = []\n",
    "    for i in range(1, len(l)):\n",
    "        input = []\n",
    "        for j in range(i):\n",
    "            input += l[j]\n",
    "        output = l[i]\n",
    "        result.append((input.copy(),output.copy()))\n",
    "    return result\n",
    "\n",
    "def split2pair2(l):\n",
    "    result = []\n",
    "    inputstr = []\n",
    "    for i in range(1, len(l)-1):\n",
    "        inputstr += l[i - 1]\n",
    "        outputstr = l[i]\n",
    "        result.append((inputstr.copy(),outputstr.copy()))\n",
    "    # for i in range(1, len(l)):\n",
    "    #     input = []\n",
    "    #     for j in range(i):\n",
    "    #         input += l[j]\n",
    "    #         for k in range(len(l[i])):\n",
    "    #             input += l[i][:k]\n",
    "    #             output = l[i][k:]\n",
    "    #             result.append((input.copy(),output.copy()))\n",
    "    return result\n",
    "    \n",
    "def wrap_s2p(raw_data):\n",
    "    data5 = []\n",
    "    for i, item in enumerate(raw_data):\n",
    "        data5 += split2pair(item)\n",
    "    return [(\" \".join(line[0]), \" \".join(line[1])) for line in data5]\n",
    "\n",
    "def wrap_s2p2(raw_data):\n",
    "    data5 = []\n",
    "    for i, item in enumerate(raw_data):\n",
    "        data5 += split2pair2(item)\n",
    "        # print(len(data5))\n",
    "        if len(data5) > 100000:\n",
    "            break\n",
    "    return [(\" \".join(line[0]), \" \".join(line[1])) for line in data5]"
   ]
  },
  {
   "cell_type": "code",
   "execution_count": 7,
   "metadata": {},
   "outputs": [],
   "source": [
    "# Default word tokens\n",
    "PAD_token = 0  # Used for padding short sentences\n",
    "SOS_token = 1  # Start-of-sentence token\n",
    "EOS_token = 2  # End-of-sentence token\n",
    "\n",
    "class Voc:\n",
    "    def __init__(self, name):\n",
    "        self.name = name\n",
    "        self.trimmed = False\n",
    "        self.word2index = {}\n",
    "        self.word2count = {}\n",
    "        self.index2word = {PAD_token: \"PAD\", SOS_token: \"SOS\", EOS_token: \"EOS\"}\n",
    "        self.num_words = 3  # Count SOS, EOS, PAD\n",
    "\n",
    "    def addSentence(self, sentence):\n",
    "        for word in sentence.split(' '):\n",
    "            self.addWord(word)\n",
    "\n",
    "    def addWord(self, word):\n",
    "        if word not in self.word2index:\n",
    "            self.word2index[word] = self.num_words\n",
    "            self.word2count[word] = 1\n",
    "            self.index2word[self.num_words] = word\n",
    "            self.num_words += 1\n",
    "        else:\n",
    "            self.word2count[word] += 1\n",
    "\n",
    "    # Remove words below a certain count threshold\n",
    "    def trim(self, min_count):\n",
    "        if self.trimmed:\n",
    "            return\n",
    "        self.trimmed = True\n",
    "\n",
    "        keep_words = []\n",
    "\n",
    "        for k, v in self.word2count.items():\n",
    "            if v >= min_count:\n",
    "                keep_words.append(k)\n",
    "\n",
    "        print('keep_words {} / {} = {:.4f}'.format(\n",
    "            len(keep_words), len(self.word2index), len(keep_words) / len(self.word2index)\n",
    "        ))\n",
    "\n",
    "        # Reinitialize dictionaries\n",
    "        self.word2index = {}\n",
    "        self.word2count = {}\n",
    "        self.index2word = {PAD_token: \"PAD\", SOS_token: \"SOS\", EOS_token: \"EOS\"}\n",
    "        self.num_words = 3 # Count default tokens\n",
    "\n",
    "        for word in keep_words:\n",
    "            self.addWord(word)"
   ]
  },
  {
   "cell_type": "code",
   "execution_count": 8,
   "metadata": {
    "tags": []
   },
   "outputs": [
    {
     "name": "stdout",
     "output_type": "stream",
     "text": [
      "Start preparing training data ...\n",
      "Reading lines...\n",
      "Read 100025 sentence pairs\n",
      "Trimmed to 40277 sentence pairs\n",
      "Counting words...\n",
      "Counted words: 38363\n",
      "\n",
      "pairs:\n",
      "('public String mapMethodDesc ( String desc ) {', 'if ( \" \" . equals ( desc ) ) {')\n",
      "('public String mapMethodDesc ( String desc ) { if ( \" \" . equals ( desc ) ) {', 'return desc ;')\n",
      "('public String mapMethodDesc ( String desc ) { if ( \" \" . equals ( desc ) ) { return desc ;', '}')\n",
      "('public String mapMethodDesc ( String desc ) { if ( \" \" . equals ( desc ) ) { return desc ; }', 'Type [ ] args = Type . getArgumentTypes ( desc ) ;')\n",
      "('public String mapMethodDesc ( String desc ) { if ( \" \" . equals ( desc ) ) { return desc ; } Type [ ] args = Type . getArgumentTypes ( desc ) ;', 'StringBuilder sb = new StringBuilder ( \" \" ) ;')\n",
      "('public String mapMethodDesc ( String desc ) { if ( \" \" . equals ( desc ) ) { return desc ; } Type [ ] args = Type . getArgumentTypes ( desc ) ; StringBuilder sb = new StringBuilder ( \" \" ) ;', 'for ( int i = 0 ;')\n",
      "('public int getSerializedSize ( ) {', 'int size = memoizedSize ;')\n",
      "('public int getSerializedSize ( ) { int size = memoizedSize ;', 'if ( size != - 1 ) return size ;')\n",
      "('public int getSerializedSize ( ) { int size = memoizedSize ; if ( size != - 1 ) return size ;', 'size = 0 ;')\n",
      "('public int getSerializedSize ( ) { int size = memoizedSize ; if ( size != - 1 ) return size ; size = 0 ;', 'if ( ( ( bitField0_ & 0x00000001 ) == 0x00000001 ) ) {')\n"
     ]
    }
   ],
   "source": [
    "MAX_LENGTH = 50  # Maximum sentence length to consider\n",
    "\n",
    "# Turn a Unicode string to plain ASCII, thanks to\n",
    "# https://stackoverflow.com/a/518232/2809427\n",
    "def unicodeToAscii(s):\n",
    "    return ''.join(\n",
    "        c for c in unicodedata.normalize('NFD', s)\n",
    "        if unicodedata.category(c) != 'Mn'\n",
    "    )\n",
    "\n",
    "# Lowercase, trim, and remove non-letter characters\n",
    "def normalizeString(s):\n",
    "    # s = unicodeToAscii(s.lower().strip())\n",
    "    # s = re.sub(r\"([.!?])\", r\" \\1\", s)\n",
    "    # s = re.sub(r\"[^a-zA-Z.!?]+\", r\" \", s)\n",
    "    # s = re.sub(r\"\\s+\", r\" \", s).strip()\n",
    "    return s\n",
    "\n",
    "# Read query/response pairs and return a voc object\n",
    "def readVocs(datafile,test_datafile, corpus_name):\n",
    "    print(\"Reading lines...\")\n",
    "    # Read the file and split into lines\n",
    "    train_data = load_data(datafile)\n",
    "    train_data = [split2line(item) for item in train_data]\n",
    "    train_data = wrap_s2p2(train_data)\n",
    "    # lines = open(datafile, encoding='utf-8').\\\n",
    "    #     read().strip().split('\\n')\n",
    "    # Split every line into pairs and normalize\n",
    "    # pairs = [[normalizeString(s) for s in l.split('\\t')] for l in lines]\n",
    "    pairs = train_data\n",
    "    test_data = load_data(test_datafile)\n",
    "    test_data = [split2line(item) for item in test_data]\n",
    "    test_data = wrap_s2p2(test_data)\n",
    "    test_pairs = test_data\n",
    "    voc = Voc(corpus_name)\n",
    "    return voc, pairs, test_pairs\n",
    "\n",
    "# Returns True iff both sentences in a pair 'p' are under the MAX_LENGTH threshold\n",
    "def filterPair(p):\n",
    "    # Input sequences need to preserve the last word for EOS token\n",
    "    return len(p[0].split(' ')) < MAX_LENGTH and len(p[1].split(' ')) < MAX_LENGTH\n",
    "\n",
    "# Filter pairs using filterPair condition\n",
    "def filterPairs(pairs):\n",
    "    return [pair for pair in pairs if filterPair(pair)]\n",
    "\n",
    "# Using the functions defined above, return a populated voc object and pairs list\n",
    "def loadPrepareData(corpus, corpus_name, datafile,test_datafile, save_dir):\n",
    "    print(\"Start preparing training data ...\")\n",
    "    voc, pairs, test_pairs = readVocs(datafile,test_datafile, corpus_name)\n",
    "    print(\"Read {!s} sentence pairs\".format(len(pairs)))\n",
    "    pairs = filterPairs(pairs)\n",
    "    test_pairs = filterPairs(test_pairs)\n",
    "    print(\"Trimmed to {!s} sentence pairs\".format(len(pairs)))\n",
    "    print(\"Counting words...\")\n",
    "    for pair in pairs + test_pairs:\n",
    "        voc.addSentence(pair[0])\n",
    "        voc.addSentence(pair[1])\n",
    "    print(\"Counted words:\", voc.num_words)\n",
    "    return voc, pairs, test_pairs\n",
    "\n",
    "\n",
    "# Load/Assemble voc and pairs\n",
    "save_dir = os.path.join(\"data\", \"save\")\n",
    "voc, pairs, test_pairs = loadPrepareData(corpus, corpus_name, datafile,test_datafile, save_dir)\n",
    "# Print some pairs to validate\n",
    "print(\"\\npairs:\")\n",
    "for pair in pairs[:10]:\n",
    "    print(pair)"
   ]
  },
  {
   "cell_type": "code",
   "execution_count": 9,
   "metadata": {},
   "outputs": [
    {
     "data": {
      "text/plain": [
       "True"
      ]
     },
     "execution_count": 9,
     "metadata": {},
     "output_type": "execute_result"
    }
   ],
   "source": [
    "\"getQualifiers\" in voc.word2index.keys()"
   ]
  },
  {
   "cell_type": "code",
   "execution_count": 10,
   "metadata": {
    "tags": []
   },
   "outputs": [
    {
     "name": "stdout",
     "output_type": "stream",
     "text": [
      "keep_words 3908 / 38360 = 0.1019\n",
      "Trimmed from 40277 pairs to 6552, 0.1627 of total\n",
      "Trimmed from 40957 pairs to 6512, 0.1590 of total\n"
     ]
    }
   ],
   "source": [
    "MIN_COUNT = 30    # Minimum word count threshold for trimming\n",
    "\n",
    "def trimRareWords(voc, pairs, MIN_COUNT):\n",
    "    # Trim words used under the MIN_COUNT from the voc\n",
    "    voc.trim(MIN_COUNT)\n",
    "    # Filter out pairs with trimmed words\n",
    "    keep_pairs = []\n",
    "    for pair in pairs:\n",
    "        input_sentence = pair[0]\n",
    "        output_sentence = pair[1]\n",
    "        keep_input = True\n",
    "        keep_output = True\n",
    "        # Check input sentence\n",
    "        for word in input_sentence.split(' '):\n",
    "            if word not in voc.word2index:\n",
    "                keep_input = False\n",
    "                break\n",
    "        # Check output sentence\n",
    "        for word in output_sentence.split(' '):\n",
    "            if word not in voc.word2index:\n",
    "                keep_output = False\n",
    "                break\n",
    "\n",
    "        # Only keep pairs that do not contain trimmed word(s) in their input or output sentence\n",
    "        if keep_input and keep_output:\n",
    "            keep_pairs.append(pair)\n",
    "\n",
    "    print(\"Trimmed from {} pairs to {}, {:.4f} of total\".format(len(pairs), len(keep_pairs), len(keep_pairs) / len(pairs)))\n",
    "    return keep_pairs\n",
    "\n",
    "\n",
    "# Trim voc and pairs\n",
    "pairs = trimRareWords(voc, pairs, MIN_COUNT)\n",
    "test_pairs = trimRareWords(voc, test_pairs, MIN_COUNT)"
   ]
  },
  {
   "cell_type": "code",
   "execution_count": 11,
   "metadata": {
    "tags": []
   },
   "outputs": [
    {
     "name": "stdout",
     "output_type": "stream",
     "text": [
      "input_variable: tensor([[   3,    3,    3,   45,    3],\n",
      "        [ 442, 3118,   67,  772,  122],\n",
      "        [3217,   48,  951,    5, 1999],\n",
      "        [   5,  294,    5,  442,    5],\n",
      "        [   7,   55, 3593,  189,    7],\n",
      "        [   8,  304,  602,    7,    8],\n",
      "        [   9,    5,    7,    8,    2],\n",
      "        [   5,    7,    8,    2,    0],\n",
      "        [1432,    8,    2,    0,    0],\n",
      "        [  37,    2,    0,    0,    0],\n",
      "        [  73,    0,    0,    0,    0],\n",
      "        [   7,    0,    0,    0,    0],\n",
      "        [   8,    0,    0,    0,    0],\n",
      "        [1434,    0,    0,    0,    0],\n",
      "        [  20,    0,    0,    0,    0],\n",
      "        [  73,    0,    0,    0,    0],\n",
      "        [  14,    0,    0,    0,    0],\n",
      "        [ 434,    0,    0,    0,    0],\n",
      "        [   5,    0,    0,    0,    0],\n",
      "        [   7,    0,    0,    0,    0],\n",
      "        [  14,    0,    0,    0,    0],\n",
      "        [  15,    0,    0,    0,    0],\n",
      "        [   2,    0,    0,    0,    0]])\n",
      "lengths: tensor([23, 10,  9,  8,  7])\n",
      "target_variable: tensor([[  50,    9,  951,  115,   69],\n",
      "        [   8,    5,    5,   11,    8],\n",
      "        [   2,   77,  602,  210,    2],\n",
      "        [   0, 1243,   11,   20,    0],\n",
      "        [   0,    5, 1257,  189,    0],\n",
      "        [   0,    7,    5,   11,    0],\n",
      "        [   0,    7,    7,  210,    0],\n",
      "        [   0,    8,   43,   14,    0],\n",
      "        [   0,    2,  602,    2,    0],\n",
      "        [   0,    0,   11,    0,    0],\n",
      "        [   0,    0, 1631,    0,    0],\n",
      "        [   0,    0,    5,    0,    0],\n",
      "        [   0,    0,    7,    0,    0],\n",
      "        [   0,    0,    7,    0,    0],\n",
      "        [   0,    0,   14,    0,    0],\n",
      "        [   0,    0,    2,    0,    0]])\n",
      "mask: tensor([[ True,  True,  True,  True,  True],\n",
      "        [ True,  True,  True,  True,  True],\n",
      "        [ True,  True,  True,  True,  True],\n",
      "        [False,  True,  True,  True, False],\n",
      "        [False,  True,  True,  True, False],\n",
      "        [False,  True,  True,  True, False],\n",
      "        [False,  True,  True,  True, False],\n",
      "        [False,  True,  True,  True, False],\n",
      "        [False,  True,  True,  True, False],\n",
      "        [False, False,  True, False, False],\n",
      "        [False, False,  True, False, False],\n",
      "        [False, False,  True, False, False],\n",
      "        [False, False,  True, False, False],\n",
      "        [False, False,  True, False, False],\n",
      "        [False, False,  True, False, False],\n",
      "        [False, False,  True, False, False]])\n",
      "max_target_len: 16\n"
     ]
    }
   ],
   "source": [
    "def indexesFromSentence(voc, sentence):\n",
    "    return [voc.word2index[word] for word in sentence.split(' ')] + [EOS_token]\n",
    "\n",
    "\n",
    "def zeroPadding(l, fillvalue=PAD_token):\n",
    "    return list(itertools.zip_longest(*l, fillvalue=fillvalue))\n",
    "\n",
    "def binaryMatrix(l, value=PAD_token):\n",
    "    m = []\n",
    "    for i, seq in enumerate(l):\n",
    "        m.append([])\n",
    "        for token in seq:\n",
    "            if token == PAD_token:\n",
    "                m[i].append(0)\n",
    "            else:\n",
    "                m[i].append(1)\n",
    "    return m\n",
    "\n",
    "# Returns padded input sequence tensor and lengths\n",
    "def inputVar(l, voc):\n",
    "    indexes_batch = [indexesFromSentence(voc, sentence) for sentence in l]\n",
    "    lengths = torch.tensor([len(indexes) for indexes in indexes_batch])\n",
    "    padList = zeroPadding(indexes_batch)\n",
    "    padVar = torch.LongTensor(padList)\n",
    "    return padVar, lengths\n",
    "\n",
    "# Returns padded target sequence tensor, padding mask, and max target length\n",
    "def outputVar(l, voc):\n",
    "    indexes_batch = [indexesFromSentence(voc, sentence) for sentence in l]\n",
    "    max_target_len = max([len(indexes) for indexes in indexes_batch])\n",
    "    padList = zeroPadding(indexes_batch)\n",
    "    mask = binaryMatrix(padList)\n",
    "    mask = torch.BoolTensor(mask)\n",
    "    padVar = torch.LongTensor(padList)\n",
    "    return padVar, mask, max_target_len\n",
    "\n",
    "# Returns all items for a given batch of pairs\n",
    "def batch2TrainData(voc, pair_batch):\n",
    "    pair_batch.sort(key=lambda x: len(x[0].split(\" \")), reverse=True)\n",
    "    input_batch, output_batch = [], []\n",
    "    for pair in pair_batch:\n",
    "        input_batch.append(pair[0])\n",
    "        output_batch.append(pair[1])\n",
    "    inp, lengths = inputVar(input_batch, voc)\n",
    "    output, mask, max_target_len = outputVar(output_batch, voc)\n",
    "    return inp, lengths, output, mask, max_target_len\n",
    "\n",
    "\n",
    "# Example for validation\n",
    "small_batch_size = 5\n",
    "batches = batch2TrainData(voc, [random.choice(pairs) for _ in range(small_batch_size)])\n",
    "input_variable, lengths, target_variable, mask, max_target_len = batches\n",
    "\n",
    "print(\"input_variable:\", input_variable)\n",
    "print(\"lengths:\", lengths)\n",
    "print(\"target_variable:\", target_variable)\n",
    "print(\"mask:\", mask)\n",
    "print(\"max_target_len:\", max_target_len)"
   ]
  },
  {
   "cell_type": "code",
   "execution_count": 12,
   "metadata": {},
   "outputs": [],
   "source": [
    "class EncoderRNN(nn.Module):\n",
    "    def __init__(self, hidden_size, embedding, n_layers=1, dropout=0):\n",
    "        super(EncoderRNN, self).__init__()\n",
    "        self.n_layers = n_layers\n",
    "        self.hidden_size = hidden_size\n",
    "        self.embedding = embedding\n",
    "\n",
    "        # Initialize GRU; the input_size and hidden_size params are both set to 'hidden_size'\n",
    "        #   because our input size is a word embedding with number of features == hidden_size\n",
    "        self.gru = nn.GRU(hidden_size, hidden_size, n_layers,\n",
    "                          dropout=(0 if n_layers == 1 else dropout), bidirectional=True)\n",
    "\n",
    "    def forward(self, input_seq, input_lengths, hidden=None):\n",
    "        # Convert word indexes to embeddings\n",
    "        embedded = self.embedding(input_seq)\n",
    "        # Pack padded batch of sequences for RNN module\n",
    "        packed = nn.utils.rnn.pack_padded_sequence(embedded, input_lengths)\n",
    "        # Forward pass through GRU\n",
    "        outputs, hidden = self.gru(packed, hidden)\n",
    "        # Unpack padding\n",
    "        outputs, _ = nn.utils.rnn.pad_packed_sequence(outputs)\n",
    "        # Sum bidirectional GRU outputs\n",
    "        outputs = outputs[:, :, :self.hidden_size] + outputs[:, : ,self.hidden_size:]\n",
    "        # Return output and final hidden state\n",
    "        return outputs, hidden"
   ]
  },
  {
   "cell_type": "code",
   "execution_count": 13,
   "metadata": {},
   "outputs": [],
   "source": [
    "class Attn(nn.Module):\n",
    "    def __init__(self, method, hidden_size):\n",
    "        super(Attn, self).__init__()\n",
    "        self.method = method\n",
    "        if self.method not in ['dot', 'general', 'concat']:\n",
    "            raise ValueError(self.method, \"is not an appropriate attention method.\")\n",
    "        self.hidden_size = hidden_size\n",
    "        if self.method == 'general':\n",
    "            self.attn = nn.Linear(self.hidden_size, hidden_size)\n",
    "        elif self.method == 'concat':\n",
    "            self.attn = nn.Linear(self.hidden_size * 2, hidden_size)\n",
    "            self.v = nn.Parameter(torch.FloatTensor(hidden_size))\n",
    "\n",
    "    def dot_score(self, hidden, encoder_output):\n",
    "        return torch.sum(hidden * encoder_output, dim=2)\n",
    "\n",
    "    def general_score(self, hidden, encoder_output):\n",
    "        energy = self.attn(encoder_output)\n",
    "        return torch.sum(hidden * energy, dim=2)\n",
    "\n",
    "    def concat_score(self, hidden, encoder_output):\n",
    "        energy = self.attn(torch.cat((hidden.expand(encoder_output.size(0), -1, -1), encoder_output), 2)).tanh()\n",
    "        return torch.sum(self.v * energy, dim=2)\n",
    "\n",
    "    def forward(self, hidden, encoder_outputs):\n",
    "        # Calculate the attention weights (energies) based on the given method\n",
    "        if self.method == 'general':\n",
    "            attn_energies = self.general_score(hidden, encoder_outputs)\n",
    "        elif self.method == 'concat':\n",
    "            attn_energies = self.concat_score(hidden, encoder_outputs)\n",
    "        elif self.method == 'dot':\n",
    "            attn_energies = self.dot_score(hidden, encoder_outputs)\n",
    "\n",
    "        # Transpose max_length and batch_size dimensions\n",
    "        attn_energies = attn_energies.t()\n",
    "\n",
    "        # Return the softmax normalized probability scores (with added dimension)\n",
    "        return F.softmax(attn_energies, dim=1).unsqueeze(1)"
   ]
  },
  {
   "cell_type": "code",
   "execution_count": 14,
   "metadata": {},
   "outputs": [],
   "source": [
    "class LuongAttnDecoderRNN(nn.Module):\n",
    "    def __init__(self, attn_model, embedding, hidden_size, output_size, n_layers=1, dropout=0.1):\n",
    "        super(LuongAttnDecoderRNN, self).__init__()\n",
    "\n",
    "        # Keep for reference\n",
    "        self.attn_model = attn_model\n",
    "        self.hidden_size = hidden_size\n",
    "        self.output_size = output_size\n",
    "        self.n_layers = n_layers\n",
    "        self.dropout = dropout\n",
    "\n",
    "        # Define layers\n",
    "        self.embedding = embedding\n",
    "        self.embedding_dropout = nn.Dropout(dropout)\n",
    "        self.gru = nn.GRU(hidden_size, hidden_size, n_layers, dropout=(0 if n_layers == 1 else dropout))\n",
    "        self.concat = nn.Linear(hidden_size * 2, hidden_size)\n",
    "        self.out = nn.Linear(hidden_size, output_size)\n",
    "\n",
    "        self.attn = Attn(attn_model, hidden_size)\n",
    "\n",
    "    def forward(self, input_step, last_hidden, encoder_outputs):\n",
    "        # Note: we run this one step (word) at a time\n",
    "        # Get embedding of current input word\n",
    "        embedded = self.embedding(input_step)\n",
    "        embedded = self.embedding_dropout(embedded)\n",
    "        # Forward through unidirectional GRU\n",
    "        rnn_output, hidden = self.gru(embedded, last_hidden)\n",
    "        # Calculate attention weights from the current GRU output\n",
    "        attn_weights = self.attn(rnn_output, encoder_outputs)\n",
    "        # Multiply attention weights to encoder outputs to get new \"weighted sum\" context vector\n",
    "        context = attn_weights.bmm(encoder_outputs.transpose(0, 1))\n",
    "        # Concatenate weighted context vector and GRU output using Luong eq. 5\n",
    "        rnn_output = rnn_output.squeeze(0)\n",
    "        context = context.squeeze(1)\n",
    "        concat_input = torch.cat((rnn_output, context), 1)\n",
    "        concat_output = torch.tanh(self.concat(concat_input))\n",
    "        # Predict next word using Luong eq. 6\n",
    "        output = self.out(concat_output)\n",
    "        output = F.softmax(output, dim=1)\n",
    "        # Return output and final hidden state\n",
    "        return output, hidden"
   ]
  },
  {
   "cell_type": "code",
   "execution_count": 15,
   "metadata": {},
   "outputs": [],
   "source": [
    "def maskNLLLoss(inp, target, mask):\n",
    "    nTotal = mask.sum()\n",
    "    crossEntropy = -torch.log(torch.gather(inp, 1, target.view(-1, 1)).squeeze(1))\n",
    "    loss = crossEntropy.masked_select(mask).mean()\n",
    "    loss = loss.to(device)\n",
    "    return loss, nTotal.item()\n",
    "    "
   ]
  },
  {
   "cell_type": "code",
   "execution_count": 16,
   "metadata": {},
   "outputs": [],
   "source": [
    "def train(input_variable, lengths, target_variable, mask, max_target_len, encoder, decoder, embedding,\n",
    "          encoder_optimizer, decoder_optimizer, batch_size, clip, max_length=MAX_LENGTH):\n",
    "\n",
    "    # Zero gradients\n",
    "    encoder_optimizer.zero_grad()\n",
    "    decoder_optimizer.zero_grad()\n",
    "\n",
    "    # Set device options\n",
    "    input_variable = input_variable.to(device)\n",
    "    lengths = lengths.to(device)\n",
    "    target_variable = target_variable.to(device)\n",
    "    mask = mask.to(device)\n",
    "\n",
    "    # Initialize variables\n",
    "    loss = 0\n",
    "    print_losses = []\n",
    "    n_totals = 0\n",
    "\n",
    "    # Forward pass through encoder\n",
    "    encoder_outputs, encoder_hidden = encoder(input_variable, lengths)\n",
    "\n",
    "    # Create initial decoder input (start with SOS tokens for each sentence)\n",
    "    decoder_input = torch.LongTensor([[SOS_token for _ in range(batch_size)]])\n",
    "    decoder_input = decoder_input.to(device)\n",
    "\n",
    "    # Set initial decoder hidden state to the encoder's final hidden state\n",
    "    decoder_hidden = encoder_hidden[:decoder.n_layers]\n",
    "\n",
    "    # Determine if we are using teacher forcing this iteration\n",
    "    use_teacher_forcing = True if random.random() < teacher_forcing_ratio else False\n",
    "\n",
    "    # Forward batch of sequences through decoder one time step at a time\n",
    "    if use_teacher_forcing:\n",
    "        for t in range(max_target_len):\n",
    "            decoder_output, decoder_hidden = decoder(\n",
    "                decoder_input, decoder_hidden, encoder_outputs\n",
    "            )\n",
    "            # Teacher forcing: next input is current target\n",
    "            decoder_input = target_variable[t].view(1, -1)\n",
    "            # Calculate and accumulate loss\n",
    "            mask_loss, nTotal = maskNLLLoss(decoder_output, target_variable[t], mask[t])\n",
    "            loss += mask_loss\n",
    "            print_losses.append(mask_loss.item() * nTotal)\n",
    "            n_totals += nTotal\n",
    "    else:\n",
    "        for t in range(max_target_len):\n",
    "            decoder_output, decoder_hidden = decoder(\n",
    "                decoder_input, decoder_hidden, encoder_outputs\n",
    "            )\n",
    "            # No teacher forcing: next input is decoder's own current output\n",
    "            _, topi = decoder_output.topk(1)\n",
    "            decoder_input = torch.LongTensor([[topi[i][0] for i in range(batch_size)]])\n",
    "            decoder_input = decoder_input.to(device)\n",
    "            # Calculate and accumulate loss\n",
    "            mask_loss, nTotal = maskNLLLoss(decoder_output, target_variable[t], mask[t])\n",
    "            loss += mask_loss\n",
    "            print_losses.append(mask_loss.item() * nTotal)\n",
    "            n_totals += nTotal\n",
    "\n",
    "    # Perform backpropatation\n",
    "    loss.backward()\n",
    "\n",
    "    # Clip gradients: gradients are modified in place\n",
    "    _ = nn.utils.clip_grad_norm_(encoder.parameters(), clip)\n",
    "    _ = nn.utils.clip_grad_norm_(decoder.parameters(), clip)\n",
    "\n",
    "    # Adjust model weights\n",
    "    encoder_optimizer.step()\n",
    "    decoder_optimizer.step()\n",
    "\n",
    "    return sum(print_losses) / n_totals"
   ]
  },
  {
   "cell_type": "code",
   "execution_count": 17,
   "metadata": {},
   "outputs": [],
   "source": [
    "def trainIters(model_name, voc, pairs, encoder, decoder, encoder_optimizer, decoder_optimizer, embedding, encoder_n_layers, decoder_n_layers, save_dir, n_iteration, batch_size, print_every, save_every, clip, corpus_name, loadFilename):\n",
    "\n",
    "    log = []\n",
    "    # Load batches for each iteration\n",
    "    training_batches = [batch2TrainData(voc, [random.choice(pairs) for _ in range(batch_size)])\n",
    "                      for _ in range(n_iteration)]\n",
    "\n",
    "    # Initializations\n",
    "    print('Initializing ...')\n",
    "    start_iteration = 1\n",
    "    print_loss = 0\n",
    "    if loadFilename:\n",
    "        start_iteration = checkpoint['iteration'] + 1\n",
    "\n",
    "    # Training loop\n",
    "    print(\"Training...\")\n",
    "    for iteration in range(start_iteration, n_iteration + 1):\n",
    "        training_batch = training_batches[iteration - 1]\n",
    "        # Extract fields from batch\n",
    "        input_variable, lengths, target_variable, mask, max_target_len = training_batch\n",
    "\n",
    "        # Run a training iteration with batch\n",
    "        loss = train(input_variable, lengths, target_variable, mask, max_target_len, encoder, decoder, embedding, encoder_optimizer, decoder_optimizer, batch_size, clip)\n",
    "        print_loss += loss\n",
    "\n",
    "        # Print progress\n",
    "        \n",
    "        if iteration % print_every == 0:\n",
    "            print_loss_avg = print_loss / print_every\n",
    "            print(\"\\nIteration: {}; Percent complete: {:.1f}%; Average loss: {:.4f}\".format(iteration, iteration / n_iteration * 100, print_loss_avg))\n",
    "            print_loss = 0\n",
    "            # print(\"start test\")\n",
    "            encoder.eval()\n",
    "            decoder.eval()\n",
    "            # print(\"Testing...\")\n",
    "            searcher = GreedySearchDecoder(encoder, decoder)\n",
    "            train_bleu_score, train_beam_score = evaluateTest(pairs, encoder, decoder, searcher, voc)\n",
    "            \n",
    "            test_bleu_score, test_beam_score = evaluateTest(test_pairs, encoder, decoder, searcher, voc)\n",
    "            print(\"train bleu score:{}\".format(train_bleu_score))\n",
    "            print(\"train beam score:{}\".format(train_beam_score))\n",
    "            print(\"test bleu score:{}\".format(test_bleu_score))\n",
    "            print(\"test beam score:{}\".format(test_beam_score))\n",
    "            print(\" \")\n",
    "            encoder.train()\n",
    "            decoder.train()\n",
    "\n",
    "            log.append((iteration,train_bleu_score,train_beam_score,test_bleu_score,test_beam_score))\n",
    "        # Save checkpoint\n",
    "        if (iteration % save_every == 0):\n",
    "            directory = os.path.join(save_dir, model_name, corpus_name, '{}-{}_{}'.format(encoder_n_layers, decoder_n_layers, hidden_size))\n",
    "            if not os.path.exists(directory):\n",
    "                os.makedirs(directory)\n",
    "            torch.save({\n",
    "                'iteration': iteration,\n",
    "                'en': encoder.state_dict(),\n",
    "                'de': decoder.state_dict(),\n",
    "                'en_opt': encoder_optimizer.state_dict(),\n",
    "                'de_opt': decoder_optimizer.state_dict(),\n",
    "                'loss': loss,\n",
    "                'voc_dict': voc.__dict__,\n",
    "                'embedding': embedding.state_dict()\n",
    "            }, os.path.join(directory, '{}_{}.tar'.format(iteration, 'checkpoint')))\n",
    "    return log"
   ]
  },
  {
   "cell_type": "code",
   "execution_count": 18,
   "metadata": {},
   "outputs": [],
   "source": [
    "class GreedySearchDecoder(nn.Module):\n",
    "    def __init__(self, encoder, decoder):\n",
    "        super(GreedySearchDecoder, self).__init__()\n",
    "        self.encoder = encoder\n",
    "        self.decoder = decoder\n",
    "\n",
    "    def forward(self, input_seq, input_length, max_length):\n",
    "        # Forward input through encoder model\n",
    "        encoder_outputs, encoder_hidden = self.encoder(input_seq, input_length)\n",
    "        # Prepare encoder's final hidden layer to be first hidden input to the decoder\n",
    "        decoder_hidden = encoder_hidden[:decoder.n_layers]\n",
    "        # Initialize decoder input with SOS_token\n",
    "        decoder_input = torch.ones(1, 1, device=device, dtype=torch.long) * SOS_token\n",
    "        # Initialize tensors to append decoded words to\n",
    "        all_tokens = torch.zeros([0], device=device, dtype=torch.long)\n",
    "        all_scores = torch.zeros([0], device=device)\n",
    "        # Iteratively decode one word token at a time\n",
    "        for _ in range(max_length):\n",
    "            # Forward pass through decoder\n",
    "            decoder_output, decoder_hidden = self.decoder(decoder_input, decoder_hidden, encoder_outputs)\n",
    "            # Obtain most likely word token and its softmax score\n",
    "            decoder_scores, decoder_input = torch.max(decoder_output, dim=1)\n",
    "            # Record token and score\n",
    "            all_tokens = torch.cat((all_tokens, decoder_input), dim=0)\n",
    "            all_scores = torch.cat((all_scores, decoder_scores), dim=0)\n",
    "            # Prepare current token to be next decoder input (add a dimension)\n",
    "            decoder_input = torch.unsqueeze(decoder_input, 0)\n",
    "        # Return collections of word tokens and scores\n",
    "        return all_tokens, all_scores"
   ]
  },
  {
   "cell_type": "code",
   "execution_count": 19,
   "metadata": {},
   "outputs": [
    {
     "ename": "RuntimeError",
     "evalue": "module compiled against API version 0xc but this version of numpy is 0xa",
     "output_type": "error",
     "traceback": [
      "\u001b[1;31m---------------------------------------------------------------------------\u001b[0m",
      "\u001b[1;31mRuntimeError\u001b[0m                              Traceback (most recent call last)",
      "\u001b[1;31mRuntimeError\u001b[0m: module compiled against API version 0xc but this version of numpy is 0xa"
     ]
    },
    {
     "ename": "RuntimeError",
     "evalue": "module compiled against API version 0xc but this version of numpy is 0xa",
     "output_type": "error",
     "traceback": [
      "\u001b[1;31m---------------------------------------------------------------------------\u001b[0m",
      "\u001b[1;31mRuntimeError\u001b[0m                              Traceback (most recent call last)",
      "\u001b[1;31mRuntimeError\u001b[0m: module compiled against API version 0xc but this version of numpy is 0xa"
     ]
    }
   ],
   "source": [
    "from nltk.translate.bleu_score import sentence_bleu\n",
    "from tqdm import tqdm\n",
    "\n",
    "def evaluate(encoder, decoder, searcher, voc, sentence, max_length=MAX_LENGTH):\n",
    "    ### Format input sentence as a batch\n",
    "    # words -> indexes\n",
    "    indexes_batch = [indexesFromSentence(voc, sentence)]\n",
    "    # Create lengths tensor\n",
    "    lengths = torch.tensor([len(indexes) for indexes in indexes_batch])\n",
    "    # Transpose dimensions of batch to match models' expectations\n",
    "    input_batch = torch.LongTensor(indexes_batch).transpose(0, 1)\n",
    "    # Use appropriate device\n",
    "    input_batch = input_batch.to(device)\n",
    "    lengths = lengths.to(device)\n",
    "    # Decode sentence with searcher\n",
    "    tokens, scores = searcher(input_batch, lengths, max_length)\n",
    "    # indexes -> words\n",
    "    decoded_words = [voc.index2word[token.item()] for token in tokens]\n",
    "    return decoded_words\n",
    "\n",
    "\n",
    "def evaluateInput(encoder, decoder, searcher, voc):\n",
    "    input_sentence = ''\n",
    "    while(1):\n",
    "        try:\n",
    "            # Get input sentence\n",
    "            input_sentence = input('> ')\n",
    "            # Check if it is quit case\n",
    "            if input_sentence == 'q' or input_sentence == 'quit': break\n",
    "            # Normalize sentence\n",
    "            input_sentence = normalizeString(input_sentence)\n",
    "            # Evaluate sentence\n",
    "            output_words = evaluate(encoder, decoder, searcher, voc, input_sentence)\n",
    "            # Format and print response sentence\n",
    "            output_words[:] = [x for x in output_words if not (x == 'EOS' or x == 'PAD')]\n",
    "            print('Bot:', ' '.join(output_words))\n",
    "\n",
    "        except KeyError:\n",
    "            print(\"Error: Encountered unknown word.\")\n",
    "\n",
    "def evaluateSentence(input_sentence, encoder, decoder, searcher, voc):\n",
    "    input_sentence = normalizeString(input_sentence)\n",
    "    output_words = evaluate(encoder, decoder, searcher, voc, input_sentence)\n",
    "    # Format and print response sentence\n",
    "    new_output_words = []\n",
    "    for x in output_words:\n",
    "        if x == \"EOS\" or x == \"PAD\":\n",
    "            break\n",
    "        new_output_words.append(x)\n",
    "    return \" \".join(new_output_words)\n",
    "\n",
    "\n",
    "def get_bleu_result(candidate, references):\n",
    "    candidate = \" \".join([candidate, candidate, candidate, candidate])\n",
    "\n",
    "    references = [\" \".join([reference, reference, reference, reference]) for reference in references]\n",
    "    references = [reference .split(\" \") for reference in references]\n",
    "    candidate = [item for item in candidate.split(\" \")]\n",
    "    score = sentence_bleu(references, candidate)\n",
    "    # print(reference, candidate)\n",
    "    return score\n",
    "\n",
    "def evaluateTest(pairs, encoder, decoder, searcher, voc, times =500, show = False):\n",
    "    scores = []\n",
    "    beam_scores = []\n",
    "    new_pair = [random.choice(pairs) for _ in range(times)]\n",
    "    \n",
    " \n",
    "    for i in tqdm(range(len(new_pair))):\n",
    "        input_sentence, output_sentence = new_pair[i]\n",
    "        beam_output_words = beam_evaluate(encoder, decoder, searcher, voc, input_sentence)\n",
    "        bss = [get_bleu_result(beam2tokens(end_word, voc), [output_sentence]) for end_word in beam_output_words]\n",
    "        # print(bss)\n",
    "#         print([beam2tokens(end_word, voc)  for end_word in beam_output_words])\n",
    "        beam_score = np.max(bss)\n",
    "        if i < 3:\n",
    "            show = True\n",
    "        else:\n",
    "            show = False\n",
    "  \n",
    "        try:\n",
    "            output_words = evaluateSentence(input_sentence, encoder, decoder, searcher, voc)\n",
    "            if show:\n",
    "                print(\"IN:\\t{}\".format(input_sentence))\n",
    "                print(\"PRED:\\t{}\".format(output_words))\n",
    "                print(\"REAL:\\t{}\".format(output_sentence))\n",
    "            bleu_score = get_bleu_result(output_words, [output_sentence])\n",
    "            scores.append(bleu_score)\n",
    "            beam_scores.append(beam_score)\n",
    "        except:\n",
    "            scores.append(0)\n",
    "            beam_scores.append(0)\n",
    "            pass\n",
    "    return np.mean(scores), np.mean(beam_scores)\n",
    "    # return scores\n",
    "\n",
    "\n"
   ]
  },
  {
   "cell_type": "code",
   "execution_count": 20,
   "metadata": {},
   "outputs": [],
   "source": [
    "import queue\n",
    "\n",
    "class Node(object):\n",
    "    def __init__(self, hidden, previous_node, decoder_input, attn, log_prob, length):\n",
    "        self.hidden = hidden\n",
    "        self.previous_node = previous_node\n",
    "        self.decoder_input = decoder_input\n",
    "        self.attn = attn\n",
    "        self.log_prob = log_prob\n",
    "        self.length = length  \n",
    "\n",
    "def beam_evaluate(encoder, decoder, searcher, voc, sentence, beam_width = 5, max_length = MAX_LENGTH):\n",
    "    ### Format input sentence as a batch\n",
    "    # words -> indexes\n",
    "    indexes_batch = [indexesFromSentence(voc, sentence)]\n",
    "    # Create lengths tensor\n",
    "    lengths = torch.tensor([len(indexes) for indexes in indexes_batch])\n",
    "    # Transpose dimensions of batch to match models' expectations\n",
    "    input_batch = torch.LongTensor(indexes_batch).transpose(0, 1)\n",
    "    # Use appropriate device\n",
    "    input_batch = input_batch.to(device)\n",
    "    input_length = lengths.to(device)### Format input sentence as a batch\n",
    "    \n",
    "\n",
    "    encoder_outputs, encoder_hidden = encoder(input_batch, input_length)\n",
    "    # Prepare encoder's final hidden layer to be first hidden input to the decoder\n",
    "    decoder_hidden = encoder_hidden[:decoder.n_layers]\n",
    "    # Initialize decoder input with SOS_token\n",
    "    decoder_attentions = None\n",
    "    decoder_input = torch.ones(1, 1, device=device, dtype=torch.long) * SOS_token\n",
    "    root = Node(decoder_hidden, None, decoder_input, decoder_attentions, 0, 1)\n",
    "    q = queue.Queue()\n",
    "    q.put(root)\n",
    "    \n",
    "    end_nodes = [] #最终节点的位置，用于回溯\n",
    "\n",
    "    while not q.empty():\n",
    "            candidates = []  #每一层的可能被拓展的节点，只需选取每个父节点的儿子节点中概率最大的k个即可\n",
    "            for _ in range(q.qsize()):\n",
    "                node = q.get()\n",
    "                decoder_input = node.decoder_input\n",
    "                decoder_hidden = node.hidden\n",
    "                decoder_attentions = node.attn\n",
    "                length = node.length\n",
    "                # 搜索终止条件\n",
    "                if decoder_input.item() == EOS_token or decoder_input.item() == PAD_token or node.length >= max_length:\n",
    "                    end_nodes.append(node)\n",
    "                    continue\n",
    "                decoder_output, decoder_hidden = decoder(decoder_input, decoder_hidden, encoder_outputs)\n",
    "#                 decoder_scores, decoder_input = torch.max(decoder_output, dim=1)\n",
    "#                 decoder_input = torch.unsqueeze(decoder_input, 0) \n",
    "                log_prob, indices = decoder_output.data.topk(beam_width) #选取某个父节点的儿子节点概率最大的k个\n",
    "#                 print(log_prob, indices)\n",
    "                # print(log_prob[0], indices[0])\n",
    "                for k in range(beam_width):\n",
    "                      index = indices[0][k].unsqueeze(0).unsqueeze(0)\n",
    "                    #   print(indices)\n",
    "                      log_p = log_prob[0][k]\n",
    "                      child = Node(decoder_hidden, node, index, decoder_attentions, node.log_prob + torch.log(log_p), length + 1)\n",
    "                      candidates.append((child.log_prob, child))  #建立候选儿子节点，注意这里概率需要累计\n",
    "                      # print((node.log_prob + log_p, child)\n",
    "            candidates = sorted(candidates, key=lambda x:x[0], reverse=True) #候选节点排序\n",
    "            length = min(len(candidates), beam_width)  #取前k个，如果不足k个，则全部入选\n",
    "            # print(candidates)\n",
    "            # print(\"\\\\\")\n",
    "            for i in range(length):              \n",
    "                q.put(candidates[i][1])\n",
    "    end_nodes = sorted(end_nodes, key=lambda x:x.log_prob, reverse=True) #候选节点排序\n",
    "#     for node in end_nodes[:beam_width]:\n",
    "#         print(node.log_prob)\n",
    "    return end_nodes[:beam_width]\n",
    "\n",
    "def beam2tokens(end_node, voc):\n",
    "    words = []\n",
    "    node = end_node\n",
    "    while node.previous_node != None:\n",
    "        index = node.decoder_input\n",
    "        word = voc.index2word[index.item()]\n",
    "        words.insert(0, word)\n",
    "        node = node.previous_node\n",
    "    return \" \".join(words[:-1])\n",
    "\n",
    "\n",
    "\n",
    "def beam_predict(encoder, decoder, beam, pair, lang, show = True):\n",
    "    bs = beam_search(encoder, decoder, pair[0], lang, beam)\n",
    "    ss = [beam2tokens(node, lang) for node in bs]\n",
    "    vs = [node.log_prob for node in bs]\n",
    "    scores = [get_bleu_result(\" \".join(s), pair[1]) for s in ss]\n",
    "    max_score = max(scores)\n",
    "    if show:\n",
    "        max_index = scores.index(max(scores))\n",
    "        print('>', pair[0])\n",
    "        print('=', pair[1])\n",
    "        print('<', \" \".join(ss[max_index][:-1]), vs[max_index])\n",
    "        # for (index, s) in enumerate(ss):\n",
    "        #     print('<', \" \".join(s[:-1]), vs[index])\n",
    "        print(\"validation beam bleu score\",max_score)\n",
    "    return max_score, vs\n",
    "\n"
   ]
  },
  {
   "cell_type": "code",
   "execution_count": 21,
   "metadata": {
    "tags": []
   },
   "outputs": [
    {
     "name": "stdout",
     "output_type": "stream",
     "text": [
      "Building encoder and decoder ...\n",
      "Models built and ready to go!\n"
     ]
    }
   ],
   "source": [
    "model_name = 'cb_model'\n",
    "attn_model = 'dot'\n",
    "#attn_model = 'general'\n",
    "#attn_model = 'concat'\n",
    "hidden_size = 500\n",
    "encoder_n_layers = 2\n",
    "decoder_n_layers = 2\n",
    "dropout = 0.1\n",
    "batch_size = 32\n",
    "\n",
    "# Set checkpoint to load from; set to None if starting from scratch\n",
    "loadFilename = None\n",
    "checkpoint_iter = 4000\n",
    "# loadFilename = os.path.join(save_dir, model_name, corpus_name,\n",
    "#                            '{}-{}_{}'.format(encoder_n_layers, decoder_n_layers, hidden_size),\n",
    "#                            '{}_checkpoint.tar'.format(checkpoint_iter))\n",
    "\n",
    "\n",
    "# Load model if a loadFilename is provided\n",
    "if loadFilename:\n",
    "    # If loading on same machine the model was trained on\n",
    "    checkpoint = torch.load(loadFilename)\n",
    "    # If loading a model trained on GPU to CPU\n",
    "#     checkpoint = torch.load(loadFilename, map_location=torch.device('cuda'))\n",
    "    encoder_sd = checkpoint['en']\n",
    "    decoder_sd = checkpoint['de']\n",
    "    encoder_optimizer_sd = checkpoint['en_opt']\n",
    "    decoder_optimizer_sd = checkpoint['de_opt']\n",
    "    embedding_sd = checkpoint['embedding']\n",
    "    voc.__dict__ = checkpoint['voc_dict']\n",
    "\n",
    "\n",
    "print('Building encoder and decoder ...')\n",
    "# Initialize word embeddings\n",
    "embedding = nn.Embedding(voc.num_words, hidden_size)\n",
    "if loadFilename:\n",
    "    embedding.load_state_dict(embedding_sd)\n",
    "# Initialize encoder & decoder models\n",
    "encoder = EncoderRNN(hidden_size, embedding, encoder_n_layers, dropout)\n",
    "decoder = LuongAttnDecoderRNN(attn_model, embedding, hidden_size, voc.num_words, decoder_n_layers, dropout)\n",
    "if loadFilename:\n",
    "    encoder.load_state_dict(encoder_sd)\n",
    "    decoder.load_state_dict(decoder_sd)\n",
    "# Use appropriate device\n",
    "encoder = encoder.to(device)\n",
    "decoder = decoder.to(device)\n",
    "print('Models built and ready to go!')"
   ]
  },
  {
   "cell_type": "code",
   "execution_count": 22,
   "metadata": {
    "tags": []
   },
   "outputs": [
    {
     "name": "stdout",
     "output_type": "stream",
     "text": [
      "Building optimizers ...\n",
      "Starting Training!\n"
     ]
    }
   ],
   "source": [
    "# Configure training/optimization\n",
    "clip = 50.0\n",
    "teacher_forcing_ratio = 1.0\n",
    "learning_rate = 0.0001\n",
    "decoder_learning_ratio = 5.0\n",
    "n_iteration = 4000\n",
    "print_every = 500\n",
    "save_every = 500\n",
    "\n",
    "# Ensure dropout layers are in train mode\n",
    "encoder.train()\n",
    "decoder.train()\n",
    "\n",
    "# Initialize optimizers\n",
    "print('Building optimizers ...')\n",
    "encoder_optimizer = optim.Adam(encoder.parameters(), lr=learning_rate)\n",
    "decoder_optimizer = optim.Adam(decoder.parameters(), lr=learning_rate * decoder_learning_ratio)\n",
    "if loadFilename:\n",
    "    encoder_optimizer.load_state_dict(encoder_optimizer_sd)\n",
    "    decoder_optimizer.load_state_dict(decoder_optimizer_sd)\n",
    "\n",
    "# If you have cuda, configure cuda to call\n",
    "for state in encoder_optimizer.state.values():\n",
    "    for k, v in state.items():\n",
    "        if isinstance(v, torch.Tensor):\n",
    "            state[k] = v.cuda()\n",
    "\n",
    "for state in decoder_optimizer.state.values():\n",
    "    for k, v in state.items():\n",
    "        if isinstance(v, torch.Tensor):\n",
    "            state[k] = v.cuda()\n",
    "\n",
    "# Run training iterations\n",
    "print(\"Starting Training!\")\n",
    "# trainIters(model_name, voc, pairs, encoder, decoder, encoder_optimizer, decoder_optimizer,\n",
    "#            embedding, encoder_n_layers, decoder_n_layers, save_dir, n_iteration, batch_size,\n",
    "#            print_every, save_every, clip, corpus_name, loadFilename)"
   ]
  },
  {
   "cell_type": "code",
   "execution_count": 23,
   "metadata": {},
   "outputs": [],
   "source": [
    "# Set dropout layers to eval mode\n",
    "encoder.eval()\n",
    "decoder.eval()\n",
    "\n",
    "# Initialize search module\n",
    "searcher = GreedySearchDecoder(encoder, decoder)\n",
    "\n",
    "# Begin chatting (uncomment and run the following line to begin)\n",
    "# evaluateInput(encoder, decoder, searcher, voc)"
   ]
  },
  {
   "cell_type": "code",
   "execution_count": 24,
   "metadata": {
    "tags": []
   },
   "outputs": [],
   "source": [
    "# evaluateInput(encoder, decoder, searcher, voc)"
   ]
  },
  {
   "cell_type": "code",
   "execution_count": 25,
   "metadata": {
    "tags": []
   },
   "outputs": [],
   "source": [
    "# evaluateTest(test_pairs, encoder, decoder, searcher, voc)"
   ]
  },
  {
   "cell_type": "code",
   "execution_count": 26,
   "metadata": {},
   "outputs": [
    {
     "data": {
      "text/plain": [
       "96"
      ]
     },
     "execution_count": 26,
     "metadata": {},
     "output_type": "execute_result"
    }
   ],
   "source": [
    "def make_parameter():\n",
    "    hidden_size = np.linspace(50, 500, 4).astype(int)\n",
    "    encoder_n_layers = [2]\n",
    "    decoder_n_layers = [2]\n",
    "    dropout = [0.1]\n",
    "    batch_size = np.logspace(2, 3, num=2, base=4).astype(int)\n",
    "    teacher_forcing_ratio = [1.0]\n",
    "    learning_rate = np.logspace(2,4,num=3,base=0.1)\n",
    "    decoder_learning_ratio = np.linspace(1, 7, 4)\n",
    "    result = []\n",
    "    for x1 in hidden_size:\n",
    "        for x2 in encoder_n_layers:\n",
    "            for x3 in decoder_n_layers:\n",
    "                for x4 in dropout:\n",
    "                    for x5 in batch_size:\n",
    "                        for x6 in teacher_forcing_ratio:\n",
    "                            for x7 in learning_rate:\n",
    "                                for x8 in decoder_learning_ratio:\n",
    "                                    result.append((x1,x2,x3,x4,x5,x6,x7,x8))\n",
    "    return result\n",
    "len(make_parameter())"
   ]
  },
  {
   "cell_type": "code",
   "execution_count": 27,
   "metadata": {},
   "outputs": [],
   "source": [
    "def make_new_parameter():\n",
    "    return [\n",
    "        (200, 2, 2, 0.1, 64, 5, 0.001, 1.0)\n",
    "        ,(500, 2, 2, 0.1, 64, 5, 0.001, 1.0)\n",
    "        ,(1000, 2, 2, 0.1, 64, 5, 0.001, 1.0)\n",
    "    ]"
   ]
  },
  {
   "cell_type": "code",
   "execution_count": 28,
   "metadata": {
    "tags": []
   },
   "outputs": [
    {
     "name": "stdout",
     "output_type": "stream",
     "text": [
      "200 2 2 0.1 64 5 0.001 1.0\n",
      "Initializing ...\n",
      "Training...\n",
      "\n",
      "Iteration: 1000; Percent complete: 5.0%; Average loss: 2.0536\n"
     ]
    },
    {
     "name": "stderr",
     "output_type": "stream",
     "text": [
      "  0%|                                                                                          | 0/500 [00:00<?, ?it/s]C:\\Users\\sy\\Anaconda3\\lib\\site-packages\\nltk\\translate\\bleu_score.py:503: UserWarning: \n",
      "The hypothesis contains 0 counts of 3-gram overlaps.\n",
      "Therefore the BLEU score evaluates to 0, independently of\n",
      "how many N-gram overlaps of lower order it contains.\n",
      "Consider using lower n-gram order or use SmoothingFunction()\n",
      "  warnings.warn(_msg)\n",
      "C:\\Users\\sy\\Anaconda3\\lib\\site-packages\\nltk\\translate\\bleu_score.py:503: UserWarning: \n",
      "The hypothesis contains 0 counts of 4-gram overlaps.\n",
      "Therefore the BLEU score evaluates to 0, independently of\n",
      "how many N-gram overlaps of lower order it contains.\n",
      "Consider using lower n-gram order or use SmoothingFunction()\n",
      "  warnings.warn(_msg)\n",
      "C:\\Users\\sy\\Anaconda3\\lib\\site-packages\\nltk\\translate\\bleu_score.py:503: UserWarning: \n",
      "The hypothesis contains 0 counts of 2-gram overlaps.\n",
      "Therefore the BLEU score evaluates to 0, independently of\n",
      "how many N-gram overlaps of lower order it contains.\n",
      "Consider using lower n-gram order or use SmoothingFunction()\n",
      "  warnings.warn(_msg)\n"
     ]
    },
    {
     "name": "stdout",
     "output_type": "stream",
     "text": [
      "IN:\tprotected static void add ( Map < String , Collection > map , String key , Collection value ) { Collection < Container . Entry > collection = map . get ( key ) ; if ( collection == null ) {\n",
      "PRED:\treturn new IllegalArgumentException ( \" \" ) ;\n",
      "REAL:\tmap . put ( key , collection = new HashSet < > ( ) ) ;\n"
     ]
    },
    {
     "name": "stderr",
     "output_type": "stream",
     "text": [
      "\r",
      "  0%|▏                                                                                 | 1/500 [00:00<04:33,  1.83it/s]"
     ]
    },
    {
     "name": "stdout",
     "output_type": "stream",
     "text": [
      "IN:\tpublic void accept ( AllTypes allTypes ) throws Exception { if ( subscriberCalled . incrementAndGet ( ) == 2 ) {\n",
      "PRED:\tif ( ! ObjectUtil . isBlank ( expected . get ( \" \" ) ) ) {\n",
      "REAL:\tlooperThread . testComplete ( ) ;\n"
     ]
    },
    {
     "name": "stderr",
     "output_type": "stream",
     "text": [
      "\r",
      "  0%|▎                                                                                 | 2/500 [00:00<04:16,  1.94it/s]"
     ]
    },
    {
     "name": "stdout",
     "output_type": "stream",
     "text": [
      "IN:\tpublic Builder setMetadata ( io . kubernetes . client . proto . Meta . ObjectMeta . Builder builderForValue ) { if ( metadataBuilder_ == null ) {\n",
      "PRED:\tthrow new NullPointerException ( ) ;\n",
      "REAL:\tmetadata_ = builderForValue . build ( ) ;\n"
     ]
    },
    {
     "name": "stderr",
     "output_type": "stream",
     "text": [
      "100%|████████████████████████████████████████████████████████████████████████████████| 500/500 [03:34<00:00,  2.29it/s]\n",
      "  0%|                                                                                          | 0/500 [00:00<?, ?it/s]"
     ]
    },
    {
     "name": "stdout",
     "output_type": "stream",
     "text": [
      "IN:\tpublic Number getExpectedValue ( int start , int length ) { long count = 0 ; for ( int i = start ; i < start + length ; i ++ ) { if ( i % 2 == 0 ) {\n",
      "PRED:\treturn ( i ) 0 ;\n",
      "REAL:\tcount ++ ;\n"
     ]
    },
    {
     "name": "stderr",
     "output_type": "stream",
     "text": [
      "\r",
      "  0%|▏                                                                                 | 1/500 [00:00<03:53,  2.14it/s]"
     ]
    },
    {
     "name": "stdout",
     "output_type": "stream",
     "text": [
      "IN:\tpublic Builder clear ( ) { super . clear ( ) ; username_ = \" \" ;\n",
      "PRED:\tbitField0_ = ( bitField0_ & ~ 0x00000001 ) ;\n",
      "REAL:\tbitField0_ = ( bitField0_ & ~ 0x00000001 ) ;\n"
     ]
    },
    {
     "name": "stderr",
     "output_type": "stream",
     "text": [
      "\r",
      "  0%|▎                                                                                 | 2/500 [00:00<03:57,  2.10it/s]"
     ]
    },
    {
     "name": "stdout",
     "output_type": "stream",
     "text": [
      "IN:\tpublic void process ( WatchedEvent event ) { ThreadUtil . sleep ( 200 ) ; if ( ObjectUtil . isBlank ( event ) ) { return ;\n",
      "PRED:\t}\n",
      "REAL:\t}\n"
     ]
    },
    {
     "name": "stderr",
     "output_type": "stream",
     "text": [
      "100%|████████████████████████████████████████████████████████████████████████████████| 500/500 [03:32<00:00,  2.43it/s]\n"
     ]
    },
    {
     "name": "stdout",
     "output_type": "stream",
     "text": [
      "train bleu score:0.4316691450598967\n",
      "train beam score:0.5864982831362406\n",
      "test bleu score:0.4547526927478595\n",
      "test beam score:0.5692146178054965\n",
      " \n",
      "\n",
      "Iteration: 2000; Percent complete: 10.0%; Average loss: 0.7351\n"
     ]
    },
    {
     "name": "stderr",
     "output_type": "stream",
     "text": [
      "\r",
      "  0%|                                                                                          | 0/500 [00:00<?, ?it/s]"
     ]
    },
    {
     "name": "stdout",
     "output_type": "stream",
     "text": [
      "IN:\tpublic void releaseConnection ( ) { if ( ! ObjectUtil . isBlank ( this . zk ) ) { try { this . zk . close ( ) ; } catch ( InterruptedException e ) {\n",
      "PRED:\t}\n",
      "REAL:\te . printStackTrace ( ) ;\n"
     ]
    },
    {
     "name": "stderr",
     "output_type": "stream",
     "text": [
      "\r",
      "  0%|▏                                                                                 | 1/500 [00:00<04:09,  2.00it/s]"
     ]
    },
    {
     "name": "stdout",
     "output_type": "stream",
     "text": [
      "IN:\tpublic void testRandom ( ) throws FileNotFoundException , IOException { testRandom ( 1 ) ; testRandom ( 2 ) ; testRandom ( 3 ) ;\n",
      "PRED:\ttestRandom ( ) ;\n",
      "REAL:\ttestRandom ( 1024 ) ;\n"
     ]
    },
    {
     "name": "stderr",
     "output_type": "stream",
     "text": [
      "\r",
      "  0%|▎                                                                                 | 2/500 [00:01<04:20,  1.92it/s]"
     ]
    },
    {
     "name": "stdout",
     "output_type": "stream",
     "text": [
      "IN:\tprivate String [ ] getSupportedProtocols ( ) { final List < String > supportedProtocols = configuration . getSupportedProtocols ( ) ; if ( supportedProtocols == null ) {\n",
      "PRED:\treturn null ;\n",
      "REAL:\treturn null ;\n"
     ]
    },
    {
     "name": "stderr",
     "output_type": "stream",
     "text": [
      "100%|████████████████████████████████████████████████████████████████████████████████| 500/500 [03:25<00:00,  2.62it/s]\n",
      "  0%|                                                                                          | 0/500 [00:00<?, ?it/s]"
     ]
    },
    {
     "name": "stdout",
     "output_type": "stream",
     "text": [
      "IN:\tpublic io . kubernetes . client . proto . Meta . ObjectMetaOrBuilder getMetadataOrBuilder ( ) { if ( metadataBuilder_ != null ) { return metadataBuilder_ . getMessageOrBuilder ( ) ; } else {\n",
      "PRED:\treturn metadata_ == null ? io . kubernetes . client . proto . Meta . ObjectMeta . getDefaultInstance ( ) : metadata_ ;\n",
      "REAL:\treturn metadata_ == null ? io . kubernetes . client . proto . Meta . ObjectMeta . getDefaultInstance ( ) : metadata_ ;\n"
     ]
    },
    {
     "name": "stderr",
     "output_type": "stream",
     "text": [
      "\r",
      "  0%|▏                                                                                 | 1/500 [00:00<03:47,  2.19it/s]"
     ]
    },
    {
     "name": "stdout",
     "output_type": "stream",
     "text": [
      "IN:\tpublic Builder clearMetadata ( ) { if ( metadataBuilder_ == null ) { metadata_ = null ; onChanged ( ) ; }\n",
      "PRED:\telse {\n",
      "REAL:\telse {\n"
     ]
    },
    {
     "name": "stderr",
     "output_type": "stream",
     "text": [
      "\r",
      "  0%|▎                                                                                 | 2/500 [00:00<03:44,  2.21it/s]"
     ]
    },
    {
     "name": "stdout",
     "output_type": "stream",
     "text": [
      "IN:\tpublic void call ( String s ) { _log ( String . format ( \" \" , s ) ) ;\n",
      "PRED:\ttry ( InterruptedException i = 0 ;\n",
      "REAL:\t}\n"
     ]
    },
    {
     "name": "stderr",
     "output_type": "stream",
     "text": [
      "100%|████████████████████████████████████████████████████████████████████████████████| 500/500 [03:24<00:00,  2.63it/s]\n"
     ]
    },
    {
     "name": "stdout",
     "output_type": "stream",
     "text": [
      "train bleu score:0.665584069862736\n",
      "train beam score:0.7955932760150883\n",
      "test bleu score:0.5311472992508302\n",
      "test beam score:0.6219505097584258\n",
      " \n",
      "\n",
      "Iteration: 3000; Percent complete: 15.0%; Average loss: 0.3202\n"
     ]
    },
    {
     "name": "stderr",
     "output_type": "stream",
     "text": [
      "\r",
      "  0%|                                                                                          | 0/500 [00:00<?, ?it/s]"
     ]
    },
    {
     "name": "stdout",
     "output_type": "stream",
     "text": [
      "IN:\tpublic void assertNull ( Object object ) { if ( object != null ) { assertNull ( \" \" + object . toString ( ) , object ) ; }\n",
      "PRED:\t}\n",
      "REAL:\t}\n"
     ]
    },
    {
     "name": "stderr",
     "output_type": "stream",
     "text": [
      "\r",
      "  0%|▏                                                                                 | 1/500 [00:00<03:48,  2.18it/s]"
     ]
    },
    {
     "name": "stdout",
     "output_type": "stream",
     "text": [
      "IN:\tpublic void onSuccess ( T value ) { if ( next != null ) { next . onSuccess ( value ) ; }\n",
      "PRED:\t}\n",
      "REAL:\t}\n"
     ]
    },
    {
     "name": "stderr",
     "output_type": "stream",
     "text": [
      "\r",
      "  0%|▎                                                                                 | 2/500 [00:00<03:44,  2.21it/s]"
     ]
    },
    {
     "name": "stdout",
     "output_type": "stream",
     "text": [
      "IN:\tpublic void placeBlock ( GlowPlayer player , GlowBlockState state , BlockFace face , ItemStack holding , Vector clickedLoc ) {\n",
      "PRED:\tsuper . placeBlock ( player , state , face , holding , clickedLoc ) ;\n",
      "REAL:\tsuper . placeBlock ( player , state , face , holding , clickedLoc ) ;\n"
     ]
    },
    {
     "name": "stderr",
     "output_type": "stream",
     "text": [
      "100%|████████████████████████████████████████████████████████████████████████████████| 500/500 [03:22<00:00,  2.53it/s]\n",
      "  0%|                                                                                          | 0/500 [00:00<?, ?it/s]"
     ]
    },
    {
     "name": "stdout",
     "output_type": "stream",
     "text": [
      "IN:\tpublic Builder setUser ( io . kubernetes . client . proto . V1Authentication . UserInfo . Builder builderForValue ) {\n",
      "PRED:\tif ( specBuilder_ == null ) {\n",
      "REAL:\tif ( userBuilder_ == null ) {\n"
     ]
    },
    {
     "name": "stderr",
     "output_type": "stream",
     "text": [
      "\r",
      "  0%|▏                                                                                 | 1/500 [00:00<01:19,  6.31it/s]"
     ]
    },
    {
     "name": "stdout",
     "output_type": "stream",
     "text": [
      "IN:\tprivate static final Object [ ] [ ] OBJECTS = new Object [ ] [ ] { { \" \" , \" \" } , { \" \" , \" \" }\n",
      "PRED:\t, {\n",
      "REAL:\t, {\n"
     ]
    },
    {
     "name": "stderr",
     "output_type": "stream",
     "text": [
      "\r",
      "  0%|▎                                                                                 | 2/500 [00:00<02:05,  3.97it/s]"
     ]
    },
    {
     "name": "stdout",
     "output_type": "stream",
     "text": [
      "IN:\tprivate void maybeForceBuilderInitialization ( ) { if ( com . google . protobuf . GeneratedMessageV3 . alwaysUseFieldBuilders ) { getMetadataFieldBuilder ( ) ; getItemsFieldBuilder ( ) ; }\n",
      "PRED:\t}\n",
      "REAL:\t}\n"
     ]
    },
    {
     "name": "stderr",
     "output_type": "stream",
     "text": [
      "100%|████████████████████████████████████████████████████████████████████████████████| 500/500 [03:22<00:00,  2.45it/s]\n"
     ]
    },
    {
     "name": "stdout",
     "output_type": "stream",
     "text": [
      "train bleu score:0.7941391888791757\n",
      "train beam score:0.9083662981926207\n",
      "test bleu score:0.5938051644410819\n",
      "test beam score:0.6831626571197119\n",
      " \n",
      "\n",
      "Iteration: 4000; Percent complete: 20.0%; Average loss: 0.1610\n"
     ]
    },
    {
     "name": "stderr",
     "output_type": "stream",
     "text": [
      "\r",
      "  0%|                                                                                          | 0/500 [00:00<?, ?it/s]"
     ]
    },
    {
     "name": "stdout",
     "output_type": "stream",
     "text": [
      "IN:\tprivate Type [ ] getTypes ( Class < ? > ... src ) {\n",
      "PRED:\tType [ ] [ ] = new Type [ src . length ] ;\n",
      "REAL:\tType [ ] result = new Type [ src . length ] ;\n"
     ]
    },
    {
     "name": "stderr",
     "output_type": "stream",
     "text": [
      "\r",
      "  0%|▏                                                                                 | 1/500 [00:00<04:02,  2.05it/s]"
     ]
    },
    {
     "name": "stdout",
     "output_type": "stream",
     "text": [
      "IN:\tprivate WildcardTypeName ( List < TypeName > upperBounds , List < TypeName > lowerBounds ) {\n",
      "PRED:\tthis ( upperBounds , lowerBounds , new ArrayList < > ( ) ) ;\n",
      "REAL:\tthis ( upperBounds , lowerBounds , new ArrayList < > ( ) ) ;\n"
     ]
    },
    {
     "name": "stderr",
     "output_type": "stream",
     "text": [
      "\r",
      "  0%|▎                                                                                 | 2/500 [00:00<03:57,  2.09it/s]"
     ]
    },
    {
     "name": "stdout",
     "output_type": "stream",
     "text": [
      "IN:\tprivate void ensureAudiencesIsMutable ( ) { if ( ! ( ( bitField0_ & 0x00000004 ) == 0x00000004 ) ) { audiences_ = new com . google . protobuf . LazyStringArrayList ( audiences_ ) ; bitField0_ |= 0x00000004 ;\n",
      "PRED:\t}\n",
      "REAL:\t}\n"
     ]
    },
    {
     "name": "stderr",
     "output_type": "stream",
     "text": [
      "100%|████████████████████████████████████████████████████████████████████████████████| 500/500 [03:32<00:00,  2.49it/s]\n",
      "  0%|                                                                                          | 0/500 [00:00<?, ?it/s]"
     ]
    },
    {
     "name": "stdout",
     "output_type": "stream",
     "text": [
      "IN:\tpublic void reset ( ) {\n",
      "PRED:\tsynchronized ( this . lock ) {\n",
      "REAL:\tsynchronized ( this . lock ) {\n"
     ]
    },
    {
     "name": "stderr",
     "output_type": "stream",
     "text": [
      "\r",
      "  0%|▏                                                                                 | 1/500 [00:00<03:44,  2.22it/s]"
     ]
    },
    {
     "name": "stdout",
     "output_type": "stream",
     "text": [
      "IN:\tpublic Builder setItems ( int index , java . lang . String value ) {\n",
      "PRED:\tif ( value == null ) {\n",
      "REAL:\tif ( value == null ) {\n"
     ]
    },
    {
     "name": "stderr",
     "output_type": "stream",
     "text": [
      "\r",
      "  0%|▎                                                                                 | 2/500 [00:00<03:43,  2.23it/s]"
     ]
    },
    {
     "name": "stdout",
     "output_type": "stream",
     "text": [
      "IN:\tpublic boolean equals ( Object o ) { if ( this == o ) { return true ; }\n",
      "PRED:\tif ( o == null || getClass ( ) != o . getClass ( ) ) {\n",
      "REAL:\tif ( o == null || getClass ( ) != o . getClass ( ) ) {\n"
     ]
    },
    {
     "name": "stderr",
     "output_type": "stream",
     "text": [
      "100%|████████████████████████████████████████████████████████████████████████████████| 500/500 [03:31<00:00,  2.18it/s]\n"
     ]
    },
    {
     "name": "stdout",
     "output_type": "stream",
     "text": [
      "train bleu score:0.8666501100397299\n",
      "train beam score:0.9625313312195879\n",
      "test bleu score:0.6359219924303897\n",
      "test beam score:0.7079890869859132\n",
      " \n",
      "\n",
      "Iteration: 5000; Percent complete: 25.0%; Average loss: 0.1031\n"
     ]
    },
    {
     "name": "stderr",
     "output_type": "stream",
     "text": [
      "\r",
      "  0%|                                                                                          | 0/500 [00:00<?, ?it/s]"
     ]
    },
    {
     "name": "stdout",
     "output_type": "stream",
     "text": [
      "IN:\tprotected String [ ] getExpectSource ( ) {\n",
      "PRED:\treturn new String [ ] {\n",
      "REAL:\treturn new String [ ] {\n"
     ]
    },
    {
     "name": "stderr",
     "output_type": "stream",
     "text": [
      "\r",
      "  0%|▏                                                                                 | 1/500 [00:00<04:12,  1.98it/s]"
     ]
    },
    {
     "name": "stdout",
     "output_type": "stream",
     "text": [
      "IN:\tprivate static String concat ( String contextPath , String session ) { if ( session != null ) { return String . format ( \" \" , contextPath , session ) ; }\n",
      "PRED:\treturn contextPath ;\n",
      "REAL:\treturn contextPath ;\n"
     ]
    },
    {
     "name": "stderr",
     "output_type": "stream",
     "text": [
      "\r",
      "  0%|▎                                                                                 | 2/500 [00:00<04:05,  2.03it/s]"
     ]
    },
    {
     "name": "stdout",
     "output_type": "stream",
     "text": [
      "IN:\tpublic Object apply ( @ Nonnull Context ctx ) { try {\n",
      "PRED:\tMaybe result = ( Maybe ) next . apply ( ctx ) ;\n",
      "REAL:\tMaybe result = ( Maybe ) next . apply ( ctx ) ;\n"
     ]
    },
    {
     "name": "stderr",
     "output_type": "stream",
     "text": [
      "100%|████████████████████████████████████████████████████████████████████████████████| 500/500 [03:33<00:00,  2.34it/s]\n",
      "  0%|                                                                                          | 0/500 [00:00<?, ?it/s]"
     ]
    },
    {
     "name": "stdout",
     "output_type": "stream",
     "text": [
      "IN:\tpublic com . google . protobuf . ExtensionRegistry assignDescriptors ( com . google . protobuf . Descriptors . FileDescriptor root ) { descriptor = root ;\n",
      "PRED:\treturn null ;\n",
      "REAL:\treturn null ;\n"
     ]
    },
    {
     "name": "stderr",
     "output_type": "stream",
     "text": [
      "\r",
      "  0%|▏                                                                                 | 1/500 [00:00<02:00,  4.14it/s]"
     ]
    },
    {
     "name": "stdout",
     "output_type": "stream",
     "text": [
      "IN:\tpublic static Builder builder ( ClassName type ) { checkNotNull ( type , \" \" ) ; return new Builder ( type ) ;\n",
      "PRED:\t}\n",
      "REAL:\t}\n"
     ]
    },
    {
     "name": "stderr",
     "output_type": "stream",
     "text": [
      "\r",
      "  0%|▎                                                                                 | 2/500 [00:00<02:32,  3.27it/s]"
     ]
    },
    {
     "name": "stdout",
     "output_type": "stream",
     "text": [
      "IN:\tpublic int drainTo ( Collection < ? super E > c ) { int rv = 0 ; E e ; while ( ( e = poll ( ) ) != null ) { c . add ( e ) ; rv ++ ; } return rv ;\n",
      "PRED:\t}\n",
      "REAL:\t}\n"
     ]
    },
    {
     "name": "stderr",
     "output_type": "stream",
     "text": [
      "100%|████████████████████████████████████████████████████████████████████████████████| 500/500 [03:28<00:00,  3.07it/s]\n"
     ]
    },
    {
     "name": "stdout",
     "output_type": "stream",
     "text": [
      "train bleu score:0.9173083866929057\n",
      "train beam score:0.9793573082819628\n",
      "test bleu score:0.5999064329350867\n",
      "test beam score:0.6857112435811072\n",
      " \n",
      "\n",
      "Iteration: 6000; Percent complete: 30.0%; Average loss: 0.0694\n"
     ]
    },
    {
     "name": "stderr",
     "output_type": "stream",
     "text": [
      "\r",
      "  0%|                                                                                          | 0/500 [00:00<?, ?it/s]"
     ]
    },
    {
     "name": "stdout",
     "output_type": "stream",
     "text": [
      "IN:\tpublic SessionState ( SessionState copy ) { this . sessionStructure = copy . sessionStructure . toBuilder ( ) . build ( ) ;\n",
      "PRED:\t}\n",
      "REAL:\t}\n"
     ]
    },
    {
     "name": "stderr",
     "output_type": "stream",
     "text": [
      "\r",
      "  0%|▏                                                                                 | 1/500 [00:00<03:49,  2.17it/s]"
     ]
    },
    {
     "name": "stdout",
     "output_type": "stream",
     "text": [
      "IN:\tpublic static io . kubernetes . client . proto . V1Authentication . TokenReviewStatus parseFrom ( java . io . InputStream input , com . google . protobuf . ExtensionRegistryLite extensionRegistry ) throws java . io . IOException {\n",
      "PRED:\treturn com . google . protobuf . GeneratedMessageV3 . parseWithIOException ( PARSER , input , extensionRegistry ) ;\n",
      "REAL:\treturn com . google . protobuf . GeneratedMessageV3 . parseWithIOException ( PARSER , input , extensionRegistry ) ;\n"
     ]
    },
    {
     "name": "stderr",
     "output_type": "stream",
     "text": [
      "\r",
      "  0%|▎                                                                                 | 2/500 [00:00<03:54,  2.12it/s]"
     ]
    },
    {
     "name": "stdout",
     "output_type": "stream",
     "text": [
      "IN:\tpublic static io . kubernetes . client . proto . Runtime . Unknown parseFrom ( java . nio . ByteBuffer data ) throws com . google . protobuf . InvalidProtocolBufferException {\n",
      "PRED:\treturn PARSER . parseFrom ( data ) ;\n",
      "REAL:\treturn PARSER . parseFrom ( data ) ;\n"
     ]
    },
    {
     "name": "stderr",
     "output_type": "stream",
     "text": [
      "100%|████████████████████████████████████████████████████████████████████████████████| 500/500 [03:30<00:00,  2.66it/s]\n",
      "  0%|                                                                                          | 0/500 [00:00<?, ?it/s]"
     ]
    },
    {
     "name": "stdout",
     "output_type": "stream",
     "text": [
      "IN:\tpublic static io . kubernetes . client . proto . V1Batch . JobList parseFrom ( java . io . InputStream input , com . google . protobuf . ExtensionRegistryLite extensionRegistry ) throws java . io . IOException {\n",
      "PRED:\treturn com . google . protobuf . GeneratedMessageV3 . parseWithIOException ( PARSER , input , extensionRegistry ) ;\n",
      "REAL:\treturn com . google . protobuf . GeneratedMessageV3 . parseWithIOException ( PARSER , input , extensionRegistry ) ;\n"
     ]
    },
    {
     "name": "stderr",
     "output_type": "stream",
     "text": [
      "\r",
      "  0%|▏                                                                                 | 1/500 [00:00<04:06,  2.03it/s]"
     ]
    },
    {
     "name": "stdout",
     "output_type": "stream",
     "text": [
      "IN:\tpublic boolean equals ( Object obj ) { if ( obj == this ) { return true ;\n",
      "PRED:\t}\n",
      "REAL:\t}\n"
     ]
    },
    {
     "name": "stderr",
     "output_type": "stream",
     "text": [
      "\r",
      "  0%|▎                                                                                 | 2/500 [00:00<04:03,  2.05it/s]"
     ]
    },
    {
     "name": "stdout",
     "output_type": "stream",
     "text": [
      "IN:\tpublic void head ( Node node , int depth ) {\n",
      "PRED:\tassertEquals ( d , Element , arg ) ;\n",
      "REAL:\tString name = node . nodeName ( ) ;\n"
     ]
    },
    {
     "name": "stderr",
     "output_type": "stream",
     "text": [
      "100%|████████████████████████████████████████████████████████████████████████████████| 500/500 [03:31<00:00,  2.53it/s]\n"
     ]
    },
    {
     "name": "stdout",
     "output_type": "stream",
     "text": [
      "train bleu score:0.9410259999529957\n",
      "train beam score:0.9873210925703889\n",
      "test bleu score:0.6511195322758849\n",
      "test beam score:0.7081369585268726\n",
      " \n",
      "\n",
      "Iteration: 7000; Percent complete: 35.0%; Average loss: 0.0470\n"
     ]
    },
    {
     "name": "stderr",
     "output_type": "stream",
     "text": [
      "\r",
      "  0%|                                                                                          | 0/500 [00:00<?, ?it/s]"
     ]
    },
    {
     "name": "stdout",
     "output_type": "stream",
     "text": [
      "IN:\tpublic void addRecord ( @ NonNull final Split split , UpdateMethod updateMethod ) {\n",
      "PRED:\tLog . d ( LOG_TAG , \" \" ) ;\n",
      "REAL:\tLog . d ( LOG_TAG , \" \" ) ;\n"
     ]
    },
    {
     "name": "stderr",
     "output_type": "stream",
     "text": [
      "\r",
      "  0%|▏                                                                                 | 1/500 [00:00<04:59,  1.67it/s]"
     ]
    },
    {
     "name": "stdout",
     "output_type": "stream",
     "text": [
      "IN:\tpublic Builder clearItems ( ) { if ( itemsBuilder_ == null ) { items_ = java . util . Collections . emptyList ( ) ; bitField0_ = ( bitField0_ & ~ 0x00000002 ) ; onChanged ( ) ;\n",
      "PRED:\t}\n",
      "REAL:\t}\n"
     ]
    },
    {
     "name": "stderr",
     "output_type": "stream",
     "text": [
      "\r",
      "  0%|▎                                                                                 | 2/500 [00:01<05:12,  1.60it/s]"
     ]
    },
    {
     "name": "stdout",
     "output_type": "stream",
     "text": [
      "IN:\tpublic static io . kubernetes . client . proto . V1alpha1Imagepolicy . ImageReviewSpec parseDelimitedFrom ( java . io . InputStream input ) throws java . io . IOException { return com . google . protobuf . GeneratedMessageV3 . parseDelimitedWithIOException ( PARSER , input ) ;\n",
      "PRED:\t}\n",
      "REAL:\t}\n"
     ]
    },
    {
     "name": "stderr",
     "output_type": "stream",
     "text": [
      "100%|████████████████████████████████████████████████████████████████████████████████| 500/500 [03:48<00:00,  2.59it/s]\n",
      "  0%|                                                                                          | 0/500 [00:00<?, ?it/s]"
     ]
    },
    {
     "name": "stdout",
     "output_type": "stream",
     "text": [
      "IN:\tpublic Builder addItems ( io . kubernetes . client . proto . V1beta1Batch . CronJob value ) { if ( itemsBuilder_ == null ) { if ( value == null ) {\n",
      "PRED:\tthrow new NullPointerException ( ) ;\n",
      "REAL:\tthrow new NullPointerException ( ) ;\n"
     ]
    },
    {
     "name": "stderr",
     "output_type": "stream",
     "text": [
      "\r",
      "  0%|▏                                                                                 | 1/500 [00:00<03:42,  2.24it/s]"
     ]
    },
    {
     "name": "stdout",
     "output_type": "stream",
     "text": [
      "IN:\tpublic void destroy ( ) { try { LOGGER . debug ( \" \" ) ; session . close ( ) ; } catch ( final Exception e ) {\n",
      "PRED:\tthrow new RuntimeException ( \" \" + x + \" \" + y + \" \" + width + \" \" + height + \" \" ;\n",
      "REAL:\tLOGGER . warn ( e . getMessage ( ) , e ) ;\n"
     ]
    },
    {
     "name": "stderr",
     "output_type": "stream",
     "text": [
      "\r",
      "  0%|▎                                                                                 | 2/500 [00:01<04:01,  2.06it/s]"
     ]
    },
    {
     "name": "stdout",
     "output_type": "stream",
     "text": [
      "IN:\tpublic int available ( ) throws IOException {\n",
      "PRED:\tint available = in . available ( ) ;\n",
      "REAL:\tif ( closeRequested ) return 0 ;\n"
     ]
    },
    {
     "name": "stderr",
     "output_type": "stream",
     "text": [
      "100%|████████████████████████████████████████████████████████████████████████████████| 500/500 [03:31<00:00,  2.29it/s]\n"
     ]
    },
    {
     "name": "stdout",
     "output_type": "stream",
     "text": [
      "train bleu score:0.9493382931810304\n",
      "train beam score:0.9898902115494308\n",
      "test bleu score:0.6389525285795711\n",
      "test beam score:0.7306580384861231\n",
      " \n",
      "\n",
      "Iteration: 8000; Percent complete: 40.0%; Average loss: 0.0921\n"
     ]
    },
    {
     "name": "stderr",
     "output_type": "stream",
     "text": [
      "\r",
      "  0%|                                                                                          | 0/500 [00:00<?, ?it/s]"
     ]
    },
    {
     "name": "stdout",
     "output_type": "stream",
     "text": [
      "IN:\tpublic static io . kubernetes . client . proto . V1alpha1Imagepolicy . ImageReviewStatus parseFrom ( java . nio . ByteBuffer data , com . google . protobuf . ExtensionRegistryLite extensionRegistry ) throws com . google . protobuf . InvalidProtocolBufferException {\n",
      "PRED:\treturn PARSER . parseFrom ( data , extensionRegistry ) ;\n",
      "REAL:\treturn PARSER . parseFrom ( data , extensionRegistry ) ;\n"
     ]
    },
    {
     "name": "stderr",
     "output_type": "stream",
     "text": [
      "\r",
      "  0%|▏                                                                                 | 1/500 [00:00<04:09,  2.00it/s]"
     ]
    },
    {
     "name": "stdout",
     "output_type": "stream",
     "text": [
      "IN:\tpublic Builder clearSpec ( ) { if ( specBuilder_ == null ) { spec_ = null ; onChanged ( ) ; } else { specBuilder_ . clear ( ) ; }\n",
      "PRED:\tbitField0_ = ( bitField0_ & ~ 0x00000002 ) ;\n",
      "REAL:\tbitField0_ = ( bitField0_ & ~ 0x00000002 ) ;\n"
     ]
    },
    {
     "name": "stderr",
     "output_type": "stream",
     "text": [
      "\r",
      "  0%|▎                                                                                 | 2/500 [00:00<04:00,  2.07it/s]"
     ]
    },
    {
     "name": "stdout",
     "output_type": "stream",
     "text": [
      "IN:\tpublic void addRecord ( @ NonNull final Split split , UpdateMethod updateMethod ) {\n",
      "PRED:\tLog . d ( LOG_TAG , \" \" ) ;\n",
      "REAL:\tLog . d ( LOG_TAG , \" \" ) ;\n"
     ]
    },
    {
     "name": "stderr",
     "output_type": "stream",
     "text": [
      "100%|████████████████████████████████████████████████████████████████████████████████| 500/500 [03:27<00:00,  2.25it/s]\n",
      "  0%|                                                                                          | 0/500 [00:00<?, ?it/s]"
     ]
    },
    {
     "name": "stdout",
     "output_type": "stream",
     "text": [
      "IN:\tpublic void run ( ) {\n",
      "PRED:\tthread = new Thread ( task ) ;\n",
      "REAL:\tstartTime = System . currentTimeMillis ( ) ;\n"
     ]
    },
    {
     "name": "stderr",
     "output_type": "stream",
     "text": [
      "\r",
      "  0%|▏                                                                                 | 1/500 [00:00<03:35,  2.31it/s]"
     ]
    },
    {
     "name": "stdout",
     "output_type": "stream",
     "text": [
      "IN:\tpublic void writeTo ( com . google . protobuf . CodedOutputStream output ) throws java . io . IOException {\n",
      "PRED:\tif ( ( ( bitField0_ & 0x00000001 ) == 0x00000001 ) ) {\n",
      "REAL:\tif ( ( ( bitField0_ & 0x00000001 ) == 0x00000001 ) ) {\n"
     ]
    },
    {
     "name": "stderr",
     "output_type": "stream",
     "text": [
      "\r",
      "  0%|▎                                                                                 | 2/500 [00:00<03:35,  2.31it/s]"
     ]
    },
    {
     "name": "stdout",
     "output_type": "stream",
     "text": [
      "IN:\tprivate void fixPositions ( Expression node ) { node . sourceEnd = sourceEnd ; node . sourceStart = sourceStart ; node . statementEnd = sourceEnd ;\n",
      "PRED:\t}\n",
      "REAL:\t}\n"
     ]
    },
    {
     "name": "stderr",
     "output_type": "stream",
     "text": [
      "100%|████████████████████████████████████████████████████████████████████████████████| 500/500 [03:29<00:00,  2.54it/s]\n"
     ]
    },
    {
     "name": "stdout",
     "output_type": "stream",
     "text": [
      "train bleu score:0.9213201018272146\n",
      "train beam score:0.983100221730782\n",
      "test bleu score:0.6328686802067541\n",
      "test beam score:0.713978220607222\n",
      " \n",
      "\n",
      "Iteration: 9000; Percent complete: 45.0%; Average loss: 0.0432\n"
     ]
    },
    {
     "name": "stderr",
     "output_type": "stream",
     "text": [
      "\r",
      "  0%|                                                                                          | 0/500 [00:00<?, ?it/s]"
     ]
    },
    {
     "name": "stdout",
     "output_type": "stream",
     "text": [
      "IN:\tpublic static void main ( String [ ] args ) {\n",
      "PRED:\tSolution solution = new Solution ( ) ;\n",
      "REAL:\tSolution solution = new Solution ( ) ;\n"
     ]
    },
    {
     "name": "stderr",
     "output_type": "stream",
     "text": [
      "\r",
      "  0%|▏                                                                                 | 1/500 [00:00<04:02,  2.05it/s]"
     ]
    },
    {
     "name": "stdout",
     "output_type": "stream",
     "text": [
      "IN:\tpublic boolean equals ( Object o ) {\n",
      "PRED:\tif ( this == o ) return true ;\n",
      "REAL:\tif ( this == o ) {\n"
     ]
    },
    {
     "name": "stderr",
     "output_type": "stream",
     "text": [
      "\r",
      "  0%|▎                                                                                 | 2/500 [00:00<03:54,  2.12it/s]"
     ]
    },
    {
     "name": "stdout",
     "output_type": "stream",
     "text": [
      "IN:\tpublic Builder mergeFrom ( com . google . protobuf . CodedInputStream input , com . google . protobuf . ExtensionRegistryLite extensionRegistry ) throws java . io . IOException { io . kubernetes . client . proto . V1beta1Batch . JobTemplate parsedMessage = null ;\n",
      "PRED:\ttry {\n",
      "REAL:\ttry {\n"
     ]
    },
    {
     "name": "stderr",
     "output_type": "stream",
     "text": [
      "100%|████████████████████████████████████████████████████████████████████████████████| 500/500 [03:28<00:00,  2.26it/s]\n",
      "  0%|                                                                                          | 0/500 [00:00<?, ?it/s]"
     ]
    },
    {
     "name": "stdout",
     "output_type": "stream",
     "text": [
      "IN:\tpublic < T > T [ ] toArray ( T [ ] a ) {\n",
      "PRED:\treturn internalData . toArray ( a ) ;\n",
      "REAL:\treturn c . toArray ( a ) ;\n"
     ]
    },
    {
     "name": "stderr",
     "output_type": "stream",
     "text": [
      "\r",
      "  0%|▏                                                                                 | 1/500 [00:00<03:37,  2.29it/s]"
     ]
    },
    {
     "name": "stdout",
     "output_type": "stream",
     "text": [
      "IN:\tpublic static String reverse ( String value ) { if ( value == null ) { return null ; }\n",
      "PRED:\treturn ( int ) list ;\n",
      "REAL:\treturn new StringBuffer ( value ) . reverse ( ) . toString ( ) ;\n"
     ]
    },
    {
     "name": "stderr",
     "output_type": "stream",
     "text": [
      "\r",
      "  0%|▎                                                                                 | 2/500 [00:00<03:39,  2.26it/s]"
     ]
    },
    {
     "name": "stdout",
     "output_type": "stream",
     "text": [
      "IN:\tpublic void writeTo ( com . google . protobuf . CodedOutputStream output ) throws java . io . IOException {\n",
      "PRED:\tif ( ( ( bitField0_ & 0x00000001 ) == 0x00000001 ) ) {\n",
      "REAL:\tif ( ( ( bitField0_ & 0x00000001 ) == 0x00000001 ) ) {\n"
     ]
    },
    {
     "name": "stderr",
     "output_type": "stream",
     "text": [
      "100%|████████████████████████████████████████████████████████████████████████████████| 500/500 [03:25<00:00,  2.28it/s]\n"
     ]
    },
    {
     "name": "stdout",
     "output_type": "stream",
     "text": [
      "train bleu score:0.9318928204634762\n",
      "train beam score:0.9803800291327305\n",
      "test bleu score:0.6577366772238252\n",
      "test beam score:0.7208058992057694\n",
      " \n",
      "\n",
      "Iteration: 10000; Percent complete: 50.0%; Average loss: 0.0459\n"
     ]
    },
    {
     "name": "stderr",
     "output_type": "stream",
     "text": [
      "\r",
      "  0%|                                                                                          | 0/500 [00:00<?, ?it/s]"
     ]
    },
    {
     "name": "stdout",
     "output_type": "stream",
     "text": [
      "IN:\tpublic io . kubernetes . client . proto . V1Batch . Job build ( ) { io . kubernetes . client . proto . V1Batch . Job result = buildPartial ( ) ;\n",
      "PRED:\tif ( ! result . isInitialized ( ) ) {\n",
      "REAL:\tif ( ! result . isInitialized ( ) ) {\n"
     ]
    },
    {
     "name": "stderr",
     "output_type": "stream",
     "text": [
      "\r",
      "  0%|▏                                                                                 | 1/500 [00:00<04:03,  2.05it/s]"
     ]
    },
    {
     "name": "stdout",
     "output_type": "stream",
     "text": [
      "IN:\tpublic void onChange ( RealmResults < AllTypes > object ) { assertTrue ( results . isLoaded ( ) ) ;\n",
      "PRED:\tassertEquals ( 5 , results . size ( ) ) ;\n",
      "REAL:\tassertEquals ( 5 , results . size ( ) ) ;\n"
     ]
    },
    {
     "name": "stderr",
     "output_type": "stream",
     "text": [
      "\r",
      "  0%|▎                                                                                 | 2/500 [00:00<03:59,  2.08it/s]"
     ]
    },
    {
     "name": "stdout",
     "output_type": "stream",
     "text": [
      "IN:\tprivate File createTempFile ( ) throws IOException { File tmp = File . createTempFile ( getClass ( ) . getSimpleName ( ) , \" \" ) ; tmp . deleteOnExit ( ) ; tmp . delete ( ) ; return tmp ;\n",
      "PRED:\t}\n",
      "REAL:\t}\n"
     ]
    },
    {
     "name": "stderr",
     "output_type": "stream",
     "text": [
      "100%|████████████████████████████████████████████████████████████████████████████████| 500/500 [03:37<00:00,  2.44it/s]\n",
      "  0%|                                                                                          | 0/500 [00:00<?, ?it/s]"
     ]
    },
    {
     "name": "stdout",
     "output_type": "stream",
     "text": [
      "IN:\tprivate RealmQuery ( Realm realm , Class < E > clazz ) {\n",
      "PRED:\tthis . lock = getDocument ( ) ;\n",
      "REAL:\tthis . realm = realm ;\n"
     ]
    },
    {
     "name": "stderr",
     "output_type": "stream",
     "text": [
      "\r",
      "  0%|▏                                                                                 | 1/500 [00:00<03:35,  2.32it/s]"
     ]
    },
    {
     "name": "stdout",
     "output_type": "stream",
     "text": [
      "IN:\tprotected Builder newBuilderForType ( com . google . protobuf . GeneratedMessageV3 . BuilderParent parent ) { Builder builder = new Builder ( parent ) ; return builder ;\n",
      "PRED:\t}\n",
      "REAL:\t}\n"
     ]
    },
    {
     "name": "stderr",
     "output_type": "stream",
     "text": [
      "\r",
      "  0%|▎                                                                                 | 2/500 [00:00<03:38,  2.28it/s]"
     ]
    },
    {
     "name": "stdout",
     "output_type": "stream",
     "text": [
      "IN:\tpublic Builder setUser ( io . kubernetes . client . proto . V1Authentication . UserInfo value ) { if ( userBuilder_ == null ) { if ( value == null ) { throw new NullPointerException ( ) ; } user_ = value ; onChanged ( ) ; }\n",
      "PRED:\telse {\n",
      "REAL:\telse {\n"
     ]
    },
    {
     "name": "stderr",
     "output_type": "stream",
     "text": [
      "100%|████████████████████████████████████████████████████████████████████████████████| 500/500 [03:36<00:00,  2.27it/s]\n"
     ]
    },
    {
     "name": "stdout",
     "output_type": "stream",
     "text": [
      "train bleu score:0.9424129438216624\n",
      "train beam score:0.9920374946234\n",
      "test bleu score:0.6538414752978097\n",
      "test beam score:0.7201451558062538\n",
      " \n",
      "\n",
      "Iteration: 11000; Percent complete: 55.0%; Average loss: 0.0654\n"
     ]
    },
    {
     "name": "stderr",
     "output_type": "stream",
     "text": [
      "\r",
      "  0%|                                                                                          | 0/500 [00:00<?, ?it/s]"
     ]
    },
    {
     "name": "stdout",
     "output_type": "stream",
     "text": [
      "IN:\tpublic io . kubernetes . client . proto . Meta . ObjectMeta . Builder getMetadataBuilder ( ) { bitField0_ |= 0x00000001 ; onChanged ( ) ; return getMetadataFieldBuilder ( ) . getBuilder ( ) ;\n",
      "PRED:\t}\n",
      "REAL:\t}\n"
     ]
    },
    {
     "name": "stderr",
     "output_type": "stream",
     "text": [
      "\r",
      "  0%|▏                                                                                 | 1/500 [00:00<04:03,  2.05it/s]"
     ]
    },
    {
     "name": "stdout",
     "output_type": "stream",
     "text": [
      "IN:\tprivate void dispatchMessage ( Message m ) { String messageJson = m . toJson ( ) ;\n",
      "PRED:\tmessageJson = messageJson . replaceAll ( \" \" , \" \" ) ;\n",
      "REAL:\tmessageJson = messageJson . replaceAll ( \" \" , \" \" ) ;\n"
     ]
    },
    {
     "name": "stderr",
     "output_type": "stream",
     "text": [
      "\r",
      "  0%|▎                                                                                 | 2/500 [00:00<04:00,  2.07it/s]"
     ]
    },
    {
     "name": "stdout",
     "output_type": "stream",
     "text": [
      "IN:\tpublic Builder putExtra ( java . lang . String key , io . kubernetes . client . proto . V1beta1Certificates . ExtraValue value ) { if ( key == null ) { throw new java . lang . NullPointerException ( ) ;\n",
      "PRED:\t}\n",
      "REAL:\t}\n"
     ]
    },
    {
     "name": "stderr",
     "output_type": "stream",
     "text": [
      "100%|████████████████████████████████████████████████████████████████████████████████| 500/500 [03:35<00:00,  2.22it/s]\n",
      "  0%|                                                                                          | 0/500 [00:00<?, ?it/s]"
     ]
    },
    {
     "name": "stdout",
     "output_type": "stream",
     "text": [
      "IN:\tpublic Object [ ] toArray ( ) {\n",
      "PRED:\treturn this . input . read ( ) ;\n",
      "REAL:\tObject [ ] array = new Object [ size ( ) ] ;\n"
     ]
    },
    {
     "name": "stderr",
     "output_type": "stream",
     "text": [
      "\r",
      "  0%|▏                                                                                 | 1/500 [00:00<03:46,  2.20it/s]"
     ]
    },
    {
     "name": "stdout",
     "output_type": "stream",
     "text": [
      "IN:\tpublic Statement apply ( final Statement base , Description description ) { return new Statement ( ) {\n",
      "PRED:\t@ Override public void evaluate ( ) throws Throwable {\n",
      "REAL:\t@ Override public void evaluate ( ) throws Throwable {\n"
     ]
    },
    {
     "name": "stderr",
     "output_type": "stream",
     "text": [
      "\r",
      "  0%|▎                                                                                 | 2/500 [00:00<03:41,  2.25it/s]"
     ]
    },
    {
     "name": "stdout",
     "output_type": "stream",
     "text": [
      "IN:\tpublic Builder setMetadata ( io . kubernetes . client . proto . Meta . ListMeta . Builder builderForValue ) { if ( metadataBuilder_ == null ) { metadata_ = builderForValue . build ( ) ; onChanged ( ) ;\n",
      "PRED:\t}\n",
      "REAL:\t}\n"
     ]
    },
    {
     "name": "stderr",
     "output_type": "stream",
     "text": [
      "100%|████████████████████████████████████████████████████████████████████████████████| 500/500 [03:36<00:00,  2.22it/s]\n"
     ]
    },
    {
     "name": "stdout",
     "output_type": "stream",
     "text": [
      "train bleu score:0.9367589053330894\n",
      "train beam score:0.986234469881961\n",
      "test bleu score:0.628102845955595\n",
      "test beam score:0.6986410695660341\n",
      " \n",
      "\n",
      "Iteration: 12000; Percent complete: 60.0%; Average loss: 0.0403\n"
     ]
    },
    {
     "name": "stderr",
     "output_type": "stream",
     "text": [
      "\r",
      "  0%|                                                                                          | 0/500 [00:00<?, ?it/s]"
     ]
    },
    {
     "name": "stdout",
     "output_type": "stream",
     "text": [
      "IN:\tprotected void parseMetadata ( Metadata metadata ) throws ParseException { if ( metadata == null ) { return ;\n",
      "PRED:\t}\n",
      "REAL:\t}\n"
     ]
    },
    {
     "name": "stderr",
     "output_type": "stream",
     "text": [
      "\r",
      "  0%|▏                                                                                 | 1/500 [00:00<04:03,  2.05it/s]"
     ]
    },
    {
     "name": "stdout",
     "output_type": "stream",
     "text": [
      "IN:\tpublic static Collection < Object [ ] > data ( ) {\n",
      "PRED:\treturn asList ( new Object [ ] [ ] {\n",
      "REAL:\tObject [ ] [ ] data = new Object [ ] [ ] {\n"
     ]
    },
    {
     "name": "stderr",
     "output_type": "stream",
     "text": [
      "\r",
      "  0%|▎                                                                                 | 2/500 [00:00<03:58,  2.08it/s]"
     ]
    },
    {
     "name": "stdout",
     "output_type": "stream",
     "text": [
      "IN:\tprotected String [ ] getActualSource ( ) { return new String [ ] {\n",
      "PRED:\t\" \" , \" \" , \" \" , \" \" , \" \" , \" \" , \" \" , \" \" , \" \" , \" \" , \" \" , \" \" , \" \" , \" \" , \" \" , \" \" , \" \"\n",
      "REAL:\t\" \" , \" \" , \" \" , \" \" , \" \" , \" \" , \" \" , \" \" , \" \" , \" \" , \" \" }\n"
     ]
    },
    {
     "name": "stderr",
     "output_type": "stream",
     "text": [
      "100%|████████████████████████████████████████████████████████████████████████████████| 500/500 [03:29<00:00,  2.29it/s]\n",
      "  0%|                                                                                          | 0/500 [00:00<?, ?it/s]"
     ]
    },
    {
     "name": "stdout",
     "output_type": "stream",
     "text": [
      "IN:\tpublic int hashCode ( ) { if ( memoizedHashCode != 0 ) { return memoizedHashCode ; } int hash = 41 ; hash = ( 19 * hash ) + getDescriptor ( ) . hashCode ( ) ;\n",
      "PRED:\tif ( hasMetadata ( ) ) {\n",
      "REAL:\tif ( getItemsCount ( ) > 0 ) {\n"
     ]
    },
    {
     "name": "stderr",
     "output_type": "stream",
     "text": [
      "\r",
      "  0%|▏                                                                                 | 1/500 [00:00<03:56,  2.11it/s]"
     ]
    },
    {
     "name": "stdout",
     "output_type": "stream",
     "text": [
      "IN:\tpublic void onSuccess ( T value ) { Callback < T > callback = null ; synchronized ( this ) {\n",
      "PRED:\tif ( next != null ) {\n",
      "REAL:\tthis . value = value ;\n"
     ]
    },
    {
     "name": "stderr",
     "output_type": "stream",
     "text": [
      "\r",
      "  0%|▎                                                                                 | 2/500 [00:01<04:09,  2.00it/s]"
     ]
    },
    {
     "name": "stdout",
     "output_type": "stream",
     "text": [
      "IN:\tpublic NameAllocator ( ) {\n",
      "PRED:\treturn this . sessionStructure = builder . builder ( ) . build ( ) ;\n",
      "REAL:\tthis ( new LinkedHashSet < > ( ) , new LinkedHashMap < > ( ) ) ;\n"
     ]
    },
    {
     "name": "stderr",
     "output_type": "stream",
     "text": [
      "100%|████████████████████████████████████████████████████████████████████████████████| 500/500 [03:36<00:00,  2.34it/s]\n"
     ]
    },
    {
     "name": "stdout",
     "output_type": "stream",
     "text": [
      "train bleu score:0.950824849017531\n",
      "train beam score:0.9850377308318695\n",
      "test bleu score:0.6051997128134705\n",
      "test beam score:0.6762876321325637\n",
      " \n",
      "\n",
      "Iteration: 13000; Percent complete: 65.0%; Average loss: 0.0431\n"
     ]
    },
    {
     "name": "stderr",
     "output_type": "stream",
     "text": [
      "\r",
      "  0%|                                                                                          | 0/500 [00:00<?, ?it/s]"
     ]
    },
    {
     "name": "stdout",
     "output_type": "stream",
     "text": [
      "IN:\tprivate TokenRequestSpec ( ) {\n",
      "PRED:\taudiences_ = com . google . protobuf . LazyStringArrayList . EMPTY ;\n",
      "REAL:\taudiences_ = com . google . protobuf . LazyStringArrayList . EMPTY ;\n"
     ]
    },
    {
     "name": "stderr",
     "output_type": "stream",
     "text": [
      "\r",
      "  0%|▏                                                                                 | 1/500 [00:00<04:00,  2.07it/s]"
     ]
    },
    {
     "name": "stdout",
     "output_type": "stream",
     "text": [
      "IN:\tpublic boolean equals ( Object o ) {\n",
      "PRED:\tif ( this == o ) return true ;\n",
      "REAL:\tif ( this == o ) return true ;\n"
     ]
    },
    {
     "name": "stderr",
     "output_type": "stream",
     "text": [
      "\r",
      "  0%|▎                                                                                 | 2/500 [00:01<04:09,  1.99it/s]"
     ]
    },
    {
     "name": "stdout",
     "output_type": "stream",
     "text": [
      "IN:\tprivate JPanel createControlPanel ( ) { JPanel controlPanel = new JPanel ( ) {\n",
      "PRED:\tprivate final Insets insets = new Insets ( 0 , 4 , 10 , 10 ) ;\n",
      "REAL:\tprivate final Insets insets = new Insets ( 0 , 4 , 10 , 10 ) ;\n"
     ]
    },
    {
     "name": "stderr",
     "output_type": "stream",
     "text": [
      "100%|████████████████████████████████████████████████████████████████████████████████| 500/500 [03:28<00:00,  2.64it/s]\n",
      "  0%|                                                                                          | 0/500 [00:00<?, ?it/s]"
     ]
    },
    {
     "name": "stdout",
     "output_type": "stream",
     "text": [
      "IN:\tpublic void wrap ( ) throws Exception { StringBuffer out = new StringBuffer ( ) ; LineWrapper lineWrapper = new LineWrapper ( out , \" \" , 10 ) ;\n",
      "PRED:\tfor ( int i = 0 ;\n",
      "REAL:\tlineWrapper . append ( \" \" ) ;\n"
     ]
    },
    {
     "name": "stderr",
     "output_type": "stream",
     "text": [
      "\r",
      "  0%|▏                                                                                 | 1/500 [00:00<02:01,  4.11it/s]"
     ]
    },
    {
     "name": "stdout",
     "output_type": "stream",
     "text": [
      "IN:\tpublic void run ( ) {\n",
      "PRED:\ttry {\n",
      "REAL:\twhile ( true ) {\n"
     ]
    },
    {
     "name": "stderr",
     "output_type": "stream",
     "text": [
      "\r",
      "  0%|▎                                                                                 | 2/500 [00:00<02:29,  3.34it/s]"
     ]
    },
    {
     "name": "stdout",
     "output_type": "stream",
     "text": [
      "IN:\tpublic boolean accept ( API api , Path rootPath ) { if ( rootPath . toUri ( ) . toString ( ) . toLowerCase ( ) . endsWith ( \" \" ) ) { return true ; } else {\n",
      "PRED:\ttry {\n",
      "REAL:\ttry {\n"
     ]
    },
    {
     "name": "stderr",
     "output_type": "stream",
     "text": [
      "100%|████████████████████████████████████████████████████████████████████████████████| 500/500 [03:28<00:00,  2.23it/s]\n"
     ]
    },
    {
     "name": "stdout",
     "output_type": "stream",
     "text": [
      "train bleu score:0.9390989876212266\n",
      "train beam score:0.9935435170061959\n",
      "test bleu score:0.6395648218695301\n",
      "test beam score:0.7025660103138937\n",
      " \n",
      "\n",
      "Iteration: 14000; Percent complete: 70.0%; Average loss: 0.0371\n"
     ]
    },
    {
     "name": "stderr",
     "output_type": "stream",
     "text": [
      "\r",
      "  0%|                                                                                          | 0/500 [00:00<?, ?it/s]"
     ]
    },
    {
     "name": "stdout",
     "output_type": "stream",
     "text": [
      "IN:\tpublic static void main ( String [ ] args ) throws IOException {\n",
      "PRED:\ttry ( Repository repository = CookbookHelper . openJGitCookbookRepository ( ) ) {\n",
      "REAL:\ttry ( Repository repository = CookbookHelper . openJGitCookbookRepository ( ) ) {\n"
     ]
    },
    {
     "name": "stderr",
     "output_type": "stream",
     "text": [
      "\r",
      "  0%|▏                                                                                 | 1/500 [00:00<03:44,  2.22it/s]"
     ]
    },
    {
     "name": "stdout",
     "output_type": "stream",
     "text": [
      "IN:\tpublic Spider thread ( ExecutorService executorService , int threadNum ) { checkIfRunning ( ) ;\n",
      "PRED:\tthis . threadNum = threadNum ;\n",
      "REAL:\tthis . threadNum = threadNum ;\n"
     ]
    },
    {
     "name": "stderr",
     "output_type": "stream",
     "text": [
      "\r",
      "  0%|▎                                                                                 | 2/500 [00:00<03:42,  2.23it/s]"
     ]
    },
    {
     "name": "stdout",
     "output_type": "stream",
     "text": [
      "IN:\tpublic io . kubernetes . client . proto . V1alpha1Scheduling . PriorityClass getDefaultInstanceForType ( ) { return io . kubernetes . client . proto . V1alpha1Scheduling . PriorityClass . getDefaultInstance ( ) ;\n",
      "PRED:\t}\n",
      "REAL:\t}\n"
     ]
    },
    {
     "name": "stderr",
     "output_type": "stream",
     "text": [
      "100%|████████████████████████████████████████████████████████████████████████████████| 500/500 [03:27<00:00,  2.81it/s]\n",
      "  0%|                                                                                          | 0/500 [00:00<?, ?it/s]"
     ]
    },
    {
     "name": "stdout",
     "output_type": "stream",
     "text": [
      "IN:\tprivate Split ( Parcel source ) {\n",
      "PRED:\tif ( ! passThrough ) {\n",
      "REAL:\tsetUID ( source . readString ( ) ) ;\n"
     ]
    },
    {
     "name": "stderr",
     "output_type": "stream",
     "text": [
      "\r",
      "  0%|▏                                                                                 | 1/500 [00:00<03:36,  2.30it/s]"
     ]
    },
    {
     "name": "stdout",
     "output_type": "stream",
     "text": [
      "IN:\tpublic final boolean isInitialized ( ) {\n",
      "PRED:\tbyte isInitialized = memoizedIsInitialized ;\n",
      "REAL:\tbyte isInitialized = memoizedIsInitialized ;\n"
     ]
    },
    {
     "name": "stderr",
     "output_type": "stream",
     "text": [
      "\r",
      "  0%|▎                                                                                 | 2/500 [00:00<03:35,  2.31it/s]"
     ]
    },
    {
     "name": "stdout",
     "output_type": "stream",
     "text": [
      "IN:\tprivate void _log ( String logMsg ) { if ( _isCurrentlyOnMainThread ( ) ) { _logs . add ( 0 , logMsg ) ; _adapter . clear ( ) ; _adapter . addAll ( _logs ) ; } else {\n",
      "PRED:\t_logs . add ( 0 , logMsg + \" \" ) ;\n",
      "REAL:\t_logs . add ( 0 , logMsg ) ;\n"
     ]
    },
    {
     "name": "stderr",
     "output_type": "stream",
     "text": [
      "100%|████████████████████████████████████████████████████████████████████████████████| 500/500 [03:30<00:00,  2.40it/s]\n"
     ]
    },
    {
     "name": "stdout",
     "output_type": "stream",
     "text": [
      "train bleu score:0.9367854232588172\n",
      "train beam score:0.9934847661632903\n",
      "test bleu score:0.6717348279551024\n",
      "test beam score:0.7347482726177755\n",
      " \n",
      "\n",
      "Iteration: 15000; Percent complete: 75.0%; Average loss: 0.0504\n"
     ]
    },
    {
     "name": "stderr",
     "output_type": "stream",
     "text": [
      "\r",
      "  0%|                                                                                          | 0/500 [00:00<?, ?it/s]"
     ]
    },
    {
     "name": "stdout",
     "output_type": "stream",
     "text": [
      "IN:\tpublic static < T > T requireNotNull ( T reference ) {\n",
      "PRED:\tif ( reference == null ) {\n",
      "REAL:\tif ( reference == null ) {\n"
     ]
    },
    {
     "name": "stderr",
     "output_type": "stream",
     "text": [
      "\r",
      "  0%|▏                                                                                 | 1/500 [00:00<04:01,  2.06it/s]"
     ]
    },
    {
     "name": "stdout",
     "output_type": "stream",
     "text": [
      "IN:\tpublic static void hasLength ( String text , String message ) { if ( ! StringUtils . hasLength ( text ) ) { throw new IllegalArgumentException ( message ) ; }\n",
      "PRED:\t}\n",
      "REAL:\t}\n"
     ]
    },
    {
     "name": "stderr",
     "output_type": "stream",
     "text": [
      "\r",
      "  0%|▎                                                                                 | 2/500 [00:00<03:59,  2.08it/s]"
     ]
    },
    {
     "name": "stdout",
     "output_type": "stream",
     "text": [
      "IN:\tprotected String [ ] getActualSource ( ) {\n",
      "PRED:\treturn new String [ ] {\n",
      "REAL:\treturn new String [ ] {\n"
     ]
    },
    {
     "name": "stderr",
     "output_type": "stream",
     "text": [
      "100%|████████████████████████████████████████████████████████████████████████████████| 500/500 [03:41<00:00,  1.72it/s]\n",
      "  0%|                                                                                          | 0/500 [00:00<?, ?it/s]"
     ]
    },
    {
     "name": "stdout",
     "output_type": "stream",
     "text": [
      "IN:\tpublic io . kubernetes . client . proto . Meta . ObjectMetaOrBuilder getMetadataOrBuilder ( ) { if ( metadataBuilder_ != null ) { return metadataBuilder_ . getMessageOrBuilder ( ) ; } else {\n",
      "PRED:\treturn metadata_ == null ? io . kubernetes . client . proto . Meta . ObjectMeta . getDefaultInstance ( ) : metadata_ ;\n",
      "REAL:\treturn metadata_ == null ? io . kubernetes . client . proto . Meta . ObjectMeta . getDefaultInstance ( ) : metadata_ ;\n"
     ]
    },
    {
     "name": "stderr",
     "output_type": "stream",
     "text": [
      "\r",
      "  0%|▏                                                                                 | 1/500 [00:00<03:36,  2.30it/s]"
     ]
    },
    {
     "name": "stdout",
     "output_type": "stream",
     "text": [
      "IN:\tpublic void init ( ) {\n",
      "PRED:\tif ( ! root . exists ( ) && ! root . mkdirs ( ) ) {\n",
      "REAL:\ttry {\n"
     ]
    },
    {
     "name": "stderr",
     "output_type": "stream",
     "text": [
      "\r",
      "  0%|▎                                                                                 | 2/500 [00:00<03:18,  2.51it/s]"
     ]
    },
    {
     "name": "stdout",
     "output_type": "stream",
     "text": [
      "IN:\tpublic boolean isReady ( ) { if ( passThrough ) { return realStream . isReady ( ) ; } else {\n",
      "PRED:\treturn false ;\n",
      "REAL:\treturn false ;\n"
     ]
    },
    {
     "name": "stderr",
     "output_type": "stream",
     "text": [
      "100%|████████████████████████████████████████████████████████████████████████████████| 500/500 [03:42<00:00,  2.19it/s]\n"
     ]
    },
    {
     "name": "stdout",
     "output_type": "stream",
     "text": [
      "train bleu score:0.9097652991746717\n",
      "train beam score:0.986869909713272\n",
      "test bleu score:0.6460523611722822\n",
      "test beam score:0.7172993403436232\n",
      " \n",
      "\n",
      "Iteration: 16000; Percent complete: 80.0%; Average loss: 0.0479\n"
     ]
    },
    {
     "name": "stderr",
     "output_type": "stream",
     "text": [
      "\r",
      "  0%|                                                                                          | 0/500 [00:00<?, ?it/s]"
     ]
    },
    {
     "name": "stdout",
     "output_type": "stream",
     "text": [
      "IN:\tpublic int hashCode ( ) {\n",
      "PRED:\tif ( memoizedHashCode != 0 ) {\n",
      "REAL:\tint result ;\n"
     ]
    },
    {
     "name": "stderr",
     "output_type": "stream",
     "text": [
      "\r",
      "  0%|▏                                                                                 | 1/500 [00:00<04:08,  2.01it/s]"
     ]
    },
    {
     "name": "stdout",
     "output_type": "stream",
     "text": [
      "IN:\tpublic void handleResource ( V view , Resource resource ) { Drawable d = resource . getDrawable ( view . getContext ( ) ) ; if ( null != d ) { setDrawable ( view , d ) ; }\n",
      "PRED:\t}\n",
      "REAL:\t}\n"
     ]
    },
    {
     "name": "stderr",
     "output_type": "stream",
     "text": [
      "\r",
      "  0%|▎                                                                                 | 2/500 [00:00<04:04,  2.04it/s]"
     ]
    },
    {
     "name": "stdout",
     "output_type": "stream",
     "text": [
      "IN:\tpublic Builder mergeFrom ( io . kubernetes . client . proto . V1alpha1Imagepolicy . ImageReviewSpec other ) { if ( other == io . kubernetes . client . proto . V1alpha1Imagepolicy . ImageReviewSpec . getDefaultInstance ( ) ) return this ; if ( containersBuilder_ == null ) {\n",
      "PRED:\tif ( ! other . containers_ . isEmpty ( ) ) {\n",
      "REAL:\tif ( ! other . containers_ . isEmpty ( ) ) {\n"
     ]
    },
    {
     "name": "stderr",
     "output_type": "stream",
     "text": [
      "100%|████████████████████████████████████████████████████████████████████████████████| 500/500 [03:40<00:00,  2.26it/s]\n",
      "  0%|                                                                                          | 0/500 [00:00<?, ?it/s]"
     ]
    },
    {
     "name": "stdout",
     "output_type": "stream",
     "text": [
      "IN:\tpublic Result execute ( String command ) {\n",
      "PRED:\tif ( \" \" ) . isEmpty ( ) ) {\n",
      "REAL:\treturn execute ( new String [ ] {\n"
     ]
    },
    {
     "name": "stderr",
     "output_type": "stream",
     "text": [
      "\r",
      "  0%|▏                                                                                 | 1/500 [00:00<04:25,  1.88it/s]"
     ]
    },
    {
     "name": "stdout",
     "output_type": "stream",
     "text": [
      "IN:\tpublic final boolean isInitialized ( ) { byte isInitialized = memoizedIsInitialized ; if ( isInitialized == 1 ) return true ; if ( isInitialized == 0 ) return false ; memoizedIsInitialized = 1 ; return true ;\n",
      "PRED:\t}\n",
      "REAL:\t}\n"
     ]
    },
    {
     "name": "stderr",
     "output_type": "stream",
     "text": [
      "\r",
      "  0%|▎                                                                                 | 2/500 [00:01<04:21,  1.90it/s]"
     ]
    },
    {
     "name": "stdout",
     "output_type": "stream",
     "text": [
      "IN:\tpublic void setUp ( ) throws Exception {\n",
      "PRED:\tinterceptor = new I18nInterceptor ( ) ;\n",
      "REAL:\tlocale = Locale . getDefault ( ) ;\n"
     ]
    },
    {
     "name": "stderr",
     "output_type": "stream",
     "text": [
      "100%|████████████████████████████████████████████████████████████████████████████████| 500/500 [03:41<00:00,  2.24it/s]\n"
     ]
    },
    {
     "name": "stdout",
     "output_type": "stream",
     "text": [
      "train bleu score:0.9606479582152897\n",
      "train beam score:0.9870031067401274\n",
      "test bleu score:0.6393844819726163\n",
      "test beam score:0.6950869345436156\n",
      " \n",
      "\n",
      "Iteration: 17000; Percent complete: 85.0%; Average loss: 0.0411\n"
     ]
    },
    {
     "name": "stderr",
     "output_type": "stream",
     "text": [
      "\r",
      "  0%|                                                                                          | 0/500 [00:00<?, ?it/s]"
     ]
    },
    {
     "name": "stdout",
     "output_type": "stream",
     "text": [
      "IN:\tpublic static final com . google . protobuf . Parser < CertificateSigningRequestCondition > PARSER = new com . google . protobuf . AbstractParser < CertificateSigningRequestCondition > ( ) {\n",
      "PRED:\t@ java . lang . Override public CertificateSigningRequestCondition parsePartialFrom ( com . google . protobuf . CodedInputStream input , com . google . protobuf . ExtensionRegistryLite extensionRegistry ) throws com . google . protobuf . InvalidProtocolBufferException {\n",
      "REAL:\t@ java . lang . Override public CertificateSigningRequestCondition parsePartialFrom ( com . google . protobuf . CodedInputStream input , com . google . protobuf . ExtensionRegistryLite extensionRegistry ) throws com . google . protobuf . InvalidProtocolBufferException {\n"
     ]
    },
    {
     "name": "stderr",
     "output_type": "stream",
     "text": [
      "\r",
      "  0%|▏                                                                                 | 1/500 [00:00<04:35,  1.81it/s]"
     ]
    },
    {
     "name": "stdout",
     "output_type": "stream",
     "text": [
      "IN:\tpublic void handleResource ( V view , Resource resource ) { Drawable d = resource . getDrawable ( view . getContext ( ) ) ; if ( null != d ) { setDrawable ( view , d ) ; }\n",
      "PRED:\t}\n",
      "REAL:\t}\n"
     ]
    },
    {
     "name": "stderr",
     "output_type": "stream",
     "text": [
      "\r",
      "  0%|▎                                                                                 | 2/500 [00:01<04:21,  1.90it/s]"
     ]
    },
    {
     "name": "stdout",
     "output_type": "stream",
     "text": [
      "IN:\tpublic boolean matches ( Element root , Element element ) { List < Node > family = element . childNodes ( ) ;\n",
      "PRED:\tfor ( Node n : family ) {\n",
      "REAL:\tfor ( Node n : family ) {\n"
     ]
    },
    {
     "name": "stderr",
     "output_type": "stream",
     "text": [
      "100%|████████████████████████████████████████████████████████████████████████████████| 500/500 [03:40<00:00,  2.21it/s]\n",
      "  0%|                                                                                          | 0/500 [00:00<?, ?it/s]"
     ]
    },
    {
     "name": "stdout",
     "output_type": "stream",
     "text": [
      "IN:\tpublic Builder setRepeatedField ( com . google . protobuf . Descriptors . FieldDescriptor field , int index , java . lang . Object value ) { return ( Builder ) super . setRepeatedField ( field , index , value ) ;\n",
      "PRED:\t}\n",
      "REAL:\t}\n"
     ]
    },
    {
     "name": "stderr",
     "output_type": "stream",
     "text": [
      "\r",
      "  0%|▏                                                                                 | 1/500 [00:00<03:46,  2.20it/s]"
     ]
    },
    {
     "name": "stdout",
     "output_type": "stream",
     "text": [
      "IN:\tpublic Object apply ( @ Nonnull Context ctx ) { return ctx . dispatch ( ( ) -> {\n",
      "PRED:\ttry {\n",
      "REAL:\ttry {\n"
     ]
    },
    {
     "name": "stderr",
     "output_type": "stream",
     "text": [
      "\r",
      "  0%|▎                                                                                 | 2/500 [00:01<04:00,  2.07it/s]"
     ]
    },
    {
     "name": "stdout",
     "output_type": "stream",
     "text": [
      "IN:\tpublic static io . kubernetes . client . proto . V1alpha1Admission . AdmissionReviewSpec parseFrom ( byte [ ] data ) throws com . google . protobuf . InvalidProtocolBufferException { return PARSER . parseFrom ( data ) ;\n",
      "PRED:\t}\n",
      "REAL:\t}\n"
     ]
    },
    {
     "name": "stderr",
     "output_type": "stream",
     "text": [
      "100%|████████████████████████████████████████████████████████████████████████████████| 500/500 [03:39<00:00,  2.08it/s]\n"
     ]
    },
    {
     "name": "stdout",
     "output_type": "stream",
     "text": [
      "train bleu score:0.9239489514099403\n",
      "train beam score:0.9830249518072866\n",
      "test bleu score:0.6408419075248142\n",
      "test beam score:0.7164839621523795\n",
      " \n",
      "\n",
      "Iteration: 18000; Percent complete: 90.0%; Average loss: 0.0441\n"
     ]
    },
    {
     "name": "stderr",
     "output_type": "stream",
     "text": [
      "\r",
      "  0%|                                                                                          | 0/500 [00:00<?, ?it/s]"
     ]
    },
    {
     "name": "stdout",
     "output_type": "stream",
     "text": [
      "IN:\tpublic static io . kubernetes . client . proto . Runtime . Unknown parseFrom ( java . io . InputStream input ) throws java . io . IOException { return com . google . protobuf . GeneratedMessageV3 . parseWithIOException ( PARSER , input ) ;\n",
      "PRED:\t}\n",
      "REAL:\t}\n"
     ]
    },
    {
     "name": "stderr",
     "output_type": "stream",
     "text": [
      "\r",
      "  0%|▏                                                                                 | 1/500 [00:00<04:15,  1.95it/s]"
     ]
    },
    {
     "name": "stdout",
     "output_type": "stream",
     "text": [
      "IN:\tpublic Builder clear ( ) { super . clear ( ) ; allowed_ = false ; bitField0_ = ( bitField0_ & ~ 0x00000001 ) ;\n",
      "PRED:\tif ( statusBuilder_ == null ) {\n",
      "REAL:\tif ( statusBuilder_ == null ) {\n"
     ]
    },
    {
     "name": "stderr",
     "output_type": "stream",
     "text": [
      "\r",
      "  0%|▎                                                                                 | 2/500 [00:00<04:06,  2.02it/s]"
     ]
    },
    {
     "name": "stdout",
     "output_type": "stream",
     "text": [
      "IN:\tpublic long skip ( final long n ) throws IOException {\n",
      "PRED:\tif ( n <= avail ) {\n",
      "REAL:\tif ( n <= avail ) {\n"
     ]
    },
    {
     "name": "stderr",
     "output_type": "stream",
     "text": [
      "100%|████████████████████████████████████████████████████████████████████████████████| 500/500 [03:38<00:00,  2.16it/s]\n",
      "  0%|                                                                                          | 0/500 [00:00<?, ?it/s]"
     ]
    },
    {
     "name": "stdout",
     "output_type": "stream",
     "text": [
      "IN:\tpublic Builder clear ( ) { super . clear ( ) ; uid_ = \" \" ; bitField0_ = ( bitField0_ & ~ 0x00000001 ) ; if ( kindBuilder_ == null ) { kind_ = null ; }\n",
      "PRED:\telse {\n",
      "REAL:\telse {\n"
     ]
    },
    {
     "name": "stderr",
     "output_type": "stream",
     "text": [
      "\r",
      "  0%|▏                                                                                 | 1/500 [00:00<04:01,  2.07it/s]"
     ]
    },
    {
     "name": "stdout",
     "output_type": "stream",
     "text": [
      "IN:\tpublic static io . kubernetes . client . proto . V2alpha1Batch . JobTemplateSpec parseFrom ( java . nio . ByteBuffer data ) throws com . google . protobuf . InvalidProtocolBufferException {\n",
      "PRED:\treturn PARSER . parseFrom ( data ) ;\n",
      "REAL:\treturn PARSER . parseFrom ( data ) ;\n"
     ]
    },
    {
     "name": "stderr",
     "output_type": "stream",
     "text": [
      "\r",
      "  0%|▎                                                                                 | 2/500 [00:00<03:59,  2.08it/s]"
     ]
    },
    {
     "name": "stdout",
     "output_type": "stream",
     "text": [
      "IN:\tpublic void writeTo ( Output output , Object message ) throws IOException {\n",
      "PRED:\tfor ( Object message : message . entrySet ( ) ) {\n",
      "REAL:\tfor ( int i = 0 , len = Array . getLength ( message ) ;\n"
     ]
    },
    {
     "name": "stderr",
     "output_type": "stream",
     "text": [
      "100%|████████████████████████████████████████████████████████████████████████████████| 500/500 [03:37<00:00,  2.87it/s]\n"
     ]
    },
    {
     "name": "stdout",
     "output_type": "stream",
     "text": [
      "train bleu score:0.9331563061576612\n",
      "train beam score:0.9835638112338306\n",
      "test bleu score:0.6245098863177655\n",
      "test beam score:0.6770059084709419\n",
      " \n",
      "\n",
      "Iteration: 19000; Percent complete: 95.0%; Average loss: 0.0430\n"
     ]
    },
    {
     "name": "stderr",
     "output_type": "stream",
     "text": [
      "\r",
      "  0%|                                                                                          | 0/500 [00:00<?, ?it/s]"
     ]
    },
    {
     "name": "stdout",
     "output_type": "stream",
     "text": [
      "IN:\tpublic void releaseConnection ( ) { if ( ! ObjectUtil . isBlank ( this . zk ) ) { try {\n",
      "PRED:\tthis . zk . close ( ) ;\n",
      "REAL:\tthis . zk . close ( ) ;\n"
     ]
    },
    {
     "name": "stderr",
     "output_type": "stream",
     "text": [
      "\r",
      "  0%|▏                                                                                 | 1/500 [00:00<03:53,  2.14it/s]"
     ]
    },
    {
     "name": "stdout",
     "output_type": "stream",
     "text": [
      "IN:\tpublic void options ( String path , Route route , ResponseTransformer transformer ) { addRoute ( HttpMethod . options , ResponseTransformerRouteImpl . create ( path , route , transformer ) ) ;\n",
      "PRED:\t}\n",
      "REAL:\t}\n"
     ]
    },
    {
     "name": "stderr",
     "output_type": "stream",
     "text": [
      "\r",
      "  0%|▎                                                                                 | 2/500 [00:00<03:53,  2.13it/s]"
     ]
    },
    {
     "name": "stdout",
     "output_type": "stream",
     "text": [
      "IN:\tpublic void options ( String path , Route route , ResponseTransformer transformer ) { addRoute ( HttpMethod . options , ResponseTransformerRouteImpl . create ( path , route , transformer ) ) ;\n",
      "PRED:\t}\n",
      "REAL:\t}\n"
     ]
    },
    {
     "name": "stderr",
     "output_type": "stream",
     "text": [
      "100%|████████████████████████████████████████████████████████████████████████████████| 500/500 [03:39<00:00,  2.30it/s]\n",
      "  0%|                                                                                          | 0/500 [00:00<?, ?it/s]"
     ]
    },
    {
     "name": "stdout",
     "output_type": "stream",
     "text": [
      "IN:\tpublic V getValue ( ) { K key = entry . getKey ( ) ;\n",
      "PRED:\tif ( ! url . isInitialized ( ) ) {\n",
      "REAL:\tint hash = key != null ? key . hashCode ( ) : 0 ;\n"
     ]
    },
    {
     "name": "stderr",
     "output_type": "stream",
     "text": [
      "\r",
      "  0%|▏                                                                                 | 1/500 [00:00<03:54,  2.13it/s]"
     ]
    },
    {
     "name": "stdout",
     "output_type": "stream",
     "text": [
      "IN:\tpublic Builder setUser ( io . kubernetes . client . proto . V1Authentication . UserInfo value ) { if ( userBuilder_ == null ) { if ( value == null ) { throw new NullPointerException ( ) ; } user_ = value ; onChanged ( ) ; }\n",
      "PRED:\telse {\n",
      "REAL:\telse {\n"
     ]
    },
    {
     "name": "stderr",
     "output_type": "stream",
     "text": [
      "\r",
      "  0%|▎                                                                                 | 2/500 [00:00<03:51,  2.15it/s]"
     ]
    },
    {
     "name": "stdout",
     "output_type": "stream",
     "text": [
      "IN:\tpublic int hashCode ( ) { if ( memoizedHashCode != 0 ) { return memoizedHashCode ; } int hash = 41 ; hash = ( 19 * hash ) + getDescriptor ( ) . hashCode ( ) ;\n",
      "PRED:\tif ( hasMetadata ( ) ) {\n",
      "REAL:\tif ( hasMetadata ( ) ) {\n"
     ]
    },
    {
     "name": "stderr",
     "output_type": "stream",
     "text": [
      "100%|████████████████████████████████████████████████████████████████████████████████| 500/500 [03:38<00:00,  2.93it/s]\n"
     ]
    },
    {
     "name": "stdout",
     "output_type": "stream",
     "text": [
      "train bleu score:0.9339445513633259\n",
      "train beam score:0.9863646334644566\n",
      "test bleu score:0.6445930259911808\n",
      "test beam score:0.7131568434875153\n",
      " \n",
      "\n",
      "Iteration: 20000; Percent complete: 100.0%; Average loss: 0.0361\n"
     ]
    },
    {
     "name": "stderr",
     "output_type": "stream",
     "text": [
      "\r",
      "  0%|                                                                                          | 0/500 [00:00<?, ?it/s]"
     ]
    },
    {
     "name": "stdout",
     "output_type": "stream",
     "text": [
      "IN:\tpublic int compare ( String a , String b ) { if ( a . equals ( b ) ) { return 0 ;\n",
      "PRED:\t}\n",
      "REAL:\t}\n"
     ]
    },
    {
     "name": "stderr",
     "output_type": "stream",
     "text": [
      "\r",
      "  0%|▏                                                                                 | 1/500 [00:00<04:19,  1.92it/s]"
     ]
    },
    {
     "name": "stdout",
     "output_type": "stream",
     "text": [
      "IN:\tpublic io . kubernetes . client . proto . Meta . ObjectMeta getMetadata ( ) { return metadata_ == null ? io . kubernetes . client . proto . Meta . ObjectMeta . getDefaultInstance ( ) : metadata_ ;\n",
      "PRED:\t}\n",
      "REAL:\t}\n"
     ]
    },
    {
     "name": "stderr",
     "output_type": "stream",
     "text": [
      "\r",
      "  0%|▎                                                                                 | 2/500 [00:01<04:19,  1.92it/s]"
     ]
    },
    {
     "name": "stdout",
     "output_type": "stream",
     "text": [
      "IN:\tpublic String toString ( ) { return \" \" + \" \" + url + \" \" + \" \" + method + \" \" + \" \" + extras + \" \" + priority + \" \" + headers + \" \" + cookies + \" \" ;\n",
      "PRED:\t}\n",
      "REAL:\t}\n"
     ]
    },
    {
     "name": "stderr",
     "output_type": "stream",
     "text": [
      "100%|████████████████████████████████████████████████████████████████████████████████| 500/500 [03:40<00:00,  1.92it/s]\n",
      "  0%|                                                                                          | 0/500 [00:00<?, ?it/s]"
     ]
    },
    {
     "name": "stdout",
     "output_type": "stream",
     "text": [
      "IN:\tpublic Attribute getAttribute ( String name ) { if ( name == null ) return null ;\n",
      "PRED:\telse {\n",
      "REAL:\tint nLists = size ( ) ;\n"
     ]
    },
    {
     "name": "stderr",
     "output_type": "stream",
     "text": [
      "\r",
      "  0%|▏                                                                                 | 1/500 [00:00<03:47,  2.19it/s]"
     ]
    },
    {
     "name": "stdout",
     "output_type": "stream",
     "text": [
      "IN:\tpublic Number getExpectedValue ( int start , int length ) {\n",
      "PRED:\tif ( length == 0 ) {\n",
      "REAL:\tif ( length == 0 ) {\n"
     ]
    },
    {
     "name": "stderr",
     "output_type": "stream",
     "text": [
      "\r",
      "  0%|▎                                                                                 | 2/500 [00:00<03:52,  2.14it/s]"
     ]
    },
    {
     "name": "stdout",
     "output_type": "stream",
     "text": [
      "IN:\tpublic MQTTFrame encode ( ) {\n",
      "PRED:\ttry {\n",
      "REAL:\ttry {\n"
     ]
    },
    {
     "name": "stderr",
     "output_type": "stream",
     "text": [
      "100%|████████████████████████████████████████████████████████████████████████████████| 500/500 [03:37<00:00,  2.35it/s]\n"
     ]
    },
    {
     "name": "stdout",
     "output_type": "stream",
     "text": [
      "train bleu score:0.9481030846032299\n",
      "train beam score:0.9924201453444174\n",
      "test bleu score:0.6717603206509513\n",
      "test beam score:0.7305244264576006\n",
      " \n",
      "[(1000, 0.43166914505989668, 0.58649828313624064, 0.45475269274785951, 0.56921461780549654), (2000, 0.66558406986273599, 0.79559327601508834, 0.53114729925083015, 0.62195050975842581), (3000, 0.79413918887917567, 0.90836629819262071, 0.59380516444108189, 0.68316265711971191), (4000, 0.86665011003972992, 0.96253133121958789, 0.63592199243038972, 0.70798908698591323), (5000, 0.91730838669290571, 0.97935730828196277, 0.59990643293508672, 0.68571124358110724), (6000, 0.94102599995299574, 0.98732109257038891, 0.65111953227588493, 0.70813695852687264), (7000, 0.94933829318103036, 0.9898902115494308, 0.63895252857957108, 0.7306580384861231), (8000, 0.92132010182721458, 0.98310022173078204, 0.63286868020675413, 0.71397822060722205), (9000, 0.93189282046347621, 0.98038002913273048, 0.65773667722382523, 0.72080589920576943), (10000, 0.94241294382166241, 0.99203749462339996, 0.65384147529780967, 0.72014515580625382), (11000, 0.93675890533308936, 0.98623446988196095, 0.62810284595559496, 0.69864106956603411), (12000, 0.95082484901753095, 0.98503773083186952, 0.60519971281347051, 0.67628763213256371), (13000, 0.93909898762122657, 0.99354351700619592, 0.63956482186953012, 0.70256601031389365), (14000, 0.9367854232588172, 0.99348476616329029, 0.67173482795510242, 0.73474827261777553), (15000, 0.90976529917467175, 0.98686990971327204, 0.64605236117228215, 0.71729934034362319), (16000, 0.9606479582152897, 0.98700310674012737, 0.63938448197261633, 0.69508693454361559), (17000, 0.92394895140994027, 0.98302495180728655, 0.64084190752481418, 0.71648396215237953), (18000, 0.93315630615766121, 0.98356381123383063, 0.62450988631776549, 0.67700590847094189), (19000, 0.93394455136332588, 0.98636463346445657, 0.64459302599118085, 0.71315684348751529), (20000, 0.9481030846032299, 0.99242014534441736, 0.67176032065095126, 0.73052442645760063)]\n",
      "500 2 2 0.1 64 5 0.001 1.0\n",
      "Initializing ...\n",
      "Training...\n",
      "\n",
      "Iteration: 1000; Percent complete: 5.0%; Average loss: 1.5169\n"
     ]
    },
    {
     "name": "stderr",
     "output_type": "stream",
     "text": [
      "\r",
      "  0%|                                                                                          | 0/500 [00:00<?, ?it/s]"
     ]
    },
    {
     "name": "stdout",
     "output_type": "stream",
     "text": [
      "IN:\tpublic int read ( byte [ ] b ) throws IOException { return this . read ( b , 0 , b . length ) ;\n",
      "PRED:\t}\n",
      "REAL:\t}\n"
     ]
    },
    {
     "name": "stderr",
     "output_type": "stream",
     "text": [
      "\r",
      "  0%|▏                                                                                 | 1/500 [00:00<07:53,  1.05it/s]"
     ]
    },
    {
     "name": "stdout",
     "output_type": "stream",
     "text": [
      "IN:\tpublic CLI setDescription ( String desc ) { Objects . requireNonNull ( desc ) ; description = desc ; return this ;\n",
      "PRED:\t}\n",
      "REAL:\t}\n"
     ]
    },
    {
     "name": "stderr",
     "output_type": "stream",
     "text": [
      "\r",
      "  0%|▎                                                                                 | 2/500 [00:01<07:44,  1.07it/s]"
     ]
    },
    {
     "name": "stdout",
     "output_type": "stream",
     "text": [
      "IN:\tpublic boolean equals ( final java . lang . Object obj ) { if ( obj == this ) { return true ;\n",
      "PRED:\t}\n",
      "REAL:\t}\n"
     ]
    },
    {
     "name": "stderr",
     "output_type": "stream",
     "text": [
      "100%|████████████████████████████████████████████████████████████████████████████████| 500/500 [06:57<00:00,  1.18it/s]\n",
      "  0%|                                                                                          | 0/500 [00:00<?, ?it/s]"
     ]
    },
    {
     "name": "stdout",
     "output_type": "stream",
     "text": [
      "IN:\tpublic CommonResult ( T data , String message , Integer code ) {\n",
      "PRED:\treturn super . handleRequest ( starttime , endtime ) ;\n",
      "REAL:\tthis . data = data ;\n"
     ]
    },
    {
     "name": "stderr",
     "output_type": "stream",
     "text": [
      "\r",
      "  0%|▏                                                                                 | 1/500 [00:00<07:19,  1.13it/s]"
     ]
    },
    {
     "name": "stdout",
     "output_type": "stream",
     "text": [
      "IN:\tpublic io . kubernetes . client . proto . Meta . ObjectMeta getMetadata ( ) { if ( metadataBuilder_ == null ) { return metadata_ == null ? io . kubernetes . client . proto . Meta . ObjectMeta . getDefaultInstance ( ) : metadata_ ; } else {\n",
      "PRED:\treturn metadata_ == null ? io . kubernetes . client . proto . Meta . ObjectMeta . getDefaultInstance ( ) : metadata_ ;\n",
      "REAL:\treturn metadataBuilder_ . getMessage ( ) ;\n"
     ]
    },
    {
     "name": "stderr",
     "output_type": "stream",
     "text": [
      "\r",
      "  0%|▎                                                                                 | 2/500 [00:01<06:55,  1.20it/s]"
     ]
    },
    {
     "name": "stdout",
     "output_type": "stream",
     "text": [
      "IN:\tprivate void write ( Path file , byte [ ] data ) { try { Files . write ( file , data ) ; } catch ( IOException ex ) {\n",
      "PRED:\t@ Override public void run ( ) {\n",
      "REAL:\tthrow new RuntimeException ( \" \" + file ) ;\n"
     ]
    },
    {
     "name": "stderr",
     "output_type": "stream",
     "text": [
      "100%|████████████████████████████████████████████████████████████████████████████████| 500/500 [06:59<00:00,  1.15it/s]\n"
     ]
    },
    {
     "name": "stdout",
     "output_type": "stream",
     "text": [
      "train bleu score:0.6231341245798523\n",
      "train beam score:0.7524203301355972\n",
      "test bleu score:0.5744016658746391\n",
      "test beam score:0.6760192851132201\n",
      " \n",
      "\n",
      "Iteration: 2000; Percent complete: 10.0%; Average loss: 0.2975\n"
     ]
    },
    {
     "name": "stderr",
     "output_type": "stream",
     "text": [
      "\r",
      "  0%|                                                                                          | 0/500 [00:00<?, ?it/s]"
     ]
    },
    {
     "name": "stdout",
     "output_type": "stream",
     "text": [
      "IN:\tpublic ColumnListMutation < C > putColumnIfNotNull ( C columnName , Short value , Integer ttl ) { if ( value != null ) { return putColumn ( columnName , value , ttl ) ; } return this ;\n",
      "PRED:\t}\n",
      "REAL:\t}\n"
     ]
    },
    {
     "name": "stderr",
     "output_type": "stream",
     "text": [
      "\r",
      "  0%|▏                                                                                 | 1/500 [00:00<07:44,  1.07it/s]"
     ]
    },
    {
     "name": "stdout",
     "output_type": "stream",
     "text": [
      "IN:\tpublic Builder setMetadata ( io . kubernetes . client . proto . Meta . ObjectMeta value ) { if ( metadataBuilder_ == null ) { if ( value == null ) { throw new NullPointerException ( ) ; } metadata_ = value ; onChanged ( ) ; }\n",
      "PRED:\telse {\n",
      "REAL:\telse {\n"
     ]
    },
    {
     "name": "stderr",
     "output_type": "stream",
     "text": [
      "\r",
      "  0%|▎                                                                                 | 2/500 [00:01<07:51,  1.06it/s]"
     ]
    },
    {
     "name": "stdout",
     "output_type": "stream",
     "text": [
      "IN:\tpublic void add ( double px , double py ) { double x1 = Math . min ( x , px ) ; double x2 = Math . max ( x + width , px ) ;\n",
      "PRED:\tdouble x2 = Math . max ( x + width + \" \" + height + \" \" ;\n",
      "REAL:\tdouble y1 = Math . min ( y , py ) ;\n"
     ]
    },
    {
     "name": "stderr",
     "output_type": "stream",
     "text": [
      "100%|████████████████████████████████████████████████████████████████████████████████| 500/500 [07:00<00:00,  1.21it/s]\n",
      "  0%|                                                                                          | 0/500 [00:00<?, ?it/s]"
     ]
    },
    {
     "name": "stdout",
     "output_type": "stream",
     "text": [
      "IN:\tpublic void wrap ( ) throws Exception {\n",
      "PRED:\tTypeVariableName type = TypeVariableName . get ( \" \" ) ;\n",
      "REAL:\tStringBuffer out = new StringBuffer ( ) ;\n"
     ]
    },
    {
     "name": "stderr",
     "output_type": "stream",
     "text": [
      "\r",
      "  0%|▏                                                                                 | 1/500 [00:00<07:27,  1.12it/s]"
     ]
    },
    {
     "name": "stdout",
     "output_type": "stream",
     "text": [
      "IN:\tprivate double h ( double z ) {\n",
      "PRED:\tfinal String json = s . class ( ) ;\n",
      "REAL:\tif ( z > 30 ) {\n"
     ]
    },
    {
     "name": "stderr",
     "output_type": "stream",
     "text": [
      "\r",
      "  0%|▎                                                                                 | 2/500 [00:01<07:24,  1.12it/s]"
     ]
    },
    {
     "name": "stdout",
     "output_type": "stream",
     "text": [
      "IN:\tpublic boolean equals ( Object o ) { if ( this == o ) {\n",
      "PRED:\treturn true ;\n",
      "REAL:\treturn true ;\n"
     ]
    },
    {
     "name": "stderr",
     "output_type": "stream",
     "text": [
      "100%|████████████████████████████████████████████████████████████████████████████████| 500/500 [06:53<00:00,  1.40it/s]\n"
     ]
    },
    {
     "name": "stdout",
     "output_type": "stream",
     "text": [
      "train bleu score:0.8394340110816672\n",
      "train beam score:0.9297222184314948\n",
      "test bleu score:0.5995280686688019\n",
      "test beam score:0.7095182912002885\n",
      " \n",
      "\n",
      "Iteration: 3000; Percent complete: 15.0%; Average loss: 0.1012\n"
     ]
    },
    {
     "name": "stderr",
     "output_type": "stream",
     "text": [
      "\r",
      "  0%|                                                                                          | 0/500 [00:00<?, ?it/s]"
     ]
    },
    {
     "name": "stdout",
     "output_type": "stream",
     "text": [
      "IN:\tpublic static String [ ] split ( String str , char separator ) { return split ( str , separator , false ) ;\n",
      "PRED:\t}\n",
      "REAL:\t}\n"
     ]
    },
    {
     "name": "stderr",
     "output_type": "stream",
     "text": [
      "\r",
      "  0%|▏                                                                                 | 1/500 [00:00<07:16,  1.14it/s]"
     ]
    },
    {
     "name": "stdout",
     "output_type": "stream",
     "text": [
      "IN:\tpublic static io . kubernetes . client . proto . V1alpha1Admission . AdmissionReview parseFrom ( byte [ ] data ) throws com . google . protobuf . InvalidProtocolBufferException {\n",
      "PRED:\treturn PARSER . parseFrom ( data ) ;\n",
      "REAL:\treturn PARSER . parseFrom ( data ) ;\n"
     ]
    },
    {
     "name": "stderr",
     "output_type": "stream",
     "text": [
      "\r",
      "  0%|▎                                                                                 | 2/500 [00:01<07:20,  1.13it/s]"
     ]
    },
    {
     "name": "stdout",
     "output_type": "stream",
     "text": [
      "IN:\tpublic static io . kubernetes . client . proto . V1Authentication . TokenReviewStatus getDefaultInstance ( ) { return DEFAULT_INSTANCE ;\n",
      "PRED:\t}\n",
      "REAL:\t}\n"
     ]
    },
    {
     "name": "stderr",
     "output_type": "stream",
     "text": [
      "100%|████████████████████████████████████████████████████████████████████████████████| 500/500 [06:56<00:00,  1.19it/s]\n",
      "  0%|                                                                                          | 0/500 [00:00<?, ?it/s]"
     ]
    },
    {
     "name": "stdout",
     "output_type": "stream",
     "text": [
      "IN:\tpublic static io . kubernetes . client . proto . V1alpha1Settings . PodPreset parseFrom ( com . google . protobuf . CodedInputStream input , com . google . protobuf . ExtensionRegistryLite extensionRegistry ) throws java . io . IOException {\n",
      "PRED:\treturn com . google . protobuf . GeneratedMessageV3 . parseWithIOException ( PARSER , input , extensionRegistry ) ;\n",
      "REAL:\treturn com . google . protobuf . GeneratedMessageV3 . parseWithIOException ( PARSER , input , extensionRegistry ) ;\n"
     ]
    },
    {
     "name": "stderr",
     "output_type": "stream",
     "text": [
      "\r",
      "  0%|▏                                                                                 | 1/500 [00:01<08:26,  1.02s/it]"
     ]
    },
    {
     "name": "stdout",
     "output_type": "stream",
     "text": [
      "IN:\tpublic void run ( ) { LogIterator iter = s . iterator ( starttime , endtime ) ;\n",
      "PRED:\tSystem . out . println ( iter ) ;\n",
      "REAL:\tSystem . out . println ( iter ) ;\n"
     ]
    },
    {
     "name": "stderr",
     "output_type": "stream",
     "text": [
      "\r",
      "  0%|▎                                                                                 | 2/500 [00:01<08:02,  1.03it/s]"
     ]
    },
    {
     "name": "stdout",
     "output_type": "stream",
     "text": [
      "IN:\tpublic boolean equals ( final java . lang . Object obj ) { if ( obj == this ) { return true ; }\n",
      "PRED:\tif ( ! ( obj instanceof io . kubernetes . client . proto . V1beta1Batch . JobTemplateSpec ) ) {\n",
      "REAL:\tif ( ! ( obj instanceof io . kubernetes . client . proto . V1Authentication . TokenRequestStatus ) ) {\n"
     ]
    },
    {
     "name": "stderr",
     "output_type": "stream",
     "text": [
      "100%|████████████████████████████████████████████████████████████████████████████████| 500/500 [06:55<00:00,  1.21it/s]\n"
     ]
    },
    {
     "name": "stdout",
     "output_type": "stream",
     "text": [
      "train bleu score:0.8971703523865076\n",
      "train beam score:0.9768968649892275\n",
      "test bleu score:0.5889623895412448\n",
      "test beam score:0.6773177092966337\n",
      " \n",
      "\n",
      "Iteration: 4000; Percent complete: 20.0%; Average loss: 0.0941\n"
     ]
    },
    {
     "name": "stderr",
     "output_type": "stream",
     "text": [
      "\r",
      "  0%|                                                                                          | 0/500 [00:00<?, ?it/s]"
     ]
    },
    {
     "name": "stdout",
     "output_type": "stream",
     "text": [
      "IN:\tpublic < T > T getProperty ( String key , Class < T > targetType ) {\n",
      "PRED:\treturn delegate . getProperty ( key , targetType ) ;\n",
      "REAL:\treturn delegate . getProperty ( key , targetType ) ;\n"
     ]
    },
    {
     "name": "stderr",
     "output_type": "stream",
     "text": [
      "\r",
      "  0%|▏                                                                                 | 1/500 [00:00<05:26,  1.53it/s]"
     ]
    },
    {
     "name": "stdout",
     "output_type": "stream",
     "text": [
      "IN:\tpublic void s ( String s ) { try { for ( int i = 0 ; i < this . i ; i ++ ) {\n",
      "PRED:\twriter . append ( s ) ;\n",
      "REAL:\twriter . append ( indent ) ;\n"
     ]
    },
    {
     "name": "stderr",
     "output_type": "stream",
     "text": [
      "\r",
      "  0%|▎                                                                                 | 2/500 [00:01<05:54,  1.41it/s]"
     ]
    },
    {
     "name": "stdout",
     "output_type": "stream",
     "text": [
      "IN:\tprotected String [ ] getExpectSource ( ) {\n",
      "PRED:\treturn new String [ ] {\n",
      "REAL:\treturn new String [ ] {\n"
     ]
    },
    {
     "name": "stderr",
     "output_type": "stream",
     "text": [
      "100%|████████████████████████████████████████████████████████████████████████████████| 500/500 [06:55<00:00,  1.19it/s]\n",
      "  0%|                                                                                          | 0/500 [00:00<?, ?it/s]"
     ]
    },
    {
     "name": "stdout",
     "output_type": "stream",
     "text": [
      "IN:\tpublic void destroy ( ) throws Exception { if ( consumer != null ) {\n",
      "PRED:\tlockFile . delete ( ) ;\n",
      "REAL:\tconsumer . shutdown ( ) ;\n"
     ]
    },
    {
     "name": "stderr",
     "output_type": "stream",
     "text": [
      "\r",
      "  0%|▏                                                                                 | 1/500 [00:00<07:12,  1.15it/s]"
     ]
    },
    {
     "name": "stdout",
     "output_type": "stream",
     "text": [
      "IN:\tpublic static io . kubernetes . client . proto . V1beta1Certificates . CertificateSigningRequestSpec parseFrom ( com . google . protobuf . ByteString data , com . google . protobuf . ExtensionRegistryLite extensionRegistry ) throws com . google . protobuf . InvalidProtocolBufferException {\n",
      "PRED:\treturn PARSER . parseFrom ( data , extensionRegistry ) ;\n",
      "REAL:\treturn PARSER . parseFrom ( data , extensionRegistry ) ;\n"
     ]
    },
    {
     "name": "stderr",
     "output_type": "stream",
     "text": [
      "\r",
      "  0%|▎                                                                                 | 2/500 [00:01<07:20,  1.13it/s]"
     ]
    },
    {
     "name": "stdout",
     "output_type": "stream",
     "text": [
      "IN:\tpublic static int [ ] identity ( final int n ) { final int [ ] perm = new int [ n ] ; for ( int i = perm . length ;\n",
      "PRED:\ti ++ ) {\n",
      "REAL:\ti -- != 0 ;\n"
     ]
    },
    {
     "name": "stderr",
     "output_type": "stream",
     "text": [
      "100%|████████████████████████████████████████████████████████████████████████████████| 500/500 [06:48<00:00,  1.15it/s]\n"
     ]
    },
    {
     "name": "stdout",
     "output_type": "stream",
     "text": [
      "train bleu score:0.8988732174566947\n",
      "train beam score:0.968791198358263\n",
      "test bleu score:0.6531950222014273\n",
      "test beam score:0.7314729118819072\n",
      " \n",
      "\n",
      "Iteration: 5000; Percent complete: 25.0%; Average loss: 0.0481\n"
     ]
    },
    {
     "name": "stderr",
     "output_type": "stream",
     "text": [
      "\r",
      "  0%|                                                                                          | 0/500 [00:00<?, ?it/s]"
     ]
    },
    {
     "name": "stdout",
     "output_type": "stream",
     "text": [
      "IN:\tpublic boolean equals ( Object other ) { if ( other == this ) {\n",
      "PRED:\treturn true ;\n",
      "REAL:\treturn true ;\n"
     ]
    },
    {
     "name": "stderr",
     "output_type": "stream",
     "text": [
      "\r",
      "  0%|▏                                                                                 | 1/500 [00:01<08:30,  1.02s/it]"
     ]
    },
    {
     "name": "stdout",
     "output_type": "stream",
     "text": [
      "IN:\tpublic static io . kubernetes . client . proto . V1Batch . JobCondition parseDelimitedFrom ( java . io . InputStream input ) throws java . io . IOException { return com . google . protobuf . GeneratedMessageV3 . parseDelimitedWithIOException ( PARSER , input ) ;\n",
      "PRED:\t}\n",
      "REAL:\t}\n"
     ]
    },
    {
     "name": "stderr",
     "output_type": "stream",
     "text": [
      "\r",
      "  0%|▎                                                                                 | 2/500 [00:02<08:33,  1.03s/it]"
     ]
    },
    {
     "name": "stdout",
     "output_type": "stream",
     "text": [
      "IN:\tpublic void run ( ) {\n",
      "PRED:\ttry {\n",
      "REAL:\twhile ( true ) {\n"
     ]
    },
    {
     "name": "stderr",
     "output_type": "stream",
     "text": [
      "100%|████████████████████████████████████████████████████████████████████████████████| 500/500 [07:31<00:00,  1.05it/s]\n",
      "  0%|                                                                                          | 0/500 [00:00<?, ?it/s]"
     ]
    },
    {
     "name": "stdout",
     "output_type": "stream",
     "text": [
      "IN:\tpublic void testMinutesFromNow ( ) throws Exception { PrettyTime t = new PrettyTime ( new Date ( 0 ) ) ; Assert . assertEquals ( \" \" , t . format ( new Date ( 1000 * 60 * 12 ) ) ) ;\n",
      "PRED:\t}\n",
      "REAL:\t}\n"
     ]
    },
    {
     "name": "stderr",
     "output_type": "stream",
     "text": [
      "\r",
      "  0%|▏                                                                                 | 1/500 [00:01<08:42,  1.05s/it]"
     ]
    },
    {
     "name": "stdout",
     "output_type": "stream",
     "text": [
      "IN:\tpublic final Builder mergeUnknownFields ( final com . google . protobuf . UnknownFieldSet unknownFields ) { return super . mergeUnknownFields ( unknownFields ) ;\n",
      "PRED:\t}\n",
      "REAL:\t}\n"
     ]
    },
    {
     "name": "stderr",
     "output_type": "stream",
     "text": [
      "\r",
      "  0%|▎                                                                                 | 2/500 [00:01<08:26,  1.02s/it]"
     ]
    },
    {
     "name": "stdout",
     "output_type": "stream",
     "text": [
      "IN:\tpublic void add ( int px , int py ) { add ( ( double ) px , ( double ) py ) ;\n",
      "PRED:\tdouble x2 = Math . max ( y + height , py ) ;\n",
      "REAL:\t}\n"
     ]
    },
    {
     "name": "stderr",
     "output_type": "stream",
     "text": [
      "100%|████████████████████████████████████████████████████████████████████████████████| 500/500 [07:25<00:00,  1.12it/s]\n"
     ]
    },
    {
     "name": "stdout",
     "output_type": "stream",
     "text": [
      "train bleu score:0.9218907458728017\n",
      "train beam score:0.9860749353228675\n",
      "test bleu score:0.6300690044943573\n",
      "test beam score:0.6973025021051622\n",
      " \n",
      "\n",
      "Iteration: 6000; Percent complete: 30.0%; Average loss: 0.0943\n"
     ]
    },
    {
     "name": "stderr",
     "output_type": "stream",
     "text": [
      "\r",
      "  0%|                                                                                          | 0/500 [00:00<?, ?it/s]"
     ]
    },
    {
     "name": "stdout",
     "output_type": "stream",
     "text": [
      "IN:\tprivate CronJob ( com . google . protobuf . CodedInputStream input , com . google . protobuf . ExtensionRegistryLite extensionRegistry ) throws com . google . protobuf . InvalidProtocolBufferException { this ( ) ; if ( extensionRegistry == null ) {\n",
      "PRED:\tthrow new java . lang . NullPointerException ( ) ;\n",
      "REAL:\tthrow new java . lang . NullPointerException ( ) ;\n"
     ]
    },
    {
     "name": "stderr",
     "output_type": "stream",
     "text": [
      "\r",
      "  0%|▏                                                                                 | 1/500 [00:01<08:26,  1.01s/it]"
     ]
    },
    {
     "name": "stdout",
     "output_type": "stream",
     "text": [
      "IN:\tpublic static void main ( String [ ] args ) {\n",
      "PRED:\tOkHttpClient http = new OkHttpClient ( ) ;\n",
      "REAL:\tvar numbers = new LinkedList < Integer > ( ) ;\n"
     ]
    },
    {
     "name": "stderr",
     "output_type": "stream",
     "text": [
      "\r",
      "  0%|▎                                                                                 | 2/500 [00:02<08:32,  1.03s/it]"
     ]
    },
    {
     "name": "stdout",
     "output_type": "stream",
     "text": [
      "IN:\tpublic static void checkArgument ( boolean expression , @ Nullable Object errorMessage ) { if ( ! expression ) { throw new IllegalArgumentException ( String . valueOf ( errorMessage ) ) ; }\n",
      "PRED:\t}\n",
      "REAL:\t}\n"
     ]
    },
    {
     "name": "stderr",
     "output_type": "stream",
     "text": [
      "100%|████████████████████████████████████████████████████████████████████████████████| 500/500 [07:40<00:00,  1.11it/s]\n",
      "  0%|                                                                                          | 0/500 [00:00<?, ?it/s]"
     ]
    },
    {
     "name": "stdout",
     "output_type": "stream",
     "text": [
      "IN:\tpublic Builder clear ( ) { super . clear ( ) ; if ( metadataBuilder_ == null ) { metadata_ = null ; } else { metadataBuilder_ . clear ( ) ; } bitField0_ = ( bitField0_ & ~ 0x00000001 ) ;\n",
      "PRED:\tif ( itemsBuilder_ == null ) {\n",
      "REAL:\tif ( itemsBuilder_ == null ) {\n"
     ]
    },
    {
     "name": "stderr",
     "output_type": "stream",
     "text": [
      "\r",
      "  0%|▏                                                                                 | 1/500 [00:00<08:13,  1.01it/s]"
     ]
    },
    {
     "name": "stdout",
     "output_type": "stream",
     "text": [
      "IN:\tpublic io . kubernetes . client . proto . V1beta1Batch . CronJobList getDefaultInstanceForType ( ) { return io . kubernetes . client . proto . V1beta1Batch . CronJobList . getDefaultInstance ( ) ;\n",
      "PRED:\t}\n",
      "REAL:\t}\n"
     ]
    },
    {
     "name": "stderr",
     "output_type": "stream",
     "text": [
      "\r",
      "  0%|▎                                                                                 | 2/500 [00:01<08:12,  1.01it/s]"
     ]
    },
    {
     "name": "stdout",
     "output_type": "stream",
     "text": [
      "IN:\tpublic int hashCode ( ) { if ( memoizedHashCode != 0 ) { return memoizedHashCode ; } int hash = 41 ;\n",
      "PRED:\thash = ( 19 * hash ) + getDescriptor ( ) . hashCode ( ) ;\n",
      "REAL:\thash = ( 19 * hash ) + getDescriptor ( ) . hashCode ( ) ;\n"
     ]
    },
    {
     "name": "stderr",
     "output_type": "stream",
     "text": [
      "100%|████████████████████████████████████████████████████████████████████████████████| 500/500 [07:53<00:00,  1.03it/s]\n"
     ]
    },
    {
     "name": "stdout",
     "output_type": "stream",
     "text": [
      "train bleu score:0.8894663441649222\n",
      "train beam score:0.9615819769183642\n",
      "test bleu score:0.6201965072737496\n",
      "test beam score:0.7087247521304548\n",
      " \n",
      "\n",
      "Iteration: 7000; Percent complete: 35.0%; Average loss: 0.0517\n"
     ]
    },
    {
     "name": "stderr",
     "output_type": "stream",
     "text": [
      "\r",
      "  0%|                                                                                          | 0/500 [00:00<?, ?it/s]"
     ]
    },
    {
     "name": "stdout",
     "output_type": "stream",
     "text": [
      "IN:\tpublic void setUp ( ) {\n",
      "PRED:\tcontext = mock ( Context . class ) ;\n",
      "REAL:\thelper . setUp ( ) ;\n"
     ]
    },
    {
     "name": "stderr",
     "output_type": "stream",
     "text": [
      "\r",
      "  0%|▏                                                                                 | 1/500 [00:00<08:03,  1.03it/s]"
     ]
    },
    {
     "name": "stdout",
     "output_type": "stream",
     "text": [
      "IN:\tprotected void onCreate ( Bundle savedInstanceState ) {\n",
      "PRED:\tsuper . onCreate ( savedInstanceState ) ;\n",
      "REAL:\tsuper . onCreate ( savedInstanceState ) ;\n"
     ]
    },
    {
     "name": "stderr",
     "output_type": "stream",
     "text": [
      "\r",
      "  0%|▎                                                                                 | 2/500 [00:01<06:28,  1.28it/s]"
     ]
    },
    {
     "name": "stdout",
     "output_type": "stream",
     "text": [
      "IN:\tpublic Builder mergeFrom ( io . kubernetes . client . proto . Runtime . Unknown other ) {\n",
      "PRED:\tif ( other == io . kubernetes . client . proto . Runtime . Unknown . getDefaultInstance ( ) ) return this ;\n",
      "REAL:\tif ( other == io . kubernetes . client . proto . Runtime . Unknown . getDefaultInstance ( ) ) return this ;\n"
     ]
    },
    {
     "name": "stderr",
     "output_type": "stream",
     "text": [
      "100%|████████████████████████████████████████████████████████████████████████████████| 500/500 [07:36<00:00,  1.06it/s]\n",
      "  0%|                                                                                          | 0/500 [00:00<?, ?it/s]"
     ]
    },
    {
     "name": "stdout",
     "output_type": "stream",
     "text": [
      "IN:\tpublic Builder setItems ( int index , io . kubernetes . client . proto . V1alpha1Settings . PodPreset . Builder builderForValue ) { if ( itemsBuilder_ == null ) { ensureItemsIsMutable ( ) ;\n",
      "PRED:\titems_ . set ( index , builderForValue . build ( ) ) ;\n",
      "REAL:\titems_ . set ( index , builderForValue . build ( ) ) ;\n"
     ]
    },
    {
     "name": "stderr",
     "output_type": "stream",
     "text": [
      "\r",
      "  0%|▏                                                                                 | 1/500 [00:00<07:58,  1.04it/s]"
     ]
    },
    {
     "name": "stdout",
     "output_type": "stream",
     "text": [
      "IN:\tpublic final Builder mergeUnknownFields ( final com . google . protobuf . UnknownFieldSet unknownFields ) { return super . mergeUnknownFields ( unknownFields ) ;\n",
      "PRED:\t}\n",
      "REAL:\t}\n"
     ]
    },
    {
     "name": "stderr",
     "output_type": "stream",
     "text": [
      "\r",
      "  0%|▎                                                                                 | 2/500 [00:01<07:46,  1.07it/s]"
     ]
    },
    {
     "name": "stdout",
     "output_type": "stream",
     "text": [
      "IN:\tpublic static void main ( String [ ] args ) { FlowRule flowRule = new FlowRule ( ) ;\n",
      "PRED:\tSystem . out . println ( solution . isValid ( \" \" ) ) ;\n",
      "REAL:\tflowRule . setResource ( \" \" ) ;\n"
     ]
    },
    {
     "name": "stderr",
     "output_type": "stream",
     "text": [
      "100%|████████████████████████████████████████████████████████████████████████████████| 500/500 [07:34<00:00,  1.11it/s]\n"
     ]
    },
    {
     "name": "stdout",
     "output_type": "stream",
     "text": [
      "train bleu score:0.9358167652219125\n",
      "train beam score:0.9823365696746907\n",
      "test bleu score:0.6116596632763522\n",
      "test beam score:0.6834804890223185\n",
      " \n",
      "\n",
      "Iteration: 8000; Percent complete: 40.0%; Average loss: 0.0563\n"
     ]
    },
    {
     "name": "stderr",
     "output_type": "stream",
     "text": [
      "\r",
      "  0%|                                                                                          | 0/500 [00:00<?, ?it/s]"
     ]
    },
    {
     "name": "stdout",
     "output_type": "stream",
     "text": [
      "IN:\tpublic FlatDataList copy ( ) { FlatDataList copy = new FlatDataList ( ) ;\n",
      "PRED:\tcopy . internalData . addAll ( this . internalData ) ;\n",
      "REAL:\tcopy . internalData . addAll ( this . internalData ) ;\n"
     ]
    },
    {
     "name": "stderr",
     "output_type": "stream",
     "text": [
      "\r",
      "  0%|▏                                                                                 | 1/500 [00:00<07:25,  1.12it/s]"
     ]
    },
    {
     "name": "stdout",
     "output_type": "stream",
     "text": [
      "IN:\tpublic String [ ] getContentType ( String fieldName ) {\n",
      "PRED:\treturn new String [ ] {\n",
      "REAL:\treturn new String [ ] {\n"
     ]
    },
    {
     "name": "stderr",
     "output_type": "stream",
     "text": [
      "\r",
      "  0%|▎                                                                                 | 2/500 [00:01<07:46,  1.07it/s]"
     ]
    },
    {
     "name": "stdout",
     "output_type": "stream",
     "text": [
      "IN:\tpublic String attr ( String key ) {\n",
      "PRED:\tValidate . notNull ( key ) ;\n",
      "REAL:\tValidate . notNull ( key ) ;\n"
     ]
    },
    {
     "name": "stderr",
     "output_type": "stream",
     "text": [
      "100%|████████████████████████████████████████████████████████████████████████████████| 500/500 [07:36<00:00,  1.06it/s]\n",
      "  0%|                                                                                          | 0/500 [00:00<?, ?it/s]"
     ]
    },
    {
     "name": "stdout",
     "output_type": "stream",
     "text": [
      "IN:\tpublic Builder setRepeatedField ( com . google . protobuf . Descriptors . FieldDescriptor field , int index , java . lang . Object value ) {\n",
      "PRED:\tif ( value == null ) {\n",
      "REAL:\treturn ( Builder ) super . setRepeatedField ( field , index , value ) ;\n"
     ]
    },
    {
     "name": "stderr",
     "output_type": "stream",
     "text": [
      "\r",
      "  0%|▏                                                                                 | 1/500 [00:00<04:04,  2.04it/s]"
     ]
    },
    {
     "name": "stdout",
     "output_type": "stream",
     "text": [
      "IN:\tpublic int compare ( boolean b1 , boolean b2 ) { throw new UnsupportedOperationException ( \" \" + toString ( ) ) ;\n",
      "PRED:\t}\n",
      "REAL:\t}\n"
     ]
    },
    {
     "name": "stderr",
     "output_type": "stream",
     "text": [
      "\r",
      "  0%|▎                                                                                 | 2/500 [00:01<05:20,  1.56it/s]"
     ]
    },
    {
     "name": "stdout",
     "output_type": "stream",
     "text": [
      "IN:\tpublic boolean matches ( Element root , Element element ) { if ( root == element ) return false ; Element parent = element . parent ( ) ; while ( true ) {\n",
      "PRED:\tfinal Element p = p . children ( ) ;\n",
      "REAL:\tif ( evaluator . matches ( root , parent ) ) return true ;\n"
     ]
    },
    {
     "name": "stderr",
     "output_type": "stream",
     "text": [
      "100%|████████████████████████████████████████████████████████████████████████████████| 500/500 [07:44<00:00,  1.05s/it]\n"
     ]
    },
    {
     "name": "stdout",
     "output_type": "stream",
     "text": [
      "train bleu score:0.8757654150865275\n",
      "train beam score:0.9679412810414633\n",
      "test bleu score:0.6309337886916216\n",
      "test beam score:0.6948841254573694\n",
      " \n",
      "\n",
      "Iteration: 9000; Percent complete: 45.0%; Average loss: 0.0625\n"
     ]
    },
    {
     "name": "stderr",
     "output_type": "stream",
     "text": [
      "\r",
      "  0%|                                                                                          | 0/500 [00:00<?, ?it/s]"
     ]
    },
    {
     "name": "stdout",
     "output_type": "stream",
     "text": [
      "IN:\tpublic Builder removeItems ( int index ) { if ( itemsBuilder_ == null ) { ensureItemsIsMutable ( ) ; items_ . remove ( index ) ; onChanged ( ) ; } else { itemsBuilder_ . remove ( index ) ;\n",
      "PRED:\t}\n",
      "REAL:\t}\n"
     ]
    },
    {
     "name": "stderr",
     "output_type": "stream",
     "text": [
      "\r",
      "  0%|▏                                                                                 | 1/500 [00:01<08:30,  1.02s/it]"
     ]
    },
    {
     "name": "stdout",
     "output_type": "stream",
     "text": [
      "IN:\tpublic Builder setSpec ( io . kubernetes . client . proto . V1Batch . JobSpec value ) { if ( specBuilder_ == null ) { if ( value == null ) {\n",
      "PRED:\tthrow new NullPointerException ( ) ;\n",
      "REAL:\tthrow new NullPointerException ( ) ;\n"
     ]
    },
    {
     "name": "stderr",
     "output_type": "stream",
     "text": [
      "\r",
      "  0%|▎                                                                                 | 2/500 [00:01<08:09,  1.02it/s]"
     ]
    },
    {
     "name": "stdout",
     "output_type": "stream",
     "text": [
      "IN:\tpublic int compare ( String a , String b ) { if ( a . equals ( b ) ) { return 0 ; } else if ( a . equals ( base ) ) { return - 1 ; }\n",
      "PRED:\telse if ( b . equals ( base ) ) {\n",
      "REAL:\telse if ( b . equals ( base ) ) {\n"
     ]
    },
    {
     "name": "stderr",
     "output_type": "stream",
     "text": [
      "100%|████████████████████████████████████████████████████████████████████████████████| 500/500 [07:22<00:00,  1.09it/s]\n",
      "  0%|                                                                                          | 0/500 [00:00<?, ?it/s]"
     ]
    },
    {
     "name": "stdout",
     "output_type": "stream",
     "text": [
      "IN:\tpublic Builder clearMetadata ( ) { if ( metadataBuilder_ == null ) { metadata_ = null ; onChanged ( ) ; } else { metadataBuilder_ . clear ( ) ;\n",
      "PRED:\t}\n",
      "REAL:\t}\n"
     ]
    },
    {
     "name": "stderr",
     "output_type": "stream",
     "text": [
      "\r",
      "  0%|▏                                                                                 | 1/500 [00:00<07:30,  1.11it/s]"
     ]
    },
    {
     "name": "stdout",
     "output_type": "stream",
     "text": [
      "IN:\tpublic Double getDouble ( C columnName , Double defaultValue ) { Column < C > column = columns . get ( columnName ) ;\n",
      "PRED:\tif ( column == null ) return defaultValue ;\n",
      "REAL:\tif ( column == null ) return defaultValue ;\n"
     ]
    },
    {
     "name": "stderr",
     "output_type": "stream",
     "text": [
      "\r",
      "  0%|▎                                                                                 | 2/500 [00:01<07:32,  1.10it/s]"
     ]
    },
    {
     "name": "stdout",
     "output_type": "stream",
     "text": [
      "IN:\tpublic Builder addAnnotation ( AnnotationSpec annotationSpec ) { this . annotations . add ( annotationSpec ) ;\n",
      "PRED:\t}\n",
      "REAL:\treturn this ;\n"
     ]
    },
    {
     "name": "stderr",
     "output_type": "stream",
     "text": [
      "100%|████████████████████████████████████████████████████████████████████████████████| 500/500 [07:21<00:00,  1.05it/s]\n"
     ]
    },
    {
     "name": "stdout",
     "output_type": "stream",
     "text": [
      "train bleu score:0.9327837031334026\n",
      "train beam score:0.9796634713958652\n",
      "test bleu score:0.6353168044551496\n",
      "test beam score:0.7115099515857187\n",
      " \n",
      "\n",
      "Iteration: 10000; Percent complete: 50.0%; Average loss: 0.0543\n"
     ]
    },
    {
     "name": "stderr",
     "output_type": "stream",
     "text": [
      "\r",
      "  0%|                                                                                          | 0/500 [00:00<?, ?it/s]"
     ]
    },
    {
     "name": "stdout",
     "output_type": "stream",
     "text": [
      "IN:\tpublic static Builder newBuilder ( io . kubernetes . client . proto . Runtime . TypeMeta prototype ) {\n",
      "PRED:\treturn DEFAULT_INSTANCE . toBuilder ( ) . mergeFrom ( prototype ) ;\n",
      "REAL:\treturn DEFAULT_INSTANCE . toBuilder ( ) . mergeFrom ( prototype ) ;\n"
     ]
    },
    {
     "name": "stderr",
     "output_type": "stream",
     "text": [
      "\r",
      "  0%|▏                                                                                 | 1/500 [00:01<08:38,  1.04s/it]"
     ]
    },
    {
     "name": "stdout",
     "output_type": "stream",
     "text": [
      "IN:\tpublic Result delete ( @ RequestBody Integer [ ] ids ) {\n",
      "PRED:\tif ( s . length == 0 ) {\n",
      "REAL:\tif ( ids . length < 1 ) {\n"
     ]
    },
    {
     "name": "stderr",
     "output_type": "stream",
     "text": [
      "\r",
      "  0%|▎                                                                                 | 2/500 [00:01<08:15,  1.00it/s]"
     ]
    },
    {
     "name": "stdout",
     "output_type": "stream",
     "text": [
      "IN:\tpublic Builder setSpec ( io . kubernetes . client . proto . V1alpha1Admission . AdmissionReviewSpec value ) { if ( specBuilder_ == null ) { if ( value == null ) { throw new NullPointerException ( ) ; } spec_ = value ; onChanged ( ) ;\n",
      "PRED:\t}\n",
      "REAL:\t}\n"
     ]
    },
    {
     "name": "stderr",
     "output_type": "stream",
     "text": [
      "100%|████████████████████████████████████████████████████████████████████████████████| 500/500 [07:29<00:00,  1.03it/s]\n",
      "  0%|                                                                                          | 0/500 [00:00<?, ?it/s]"
     ]
    },
    {
     "name": "stdout",
     "output_type": "stream",
     "text": [
      "IN:\tpublic int getIndex ( String methodName , Class < ? > ... parameterTypes ) {\n",
      "PRED:\treturn getString ( in , Character . getString ( key ) ) ;\n",
      "REAL:\tfor ( int i = 0 ;\n"
     ]
    },
    {
     "name": "stderr",
     "output_type": "stream",
     "text": [
      "\r",
      "  0%|▏                                                                                 | 1/500 [00:00<07:18,  1.14it/s]"
     ]
    },
    {
     "name": "stdout",
     "output_type": "stream",
     "text": [
      "IN:\tpublic boolean equals ( final java . lang . Object obj ) { if ( obj == this ) { return true ; }\n",
      "PRED:\tif ( ! ( obj instanceof io . kubernetes . client . proto . V1Authentication . UserInfo ) ) {\n",
      "REAL:\tif ( ! ( obj instanceof io . kubernetes . client . proto . V1Authentication . TokenRequestSpec ) ) {\n"
     ]
    },
    {
     "name": "stderr",
     "output_type": "stream",
     "text": [
      "\r",
      "  0%|▎                                                                                 | 2/500 [00:01<06:38,  1.25it/s]"
     ]
    },
    {
     "name": "stdout",
     "output_type": "stream",
     "text": [
      "IN:\tpublic io . kubernetes . client . proto . V1alpha1Admission . AdmissionReviewStatus getStatus ( ) { return status_ == null ? io . kubernetes . client . proto . V1alpha1Admission . AdmissionReviewStatus . getDefaultInstance ( ) : status_ ;\n",
      "PRED:\t}\n",
      "REAL:\t}\n"
     ]
    },
    {
     "name": "stderr",
     "output_type": "stream",
     "text": [
      "100%|████████████████████████████████████████████████████████████████████████████████| 500/500 [07:24<00:00,  1.06it/s]\n"
     ]
    },
    {
     "name": "stdout",
     "output_type": "stream",
     "text": [
      "train bleu score:0.8919099717230707\n",
      "train beam score:0.975986305856393\n",
      "test bleu score:0.6343728712929827\n",
      "test beam score:0.7082669707167482\n",
      " \n",
      "\n",
      "Iteration: 11000; Percent complete: 55.0%; Average loss: 0.0554\n"
     ]
    },
    {
     "name": "stderr",
     "output_type": "stream",
     "text": [
      "\r",
      "  0%|                                                                                          | 0/500 [00:00<?, ?it/s]"
     ]
    },
    {
     "name": "stdout",
     "output_type": "stream",
     "text": [
      "IN:\tpublic long skip ( final long n ) throws IOException { if ( n <= avail ) {\n",
      "PRED:\tfinal int m = ( int ) n ;\n",
      "REAL:\tfinal int m = ( int ) n ;\n"
     ]
    },
    {
     "name": "stderr",
     "output_type": "stream",
     "text": [
      "\r",
      "  0%|▏                                                                                 | 1/500 [00:00<07:51,  1.06it/s]"
     ]
    },
    {
     "name": "stdout",
     "output_type": "stream",
     "text": [
      "IN:\tpublic static io . kubernetes . client . proto . V1beta1Authentication . TokenReviewStatus parseFrom ( java . nio . ByteBuffer data ) throws com . google . protobuf . InvalidProtocolBufferException { return PARSER . parseFrom ( data ) ;\n",
      "PRED:\t}\n",
      "REAL:\t}\n"
     ]
    },
    {
     "name": "stderr",
     "output_type": "stream",
     "text": [
      "\r",
      "  0%|▎                                                                                 | 2/500 [00:01<08:04,  1.03it/s]"
     ]
    },
    {
     "name": "stdout",
     "output_type": "stream",
     "text": [
      "IN:\tpublic static byte [ ] decode ( String s , int options ) throws java . io . IOException { if ( s == null ) { throw new NullPointerException ( \" \" ) ; } byte [ ] bytes ;\n",
      "PRED:\ttry {\n",
      "REAL:\ttry {\n"
     ]
    },
    {
     "name": "stderr",
     "output_type": "stream",
     "text": [
      "100%|████████████████████████████████████████████████████████████████████████████████| 500/500 [07:22<00:00,  1.04it/s]\n",
      "  0%|                                                                                          | 0/500 [00:00<?, ?it/s]"
     ]
    },
    {
     "name": "stdout",
     "output_type": "stream",
     "text": [
      "IN:\tpublic static io . kubernetes . client . proto . V1Batch . Job parseDelimitedFrom ( java . io . InputStream input , com . google . protobuf . ExtensionRegistryLite extensionRegistry ) throws java . io . IOException {\n",
      "PRED:\treturn com . google . protobuf . GeneratedMessageV3 . parseDelimitedWithIOException ( PARSER , input , extensionRegistry ) ;\n",
      "REAL:\treturn com . google . protobuf . GeneratedMessageV3 . parseDelimitedWithIOException ( PARSER , input , extensionRegistry ) ;\n"
     ]
    },
    {
     "name": "stderr",
     "output_type": "stream",
     "text": [
      "\r",
      "  0%|▏                                                                                 | 1/500 [00:01<08:40,  1.04s/it]"
     ]
    },
    {
     "name": "stdout",
     "output_type": "stream",
     "text": [
      "IN:\tpublic void actionPerformed ( ActionEvent e ) {\n",
      "PRED:\tif ( isVisible ( ) ) {\n",
      "REAL:\tboolean flag = ( ( JCheckBox ) e . getSource ( ) ) . isSelected ( ) ;\n"
     ]
    },
    {
     "name": "stderr",
     "output_type": "stream",
     "text": [
      "\r",
      "  0%|▎                                                                                 | 2/500 [00:01<08:19,  1.00s/it]"
     ]
    },
    {
     "name": "stdout",
     "output_type": "stream",
     "text": [
      "IN:\tpublic ModelAndView handleRequest ( HttpServletRequest request , HttpServletResponse response ) throws Exception {\n",
      "PRED:\treturn super . handleRequest ( request , response ) ;\n",
      "REAL:\treturn super . handleRequest ( request , response ) ;\n"
     ]
    },
    {
     "name": "stderr",
     "output_type": "stream",
     "text": [
      "100%|████████████████████████████████████████████████████████████████████████████████| 500/500 [07:19<00:00,  1.07it/s]\n"
     ]
    },
    {
     "name": "stdout",
     "output_type": "stream",
     "text": [
      "train bleu score:0.9231517301622093\n",
      "train beam score:0.976088650886018\n",
      "test bleu score:0.6364600181067317\n",
      "test beam score:0.7090236699080081\n",
      " \n",
      "\n",
      "Iteration: 12000; Percent complete: 60.0%; Average loss: 0.0563\n"
     ]
    },
    {
     "name": "stderr",
     "output_type": "stream",
     "text": [
      "\r",
      "  0%|                                                                                          | 0/500 [00:00<?, ?it/s]"
     ]
    },
    {
     "name": "stdout",
     "output_type": "stream",
     "text": [
      "IN:\tpublic boolean equals ( Object o ) { if ( this == o ) { return true ; } if ( ! ( o instanceof Value ) ) { return false ;\n",
      "PRED:\t}\n",
      "REAL:\t}\n"
     ]
    },
    {
     "name": "stderr",
     "output_type": "stream",
     "text": [
      "\r",
      "  0%|▏                                                                                 | 1/500 [00:00<07:45,  1.07it/s]"
     ]
    },
    {
     "name": "stdout",
     "output_type": "stream",
     "text": [
      "IN:\tpublic void releaseConnection ( ) {\n",
      "PRED:\tif ( ! ObjectUtil . isBlank ( this . zk ) ) {\n",
      "REAL:\tif ( ! ObjectUtil . isBlank ( this . zk ) ) {\n"
     ]
    },
    {
     "name": "stderr",
     "output_type": "stream",
     "text": [
      "\r",
      "  0%|▎                                                                                 | 2/500 [00:01<07:55,  1.05it/s]"
     ]
    },
    {
     "name": "stdout",
     "output_type": "stream",
     "text": [
      "IN:\tpublic boolean execute ( CommandSender sender , String label , String [ ] args , CommandMessages commandMessages ) { if ( ! testPermission ( sender , commandMessages . getPermissionMessage ( ) ) ) { return true ; }\n",
      "PRED:\tif ( args . length != 1 ) {\n",
      "REAL:\tif ( args . length == 0 || args . length == 2 ) {\n"
     ]
    },
    {
     "name": "stderr",
     "output_type": "stream",
     "text": [
      "100%|████████████████████████████████████████████████████████████████████████████████| 500/500 [07:29<00:00,  1.29it/s]\n",
      "  0%|                                                                                          | 0/500 [00:00<?, ?it/s]"
     ]
    },
    {
     "name": "stdout",
     "output_type": "stream",
     "text": [
      "IN:\tpublic UntrustedIdentityException ( String name , IdentityKey key ) {\n",
      "PRED:\tif ( name . getFileName ( ) instanceof Map < ? , ? > > entry : members . entrySet ( ) ) {\n",
      "REAL:\tthis . name = name ;\n"
     ]
    },
    {
     "name": "stderr",
     "output_type": "stream",
     "text": [
      "\r",
      "  0%|▏                                                                                 | 1/500 [00:00<07:37,  1.09it/s]"
     ]
    },
    {
     "name": "stdout",
     "output_type": "stream",
     "text": [
      "IN:\tpublic static io . kubernetes . client . proto . V1beta1Authentication . TokenReview parseFrom ( java . nio . ByteBuffer data ) throws com . google . protobuf . InvalidProtocolBufferException {\n",
      "PRED:\treturn PARSER . parseFrom ( data ) ;\n",
      "REAL:\treturn PARSER . parseFrom ( data ) ;\n"
     ]
    },
    {
     "name": "stderr",
     "output_type": "stream",
     "text": [
      "\r",
      "  0%|▎                                                                                 | 2/500 [00:01<07:38,  1.09it/s]"
     ]
    },
    {
     "name": "stdout",
     "output_type": "stream",
     "text": [
      "IN:\tprivate static String join ( String [ ] in ) {\n",
      "PRED:\ts . setValue ( \" \" ) ;\n",
      "REAL:\tStringBuilder s = new StringBuilder ( ) ;\n"
     ]
    },
    {
     "name": "stderr",
     "output_type": "stream",
     "text": [
      "100%|████████████████████████████████████████████████████████████████████████████████| 500/500 [07:33<00:00,  1.26it/s]\n"
     ]
    },
    {
     "name": "stdout",
     "output_type": "stream",
     "text": [
      "train bleu score:0.9049112574057303\n",
      "train beam score:0.9792622972626249\n",
      "test bleu score:0.6228061996696076\n",
      "test beam score:0.697135503537622\n",
      " \n",
      "\n",
      "Iteration: 13000; Percent complete: 65.0%; Average loss: 0.0489\n"
     ]
    },
    {
     "name": "stderr",
     "output_type": "stream",
     "text": [
      "\r",
      "  0%|                                                                                          | 0/500 [00:00<?, ?it/s]"
     ]
    },
    {
     "name": "stdout",
     "output_type": "stream",
     "text": [
      "IN:\tpublic Builder mergeFrom ( com . google . protobuf . Message other ) { if ( other instanceof io . kubernetes . client . proto . Runtime . TypeMeta ) {\n",
      "PRED:\treturn mergeFrom ( ( io . kubernetes . client . proto . Runtime . TypeMeta ) other ) ;\n",
      "REAL:\treturn mergeFrom ( ( io . kubernetes . client . proto . Runtime . TypeMeta ) other ) ;\n"
     ]
    },
    {
     "name": "stderr",
     "output_type": "stream",
     "text": [
      "\r",
      "  0%|▏                                                                                 | 1/500 [00:00<08:07,  1.02it/s]"
     ]
    },
    {
     "name": "stdout",
     "output_type": "stream",
     "text": [
      "IN:\tpublic String getFirstLineOfException ( ) { if ( this . stderrDuringParse == null ) { return null ; } String [ ] lines = this . stderrDuringParse . split ( \" \" ) ; String prefix = \" \" ;\n",
      "PRED:\treturn lines [ 0 ] . substring ( prefix . length ( ) , lines [ 0 ] . length ( ) ) ;\n",
      "REAL:\treturn lines [ 0 ] . substring ( prefix . length ( ) , lines [ 0 ] . length ( ) ) ;\n"
     ]
    },
    {
     "name": "stderr",
     "output_type": "stream",
     "text": [
      "\r",
      "  0%|▎                                                                                 | 2/500 [00:02<08:19,  1.00s/it]"
     ]
    },
    {
     "name": "stdout",
     "output_type": "stream",
     "text": [
      "IN:\tpublic void testHoursFromNow ( ) throws Exception {\n",
      "PRED:\tPrettyTime t = new PrettyTime ( new Date ( 0 ) ) ;\n",
      "REAL:\tPrettyTime t = new PrettyTime ( new Date ( 0 ) , locale ) ;\n"
     ]
    },
    {
     "name": "stderr",
     "output_type": "stream",
     "text": [
      "100%|████████████████████████████████████████████████████████████████████████████████| 500/500 [07:26<00:00,  1.11it/s]\n",
      "  0%|                                                                                          | 0/500 [00:00<?, ?it/s]"
     ]
    },
    {
     "name": "stdout",
     "output_type": "stream",
     "text": [
      "IN:\tpublic CircleView ( Context context , AttributeSet attrs , int defStyleAttr ) {\n",
      "PRED:\tsuper ( context , attrs ) ;\n",
      "REAL:\tsuper ( context , attrs , defStyleAttr ) ;\n"
     ]
    },
    {
     "name": "stderr",
     "output_type": "stream",
     "text": [
      "\r",
      "  0%|▏                                                                                 | 1/500 [00:00<07:46,  1.07it/s]"
     ]
    },
    {
     "name": "stdout",
     "output_type": "stream",
     "text": [
      "IN:\tprotected void onPostExecute ( Void result ) { dialog . dismiss ( ) ;\n",
      "PRED:\tif ( actionMode != null ) {\n",
      "REAL:\tif ( actionMode != null ) {\n"
     ]
    },
    {
     "name": "stderr",
     "output_type": "stream",
     "text": [
      "\r",
      "  0%|▎                                                                                 | 2/500 [00:01<07:47,  1.07it/s]"
     ]
    },
    {
     "name": "stdout",
     "output_type": "stream",
     "text": [
      "IN:\tpublic Template get ( final TemplateSource source , final Parser parser ) throws IOException {\n",
      "PRED:\tnotNull ( source , \" \" ) ;\n",
      "REAL:\tnotNull ( source , \" \" ) ;\n"
     ]
    },
    {
     "name": "stderr",
     "output_type": "stream",
     "text": [
      "100%|████████████████████████████████████████████████████████████████████████████████| 500/500 [07:25<00:00,  1.19it/s]\n"
     ]
    },
    {
     "name": "stdout",
     "output_type": "stream",
     "text": [
      "train bleu score:0.9323416552273308\n",
      "train beam score:0.9809177142102983\n",
      "test bleu score:0.6500376618037921\n",
      "test beam score:0.7248350383795827\n",
      " \n",
      "\n",
      "Iteration: 14000; Percent complete: 70.0%; Average loss: 0.0519\n"
     ]
    },
    {
     "name": "stderr",
     "output_type": "stream",
     "text": [
      "\r",
      "  0%|                                                                                          | 0/500 [00:00<?, ?it/s]"
     ]
    },
    {
     "name": "stdout",
     "output_type": "stream",
     "text": [
      "IN:\tprivate void ensureGroupsIsMutable ( ) { if ( ! ( ( bitField0_ & 0x00000010 ) == 0x00000010 ) ) { groups_ = new com . google . protobuf . LazyStringArrayList ( groups_ ) ;\n",
      "PRED:\tbitField0_ |= 0x00000004 ;\n",
      "REAL:\tbitField0_ |= 0x00000010 ;\n"
     ]
    },
    {
     "name": "stderr",
     "output_type": "stream",
     "text": [
      "\r",
      "  0%|▏                                                                                 | 1/500 [00:01<08:39,  1.04s/it]"
     ]
    },
    {
     "name": "stdout",
     "output_type": "stream",
     "text": [
      "IN:\tpublic void sendMessage ( RespT message ) { order . add ( \" \" ) ;\n",
      "PRED:\tassertTrue ( message instanceof Holder ) ;\n",
      "REAL:\tassertTrue ( message instanceof InputStream ) ;\n"
     ]
    },
    {
     "name": "stderr",
     "output_type": "stream",
     "text": [
      "\r",
      "  0%|▎                                                                                 | 2/500 [00:02<09:19,  1.12s/it]"
     ]
    },
    {
     "name": "stdout",
     "output_type": "stream",
     "text": [
      "IN:\tpublic void writeToParcel ( Parcel out , int flags ) {\n",
      "PRED:\tsuper . writeToParcel ( out , flags ) ;\n",
      "REAL:\tsuper . writeToParcel ( out , flags ) ;\n"
     ]
    },
    {
     "name": "stderr",
     "output_type": "stream",
     "text": [
      "100%|████████████████████████████████████████████████████████████████████████████████| 500/500 [07:44<00:00,  1.05it/s]\n",
      "  0%|                                                                                          | 0/500 [00:00<?, ?it/s]"
     ]
    },
    {
     "name": "stdout",
     "output_type": "stream",
     "text": [
      "IN:\tpublic final boolean isInitialized ( ) { byte isInitialized = memoizedIsInitialized ; if ( isInitialized == 1 ) return true ;\n",
      "PRED:\tif ( isInitialized == 0 ) return false ;\n",
      "REAL:\tif ( isInitialized == 0 ) return false ;\n"
     ]
    },
    {
     "name": "stderr",
     "output_type": "stream",
     "text": [
      "\r",
      "  0%|▏                                                                                 | 1/500 [00:00<07:32,  1.10it/s]"
     ]
    },
    {
     "name": "stdout",
     "output_type": "stream",
     "text": [
      "IN:\tpublic void shouldCompileTo ( final String template , final String data , final String expected ) throws IOException { shouldCompileTo ( template , data , expected , \" \" ) ;\n",
      "PRED:\tassertTrue ( message instanceof context , data , index , arguments ) ;\n",
      "REAL:\t}\n"
     ]
    },
    {
     "name": "stderr",
     "output_type": "stream",
     "text": [
      "\r",
      "  0%|▎                                                                                 | 2/500 [00:01<07:48,  1.06it/s]"
     ]
    },
    {
     "name": "stdout",
     "output_type": "stream",
     "text": [
      "IN:\tprotected Builder newBuilderForType ( com . google . protobuf . GeneratedMessageV3 . BuilderParent parent ) { Builder builder = new Builder ( parent ) ;\n",
      "PRED:\tonChanged ( ) ;\n",
      "REAL:\treturn builder ;\n"
     ]
    },
    {
     "name": "stderr",
     "output_type": "stream",
     "text": [
      "100%|████████████████████████████████████████████████████████████████████████████████| 500/500 [07:39<00:00,  1.10it/s]\n"
     ]
    },
    {
     "name": "stdout",
     "output_type": "stream",
     "text": [
      "train bleu score:0.8987456238790783\n",
      "train beam score:0.9759136936803157\n",
      "test bleu score:0.6168419417301039\n",
      "test beam score:0.7048263856875016\n",
      " \n",
      "\n",
      "Iteration: 15000; Percent complete: 75.0%; Average loss: 0.0511\n"
     ]
    },
    {
     "name": "stderr",
     "output_type": "stream",
     "text": [
      "\r",
      "  0%|                                                                                          | 0/500 [00:00<?, ?it/s]"
     ]
    },
    {
     "name": "stdout",
     "output_type": "stream",
     "text": [
      "IN:\tpublic FilterResult head ( Node node , int depth ) { if ( node instanceof Element ) { Element el = ( Element ) node ; if ( eval . matches ( root , el ) ) {\n",
      "PRED:\tmatch = el ;\n",
      "REAL:\tmatch = el ;\n"
     ]
    },
    {
     "name": "stderr",
     "output_type": "stream",
     "text": [
      "\r",
      "  0%|▏                                                                                 | 1/500 [00:00<08:09,  1.02it/s]"
     ]
    },
    {
     "name": "stdout",
     "output_type": "stream",
     "text": [
      "IN:\tpublic @ Nullable V getValue ( ) {\n",
      "PRED:\tif ( action != Action . NONE ) {\n",
      "REAL:\tif ( action != Action . NONE ) {\n"
     ]
    },
    {
     "name": "stderr",
     "output_type": "stream",
     "text": [
      "\r",
      "  0%|▎                                                                                 | 2/500 [00:01<07:55,  1.05it/s]"
     ]
    },
    {
     "name": "stdout",
     "output_type": "stream",
     "text": [
      "IN:\tprotected void onCreate ( Bundle savedInstanceState ) {\n",
      "PRED:\tsuper . onCreate ( savedInstanceState ) ;\n",
      "REAL:\tsuper . onCreate ( savedInstanceState ) ;\n"
     ]
    },
    {
     "name": "stderr",
     "output_type": "stream",
     "text": [
      "100%|████████████████████████████████████████████████████████████████████████████████| 500/500 [07:21<00:00,  1.11it/s]\n",
      "  0%|                                                                                          | 0/500 [00:00<?, ?it/s]"
     ]
    },
    {
     "name": "stdout",
     "output_type": "stream",
     "text": [
      "IN:\tpublic static io . kubernetes . client . proto . V2alpha1Batch . CronJobStatus parseFrom ( com . google . protobuf . ByteString data ) throws com . google . protobuf . InvalidProtocolBufferException { return PARSER . parseFrom ( data ) ;\n",
      "PRED:\t}\n",
      "REAL:\t}\n"
     ]
    },
    {
     "name": "stderr",
     "output_type": "stream",
     "text": [
      "\r",
      "  0%|▏                                                                                 | 1/500 [00:00<07:45,  1.07it/s]"
     ]
    },
    {
     "name": "stdout",
     "output_type": "stream",
     "text": [
      "IN:\tpublic void run ( ) {\n",
      "PRED:\tthread = new Thread ( task ) ;\n",
      "REAL:\ttry {\n"
     ]
    },
    {
     "name": "stderr",
     "output_type": "stream",
     "text": [
      "\r",
      "  0%|▎                                                                                 | 2/500 [00:01<07:32,  1.10it/s]"
     ]
    },
    {
     "name": "stdout",
     "output_type": "stream",
     "text": [
      "IN:\tpublic void testMinutesAgo ( ) throws Exception { PrettyTime t = new PrettyTime ( new Date ( 1000 * 60 * 12 ) ) ;\n",
      "PRED:\tassertEquals ( \" \" , t . format ( new Date ( 0 ) ) ) ;\n",
      "REAL:\tassertEquals ( \" \" , t . format ( new Date ( 0 ) ) ) ;\n"
     ]
    },
    {
     "name": "stderr",
     "output_type": "stream",
     "text": [
      "100%|████████████████████████████████████████████████████████████████████████████████| 500/500 [07:15<00:00,  1.14it/s]\n"
     ]
    },
    {
     "name": "stdout",
     "output_type": "stream",
     "text": [
      "train bleu score:0.8789578110887317\n",
      "train beam score:0.9786128995077664\n",
      "test bleu score:0.6538813730150621\n",
      "test beam score:0.7305054224663333\n",
      " \n",
      "\n",
      "Iteration: 16000; Percent complete: 80.0%; Average loss: 0.0425\n"
     ]
    },
    {
     "name": "stderr",
     "output_type": "stream",
     "text": [
      "\r",
      "  0%|                                                                                          | 0/500 [00:00<?, ?it/s]"
     ]
    },
    {
     "name": "stdout",
     "output_type": "stream",
     "text": [
      "IN:\tpublic void setUp ( ) throws Exception {\n",
      "PRED:\tsuper . setUp ( ) ;\n",
      "REAL:\tcontext = InstrumentationRegistry . getContext ( ) ;\n"
     ]
    },
    {
     "name": "stderr",
     "output_type": "stream",
     "text": [
      "\r",
      "  0%|▏                                                                                 | 1/500 [00:00<08:12,  1.01it/s]"
     ]
    },
    {
     "name": "stdout",
     "output_type": "stream",
     "text": [
      "IN:\tpublic static io . kubernetes . client . proto . V1Authentication . TokenReviewSpec parseFrom ( java . nio . ByteBuffer data ) throws com . google . protobuf . InvalidProtocolBufferException {\n",
      "PRED:\treturn PARSER . parseFrom ( data ) ;\n",
      "REAL:\treturn PARSER . parseFrom ( data ) ;\n"
     ]
    },
    {
     "name": "stderr",
     "output_type": "stream",
     "text": [
      "\r",
      "  0%|▎                                                                                 | 2/500 [00:01<08:11,  1.01it/s]"
     ]
    },
    {
     "name": "stdout",
     "output_type": "stream",
     "text": [
      "IN:\tpublic boolean matches ( Element root , Element element ) { Matcher m = pattern . matcher ( element . text ( ) ) ; return m . find ( ) ;\n",
      "PRED:\t}\n",
      "REAL:\t}\n"
     ]
    },
    {
     "name": "stderr",
     "output_type": "stream",
     "text": [
      "100%|████████████████████████████████████████████████████████████████████████████████| 500/500 [07:17<00:00,  1.16it/s]\n",
      "  0%|                                                                                          | 0/500 [00:00<?, ?it/s]"
     ]
    },
    {
     "name": "stdout",
     "output_type": "stream",
     "text": [
      "IN:\tpublic io . kubernetes . client . proto . V1beta1Certificates . CertificateSigningRequestList getDefaultInstanceForType ( ) {\n",
      "PRED:\treturn io . kubernetes . client . proto . V1beta1Certificates . ExtraValue . getDefaultInstance ( ) ;\n",
      "REAL:\treturn io . kubernetes . client . proto . V1beta1Certificates . CertificateSigningRequestList . getDefaultInstance ( ) ;\n"
     ]
    },
    {
     "name": "stderr",
     "output_type": "stream",
     "text": [
      "\r",
      "  0%|▏                                                                                 | 1/500 [00:00<08:03,  1.03it/s]"
     ]
    },
    {
     "name": "stdout",
     "output_type": "stream",
     "text": [
      "IN:\tprotected Builder newBuilderForType ( com . google . protobuf . GeneratedMessageV3 . BuilderParent parent ) { Builder builder = new Builder ( parent ) ;\n",
      "PRED:\tonChanged ( ) ;\n",
      "REAL:\treturn builder ;\n"
     ]
    },
    {
     "name": "stderr",
     "output_type": "stream",
     "text": [
      "\r",
      "  0%|▎                                                                                 | 2/500 [00:01<08:03,  1.03it/s]"
     ]
    },
    {
     "name": "stdout",
     "output_type": "stream",
     "text": [
      "IN:\tpublic int compare ( String a , String b ) { if ( a . equals ( b ) ) { return 0 ; } else if ( a . equals ( base ) ) { return - 1 ; }\n",
      "PRED:\telse if ( b . equals ( base ) ) {\n",
      "REAL:\telse if ( b . equals ( base ) ) {\n"
     ]
    },
    {
     "name": "stderr",
     "output_type": "stream",
     "text": [
      "100%|████████████████████████████████████████████████████████████████████████████████| 500/500 [07:13<00:00,  1.16it/s]\n"
     ]
    },
    {
     "name": "stdout",
     "output_type": "stream",
     "text": [
      "train bleu score:0.915902714695896\n",
      "train beam score:0.9666071383294836\n",
      "test bleu score:0.5808568627029203\n",
      "test beam score:0.6487156482856278\n",
      " \n",
      "\n",
      "Iteration: 17000; Percent complete: 85.0%; Average loss: 0.0737\n"
     ]
    },
    {
     "name": "stderr",
     "output_type": "stream",
     "text": [
      "\r",
      "  0%|                                                                                          | 0/500 [00:00<?, ?it/s]"
     ]
    },
    {
     "name": "stdout",
     "output_type": "stream",
     "text": [
      "IN:\tpublic boolean equals ( final java . lang . Object obj ) { if ( obj == this ) { return true ; } if ( ! ( obj instanceof io . kubernetes . client . proto . V1alpha1Admission . AdmissionReview ) ) {\n",
      "PRED:\treturn super . equals ( obj ) ;\n",
      "REAL:\treturn super . equals ( obj ) ;\n"
     ]
    },
    {
     "name": "stderr",
     "output_type": "stream",
     "text": [
      "\r",
      "  0%|▏                                                                                 | 1/500 [00:01<08:25,  1.01s/it]"
     ]
    },
    {
     "name": "stdout",
     "output_type": "stream",
     "text": [
      "IN:\tpublic I extra ( String name , float [ ] value ) { intent . putExtra ( name , value ) ; return ( I ) this ;\n",
      "PRED:\t}\n",
      "REAL:\t}\n"
     ]
    },
    {
     "name": "stderr",
     "output_type": "stream",
     "text": [
      "\r",
      "  0%|▎                                                                                 | 2/500 [00:02<08:24,  1.01s/it]"
     ]
    },
    {
     "name": "stdout",
     "output_type": "stream",
     "text": [
      "IN:\tpublic boolean execute ( CommandSender sender , String label , String [ ] args , CommandMessages commandMessages ) { if ( ! testPermission ( sender , commandMessages . getPermissionMessage ( ) ) ) { return true ;\n",
      "PRED:\t}\n",
      "REAL:\t}\n"
     ]
    },
    {
     "name": "stderr",
     "output_type": "stream",
     "text": [
      "100%|████████████████████████████████████████████████████████████████████████████████| 500/500 [07:36<00:00,  1.07it/s]\n",
      "  0%|                                                                                          | 0/500 [00:00<?, ?it/s]"
     ]
    },
    {
     "name": "stdout",
     "output_type": "stream",
     "text": [
      "IN:\tpublic static void main ( String [ ] args ) throws Exception { MergedLogSource src = new MergedLogSource ( args ) ;\n",
      "PRED:\tSystem . out . println ( src ) ;\n",
      "REAL:\tLogIterator iter = src . iterator ( ) ;\n"
     ]
    },
    {
     "name": "stderr",
     "output_type": "stream",
     "text": [
      "\r",
      "  0%|▏                                                                                 | 1/500 [00:00<07:24,  1.12it/s]"
     ]
    },
    {
     "name": "stdout",
     "output_type": "stream",
     "text": [
      "IN:\tprivate void append ( int channel , Object element ) { BlockBuilder blockBuilder = builders . get ( channel ) ;\n",
      "PRED:\tif ( ! ( ( bitField0_ & 0x00000002 ) == 0 ) == 0 || StringUtil . equals ( accum . length ( ) - 1 ) , \" \" , \" \" ) ) ) return ;\n",
      "REAL:\tType type = types . get ( channel ) ;\n"
     ]
    },
    {
     "name": "stderr",
     "output_type": "stream",
     "text": [
      "\r",
      "  0%|▎                                                                                 | 2/500 [00:01<07:38,  1.09it/s]"
     ]
    },
    {
     "name": "stdout",
     "output_type": "stream",
     "text": [
      "IN:\tprotected List < Object > values ( ) {\n",
      "PRED:\tString Object = \" \" ;\n",
      "REAL:\tif ( value instanceof List ) {\n"
     ]
    },
    {
     "name": "stderr",
     "output_type": "stream",
     "text": [
      "100%|████████████████████████████████████████████████████████████████████████████████| 500/500 [07:32<00:00,  1.10it/s]\n"
     ]
    },
    {
     "name": "stdout",
     "output_type": "stream",
     "text": [
      "train bleu score:0.8829974137426276\n",
      "train beam score:0.9603170011742711\n",
      "test bleu score:0.6096164186070744\n",
      "test beam score:0.7007889095382405\n",
      " \n",
      "\n",
      "Iteration: 18000; Percent complete: 90.0%; Average loss: 0.0475\n"
     ]
    },
    {
     "name": "stderr",
     "output_type": "stream",
     "text": [
      "\r",
      "  0%|                                                                                          | 0/500 [00:00<?, ?it/s]"
     ]
    },
    {
     "name": "stdout",
     "output_type": "stream",
     "text": [
      "IN:\tpublic boolean equals ( Object o ) { if ( this == o ) { return true ;\n",
      "PRED:\t}\n",
      "REAL:\t}\n"
     ]
    },
    {
     "name": "stderr",
     "output_type": "stream",
     "text": [
      "\r",
      "  0%|▏                                                                                 | 1/500 [00:00<07:31,  1.10it/s]"
     ]
    },
    {
     "name": "stdout",
     "output_type": "stream",
     "text": [
      "IN:\tpublic Builder mergeFrom ( com . google . protobuf . CodedInputStream input , com . google . protobuf . ExtensionRegistryLite extensionRegistry ) throws java . io . IOException { io . kubernetes . client . proto . V1alpha1Admission . AdmissionReview parsedMessage = null ; try {\n",
      "PRED:\tparsedMessage = PARSER . parsePartialFrom ( input , extensionRegistry ) ;\n",
      "REAL:\tparsedMessage = PARSER . parsePartialFrom ( input , extensionRegistry ) ;\n"
     ]
    },
    {
     "name": "stderr",
     "output_type": "stream",
     "text": [
      "\r",
      "  0%|▎                                                                                 | 2/500 [00:01<07:45,  1.07it/s]"
     ]
    },
    {
     "name": "stdout",
     "output_type": "stream",
     "text": [
      "IN:\tpublic void write ( byte [ ] buffer , int offset , int length ) throws IOException {\n",
      "PRED:\tout . write ( buffer , offset , length ) ;\n",
      "REAL:\tout . write ( buffer , offset , length ) ;\n"
     ]
    },
    {
     "name": "stderr",
     "output_type": "stream",
     "text": [
      "100%|████████████████████████████████████████████████████████████████████████████████| 500/500 [07:31<00:00,  1.11it/s]\n",
      "  0%|                                                                                          | 0/500 [00:00<?, ?it/s]"
     ]
    },
    {
     "name": "stdout",
     "output_type": "stream",
     "text": [
      "IN:\tpublic Future < Void > unsubscribe ( final String [ ] topics ) { UTF8Buffer [ ] buffers = new UTF8Buffer [ topics . length ] ; for ( int i = 0 ; i < buffers . length ;\n",
      "PRED:\t}\n",
      "REAL:\ti ++ ) {\n"
     ]
    },
    {
     "name": "stderr",
     "output_type": "stream",
     "text": [
      "\r",
      "  0%|▏                                                                                 | 1/500 [00:00<07:55,  1.05it/s]"
     ]
    },
    {
     "name": "stdout",
     "output_type": "stream",
     "text": [
      "IN:\tpublic final boolean isInitialized ( ) { byte isInitialized = memoizedIsInitialized ; if ( isInitialized == 1 ) return true ;\n",
      "PRED:\tif ( isInitialized == 0 ) return false ;\n",
      "REAL:\tif ( isInitialized == 0 ) return false ;\n"
     ]
    },
    {
     "name": "stderr",
     "output_type": "stream",
     "text": [
      "\r",
      "  0%|▎                                                                                 | 2/500 [00:01<07:42,  1.08it/s]"
     ]
    },
    {
     "name": "stdout",
     "output_type": "stream",
     "text": [
      "IN:\tpublic void clear ( ) { final ReentrantLock lock = this . lock ; lock . lock ( ) ; try { for ( Node < E > f = first ; f != null ;\n",
      "PRED:\t( int , result ) . setValue ( value ) ;\n",
      "REAL:\t) {\n"
     ]
    },
    {
     "name": "stderr",
     "output_type": "stream",
     "text": [
      "100%|████████████████████████████████████████████████████████████████████████████████| 500/500 [07:31<00:00,  1.10it/s]\n"
     ]
    },
    {
     "name": "stdout",
     "output_type": "stream",
     "text": [
      "train bleu score:0.9130586010696288\n",
      "train beam score:0.9761424903488967\n",
      "test bleu score:0.6322084265508986\n",
      "test beam score:0.690506699374092\n",
      " \n",
      "\n",
      "Iteration: 19000; Percent complete: 95.0%; Average loss: 0.0539\n"
     ]
    },
    {
     "name": "stderr",
     "output_type": "stream",
     "text": [
      "\r",
      "  0%|                                                                                          | 0/500 [00:00<?, ?it/s]"
     ]
    },
    {
     "name": "stdout",
     "output_type": "stream",
     "text": [
      "IN:\tpublic static final com . google . protobuf . Parser < CronJobSpec > PARSER = new com . google . protobuf . AbstractParser < CronJobSpec > ( ) {\n",
      "PRED:\t@ java . lang . Override public CronJobSpec parsePartialFrom ( com . google . protobuf . CodedInputStream input , com . google . protobuf . ExtensionRegistryLite extensionRegistry ) throws com . google . protobuf . InvalidProtocolBufferException {\n",
      "REAL:\t@ java . lang . Override public CronJobSpec parsePartialFrom ( com . google . protobuf . CodedInputStream input , com . google . protobuf . ExtensionRegistryLite extensionRegistry ) throws com . google . protobuf . InvalidProtocolBufferException {\n"
     ]
    },
    {
     "name": "stderr",
     "output_type": "stream",
     "text": [
      "\r",
      "  0%|▏                                                                                 | 1/500 [00:01<08:45,  1.05s/it]"
     ]
    },
    {
     "name": "stdout",
     "output_type": "stream",
     "text": [
      "IN:\tpublic io . kubernetes . client . proto . V1Batch . JobSpec getSpec ( ) { if ( specBuilder_ == null ) {\n",
      "PRED:\treturn spec_ == null ? io . kubernetes . client . proto . V1Batch . JobSpec . getDefaultInstance ( ) : spec_ ;\n",
      "REAL:\treturn spec_ == null ? io . kubernetes . client . proto . V1Batch . JobSpec . getDefaultInstance ( ) : spec_ ;\n"
     ]
    },
    {
     "name": "stderr",
     "output_type": "stream",
     "text": [
      "\r",
      "  0%|▎                                                                                 | 2/500 [00:02<08:33,  1.03s/it]"
     ]
    },
    {
     "name": "stdout",
     "output_type": "stream",
     "text": [
      "IN:\tpublic void writeTo ( Output output , Object value ) throws IOException { writeTo ( output , value , value . getClass ( ) . getComponentType ( ) . isPrimitive ( ) ) ;\n",
      "PRED:\t}\n",
      "REAL:\t}\n"
     ]
    },
    {
     "name": "stderr",
     "output_type": "stream",
     "text": [
      "100%|████████████████████████████████████████████████████████████████████████████████| 500/500 [07:28<00:00,  1.11it/s]\n",
      "  0%|                                                                                          | 0/500 [00:00<?, ?it/s]"
     ]
    },
    {
     "name": "stdout",
     "output_type": "stream",
     "text": [
      "IN:\tpublic Builder toBuilder ( ) {\n",
      "PRED:\treturn this == DEFAULT_INSTANCE ? new Builder ( ) : new Builder ( ) . mergeFrom ( this ) ;\n",
      "REAL:\treturn this == DEFAULT_INSTANCE ? new Builder ( ) : new Builder ( ) . mergeFrom ( this ) ;\n"
     ]
    },
    {
     "name": "stderr",
     "output_type": "stream",
     "text": [
      "\r",
      "  0%|▏                                                                                 | 1/500 [00:00<07:29,  1.11it/s]"
     ]
    },
    {
     "name": "stdout",
     "output_type": "stream",
     "text": [
      "IN:\tprotected void parseMetadata ( Metadata metadata ) {\n",
      "PRED:\tif ( metadata == null ) {\n",
      "REAL:\tif ( metadata == null ) {\n"
     ]
    },
    {
     "name": "stderr",
     "output_type": "stream",
     "text": [
      "\r",
      "  0%|▎                                                                                 | 2/500 [00:01<07:41,  1.08it/s]"
     ]
    },
    {
     "name": "stdout",
     "output_type": "stream",
     "text": [
      "IN:\tprivate void _log ( String logMsg ) { if ( _isCurrentlyOnMainThread ( ) ) { _logs . add ( 0 , logMsg + \" \" ) ; _adapter . clear ( ) ;\n",
      "PRED:\t_adapter . addAll ( _logs ) ;\n",
      "REAL:\t_adapter . addAll ( _logs ) ;\n"
     ]
    },
    {
     "name": "stderr",
     "output_type": "stream",
     "text": [
      "100%|████████████████████████████████████████████████████████████████████████████████| 500/500 [07:34<00:00,  1.24it/s]\n"
     ]
    },
    {
     "name": "stdout",
     "output_type": "stream",
     "text": [
      "train bleu score:0.8766269879116476\n",
      "train beam score:0.9621977430840382\n",
      "test bleu score:0.6347395414151609\n",
      "test beam score:0.7059224231234552\n",
      " \n",
      "\n",
      "Iteration: 20000; Percent complete: 100.0%; Average loss: 0.0474\n"
     ]
    },
    {
     "name": "stderr",
     "output_type": "stream",
     "text": [
      "\r",
      "  0%|                                                                                          | 0/500 [00:00<?, ?it/s]"
     ]
    },
    {
     "name": "stdout",
     "output_type": "stream",
     "text": [
      "IN:\tpublic Builder addItems ( io . kubernetes . client . proto . V1alpha1Scheduling . PriorityClass value ) { if ( itemsBuilder_ == null ) {\n",
      "PRED:\tif ( value == null ) {\n",
      "REAL:\tif ( value == null ) {\n"
     ]
    },
    {
     "name": "stderr",
     "output_type": "stream",
     "text": [
      "\r",
      "  0%|▏                                                                                 | 1/500 [00:00<07:41,  1.08it/s]"
     ]
    },
    {
     "name": "stdout",
     "output_type": "stream",
     "text": [
      "IN:\tpublic Builder clearMetadata ( ) { if ( metadataBuilder_ == null ) { metadata_ = null ; onChanged ( ) ; } else {\n",
      "PRED:\tmetadataBuilder_ . clear ( ) ;\n",
      "REAL:\tmetadataBuilder_ . clear ( ) ;\n"
     ]
    },
    {
     "name": "stderr",
     "output_type": "stream",
     "text": [
      "\r",
      "  0%|▎                                                                                 | 2/500 [00:01<07:08,  1.16it/s]"
     ]
    },
    {
     "name": "stdout",
     "output_type": "stream",
     "text": [
      "IN:\tpublic static Collection < Object [ ] > data ( ) { Object [ ] [ ] data = new Object [ ] [ ] { { false } , { true } }\n",
      "PRED:\t;\n",
      "REAL:\t;\n"
     ]
    },
    {
     "name": "stderr",
     "output_type": "stream",
     "text": [
      "100%|████████████████████████████████████████████████████████████████████████████████| 500/500 [07:21<00:00,  1.13it/s]\n",
      "  0%|                                                                                          | 0/500 [00:00<?, ?it/s]"
     ]
    },
    {
     "name": "stdout",
     "output_type": "stream",
     "text": [
      "IN:\tprivate double h ( double z ) { if ( z > 30 ) {\n",
      "PRED:\treturn new File ( \" \" , \" \" ) . replace ( \" \" , \" \" ) ;\n",
      "REAL:\treturn z ;\n"
     ]
    },
    {
     "name": "stderr",
     "output_type": "stream",
     "text": [
      "\r",
      "  0%|▏                                                                                 | 1/500 [00:00<07:51,  1.06it/s]"
     ]
    },
    {
     "name": "stdout",
     "output_type": "stream",
     "text": [
      "IN:\tpublic Builder mergeFrom ( com . google . protobuf . CodedInputStream input , com . google . protobuf . ExtensionRegistryLite extensionRegistry ) throws java . io . IOException { io . kubernetes . client . proto . V1Authentication . TokenReviewSpec parsedMessage = null ;\n",
      "PRED:\ttry {\n",
      "REAL:\ttry {\n"
     ]
    },
    {
     "name": "stderr",
     "output_type": "stream",
     "text": [
      "\r",
      "  0%|▎                                                                                 | 2/500 [00:01<06:53,  1.20it/s]"
     ]
    },
    {
     "name": "stdout",
     "output_type": "stream",
     "text": [
      "IN:\tpublic io . kubernetes . client . proto . V1alpha1Settings . PodPresetSpec . Builder getSpecBuilder ( ) { bitField0_ |= 0x00000002 ; onChanged ( ) ; return getSpecFieldBuilder ( ) . getBuilder ( ) ;\n",
      "PRED:\t}\n",
      "REAL:\t}\n"
     ]
    },
    {
     "name": "stderr",
     "output_type": "stream",
     "text": [
      "100%|████████████████████████████████████████████████████████████████████████████████| 500/500 [07:18<00:00,  1.19it/s]\n"
     ]
    },
    {
     "name": "stdout",
     "output_type": "stream",
     "text": [
      "train bleu score:0.9181672524512826\n",
      "train beam score:0.9732404134771423\n",
      "test bleu score:0.6436172224606973\n",
      "test beam score:0.7063939059930675\n",
      " \n",
      "[(1000, 0.62313412457985229, 0.75242033013559717, 0.57440166587463914, 0.67601928511322007), (2000, 0.83943401108166715, 0.92972221843149483, 0.59952806866880193, 0.70951829120028853), (3000, 0.89717035238650755, 0.97689686498922745, 0.5889623895412448, 0.67731770929663371), (4000, 0.89887321745669468, 0.96879119835826299, 0.65319502220142733, 0.73147291188190722), (5000, 0.92189074587280173, 0.9860749353228675, 0.63006900449435732, 0.6973025021051622), (6000, 0.88946634416492221, 0.96158197691836422, 0.62019650727374964, 0.70872475213045483), (7000, 0.93581676522191248, 0.98233656967469074, 0.61165966327635224, 0.6834804890223185), (8000, 0.8757654150865275, 0.96794128104146326, 0.63093378869162164, 0.69488412545736944), (9000, 0.93278370313340264, 0.97966347139586518, 0.6353168044551496, 0.71150995158571873), (10000, 0.89190997172307074, 0.97598630585639301, 0.6343728712929827, 0.70826697071674816), (11000, 0.92315173016220931, 0.97608865088601804, 0.6364600181067317, 0.70902366990800814), (12000, 0.90491125740573031, 0.97926229726262493, 0.6228061996696076, 0.69713550353762199), (13000, 0.93234165522733081, 0.98091771421029827, 0.65003766180379208, 0.72483503837958274), (14000, 0.8987456238790783, 0.97591369368031566, 0.61684194173010387, 0.70482638568750156), (15000, 0.87895781108873172, 0.97861289950776642, 0.65388137301506211, 0.73050542246633332), (16000, 0.91590271469589601, 0.96660713832948364, 0.58085686270292025, 0.64871564828562778), (17000, 0.88299741374262763, 0.9603170011742711, 0.60961641860707438, 0.70078890953824047), (18000, 0.91305860106962877, 0.97614249034889666, 0.63220842655089859, 0.69050669937409204), (19000, 0.87662698791164761, 0.96219774308403816, 0.63473954141516087, 0.70592242312345521), (20000, 0.91816725245128261, 0.9732404134771423, 0.6436172224606973, 0.70639390599306751)]\n",
      "1000 2 2 0.1 64 5 0.001 1.0\n",
      "Initializing ...\n",
      "Training...\n",
      "\n",
      "Iteration: 1000; Percent complete: 5.0%; Average loss: 1.4431\n"
     ]
    },
    {
     "name": "stderr",
     "output_type": "stream",
     "text": [
      "\r",
      "  0%|                                                                                          | 0/500 [00:00<?, ?it/s]"
     ]
    },
    {
     "name": "stdout",
     "output_type": "stream",
     "text": [
      "IN:\tpublic void writeTo ( com . google . protobuf . CodedOutputStream output ) throws java . io . IOException {\n",
      "PRED:\tif ( ( ( bitField0_ & 0x00000001 ) == 0x00000001 ) ) {\n",
      "REAL:\tfor ( int i = 0 ;\n"
     ]
    },
    {
     "name": "stderr",
     "output_type": "stream",
     "text": [
      "\r",
      "  0%|▏                                                                                 | 1/500 [00:01<15:40,  1.88s/it]"
     ]
    },
    {
     "name": "stdout",
     "output_type": "stream",
     "text": [
      "IN:\tpublic void post ( String path , String acceptType , Route route , ResponseTransformer transformer ) { addRoute ( HttpMethod . post , ResponseTransformerRouteImpl . create ( path , acceptType , route , transformer ) ) ;\n",
      "PRED:\t}\n",
      "REAL:\t}\n"
     ]
    },
    {
     "name": "stderr",
     "output_type": "stream",
     "text": [
      "\r",
      "  0%|▎                                                                                 | 2/500 [00:04<17:14,  2.08s/it]"
     ]
    },
    {
     "name": "stdout",
     "output_type": "stream",
     "text": [
      "IN:\tpublic double getDouble ( int index ) {\n",
      "PRED:\treturn unsafe . getLong ( base , address + index ) ;\n",
      "REAL:\treturn unsafe . getDouble ( base , address + index ) ;\n"
     ]
    },
    {
     "name": "stderr",
     "output_type": "stream",
     "text": [
      "100%|████████████████████████████████████████████████████████████████████████████████| 500/500 [20:12<00:00,  2.38s/it]\n",
      "  0%|                                                                                          | 0/500 [00:00<?, ?it/s]"
     ]
    },
    {
     "name": "stdout",
     "output_type": "stream",
     "text": [
      "IN:\tpublic void nullAnnotationsAddition ( ) { try { MethodSpec . methodBuilder ( \" \" ) . addAnnotations ( null ) ; fail ( ) ; } catch ( IllegalArgumentException expected ) { assertThat ( expected ) . hasMessageThat ( ) . isEqualTo ( \" \" ) ; }\n",
      "PRED:\t}\n",
      "REAL:\t}\n"
     ]
    },
    {
     "name": "stderr",
     "output_type": "stream",
     "text": [
      "\r",
      "  0%|▏                                                                                 | 1/500 [00:02<23:27,  2.82s/it]"
     ]
    },
    {
     "name": "stdout",
     "output_type": "stream",
     "text": [
      "IN:\tpublic Iterable < Map . Entry < Integer , Record > > entries ( ) { return ( ) -> new Iterator < Map . Entry < Integer , Record > > ( ) {\n",
      "PRED:\t}\n",
      "REAL:\tprivate final Iterator < Map . Entry < Integer , Record > > it = data . records . entrySet ( ) . iterator ( ) ;\n"
     ]
    },
    {
     "name": "stderr",
     "output_type": "stream",
     "text": [
      "\r",
      "  0%|▎                                                                                 | 2/500 [00:05<23:39,  2.85s/it]"
     ]
    },
    {
     "name": "stdout",
     "output_type": "stream",
     "text": [
      "IN:\tpublic void before ( ) throws Exception {\n",
      "PRED:\tsuper . onCreate ( ) ;\n",
      "REAL:\tClassPathResource resource = new ClassPathResource ( \" \" ) ;\n"
     ]
    },
    {
     "name": "stderr",
     "output_type": "stream",
     "text": [
      "100%|████████████████████████████████████████████████████████████████████████████████| 500/500 [20:15<00:00,  2.26s/it]\n"
     ]
    },
    {
     "name": "stdout",
     "output_type": "stream",
     "text": [
      "train bleu score:0.6248640516914624\n",
      "train beam score:0.7561363979378253\n",
      "test bleu score:0.5744825284493439\n",
      "test beam score:0.6716760105222247\n",
      " \n",
      "\n",
      "Iteration: 2000; Percent complete: 10.0%; Average loss: 0.2834\n"
     ]
    },
    {
     "name": "stderr",
     "output_type": "stream",
     "text": [
      "\r",
      "  0%|                                                                                          | 0/500 [00:00<?, ?it/s]"
     ]
    },
    {
     "name": "stdout",
     "output_type": "stream",
     "text": [
      "IN:\tpublic void write ( char [ ] buf , int offset , int count ) throws IOException { synchronized ( lock ) { byte [ ] bytes = new byte [ buf . length ] ;\n",
      "PRED:\tfor ( int i = 0 ;\n",
      "REAL:\tfor ( int i = 0 ;\n"
     ]
    },
    {
     "name": "stderr",
     "output_type": "stream",
     "text": [
      "\r",
      "  0%|▏                                                                                 | 1/500 [00:03<32:11,  3.87s/it]"
     ]
    },
    {
     "name": "stdout",
     "output_type": "stream",
     "text": [
      "IN:\tprotected static byte [ ] decrypt ( String str ) throws Exception { StringBuffer sb = new StringBuffer ( ) ;\n",
      "PRED:\tbyte [ ] a = new byte [ 1024 ] ;\n",
      "REAL:\tbyte [ ] data = str . getBytes ( \" \" ) ;\n"
     ]
    },
    {
     "name": "stderr",
     "output_type": "stream",
     "text": [
      "\r",
      "  0%|▎                                                                                 | 2/500 [00:07<31:05,  3.75s/it]"
     ]
    },
    {
     "name": "stdout",
     "output_type": "stream",
     "text": [
      "IN:\tpublic void flush ( ) {\n",
      "PRED:\tif ( buffer . size ( ) ) {\n",
      "REAL:\tif ( passThrough ) {\n"
     ]
    },
    {
     "name": "stderr",
     "output_type": "stream",
     "text": [
      "100%|████████████████████████████████████████████████████████████████████████████████| 500/500 [22:43<00:00,  2.17s/it]\n",
      "  0%|                                                                                          | 0/500 [00:00<?, ?it/s]"
     ]
    },
    {
     "name": "stdout",
     "output_type": "stream",
     "text": [
      "IN:\tpublic Builder toBuilder ( ) {\n",
      "PRED:\treturn this == DEFAULT_INSTANCE ? new Builder ( ) : new Builder ( ) . mergeFrom ( this ) ;\n",
      "REAL:\treturn this == DEFAULT_INSTANCE ? new Builder ( ) : new Builder ( ) . mergeFrom ( this ) ;\n"
     ]
    },
    {
     "name": "stderr",
     "output_type": "stream",
     "text": [
      "\r",
      "  0%|▏                                                                                 | 1/500 [00:02<20:21,  2.45s/it]"
     ]
    },
    {
     "name": "stdout",
     "output_type": "stream",
     "text": [
      "IN:\tpublic Argument getArgument ( String name ) { int nArgs = size ( ) ; for ( int n = 0 ; n < nArgs ; n ++ ) { Argument arg = getArgument ( n ) ;\n",
      "PRED:\tfor ( int n = 0 ;\n",
      "REAL:\tString argName = arg . getName ( ) ;\n"
     ]
    },
    {
     "name": "stderr",
     "output_type": "stream",
     "text": [
      "\r",
      "  0%|▎                                                                                 | 2/500 [00:04<20:33,  2.48s/it]"
     ]
    },
    {
     "name": "stdout",
     "output_type": "stream",
     "text": [
      "IN:\tpublic final Builder mergeUnknownFields ( final com . google . protobuf . UnknownFieldSet unknownFields ) { return super . mergeUnknownFields ( unknownFields ) ;\n",
      "PRED:\t}\n",
      "REAL:\t}\n"
     ]
    },
    {
     "name": "stderr",
     "output_type": "stream",
     "text": [
      "100%|████████████████████████████████████████████████████████████████████████████████| 500/500 [21:42<00:00,  2.35s/it]\n"
     ]
    },
    {
     "name": "stdout",
     "output_type": "stream",
     "text": [
      "train bleu score:0.8020093558334742\n",
      "train beam score:0.9211643254445264\n",
      "test bleu score:0.5824768715768305\n",
      "test beam score:0.6753622920745713\n",
      " \n",
      "\n",
      "Iteration: 3000; Percent complete: 15.0%; Average loss: 0.1328\n"
     ]
    },
    {
     "name": "stderr",
     "output_type": "stream",
     "text": [
      "\r",
      "  0%|                                                                                          | 0/500 [00:00<?, ?it/s]"
     ]
    },
    {
     "name": "stdout",
     "output_type": "stream",
     "text": [
      "IN:\tpublic Builder mergeFrom ( com . google . protobuf . Message other ) {\n",
      "PRED:\tif ( ! other . isEmpty ) {\n",
      "REAL:\tif ( other instanceof io . kubernetes . client . proto . V1alpha1Scheduling . PriorityClassList ) {\n"
     ]
    },
    {
     "name": "stderr",
     "output_type": "stream",
     "text": [
      "\r",
      "  0%|▏                                                                                 | 1/500 [00:01<10:36,  1.27s/it]"
     ]
    },
    {
     "name": "stdout",
     "output_type": "stream",
     "text": [
      "IN:\tpublic static io . kubernetes . client . proto . V1Authentication . TokenReviewStatus parseFrom ( java . io . InputStream input , com . google . protobuf . ExtensionRegistryLite extensionRegistry ) throws java . io . IOException {\n",
      "PRED:\treturn com . google . protobuf . GeneratedMessageV3 . parseWithIOException ( PARSER , input , extensionRegistry ) ;\n",
      "REAL:\treturn com . google . protobuf . GeneratedMessageV3 . parseWithIOException ( PARSER , input , extensionRegistry ) ;\n"
     ]
    },
    {
     "name": "stderr",
     "output_type": "stream",
     "text": [
      "\r",
      "  0%|▎                                                                                 | 2/500 [00:03<13:48,  1.66s/it]"
     ]
    },
    {
     "name": "stdout",
     "output_type": "stream",
     "text": [
      "IN:\tpublic static void assertEquals ( float expected , float actual , float delta ) {\n",
      "PRED:\tAssert . assertEquals ( message , expected , actual ) ;\n",
      "REAL:\tAssert . assertEquals ( expected , actual , delta ) ;\n"
     ]
    },
    {
     "name": "stderr",
     "output_type": "stream",
     "text": [
      "100%|████████████████████████████████████████████████████████████████████████████████| 500/500 [19:37<00:00,  2.03s/it]\n",
      "  0%|                                                                                          | 0/500 [00:00<?, ?it/s]"
     ]
    },
    {
     "name": "stdout",
     "output_type": "stream",
     "text": [
      "IN:\tpublic static void assertEquals ( Object expected , Object actual ) {\n",
      "PRED:\tAssert . assertEquals ( expected , actual , delta ) ;\n",
      "REAL:\tAssert . assertEquals ( expected , actual ) ;\n"
     ]
    },
    {
     "name": "stderr",
     "output_type": "stream",
     "text": [
      "\r",
      "  0%|▏                                                                                 | 1/500 [00:02<23:20,  2.81s/it]"
     ]
    },
    {
     "name": "stdout",
     "output_type": "stream",
     "text": [
      "IN:\tprivate void ensureActiveIsMutable ( ) { if ( ! ( ( bitField0_ & 0x00000001 ) == 0x00000001 ) ) { active_ = new java . util . ArrayList < io . kubernetes . client . proto . V1 . ObjectReference > ( active_ ) ; bitField0_ |= 0x00000001 ;\n",
      "PRED:\t}\n",
      "REAL:\t}\n"
     ]
    },
    {
     "name": "stderr",
     "output_type": "stream",
     "text": [
      "\r",
      "  0%|▎                                                                                 | 2/500 [00:05<22:37,  2.73s/it]"
     ]
    },
    {
     "name": "stdout",
     "output_type": "stream",
     "text": [
      "IN:\tpublic int hashCode ( ) { int result = pattern != null ? pattern . hashCode ( ) : 0 ; result = 31 * result + ( locale != null ? locale . hashCode ( ) : 0 ) ; return result ;\n",
      "PRED:\t}\n",
      "REAL:\t}\n"
     ]
    },
    {
     "name": "stderr",
     "output_type": "stream",
     "text": [
      "100%|████████████████████████████████████████████████████████████████████████████████| 500/500 [19:42<00:00,  2.42s/it]\n"
     ]
    },
    {
     "name": "stdout",
     "output_type": "stream",
     "text": [
      "train bleu score:0.7629763182407346\n",
      "train beam score:0.9130349059202957\n",
      "test bleu score:0.5627229413655009\n",
      "test beam score:0.6628013056758826\n",
      " \n",
      "\n",
      "Iteration: 4000; Percent complete: 20.0%; Average loss: 0.1342\n"
     ]
    },
    {
     "name": "stderr",
     "output_type": "stream",
     "text": [
      "\r",
      "  0%|                                                                                          | 0/500 [00:00<?, ?it/s]"
     ]
    },
    {
     "name": "stdout",
     "output_type": "stream",
     "text": [
      "IN:\tpublic String profile ( HttpServletRequest request ) {\n",
      "PRED:\tgetClass ( ) . getAttribute ( \" \" ) ;\n",
      "REAL:\tInteger loginUserId = ( int ) request . getSession ( ) . getAttribute ( \" \" ) ;\n"
     ]
    },
    {
     "name": "stderr",
     "output_type": "stream",
     "text": [
      "\r",
      "  0%|▏                                                                                 | 1/500 [00:02<20:38,  2.48s/it]"
     ]
    },
    {
     "name": "stdout",
     "output_type": "stream",
     "text": [
      "IN:\tpublic void writeTo ( com . google . protobuf . CodedOutputStream output ) throws java . io . IOException { if ( ( ( bitField0_ & 0x00000001 ) == 0x00000001 ) ) { output . writeMessage ( 1 , getMetadata ( ) ) ;\n",
      "PRED:\t}\n",
      "REAL:\t}\n"
     ]
    },
    {
     "name": "stderr",
     "output_type": "stream",
     "text": [
      "\r",
      "  0%|▎                                                                                 | 2/500 [00:05<21:03,  2.54s/it]"
     ]
    },
    {
     "name": "stdout",
     "output_type": "stream",
     "text": [
      "IN:\tpublic boolean equals ( Object o ) { if ( this == o ) {\n",
      "PRED:\treturn false ;\n",
      "REAL:\treturn true ;\n"
     ]
    },
    {
     "name": "stderr",
     "output_type": "stream",
     "text": [
      "100%|████████████████████████████████████████████████████████████████████████████████| 500/500 [19:37<00:00,  2.39s/it]\n",
      "  0%|                                                                                          | 0/500 [00:00<?, ?it/s]"
     ]
    },
    {
     "name": "stdout",
     "output_type": "stream",
     "text": [
      "IN:\tpublic int hashCode ( ) { final int prime = 31 ; int result = 1 ;\n",
      "PRED:\tresult = ( prime * result ) + ( ( int ) ( ) == 0 ) ;\n",
      "REAL:\tresult = prime * result + ( ( key == null ) ? 0 : key . hashCode ( ) ) ;\n"
     ]
    },
    {
     "name": "stderr",
     "output_type": "stream",
     "text": [
      "\r",
      "  0%|▏                                                                                 | 1/500 [00:02<19:25,  2.34s/it]"
     ]
    },
    {
     "name": "stdout",
     "output_type": "stream",
     "text": [
      "IN:\tpublic boolean equals ( Object obj ) { if ( this == obj ) return true ;\n",
      "PRED:\tif ( type == null ) return false ;\n",
      "REAL:\tif ( obj == null ) return false ;\n"
     ]
    },
    {
     "name": "stderr",
     "output_type": "stream",
     "text": [
      "\r",
      "  0%|▎                                                                                 | 2/500 [00:04<19:30,  2.35s/it]"
     ]
    },
    {
     "name": "stdout",
     "output_type": "stream",
     "text": [
      "IN:\tpublic void example3 ( Vertx vertx ) {\n",
      "PRED:\treturn type . isPrimitive ( ) . isFalse ( ) ;\n",
      "REAL:\tDnsClient client = vertx . createDnsClient ( 53 , \" \" ) ;\n"
     ]
    },
    {
     "name": "stderr",
     "output_type": "stream",
     "text": [
      "100%|████████████████████████████████████████████████████████████████████████████████| 500/500 [19:34<00:00,  2.44s/it]\n"
     ]
    },
    {
     "name": "stdout",
     "output_type": "stream",
     "text": [
      "train bleu score:0.600600959157421\n",
      "train beam score:0.7968842354538319\n",
      "test bleu score:0.48866425652553563\n",
      "test beam score:0.6141867544636684\n",
      " \n",
      "\n",
      "Iteration: 5000; Percent complete: 25.0%; Average loss: 0.1044\n"
     ]
    },
    {
     "name": "stderr",
     "output_type": "stream",
     "text": [
      "\r",
      "  0%|                                                                                          | 0/500 [00:00<?, ?it/s]"
     ]
    },
    {
     "name": "stdout",
     "output_type": "stream",
     "text": [
      "IN:\tpublic final boolean isInitialized ( ) { byte isInitialized = memoizedIsInitialized ; if ( isInitialized == 1 ) return true ;\n",
      "PRED:\tif ( Split == 0 ) {\n",
      "REAL:\tif ( isInitialized == 0 ) return false ;\n"
     ]
    },
    {
     "name": "stderr",
     "output_type": "stream",
     "text": [
      "\r",
      "  0%|▏                                                                                 | 1/500 [00:02<18:59,  2.28s/it]"
     ]
    },
    {
     "name": "stdout",
     "output_type": "stream",
     "text": [
      "IN:\tpublic Builder setStatus ( io . kubernetes . client . proto . V1beta1Authentication . TokenReviewStatus value ) { if ( statusBuilder_ == null ) {\n",
      "PRED:\tif ( value == null ) {\n",
      "REAL:\tif ( value == null ) {\n"
     ]
    },
    {
     "name": "stderr",
     "output_type": "stream",
     "text": [
      "\r",
      "  0%|▎                                                                                 | 2/500 [00:04<18:56,  2.28s/it]"
     ]
    },
    {
     "name": "stdout",
     "output_type": "stream",
     "text": [
      "IN:\tpublic Builder setSpec ( io . kubernetes . client . proto . V1alpha1Imagepolicy . ImageReviewSpec . Builder builderForValue ) {\n",
      "PRED:\tif ( specBuilder_ == null ) {\n",
      "REAL:\tif ( specBuilder_ == null ) {\n"
     ]
    },
    {
     "name": "stderr",
     "output_type": "stream",
     "text": [
      "100%|████████████████████████████████████████████████████████████████████████████████| 500/500 [19:05<00:00,  2.31s/it]\n",
      "  0%|                                                                                          | 0/500 [00:00<?, ?it/s]"
     ]
    },
    {
     "name": "stdout",
     "output_type": "stream",
     "text": [
      "IN:\tpublic int compare ( File o1 , File o2 ) { if ( o1 . isDirectory ( ) != o2 . isDirectory ( ) ) { if ( o1 . isDirectory ( ) ) { return - 1 ; }\n",
      "PRED:\telse if ( b != null ) {\n",
      "REAL:\telse {\n"
     ]
    },
    {
     "name": "stderr",
     "output_type": "stream",
     "text": [
      "\r",
      "  0%|▏                                                                                 | 1/500 [00:02<20:55,  2.52s/it]"
     ]
    },
    {
     "name": "stdout",
     "output_type": "stream",
     "text": [
      "IN:\tpublic int getSerializedSize ( ) {\n",
      "PRED:\tint size = 0 ;\n",
      "REAL:\tint size = memoizedSize ;\n"
     ]
    },
    {
     "name": "stderr",
     "output_type": "stream",
     "text": [
      "\r",
      "  0%|▎                                                                                 | 2/500 [00:04<19:59,  2.41s/it]"
     ]
    },
    {
     "name": "stdout",
     "output_type": "stream",
     "text": [
      "IN:\tpublic void onActivityCreated ( @ Nullable Bundle savedInstanceState ) { super . onActivityCreated ( savedInstanceState ) ; _setupLogger ( ) ;\n",
      "PRED:\t}\n",
      "REAL:\t}\n"
     ]
    },
    {
     "name": "stderr",
     "output_type": "stream",
     "text": [
      "100%|████████████████████████████████████████████████████████████████████████████████| 500/500 [18:53<00:00,  2.31s/it]\n"
     ]
    },
    {
     "name": "stdout",
     "output_type": "stream",
     "text": [
      "train bleu score:0.6625734740943932\n",
      "train beam score:0.8319799093594268\n",
      "test bleu score:0.5353140379116508\n",
      "test beam score:0.637389691710708\n",
      " \n",
      "\n",
      "Iteration: 6000; Percent complete: 30.0%; Average loss: 0.0931\n"
     ]
    },
    {
     "name": "stderr",
     "output_type": "stream",
     "text": [
      "\r",
      "  0%|                                                                                          | 0/500 [00:00<?, ?it/s]"
     ]
    },
    {
     "name": "stdout",
     "output_type": "stream",
     "text": [
      "IN:\tprivate Type [ ] getTypes ( Class < ? > ... src ) { Type [ ] result = new Type [ src . length ] ; for ( int i = 0 ; i < result . length ; i ++ ) {\n",
      "PRED:\tresult [ i ] = Type . getType ( in ) ;\n",
      "REAL:\tresult [ i ] = Type . getType ( src [ i ] ) ;\n"
     ]
    },
    {
     "name": "stderr",
     "output_type": "stream",
     "text": [
      "\r",
      "  0%|▏                                                                                 | 1/500 [00:02<20:49,  2.50s/it]"
     ]
    },
    {
     "name": "stdout",
     "output_type": "stream",
     "text": [
      "IN:\tpublic static void append ( BufferedReader in , StringBuilder buf ) throws IOException { String line = in . readLine ( ) ; while ( line != null ) { buf . append ( line ) ; buf . append ( \" \" ) ;\n",
      "PRED:\tline = in . readLine ( ) ;\n",
      "REAL:\tline = in . readLine ( ) ;\n"
     ]
    },
    {
     "name": "stderr",
     "output_type": "stream",
     "text": [
      "\r",
      "  0%|▎                                                                                 | 2/500 [00:04<20:34,  2.48s/it]"
     ]
    },
    {
     "name": "stdout",
     "output_type": "stream",
     "text": [
      "IN:\tpublic static void isFalse ( boolean val ) {\n",
      "PRED:\tif ( val ) {\n",
      "REAL:\tif ( val ) throw new IllegalArgumentException ( \" \" ) ;\n"
     ]
    },
    {
     "name": "stderr",
     "output_type": "stream",
     "text": [
      "100%|████████████████████████████████████████████████████████████████████████████████| 500/500 [18:37<00:00,  2.26s/it]\n",
      "  0%|                                                                                          | 0/500 [00:00<?, ?it/s]"
     ]
    },
    {
     "name": "stdout",
     "output_type": "stream",
     "text": [
      "IN:\tpublic static Builder newBuilder ( io . kubernetes . client . proto . V1Batch . JobSpec prototype ) {\n",
      "PRED:\treturn . mergeFrom ( ( io . kubernetes . client . proto . V1Batch . assertThat ( emptyMap ( ) ) ) ;\n",
      "REAL:\treturn DEFAULT_INSTANCE . toBuilder ( ) . mergeFrom ( prototype ) ;\n"
     ]
    },
    {
     "name": "stderr",
     "output_type": "stream",
     "text": [
      "\r",
      "  0%|▏                                                                                 | 1/500 [00:02<18:43,  2.25s/it]"
     ]
    },
    {
     "name": "stdout",
     "output_type": "stream",
     "text": [
      "IN:\tpublic int getSerializedSize ( ) { int size = memoizedSize ;\n",
      "PRED:\tif ( size . size ( ) ) {\n",
      "REAL:\tif ( size != - 1 ) return size ;\n"
     ]
    },
    {
     "name": "stderr",
     "output_type": "stream",
     "text": [
      "\r",
      "  0%|▎                                                                                 | 2/500 [00:04<18:17,  2.20s/it]"
     ]
    },
    {
     "name": "stdout",
     "output_type": "stream",
     "text": [
      "IN:\tpublic static ChannelFuture write ( DatagramChannel datagramChannel , Object message , InetSocketAddress serverAddress ) {\n",
      "PRED:\tif ( a . equals ( b ) ) {\n",
      "REAL:\treturn datagramChannel . write ( message , serverAddress ) ;\n"
     ]
    },
    {
     "name": "stderr",
     "output_type": "stream",
     "text": [
      "100%|████████████████████████████████████████████████████████████████████████████████| 500/500 [18:34<00:00,  2.27s/it]\n"
     ]
    },
    {
     "name": "stdout",
     "output_type": "stream",
     "text": [
      "train bleu score:0.6460655878855105\n",
      "train beam score:0.7933287034601648\n",
      "test bleu score:0.4840006050333707\n",
      "test beam score:0.6070185031129641\n",
      " \n",
      "\n",
      "Iteration: 7000; Percent complete: 35.0%; Average loss: 0.1080\n"
     ]
    },
    {
     "name": "stderr",
     "output_type": "stream",
     "text": [
      "\r",
      "  0%|                                                                                          | 0/500 [00:00<?, ?it/s]"
     ]
    },
    {
     "name": "stdout",
     "output_type": "stream",
     "text": [
      "IN:\tpublic Builder clearMetadata ( ) { if ( metadataBuilder_ == null ) {\n",
      "PRED:\tmetadata_ = null ;\n",
      "REAL:\tmetadata_ = null ;\n"
     ]
    },
    {
     "name": "stderr",
     "output_type": "stream",
     "text": [
      "\r",
      "  0%|▏                                                                                 | 1/500 [00:02<17:57,  2.16s/it]"
     ]
    },
    {
     "name": "stdout",
     "output_type": "stream",
     "text": [
      "IN:\tprotected void profile ( ) { if ( consumer . compareAndSet ( false , true ) ) { for ( ; ; ) { queue . poll ( ) ; } } else { for ( ; ;\n",
      "PRED:\t) {\n",
      "REAL:\t) {\n"
     ]
    },
    {
     "name": "stderr",
     "output_type": "stream",
     "text": [
      "\r",
      "  0%|▎                                                                                 | 2/500 [00:04<18:18,  2.21s/it]"
     ]
    },
    {
     "name": "stdout",
     "output_type": "stream",
     "text": [
      "IN:\tpublic int getSerializedSize ( ) { int size = memoizedSize ;\n",
      "PRED:\tif ( getClass ( ) . getCanonicalName ( ) != 0 ) {\n",
      "REAL:\tif ( size != - 1 ) return size ;\n"
     ]
    },
    {
     "name": "stderr",
     "output_type": "stream",
     "text": [
      "100%|████████████████████████████████████████████████████████████████████████████████| 500/500 [18:11<00:00,  2.25s/it]\n",
      "  0%|                                                                                          | 0/500 [00:00<?, ?it/s]"
     ]
    },
    {
     "name": "stdout",
     "output_type": "stream",
     "text": [
      "IN:\tpublic static io . kubernetes . client . proto . V1beta1Certificates . CertificateSigningRequestStatus parseDelimitedFrom ( java . io . InputStream input , com . google . protobuf . ExtensionRegistryLite extensionRegistry ) throws java . io . IOException {\n",
      "PRED:\treturn com . google . protobuf . GeneratedMessageV3 . parseDelimitedWithIOException ( PARSER , input , extensionRegistry ) ;\n",
      "REAL:\treturn com . google . protobuf . GeneratedMessageV3 . parseDelimitedWithIOException ( PARSER , input , extensionRegistry ) ;\n"
     ]
    },
    {
     "name": "stderr",
     "output_type": "stream",
     "text": [
      "\r",
      "  0%|▏                                                                                 | 1/500 [00:02<20:54,  2.51s/it]"
     ]
    },
    {
     "name": "stdout",
     "output_type": "stream",
     "text": [
      "IN:\tpublic Builder clear ( ) { super . clear ( ) ; if ( metadataBuilder_ == null ) {\n",
      "PRED:\tspec_ = null ;\n",
      "REAL:\tmetadata_ = null ;\n"
     ]
    },
    {
     "name": "stderr",
     "output_type": "stream",
     "text": [
      "\r",
      "  0%|▎                                                                                 | 2/500 [00:04<20:00,  2.41s/it]"
     ]
    },
    {
     "name": "stdout",
     "output_type": "stream",
     "text": [
      "IN:\tpublic boolean addAll ( Collection < ? extends Record > c ) { c . stream ( ) . forEach ( r -> {\n",
      "PRED:\tthis . split = root ;\n",
      "REAL:\tadd ( r ) ;\n"
     ]
    },
    {
     "name": "stderr",
     "output_type": "stream",
     "text": [
      "100%|████████████████████████████████████████████████████████████████████████████████| 500/500 [18:20<00:00,  2.21s/it]\n"
     ]
    },
    {
     "name": "stdout",
     "output_type": "stream",
     "text": [
      "train bleu score:0.5174089704885957\n",
      "train beam score:0.6615607543317154\n",
      "test bleu score:0.42010620853888114\n",
      "test beam score:0.5575149037744977\n",
      " \n",
      "\n",
      "Iteration: 8000; Percent complete: 40.0%; Average loss: 0.0809\n"
     ]
    },
    {
     "name": "stderr",
     "output_type": "stream",
     "text": [
      "\r",
      "  0%|                                                                                          | 0/500 [00:00<?, ?it/s]"
     ]
    },
    {
     "name": "stdout",
     "output_type": "stream",
     "text": [
      "IN:\tpublic Builder setSpec ( io . kubernetes . client . proto . V2alpha1Batch . CronJobSpec value ) { if ( specBuilder_ == null ) { if ( value == null ) { throw new NullPointerException ( ) ; } spec_ = value ; onChanged ( ) ; }\n",
      "PRED:\telse {\n",
      "REAL:\telse {\n"
     ]
    },
    {
     "name": "stderr",
     "output_type": "stream",
     "text": [
      "\r",
      "  0%|▏                                                                                 | 1/500 [00:02<23:55,  2.88s/it]"
     ]
    },
    {
     "name": "stdout",
     "output_type": "stream",
     "text": [
      "IN:\tpublic Message < Map < String , Object > > transform ( Message < byte [ ] > message ) {\n",
      "PRED:\tString payload = ( String ) getPayload ( ) ;\n",
      "REAL:\tString payload ;\n"
     ]
    },
    {
     "name": "stderr",
     "output_type": "stream",
     "text": [
      "\r",
      "  0%|▎                                                                                 | 2/500 [00:05<22:23,  2.70s/it]"
     ]
    },
    {
     "name": "stdout",
     "output_type": "stream",
     "text": [
      "IN:\tpublic Builder clearMetadata ( ) { if ( metadataBuilder_ == null ) { metadata_ = null ; onChanged ( ) ;\n",
      "PRED:\t}\n",
      "REAL:\t}\n"
     ]
    },
    {
     "name": "stderr",
     "output_type": "stream",
     "text": [
      "100%|████████████████████████████████████████████████████████████████████████████████| 500/500 [18:23<00:00,  2.32s/it]\n",
      "  0%|                                                                                          | 0/500 [00:00<?, ?it/s]"
     ]
    },
    {
     "name": "stdout",
     "output_type": "stream",
     "text": [
      "IN:\tprivate void ensureItemsIsMutable ( ) {\n",
      "PRED:\tif ( ! ( ( bitField0_ & 0x00000002 ) == 0x00000002 ) ) {\n",
      "REAL:\tif ( ! ( ( bitField0_ & 0x00000002 ) == 0x00000002 ) ) {\n"
     ]
    },
    {
     "name": "stderr",
     "output_type": "stream",
     "text": [
      "\r",
      "  0%|▏                                                                                 | 1/500 [00:02<17:49,  2.14s/it]"
     ]
    },
    {
     "name": "stdout",
     "output_type": "stream",
     "text": [
      "IN:\tpublic Result save ( @ RequestParam ( \" \" ) String tagName ) { if ( StringUtils . isEmpty ( tagName ) ) {\n",
      "PRED:\treturn method . getName ( ) . getPayload ( ) + \" \" ;\n",
      "REAL:\t}\n"
     ]
    },
    {
     "name": "stderr",
     "output_type": "stream",
     "text": [
      "\r",
      "  0%|▎                                                                                 | 2/500 [00:04<18:05,  2.18s/it]"
     ]
    },
    {
     "name": "stdout",
     "output_type": "stream",
     "text": [
      "IN:\tpublic EqualsBuilder append ( final double lhs , final double rhs ) { if ( isEquals == false ) {\n",
      "PRED:\treturn this ;\n",
      "REAL:\treturn this ;\n"
     ]
    },
    {
     "name": "stderr",
     "output_type": "stream",
     "text": [
      "100%|████████████████████████████████████████████████████████████████████████████████| 500/500 [18:23<00:00,  2.21s/it]\n"
     ]
    },
    {
     "name": "stdout",
     "output_type": "stream",
     "text": [
      "train bleu score:0.4856472816087884\n",
      "train beam score:0.6532235618415848\n",
      "test bleu score:0.4544923953549303\n",
      "test beam score:0.5669087638035004\n",
      " \n",
      "\n",
      "Iteration: 9000; Percent complete: 45.0%; Average loss: 0.1059\n"
     ]
    },
    {
     "name": "stderr",
     "output_type": "stream",
     "text": [
      "\r",
      "  0%|                                                                                          | 0/500 [00:00<?, ?it/s]"
     ]
    },
    {
     "name": "stdout",
     "output_type": "stream",
     "text": [
      "IN:\tprivate Builder ( com . google . protobuf . GeneratedMessageV3 . BuilderParent parent ) { super ( parent ) ; maybeForceBuilderInitialization ( ) ;\n",
      "PRED:\t}\n",
      "REAL:\t}\n"
     ]
    },
    {
     "name": "stderr",
     "output_type": "stream",
     "text": [
      "\r",
      "  0%|▏                                                                                 | 1/500 [00:02<18:16,  2.20s/it]"
     ]
    },
    {
     "name": "stdout",
     "output_type": "stream",
     "text": [
      "IN:\tpublic static io . kubernetes . client . proto . IntStr . IntOrString parseFrom ( java . nio . ByteBuffer data ) throws com . google . protobuf . InvalidProtocolBufferException { return PARSER . parseFrom ( data ) ;\n",
      "PRED:\t}\n",
      "REAL:\t}\n"
     ]
    },
    {
     "name": "stderr",
     "output_type": "stream",
     "text": [
      "\r",
      "  0%|▎                                                                                 | 2/500 [00:03<15:36,  1.88s/it]"
     ]
    },
    {
     "name": "stdout",
     "output_type": "stream",
     "text": [
      "IN:\tprotected Object encode ( ChannelHandlerContext ctx , Channel channel , Object msg ) throws Exception { if ( null == msg ) { return msg ; }\n",
      "PRED:\tEvent event = ( Event ) args [ 1 ] ;\n",
      "REAL:\tEvent event = ( Event ) msg ;\n"
     ]
    },
    {
     "name": "stderr",
     "output_type": "stream",
     "text": [
      "100%|████████████████████████████████████████████████████████████████████████████████| 500/500 [18:26<00:00,  2.25s/it]\n",
      "  0%|                                                                                          | 0/500 [00:00<?, ?it/s]"
     ]
    },
    {
     "name": "stdout",
     "output_type": "stream",
     "text": [
      "IN:\tpublic int drainTo ( Collection < ? super E > c , int maxElements ) { int rv = 0 ; E e ; while ( ( e = poll ( ) ) != null && rv ++ < maxElements ) {\n",
      "PRED:\tpayload = ( ( char ) next . hashCode ( ) ;\n",
      "REAL:\tc . add ( e ) ;\n"
     ]
    },
    {
     "name": "stderr",
     "output_type": "stream",
     "text": [
      "\r",
      "  0%|▏                                                                                 | 1/500 [00:02<19:09,  2.30s/it]"
     ]
    },
    {
     "name": "stdout",
     "output_type": "stream",
     "text": [
      "IN:\tpublic CompareToBuilder append ( final Object [ ] lhs , final Object [ ] rhs , final Comparator < ? > comparator ) {\n",
      "PRED:\tif ( comparison == 0 ) {\n",
      "REAL:\tif ( comparison != 0 ) {\n"
     ]
    },
    {
     "name": "stderr",
     "output_type": "stream",
     "text": [
      "\r",
      "  0%|▎                                                                                 | 2/500 [00:03<15:40,  1.89s/it]"
     ]
    },
    {
     "name": "stdout",
     "output_type": "stream",
     "text": [
      "IN:\tpublic void onFailure ( Throwable value ) {\n",
      "PRED:\tif ( ! request . keys ( ) ) {\n",
      "REAL:\tCallback < T > callback = null ;\n"
     ]
    },
    {
     "name": "stderr",
     "output_type": "stream",
     "text": [
      "100%|████████████████████████████████████████████████████████████████████████████████| 500/500 [18:41<00:00,  2.24s/it]\n"
     ]
    },
    {
     "name": "stdout",
     "output_type": "stream",
     "text": [
      "train bleu score:0.4003784895625199\n",
      "train beam score:0.5992072357964264\n",
      "test bleu score:0.38658516398975107\n",
      "test beam score:0.5256599405188842\n",
      " \n",
      "\n",
      "Iteration: 10000; Percent complete: 50.0%; Average loss: 0.0881\n"
     ]
    },
    {
     "name": "stderr",
     "output_type": "stream",
     "text": [
      "\r",
      "  0%|                                                                                          | 0/500 [00:00<?, ?it/s]"
     ]
    },
    {
     "name": "stdout",
     "output_type": "stream",
     "text": [
      "IN:\tpublic Builder clearMetadata ( ) { if ( metadataBuilder_ == null ) { metadata_ = null ; onChanged ( ) ; } else { metadataBuilder_ . clear ( ) ; } bitField0_ = ( bitField0_ & ~ 0x00000001 ) ; return this ;\n",
      "PRED:\t}\n",
      "REAL:\t}\n"
     ]
    },
    {
     "name": "stderr",
     "output_type": "stream",
     "text": [
      "\r",
      "  0%|▏                                                                                 | 1/500 [00:02<22:28,  2.70s/it]"
     ]
    },
    {
     "name": "stdout",
     "output_type": "stream",
     "text": [
      "IN:\tpublic LogEntry next ( ) { int min = - 1 ;\n",
      "PRED:\tfor ( i = 0 ;\n",
      "REAL:\tfor ( int i = 0 ;\n"
     ]
    },
    {
     "name": "stderr",
     "output_type": "stream",
     "text": [
      "\r",
      "  0%|▎                                                                                 | 2/500 [00:04<20:54,  2.52s/it]"
     ]
    },
    {
     "name": "stdout",
     "output_type": "stream",
     "text": [
      "IN:\tpublic void log ( int level , @ Nullable String tag , @ NonNull String message ) {\n",
      "PRED:\tparam = message ;\n",
      "REAL:\tcheckNotNull ( message ) ;\n"
     ]
    },
    {
     "name": "stderr",
     "output_type": "stream",
     "text": [
      "100%|████████████████████████████████████████████████████████████████████████████████| 500/500 [18:47<00:00,  2.21s/it]\n",
      "  0%|                                                                                          | 0/500 [00:00<?, ?it/s]"
     ]
    },
    {
     "name": "stdout",
     "output_type": "stream",
     "text": [
      "IN:\tpublic static void isTrue ( boolean val ) { if ( ! val ) throw new IllegalArgumentException ( \" \" ) ;\n",
      "PRED:\t}\n",
      "REAL:\t}\n"
     ]
    },
    {
     "name": "stderr",
     "output_type": "stream",
     "text": [
      "\r",
      "  0%|▏                                                                                 | 1/500 [00:02<19:20,  2.32s/it]"
     ]
    },
    {
     "name": "stdout",
     "output_type": "stream",
     "text": [
      "IN:\tprotected String [ ] getExpectSource ( ) {\n",
      "PRED:\treturn null ;\n",
      "REAL:\treturn new String [ ] {\n"
     ]
    },
    {
     "name": "stderr",
     "output_type": "stream",
     "text": [
      "\r",
      "  0%|▎                                                                                 | 2/500 [00:04<19:19,  2.33s/it]"
     ]
    },
    {
     "name": "stdout",
     "output_type": "stream",
     "text": [
      "IN:\tpublic Builder setStatus ( io . kubernetes . client . proto . Meta . Status . Builder builderForValue ) { if ( statusBuilder_ == null ) { status_ = builderForValue . build ( ) ;\n",
      "PRED:\tonChanged ( ) ;\n",
      "REAL:\tonChanged ( ) ;\n"
     ]
    },
    {
     "name": "stderr",
     "output_type": "stream",
     "text": [
      "100%|████████████████████████████████████████████████████████████████████████████████| 500/500 [18:59<00:00,  2.35s/it]\n"
     ]
    },
    {
     "name": "stdout",
     "output_type": "stream",
     "text": [
      "train bleu score:0.47382808012035355\n",
      "train beam score:0.6291618907813796\n",
      "test bleu score:0.40004627031374573\n",
      "test beam score:0.5141021844479414\n",
      " \n",
      "\n",
      "Iteration: 11000; Percent complete: 55.0%; Average loss: 0.0773\n"
     ]
    },
    {
     "name": "stderr",
     "output_type": "stream",
     "text": [
      "\r",
      "  0%|                                                                                          | 0/500 [00:00<?, ?it/s]"
     ]
    },
    {
     "name": "stdout",
     "output_type": "stream",
     "text": [
      "IN:\tpublic Builder clearStatus ( ) { if ( statusBuilder_ == null ) { status_ = null ; onChanged ( ) ;\n",
      "PRED:\t}\n",
      "REAL:\t}\n"
     ]
    },
    {
     "name": "stderr",
     "output_type": "stream",
     "text": [
      "\r",
      "  0%|▏                                                                                 | 1/500 [00:02<23:25,  2.82s/it]"
     ]
    },
    {
     "name": "stdout",
     "output_type": "stream",
     "text": [
      "IN:\tpublic void accept ( AllTypes allTypes ) throws Exception { if ( subscriberCalled . incrementAndGet ( ) == 2 ) { looperThread . testComplete ( ) ;\n",
      "PRED:\t}\n",
      "REAL:\t}\n"
     ]
    },
    {
     "name": "stderr",
     "output_type": "stream",
     "text": [
      "\r",
      "  0%|▎                                                                                 | 2/500 [00:05<22:19,  2.69s/it]"
     ]
    },
    {
     "name": "stdout",
     "output_type": "stream",
     "text": [
      "IN:\tpublic void close ( ) {\n",
      "PRED:\tif ( \" \" == \" \" , \" \" || . isClosed ( ) ) {\n",
      "REAL:\tif ( isClosed ( ) == false && hook != null ) {\n"
     ]
    },
    {
     "name": "stderr",
     "output_type": "stream",
     "text": [
      "100%|████████████████████████████████████████████████████████████████████████████████| 500/500 [19:10<00:00,  2.29s/it]\n",
      "  0%|                                                                                          | 0/500 [00:00<?, ?it/s]"
     ]
    },
    {
     "name": "stdout",
     "output_type": "stream",
     "text": [
      "IN:\tpublic boolean equals ( Object obj ) {\n",
      "PRED:\tif ( this == name ) {\n",
      "REAL:\tif ( ! ( obj instanceof ZSession ) ) {\n"
     ]
    },
    {
     "name": "stderr",
     "output_type": "stream",
     "text": [
      "\r",
      "  0%|▏                                                                                 | 1/500 [00:02<18:12,  2.19s/it]"
     ]
    },
    {
     "name": "stdout",
     "output_type": "stream",
     "text": [
      "IN:\tpublic static io . kubernetes . client . proto . V1Batch . JobSpec parseFrom ( java . nio . ByteBuffer data ) throws com . google . protobuf . InvalidProtocolBufferException { return PARSER . parseFrom ( data ) ;\n",
      "PRED:\t}\n",
      "REAL:\t}\n"
     ]
    },
    {
     "name": "stderr",
     "output_type": "stream",
     "text": [
      "\r",
      "  0%|▎                                                                                 | 2/500 [00:04<18:48,  2.27s/it]"
     ]
    },
    {
     "name": "stdout",
     "output_type": "stream",
     "text": [
      "IN:\tprotected Object sleep ( int i ) { try { Thread . currentThread ( ) . sleep ( i ) ; } catch ( InterruptedException e ) {\n",
      "PRED:\tpayload = new String ( message . class ( ) , \" \" ) ;\n",
      "REAL:\te . printStackTrace ( ) ;\n"
     ]
    },
    {
     "name": "stderr",
     "output_type": "stream",
     "text": [
      "100%|████████████████████████████████████████████████████████████████████████████████| 500/500 [19:12<00:00,  2.34s/it]\n"
     ]
    },
    {
     "name": "stdout",
     "output_type": "stream",
     "text": [
      "train bleu score:0.46636035408510523\n",
      "train beam score:0.6424755662719448\n",
      "test bleu score:0.36029342373713225\n",
      "test beam score:0.5141672251282954\n",
      " \n",
      "\n",
      "Iteration: 12000; Percent complete: 60.0%; Average loss: 0.1114\n"
     ]
    },
    {
     "name": "stderr",
     "output_type": "stream",
     "text": [
      "\r",
      "  0%|                                                                                          | 0/500 [00:00<?, ?it/s]"
     ]
    },
    {
     "name": "stdout",
     "output_type": "stream",
     "text": [
      "IN:\tprivate < T extends Tag < ? > > boolean is ( @ NonNls String key , Class < T > clazz ) { if ( ! containsKey ( key ) ) { return false ; }\n",
      "PRED:\t}\n",
      "REAL:\tTag tag = value . get ( key ) ;\n"
     ]
    },
    {
     "name": "stderr",
     "output_type": "stream",
     "text": [
      "\r",
      "  0%|▏                                                                                 | 1/500 [00:02<22:50,  2.75s/it]"
     ]
    },
    {
     "name": "stdout",
     "output_type": "stream",
     "text": [
      "IN:\tpublic Map ( PokemonGo api ) {\n",
      "PRED:\tthis . api {\n",
      "REAL:\tthis . api = api ;\n"
     ]
    },
    {
     "name": "stderr",
     "output_type": "stream",
     "text": [
      "\r",
      "  0%|▎                                                                                 | 2/500 [00:04<21:20,  2.57s/it]"
     ]
    },
    {
     "name": "stdout",
     "output_type": "stream",
     "text": [
      "IN:\tpublic String toString0 ( ) { StringBuilder sb = new StringBuilder ( ) ; sb . append ( \" \" ) ; return sb . toString ( ) ;\n",
      "PRED:\t}\n",
      "REAL:\t}\n"
     ]
    },
    {
     "name": "stderr",
     "output_type": "stream",
     "text": [
      "100%|████████████████████████████████████████████████████████████████████████████████| 500/500 [18:51<00:00,  2.37s/it]\n",
      "  0%|                                                                                          | 0/500 [00:00<?, ?it/s]"
     ]
    },
    {
     "name": "stdout",
     "output_type": "stream",
     "text": [
      "IN:\tpublic Builder addTypeVariables ( Iterable < TypeVariableName > typeVariables ) { checkArgument ( typeVariables != null , \" \" ) ;\n",
      "PRED:\tthis . Collections = Collections . < Object > Collections = new ArrayList < Collections . emptyList ( ) ;\n",
      "REAL:\tfor ( TypeVariableName typeVariable : typeVariables ) {\n"
     ]
    },
    {
     "name": "stderr",
     "output_type": "stream",
     "text": [
      "\r",
      "  0%|▏                                                                                 | 1/500 [00:02<18:47,  2.26s/it]"
     ]
    },
    {
     "name": "stdout",
     "output_type": "stream",
     "text": [
      "IN:\tpublic JsonParser createJsonParser ( InputStream in , Charset charset ) { if ( charset == null ) {\n",
      "PRED:\tString ByteBuffer = String . valueOf ( input ) ;\n",
      "REAL:\treturn createJsonParser ( in ) ;\n"
     ]
    },
    {
     "name": "stderr",
     "output_type": "stream",
     "text": [
      "\r",
      "  0%|▎                                                                                 | 2/500 [00:04<18:41,  2.25s/it]"
     ]
    },
    {
     "name": "stdout",
     "output_type": "stream",
     "text": [
      "IN:\tpublic void reset ( ) {\n",
      "PRED:\tif ( null != this . ) {\n",
      "REAL:\tthis . start = - 1 ;\n"
     ]
    },
    {
     "name": "stderr",
     "output_type": "stream",
     "text": [
      "100%|████████████████████████████████████████████████████████████████████████████████| 500/500 [18:43<00:00,  2.38s/it]\n"
     ]
    },
    {
     "name": "stdout",
     "output_type": "stream",
     "text": [
      "train bleu score:0.4545676598015096\n",
      "train beam score:0.5798035682680781\n",
      "test bleu score:0.3718928206972022\n",
      "test beam score:0.4837001297419307\n",
      " \n",
      "\n",
      "Iteration: 13000; Percent complete: 65.0%; Average loss: 0.0843\n"
     ]
    },
    {
     "name": "stderr",
     "output_type": "stream",
     "text": [
      "\r",
      "  0%|                                                                                          | 0/500 [00:00<?, ?it/s]"
     ]
    },
    {
     "name": "stdout",
     "output_type": "stream",
     "text": [
      "IN:\tpublic Builder clear ( ) { super . clear ( ) ; if ( metadataBuilder_ == null ) { metadata_ = null ; } else { metadataBuilder_ . clear ( ) ; }\n",
      "PRED:\tbitField0_ = ( bitField0_ & ~ arguments ;\n",
      "REAL:\tbitField0_ = ( bitField0_ & ~ 0x00000001 ) ;\n"
     ]
    },
    {
     "name": "stderr",
     "output_type": "stream",
     "text": [
      "\r",
      "  0%|▏                                                                                 | 1/500 [00:02<18:52,  2.27s/it]"
     ]
    },
    {
     "name": "stdout",
     "output_type": "stream",
     "text": [
      "IN:\tpublic void run ( ) { int count = 0 ; while ( true ) { count ++ ; Entry entry = null ; try {\n",
      "PRED:\tsplit random = new Random ( ) ;\n",
      "REAL:\tThread . sleep ( 20 ) ;\n"
     ]
    },
    {
     "name": "stderr",
     "output_type": "stream",
     "text": [
      "\r",
      "  0%|▎                                                                                 | 2/500 [00:04<17:44,  2.14s/it]"
     ]
    },
    {
     "name": "stdout",
     "output_type": "stream",
     "text": [
      "IN:\tpublic int getSerializedSize ( ) { int size = memoizedSize ; if ( size != - 1 ) return size ; size = 0 ;\n",
      "PRED:\t{\n",
      "REAL:\tif ( ( ( bitField0_ & 0x00000001 ) == 0x00000001 ) ) {\n"
     ]
    },
    {
     "name": "stderr",
     "output_type": "stream",
     "text": [
      "100%|████████████████████████████████████████████████████████████████████████████████| 500/500 [18:39<00:00,  2.19s/it]\n",
      "  0%|                                                                                          | 0/500 [00:00<?, ?it/s]"
     ]
    },
    {
     "name": "stdout",
     "output_type": "stream",
     "text": [
      "IN:\tpublic int hashCode ( ) { final int prime = 31 ; int result = 1 ; result = prime * result + ( ( moduleName == null ) ? 0 : moduleName . hashCode ( ) ) ;\n",
      "PRED:\thash . append ( value ) ;\n",
      "REAL:\tresult = prime * result + ( ( methodName == null ) ? 0 : methodName . hashCode ( ) ) ;\n"
     ]
    },
    {
     "name": "stderr",
     "output_type": "stream",
     "text": [
      "\r",
      "  0%|▏                                                                                 | 1/500 [00:02<19:14,  2.31s/it]"
     ]
    },
    {
     "name": "stdout",
     "output_type": "stream",
     "text": [
      "IN:\tpublic final boolean isInitialized ( ) { byte isInitialized = memoizedIsInitialized ; if ( isInitialized == 1 ) return true ; if ( isInitialized == 0 ) return false ;\n",
      "PRED:\tif ( getClass ( ) . getCanonicalName ( ) ) {\n",
      "REAL:\tmemoizedIsInitialized = 1 ;\n"
     ]
    },
    {
     "name": "stderr",
     "output_type": "stream",
     "text": [
      "\r",
      "  0%|▎                                                                                 | 2/500 [00:04<19:04,  2.30s/it]"
     ]
    },
    {
     "name": "stdout",
     "output_type": "stream",
     "text": [
      "IN:\tpublic void close ( ) throws IOException {\n",
      "PRED:\ttry {\n",
      "REAL:\tif ( closeRequested ) {\n"
     ]
    },
    {
     "name": "stderr",
     "output_type": "stream",
     "text": [
      "100%|████████████████████████████████████████████████████████████████████████████████| 500/500 [18:37<00:00,  2.15s/it]\n"
     ]
    },
    {
     "name": "stdout",
     "output_type": "stream",
     "text": [
      "train bleu score:0.4618910300926555\n",
      "train beam score:0.6354531031121752\n",
      "test bleu score:0.36530276473052015\n",
      "test beam score:0.47428863686446515\n",
      " \n"
     ]
    },
    {
     "ename": "RuntimeError",
     "evalue": "write(): fd 5 failed with No space left on device",
     "output_type": "error",
     "traceback": [
      "\u001b[1;31m---------------------------------------------------------------------------\u001b[0m",
      "\u001b[1;31mRuntimeError\u001b[0m                              Traceback (most recent call last)",
      "\u001b[1;32m<ipython-input-28-56c62cd22509>\u001b[0m in \u001b[0;36m<module>\u001b[1;34m()\u001b[0m\n\u001b[0;32m     62\u001b[0m \u001b[1;33m\u001b[0m\u001b[0m\n\u001b[0;32m     63\u001b[0m     \u001b[1;32mreturn\u001b[0m \u001b[0mlogs\u001b[0m\u001b[1;33m\u001b[0m\u001b[0m\n\u001b[1;32m---> 64\u001b[1;33m \u001b[0mgrid_search_train\u001b[0m\u001b[1;33m(\u001b[0m\u001b[1;36m20000\u001b[0m\u001b[1;33m)\u001b[0m\u001b[1;33m\u001b[0m\u001b[0m\n\u001b[0m",
      "\u001b[1;32m<ipython-input-28-56c62cd22509>\u001b[0m in \u001b[0;36mgrid_search_train\u001b[1;34m(n_iteration)\u001b[0m\n\u001b[0;32m     53\u001b[0m         log = trainIters(model_name, voc, pairs, encoder, decoder, encoder_optimizer, decoder_optimizer,\n\u001b[0;32m     54\u001b[0m                 \u001b[0membedding\u001b[0m\u001b[1;33m,\u001b[0m \u001b[0mencoder_n_layers\u001b[0m\u001b[1;33m,\u001b[0m \u001b[0mdecoder_n_layers\u001b[0m\u001b[1;33m,\u001b[0m \u001b[0msave_dir\u001b[0m\u001b[1;33m,\u001b[0m \u001b[0mn_iteration\u001b[0m\u001b[1;33m,\u001b[0m \u001b[0mbatch_size\u001b[0m\u001b[1;33m,\u001b[0m\u001b[1;33m\u001b[0m\u001b[0m\n\u001b[1;32m---> 55\u001b[1;33m                 print_every, save_every, clip, corpus_name, loadFilename)\n\u001b[0m\u001b[0;32m     56\u001b[0m         \u001b[0mlogs\u001b[0m\u001b[1;33m.\u001b[0m\u001b[0mappend\u001b[0m\u001b[1;33m(\u001b[0m\u001b[1;33m(\u001b[0m\u001b[1;33m(\u001b[0m\u001b[0mhidden_size\u001b[0m\u001b[1;33m,\u001b[0m \u001b[0mencoder_n_layers\u001b[0m\u001b[1;33m,\u001b[0m \u001b[0mdecoder_n_layers\u001b[0m\u001b[1;33m,\u001b[0m \u001b[0mdropout\u001b[0m\u001b[1;33m,\u001b[0m \u001b[0mbatch_size\u001b[0m\u001b[1;33m,\u001b[0m \u001b[0mteacher_forcing_ratio\u001b[0m\u001b[1;33m,\u001b[0m\u001b[0mlearning_rate\u001b[0m\u001b[1;33m,\u001b[0m \u001b[0mdecoder_learning_ratio\u001b[0m\u001b[1;33m)\u001b[0m\u001b[1;33m,\u001b[0m \u001b[0mlog\u001b[0m\u001b[1;33m)\u001b[0m\u001b[1;33m)\u001b[0m\u001b[1;33m\u001b[0m\u001b[0m\n\u001b[0;32m     57\u001b[0m         \u001b[0mprint\u001b[0m\u001b[1;33m(\u001b[0m\u001b[0mlog\u001b[0m\u001b[1;33m)\u001b[0m\u001b[1;33m\u001b[0m\u001b[0m\n",
      "\u001b[1;32m<ipython-input-17-739ce6b10d89>\u001b[0m in \u001b[0;36mtrainIters\u001b[1;34m(model_name, voc, pairs, encoder, decoder, encoder_optimizer, decoder_optimizer, embedding, encoder_n_layers, decoder_n_layers, save_dir, n_iteration, batch_size, print_every, save_every, clip, corpus_name, loadFilename)\u001b[0m\n\u001b[0;32m     61\u001b[0m                 \u001b[1;34m'voc_dict'\u001b[0m\u001b[1;33m:\u001b[0m \u001b[0mvoc\u001b[0m\u001b[1;33m.\u001b[0m\u001b[0m__dict__\u001b[0m\u001b[1;33m,\u001b[0m\u001b[1;33m\u001b[0m\u001b[0m\n\u001b[0;32m     62\u001b[0m                 \u001b[1;34m'embedding'\u001b[0m\u001b[1;33m:\u001b[0m \u001b[0membedding\u001b[0m\u001b[1;33m.\u001b[0m\u001b[0mstate_dict\u001b[0m\u001b[1;33m(\u001b[0m\u001b[1;33m)\u001b[0m\u001b[1;33m\u001b[0m\u001b[0m\n\u001b[1;32m---> 63\u001b[1;33m             }, os.path.join(directory, '{}_{}.tar'.format(iteration, 'checkpoint')))\n\u001b[0m\u001b[0;32m     64\u001b[0m     \u001b[1;32mreturn\u001b[0m \u001b[0mlog\u001b[0m\u001b[1;33m\u001b[0m\u001b[0m\n",
      "\u001b[1;32m~\\Anaconda3\\lib\\site-packages\\torch\\serialization.py\u001b[0m in \u001b[0;36msave\u001b[1;34m(obj, f, pickle_module, pickle_protocol, _use_new_zipfile_serialization)\u001b[0m\n\u001b[0;32m    368\u001b[0m \u001b[1;33m\u001b[0m\u001b[0m\n\u001b[0;32m    369\u001b[0m     \u001b[1;32mwith\u001b[0m \u001b[0m_open_file_like\u001b[0m\u001b[1;33m(\u001b[0m\u001b[0mf\u001b[0m\u001b[1;33m,\u001b[0m \u001b[1;34m'wb'\u001b[0m\u001b[1;33m)\u001b[0m \u001b[1;32mas\u001b[0m \u001b[0mopened_file\u001b[0m\u001b[1;33m:\u001b[0m\u001b[1;33m\u001b[0m\u001b[0m\n\u001b[1;32m--> 370\u001b[1;33m         \u001b[0m_legacy_save\u001b[0m\u001b[1;33m(\u001b[0m\u001b[0mobj\u001b[0m\u001b[1;33m,\u001b[0m \u001b[0mopened_file\u001b[0m\u001b[1;33m,\u001b[0m \u001b[0mpickle_module\u001b[0m\u001b[1;33m,\u001b[0m \u001b[0mpickle_protocol\u001b[0m\u001b[1;33m)\u001b[0m\u001b[1;33m\u001b[0m\u001b[0m\n\u001b[0m\u001b[0;32m    371\u001b[0m \u001b[1;33m\u001b[0m\u001b[0m\n\u001b[0;32m    372\u001b[0m \u001b[1;33m\u001b[0m\u001b[0m\n",
      "\u001b[1;32m~\\Anaconda3\\lib\\site-packages\\torch\\serialization.py\u001b[0m in \u001b[0;36m_legacy_save\u001b[1;34m(obj, f, pickle_module, pickle_protocol)\u001b[0m\n\u001b[0;32m    447\u001b[0m     \u001b[0mf\u001b[0m\u001b[1;33m.\u001b[0m\u001b[0mflush\u001b[0m\u001b[1;33m(\u001b[0m\u001b[1;33m)\u001b[0m\u001b[1;33m\u001b[0m\u001b[0m\n\u001b[0;32m    448\u001b[0m     \u001b[1;32mfor\u001b[0m \u001b[0mkey\u001b[0m \u001b[1;32min\u001b[0m \u001b[0mserialized_storage_keys\u001b[0m\u001b[1;33m:\u001b[0m\u001b[1;33m\u001b[0m\u001b[0m\n\u001b[1;32m--> 449\u001b[1;33m         \u001b[0mserialized_storages\u001b[0m\u001b[1;33m[\u001b[0m\u001b[0mkey\u001b[0m\u001b[1;33m]\u001b[0m\u001b[1;33m.\u001b[0m\u001b[0m_write_file\u001b[0m\u001b[1;33m(\u001b[0m\u001b[0mf\u001b[0m\u001b[1;33m,\u001b[0m \u001b[0m_should_read_directly\u001b[0m\u001b[1;33m(\u001b[0m\u001b[0mf\u001b[0m\u001b[1;33m)\u001b[0m\u001b[1;33m,\u001b[0m \u001b[1;32mTrue\u001b[0m\u001b[1;33m)\u001b[0m\u001b[1;33m\u001b[0m\u001b[0m\n\u001b[0m\u001b[0;32m    450\u001b[0m \u001b[1;33m\u001b[0m\u001b[0m\n\u001b[0;32m    451\u001b[0m \u001b[1;33m\u001b[0m\u001b[0m\n",
      "\u001b[1;31mRuntimeError\u001b[0m: write(): fd 5 failed with No space left on device"
     ]
    }
   ],
   "source": [
    "import json\n",
    "\n",
    "def grid_search_train(n_iteration = 5000):\n",
    "    paras = make_new_parameter()\n",
    "    logs = []\n",
    "    for hidden_size, encoder_n_layers, decoder_n_layers, dropout, batch_size, teacher_forcing_ratio,learning_rate, decoder_learning_ratio in paras:\n",
    "        model_name = 'cb_model'\n",
    "        attn_model = 'dot'\n",
    "        log_file = open(\"log.json\", \"a\")\n",
    "        #attn_model = 'general'\n",
    "        #attn_model = 'concat'\n",
    "\n",
    "\n",
    "        checkpoint_iter = 500\n",
    "\n",
    "        # Initialize word embeddings\n",
    "        embedding = nn.Embedding(voc.num_words, hidden_size)\n",
    "        encoder = EncoderRNN(hidden_size, embedding, encoder_n_layers, dropout)\n",
    "        decoder = LuongAttnDecoderRNN(attn_model, embedding, hidden_size, voc.num_words, decoder_n_layers, dropout)\n",
    "        \n",
    "        encoder = encoder.to(device)\n",
    "        decoder = decoder.to(device)\n",
    "        # print('Models built and ready to go!')\n",
    "        # Configure training/optimization\n",
    "        clip = 50.0\n",
    "        teacher_forcing_ratio = 5\n",
    "        print_every = 1000\n",
    "        save_every = 500\n",
    "\n",
    "        # Ensure dropout layers are in train mode\n",
    "        encoder.train()\n",
    "        decoder.train()\n",
    "\n",
    "        # Initialize optimizers\n",
    "        # print('Building optimizers ...')\n",
    "        encoder_optimizer = optim.Adam(encoder.parameters(), lr=learning_rate)\n",
    "        decoder_optimizer = optim.Adam(decoder.parameters(), lr=learning_rate * decoder_learning_ratio)\n",
    "\n",
    "        # If you have cuda, configure cuda to call\n",
    "        for state in encoder_optimizer.state.values():\n",
    "            for k, v in state.items():\n",
    "                if isinstance(v, torch.Tensor):\n",
    "                    state[k] = v.cuda()\n",
    "\n",
    "        for state in decoder_optimizer.state.values():\n",
    "            for k, v in state.items():\n",
    "                if isinstance(v, torch.Tensor):\n",
    "                    state[k] = v.cuda()\n",
    "\n",
    "        # Run training iterations\n",
    "        # print(\"Starting Training!\")\n",
    "        print(hidden_size, encoder_n_layers, decoder_n_layers, dropout, batch_size, teacher_forcing_ratio,learning_rate, decoder_learning_ratio)\n",
    "        log = trainIters(model_name, voc, pairs, encoder, decoder, encoder_optimizer, decoder_optimizer,\n",
    "                embedding, encoder_n_layers, decoder_n_layers, save_dir, n_iteration, batch_size,\n",
    "                print_every, save_every, clip, corpus_name, loadFilename)\n",
    "        logs.append(((hidden_size, encoder_n_layers, decoder_n_layers, dropout, batch_size, teacher_forcing_ratio,learning_rate, decoder_learning_ratio), log))\n",
    "        print(log)\n",
    "        log_file.write(str((hidden_size, encoder_n_layers, decoder_n_layers, dropout, batch_size, teacher_forcing_ratio,learning_rate, decoder_learning_ratio)) + \"\\n\")\n",
    "        for l in log:\n",
    "            log_file.write(json.dumps(l) + \"\\n\")\n",
    "        log_file.close()\n",
    "        \n",
    "    return logs\n",
    "grid_search_train(20000)"
   ]
  },
  {
   "cell_type": "code",
   "execution_count": null,
   "metadata": {
    "tags": []
   },
   "outputs": [],
   "source": [
    "import json\n",
    "def readlog():\n",
    "    f = open(\"log.json\")\n",
    "    lines = f.readlines()\n",
    "    result = []\n",
    "    # print(lines)\n",
    "    for i in range(0,len(lines),6):\n",
    "        # print(lines[i])\n",
    "        score = 0\n",
    "        for j in range(1, 6):\n",
    "            per = json.loads(lines[i + j])\n",
    "            score += per[-2]\n",
    "        score /= 5\n",
    "        result.append((lines[i], score, lines[i + 1:i + 5]))\n",
    "    result.sort(key=lambda x:x[1],reverse=True)\n",
    "    return result[:10]\n",
    "readlog()"
   ]
  },
  {
   "cell_type": "code",
   "execution_count": null,
   "metadata": {},
   "outputs": [],
   "source": []
  }
 ],
 "metadata": {
  "kernelspec": {
   "display_name": "Python 3",
   "language": "python",
   "name": "python3"
  },
  "language_info": {
   "codemirror_mode": {
    "name": "ipython",
    "version": 3
   },
   "file_extension": ".py",
   "mimetype": "text/x-python",
   "name": "python",
   "nbconvert_exporter": "python",
   "pygments_lexer": "ipython3",
   "version": "3.7.0"
  }
 },
 "nbformat": 4,
 "nbformat_minor": 2
}
